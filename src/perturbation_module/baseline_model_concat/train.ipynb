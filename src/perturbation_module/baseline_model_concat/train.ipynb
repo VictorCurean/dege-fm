{
 "cells": [
  {
   "cell_type": "code",
   "execution_count": 1,
   "id": "f340e7b8-5d2d-42f2-860c-7730ecaf3bb0",
   "metadata": {},
   "outputs": [],
   "source": [
    "from BaselineModelEvaluator import BaselineModelEvaluator\n",
    "from scipy.spatial.distance import euclidean"
   ]
  },
  {
   "cell_type": "code",
   "execution_count": 2,
   "id": "0f652f78-e4e5-4eb4-843f-d42c0a646bed",
   "metadata": {},
   "outputs": [
    {
     "name": "stdout",
     "output_type": "stream",
     "text": [
      "Loading sciplex train dataset ...\n"
     ]
    },
    {
     "name": "stderr",
     "output_type": "stream",
     "text": [
      "100%|██████████| 571906/571906 [07:16<00:00, 1310.69it/s]\n"
     ]
    },
    {
     "name": "stdout",
     "output_type": "stream",
     "text": [
      "Loading sciplex test dataset ...\n"
     ]
    },
    {
     "name": "stderr",
     "output_type": "stream",
     "text": [
      "100%|██████████| 571906/571906 [03:13<00:00, 2956.75it/s]\n"
     ]
    },
    {
     "name": "stdout",
     "output_type": "stream",
     "text": [
      "Begin training ... \n"
     ]
    },
    {
     "name": "stderr",
     "output_type": "stream",
     "text": [
      "  3%|▎         | 10/376 [00:09<04:47,  1.27it/s]"
     ]
    },
    {
     "name": "stdout",
     "output_type": "stream",
     "text": [
      "Iteration: 10 Loss: 0.15998929738998413\n"
     ]
    },
    {
     "name": "stderr",
     "output_type": "stream",
     "text": [
      "  5%|▌         | 20/376 [00:15<03:33,  1.67it/s]"
     ]
    },
    {
     "name": "stdout",
     "output_type": "stream",
     "text": [
      "Iteration: 20 Loss: 0.09809108823537827\n"
     ]
    },
    {
     "name": "stderr",
     "output_type": "stream",
     "text": [
      "  8%|▊         | 30/376 [00:21<03:15,  1.77it/s]"
     ]
    },
    {
     "name": "stdout",
     "output_type": "stream",
     "text": [
      "Iteration: 30 Loss: 0.060337115079164505\n"
     ]
    },
    {
     "name": "stderr",
     "output_type": "stream",
     "text": [
      " 11%|█         | 40/376 [00:27<03:06,  1.80it/s]"
     ]
    },
    {
     "name": "stdout",
     "output_type": "stream",
     "text": [
      "Iteration: 40 Loss: 0.0412621833384037\n"
     ]
    },
    {
     "name": "stderr",
     "output_type": "stream",
     "text": [
      " 13%|█▎        | 50/376 [00:31<02:30,  2.17it/s]"
     ]
    },
    {
     "name": "stdout",
     "output_type": "stream",
     "text": [
      "Iteration: 50 Loss: 0.030623605474829674\n"
     ]
    },
    {
     "name": "stderr",
     "output_type": "stream",
     "text": [
      " 16%|█▌        | 60/376 [00:36<03:07,  1.68it/s]"
     ]
    },
    {
     "name": "stdout",
     "output_type": "stream",
     "text": [
      "Iteration: 60 Loss: 0.02447766438126564\n"
     ]
    },
    {
     "name": "stderr",
     "output_type": "stream",
     "text": [
      " 19%|█▊        | 70/376 [00:40<02:12,  2.31it/s]"
     ]
    },
    {
     "name": "stdout",
     "output_type": "stream",
     "text": [
      "Iteration: 70 Loss: 0.022745531052350998\n"
     ]
    },
    {
     "name": "stderr",
     "output_type": "stream",
     "text": [
      " 21%|██▏       | 80/376 [00:47<02:08,  2.31it/s]"
     ]
    },
    {
     "name": "stdout",
     "output_type": "stream",
     "text": [
      "Iteration: 80 Loss: 0.0203096903860569\n"
     ]
    },
    {
     "name": "stderr",
     "output_type": "stream",
     "text": [
      " 24%|██▍       | 90/376 [00:54<02:40,  1.78it/s]"
     ]
    },
    {
     "name": "stdout",
     "output_type": "stream",
     "text": [
      "Iteration: 90 Loss: 0.019963357597589493\n"
     ]
    },
    {
     "name": "stderr",
     "output_type": "stream",
     "text": [
      " 27%|██▋       | 100/376 [00:58<01:50,  2.51it/s]"
     ]
    },
    {
     "name": "stdout",
     "output_type": "stream",
     "text": [
      "Iteration: 100 Loss: 0.019614623859524727\n"
     ]
    },
    {
     "name": "stderr",
     "output_type": "stream",
     "text": [
      " 29%|██▉       | 110/376 [01:09<12:21,  2.79s/it]"
     ]
    },
    {
     "name": "stdout",
     "output_type": "stream",
     "text": [
      "Iteration: 110 Loss: 0.0176464281976223\n"
     ]
    },
    {
     "name": "stderr",
     "output_type": "stream",
     "text": [
      " 32%|███▏      | 120/376 [01:13<01:46,  2.40it/s]"
     ]
    },
    {
     "name": "stdout",
     "output_type": "stream",
     "text": [
      "Iteration: 120 Loss: 0.01791303977370262\n"
     ]
    },
    {
     "name": "stderr",
     "output_type": "stream",
     "text": [
      " 35%|███▍      | 130/376 [01:16<01:24,  2.91it/s]"
     ]
    },
    {
     "name": "stdout",
     "output_type": "stream",
     "text": [
      "Iteration: 130 Loss: 0.01710483804345131\n"
     ]
    },
    {
     "name": "stderr",
     "output_type": "stream",
     "text": [
      " 37%|███▋      | 140/376 [01:20<01:30,  2.61it/s]"
     ]
    },
    {
     "name": "stdout",
     "output_type": "stream",
     "text": [
      "Iteration: 140 Loss: 0.01718904636800289\n"
     ]
    },
    {
     "name": "stderr",
     "output_type": "stream",
     "text": [
      " 39%|███▉      | 146/376 [01:28<02:18,  1.66it/s]\n"
     ]
    },
    {
     "ename": "KeyboardInterrupt",
     "evalue": "",
     "output_type": "error",
     "traceback": [
      "\u001B[1;31m---------------------------------------------------------------------------\u001B[0m",
      "\u001B[1;31mKeyboardInterrupt\u001B[0m                         Traceback (most recent call last)",
      "Cell \u001B[1;32mIn[2], line 2\u001B[0m\n\u001B[0;32m      1\u001B[0m \u001B[38;5;28meval\u001B[39m \u001B[38;5;241m=\u001B[39m BaselineModelEvaluator(\u001B[38;5;124m\"\u001B[39m\u001B[38;5;124mC:\u001B[39m\u001B[38;5;130;01m\\\\\u001B[39;00m\u001B[38;5;124mUsers\u001B[39m\u001B[38;5;130;01m\\\\\u001B[39;00m\u001B[38;5;124mcurea\u001B[39m\u001B[38;5;130;01m\\\\\u001B[39;00m\u001B[38;5;124mDocuments\u001B[39m\u001B[38;5;130;01m\\\\\u001B[39;00m\u001B[38;5;124mbioFM for drug discovery\u001B[39m\u001B[38;5;130;01m\\\\\u001B[39;00m\u001B[38;5;124mdege-fm\u001B[39m\u001B[38;5;130;01m\\\\\u001B[39;00m\u001B[38;5;124mconfig\u001B[39m\u001B[38;5;130;01m\\\\\u001B[39;00m\u001B[38;5;124mbaseline.yaml\u001B[39m\u001B[38;5;124m\"\u001B[39m)\n\u001B[1;32m----> 2\u001B[0m \u001B[38;5;28meval\u001B[39m\u001B[38;5;241m.\u001B[39mtrain()\n\u001B[0;32m      3\u001B[0m \u001B[38;5;28meval\u001B[39m\u001B[38;5;241m.\u001B[39mtest()\n",
      "File \u001B[1;32m~\\Documents\\bioFM for drug discovery\\dege-fm\\src\\perturbation_module\\baseline_model_concat\\BaselineModelEvaluator.py:93\u001B[0m, in \u001B[0;36mBaselineModelEvaluator.train\u001B[1;34m(self)\u001B[0m\n\u001B[0;32m     90\u001B[0m \u001B[38;5;66;03m# Move tensors to the specified device\u001B[39;00m\n\u001B[0;32m     92\u001B[0m \u001B[38;5;28minput\u001B[39m \u001B[38;5;241m=\u001B[39m \u001B[38;5;28minput\u001B[39m\u001B[38;5;241m.\u001B[39mto(\u001B[38;5;28mself\u001B[39m\u001B[38;5;241m.\u001B[39mdevice)\n\u001B[1;32m---> 93\u001B[0m treated_emb \u001B[38;5;241m=\u001B[39m treated_emb\u001B[38;5;241m.\u001B[39mto(\u001B[38;5;28mself\u001B[39m\u001B[38;5;241m.\u001B[39mdevice)\n\u001B[0;32m     95\u001B[0m \u001B[38;5;28mself\u001B[39m\u001B[38;5;241m.\u001B[39moptimizer\u001B[38;5;241m.\u001B[39mzero_grad()\n\u001B[0;32m     97\u001B[0m output \u001B[38;5;241m=\u001B[39m \u001B[38;5;28mself\u001B[39m\u001B[38;5;241m.\u001B[39mmodel(\u001B[38;5;28minput\u001B[39m)\n",
      "\u001B[1;31mKeyboardInterrupt\u001B[0m: "
     ]
    }
   ],
   "source": [
    "eval = BaselineModelEvaluator(\"C:\\\\Users\\\\curea\\\\Documents\\\\bioFM for drug discovery\\\\dege-fm\\\\config\\\\baseline.yaml\")\n",
    "eval.train()\n",
    "eval.test()"
   ]
  },
  {
   "cell_type": "code",
   "execution_count": 3,
   "id": "70a6d27b-1926-439a-98ad-eeef59f8e69a",
   "metadata": {},
   "outputs": [
    {
     "name": "stderr",
     "output_type": "stream",
     "text": [
      "100%|██████████| 44/44 [00:02<00:00, 14.69it/s]\n",
      "100%|██████████| 44/44 [00:02<00:00, 15.60it/s]\n",
      "100%|██████████| 44/44 [00:03<00:00, 14.37it/s]\n",
      "100%|██████████| 44/44 [00:01<00:00, 41.93it/s]\n",
      "100%|██████████| 44/44 [00:01<00:00, 41.79it/s]\n",
      "100%|██████████| 44/44 [00:01<00:00, 33.26it/s]\n"
     ]
    },
    {
     "name": "stdout",
     "output_type": "stream",
     "text": [
      "Test PCP: {'A549': 0.4715909090909091, 'K562': 0.29545454545454547, 'MCF7': 0.3522727272727273}\n",
      "Test PR perturbed: {'A549': 0.6318181818181817, 'K562': 0.4090909090909091, 'MCF7': 0.5863636363636364}\n",
      "Test PR predicted: {'A549': 0.5818181818181818, 'K562': 0.35000000000000003, 'MCF7': 0.47272727272727266}\n",
      "Test Loss: {'A549': 0.818471710383016, 'K562': 0.8599939556670511, 'MCF7': 0.7907384740595191}\n"
     ]
    }
   ],
   "source": [
    "eval.get_stats(euclidean)"
   ]
  },
  {
   "cell_type": "code",
   "execution_count": 4,
   "outputs": [
    {
     "data": {
      "text/plain": "<Figure size 800x600 with 1 Axes>",
      "image/png": "[encoded data removed]"
     },
     "metadata": {},
     "output_type": "display_data"
    }
   ],
   "source": [
    "eval.plot_training_loss()"
   ],
   "metadata": {
    "collapsed": false
   }
  },
  {
   "cell_type": "code",
   "execution_count": null,
   "outputs": [],
   "source": [],
   "metadata": {
    "collapsed": false
   }
  }
 ],
 "metadata": {
  "kernelspec": {
   "display_name": "Python 3 (ipykernel)",
   "language": "python",
   "name": "python3"
  },
  "language_info": {
   "codemirror_mode": {
    "name": "ipython",
    "version": 3
   },
   "file_extension": ".py",
   "mimetype": "text/x-python",
   "name": "python",
   "nbconvert_exporter": "python",
   "pygments_lexer": "ipython3",
   "version": "3.12.7"
  }
 },
 "nbformat": 4,
 "nbformat_minor": 5
}
