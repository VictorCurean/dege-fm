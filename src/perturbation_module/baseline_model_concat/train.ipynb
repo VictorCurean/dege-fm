{
 "cells": [
  {
   "cell_type": "code",
   "execution_count": 3,
   "id": "f340e7b8-5d2d-42f2-860c-7730ecaf3bb0",
   "metadata": {},
   "outputs": [],
   "source": [
    "from BaselineModelEvaluator import BaselineModelEvaluator"
   ]
  },
  {
   "cell_type": "code",
   "execution_count": null,
   "id": "0f652f78-e4e5-4eb4-843f-d42c0a646bed",
   "metadata": {},
   "outputs": [
    {
     "name": "stdout",
     "output_type": "stream",
     "text": [
      "Loading train dataset ...\n"
     ]
    },
    {
     "name": "stderr",
     "output_type": "stream",
     "text": [
      "100%|███████████████████████████████████████████████████████████████████████████████████████████████████████████████████████████████████████████████████| 571906/571906 [02:16<00:00, 4181.24it/s]\n"
     ]
    },
    {
     "name": "stdout",
     "output_type": "stream",
     "text": [
      "Loading sciplex test dataset ...\n"
     ]
    },
    {
     "name": "stderr",
     "output_type": "stream",
     "text": [
      "100%|███████████████████████████████████████████████████████████████████████████████████████████████████████████████████████████████████████████████████| 571906/571906 [01:02<00:00, 9177.15it/s]\n"
     ]
    },
    {
     "name": "stdout",
     "output_type": "stream",
     "text": [
      "Begin training ... \n"
     ]
    },
    {
     "name": "stderr",
     "output_type": "stream",
     "text": [
      "  0%|                                                                                                                                                                    | 0/3007 [00:00<?, ?it/s]"
     ]
    },
    {
     "name": "stdout",
     "output_type": "stream",
     "text": [
      "tensor(0.0421, device='cuda:0', grad_fn=<MeanBackward0>)\n"
     ]
    },
    {
     "name": "stderr",
     "output_type": "stream",
     "text": [
      "  0%|▍                                                                                                                                                           | 8/3007 [00:00<01:47, 28.02it/s]"
     ]
    },
    {
     "name": "stdout",
     "output_type": "stream",
     "text": [
      "tensor(0.0287, device='cuda:0', grad_fn=<MeanBackward0>)\n",
      "tensor(0.0251, device='cuda:0', grad_fn=<MeanBackward0>)\n",
      "tensor(0.0234, device='cuda:0', grad_fn=<MeanBackward0>)\n",
      "tensor(0.0222, device='cuda:0', grad_fn=<MeanBackward0>)\n",
      "tensor(0.0214, device='cuda:0', grad_fn=<MeanBackward0>)\n",
      "tensor(0.0204, device='cuda:0', grad_fn=<MeanBackward0>)\n",
      "tensor(0.0196, device='cuda:0', grad_fn=<MeanBackward0>)\n",
      "tensor(0.0189, device='cuda:0', grad_fn=<MeanBackward0>)\n",
      "tensor(0.0183, device='cuda:0', grad_fn=<MeanBackward0>)\n"
     ]
    },
    {
     "name": "stderr",
     "output_type": "stream",
     "text": [
      "  0%|▊                                                                                                                                                          | 15/3007 [00:00<01:11, 41.73it/s]"
     ]
    },
    {
     "name": "stdout",
     "output_type": "stream",
     "text": [
      "tensor(0.0177, device='cuda:0', grad_fn=<MeanBackward0>)\n",
      "tensor(0.0174, device='cuda:0', grad_fn=<MeanBackward0>)\n",
      "tensor(0.0166, device='cuda:0', grad_fn=<MeanBackward0>)\n",
      "tensor(0.0166, device='cuda:0', grad_fn=<MeanBackward0>)\n",
      "tensor(0.0161, device='cuda:0', grad_fn=<MeanBackward0>)\n"
     ]
    },
    {
     "name": "stderr",
     "output_type": "stream",
     "text": [
      "  1%|█▏                                                                                                                                                         | 22/3007 [00:00<00:59, 50.11it/s]"
     ]
    },
    {
     "name": "stdout",
     "output_type": "stream",
     "text": [
      "tensor(0.0155, device='cuda:0', grad_fn=<MeanBackward0>)\n",
      "tensor(0.0156, device='cuda:0', grad_fn=<MeanBackward0>)\n",
      "tensor(0.0156, device='cuda:0', grad_fn=<MeanBackward0>)\n",
      "tensor(0.0152, device='cuda:0', grad_fn=<MeanBackward0>)\n",
      "tensor(0.0151, device='cuda:0', grad_fn=<MeanBackward0>)\n",
      "tensor(0.0147, device='cuda:0', grad_fn=<MeanBackward0>)\n",
      "tensor(0.0146, device='cuda:0', grad_fn=<MeanBackward0>)\n",
      "tensor(0.0150, device='cuda:0', grad_fn=<MeanBackward0>)\n",
      "tensor(0.0149, device='cuda:0', grad_fn=<MeanBackward0>)\n"
     ]
    },
    {
     "name": "stderr",
     "output_type": "stream",
     "text": [
      "  1%|█▍                                                                                                                                                         | 29/3007 [00:00<00:53, 55.91it/s]"
     ]
    },
    {
     "name": "stdout",
     "output_type": "stream",
     "text": [
      "tensor(0.0149, device='cuda:0', grad_fn=<MeanBackward0>)\n",
      "tensor(0.0150, device='cuda:0', grad_fn=<MeanBackward0>)\n",
      "tensor(0.0149, device='cuda:0', grad_fn=<MeanBackward0>)\n",
      "tensor(0.0145, device='cuda:0', grad_fn=<MeanBackward0>)\n",
      "tensor(0.0150, device='cuda:0', grad_fn=<MeanBackward0>)\n"
     ]
    },
    {
     "name": "stderr",
     "output_type": "stream",
     "text": [
      "  1%|█▊                                                                                                                                                         | 36/3007 [00:00<00:49, 59.42it/s]"
     ]
    },
    {
     "name": "stdout",
     "output_type": "stream",
     "text": [
      "tensor(0.0149, device='cuda:0', grad_fn=<MeanBackward0>)\n",
      "tensor(0.0143, device='cuda:0', grad_fn=<MeanBackward0>)\n",
      "tensor(0.0148, device='cuda:0', grad_fn=<MeanBackward0>)\n",
      "tensor(0.0146, device='cuda:0', grad_fn=<MeanBackward0>)\n",
      "tensor(0.0145, device='cuda:0', grad_fn=<MeanBackward0>)\n",
      "tensor(0.0145, device='cuda:0', grad_fn=<MeanBackward0>)\n",
      "tensor(0.0145, device='cuda:0', grad_fn=<MeanBackward0>)\n",
      "tensor(0.0144, device='cuda:0', grad_fn=<MeanBackward0>)\n",
      "tensor(0.0145, device='cuda:0', grad_fn=<MeanBackward0>)\n"
     ]
    },
    {
     "name": "stderr",
     "output_type": "stream",
     "text": [
      "  1%|██▏                                                                                                                                                        | 43/3007 [00:00<00:47, 61.90it/s]"
     ]
    },
    {
     "name": "stdout",
     "output_type": "stream",
     "text": [
      "tensor(0.0145, device='cuda:0', grad_fn=<MeanBackward0>)\n",
      "tensor(0.0143, device='cuda:0', grad_fn=<MeanBackward0>)\n",
      "tensor(0.0143, device='cuda:0', grad_fn=<MeanBackward0>)\n",
      "tensor(0.0147, device='cuda:0', grad_fn=<MeanBackward0>)\n",
      "tensor(0.0145, device='cuda:0', grad_fn=<MeanBackward0>)\n"
     ]
    },
    {
     "name": "stderr",
     "output_type": "stream",
     "text": [
      "  2%|██▌                                                                                                                                                        | 50/3007 [00:00<00:46, 63.73it/s]"
     ]
    },
    {
     "name": "stdout",
     "output_type": "stream",
     "text": [
      "tensor(0.0141, device='cuda:0', grad_fn=<MeanBackward0>)\n",
      "tensor(0.0144, device='cuda:0', grad_fn=<MeanBackward0>)\n",
      "tensor(0.0142, device='cuda:0', grad_fn=<MeanBackward0>)\n",
      "tensor(0.0144, device='cuda:0', grad_fn=<MeanBackward0>)\n",
      "tensor(0.0142, device='cuda:0', grad_fn=<MeanBackward0>)\n",
      "tensor(0.0142, device='cuda:0', grad_fn=<MeanBackward0>)\n",
      "tensor(0.0145, device='cuda:0', grad_fn=<MeanBackward0>)\n",
      "tensor(0.0144, device='cuda:0', grad_fn=<MeanBackward0>)\n",
      "tensor(0.0144, device='cuda:0', grad_fn=<MeanBackward0>)\n"
     ]
    },
    {
     "name": "stderr",
     "output_type": "stream",
     "text": [
      "  2%|██▉                                                                                                                                                        | 57/3007 [00:01<00:45, 64.71it/s]"
     ]
    },
    {
     "name": "stdout",
     "output_type": "stream",
     "text": [
      "tensor(0.0144, device='cuda:0', grad_fn=<MeanBackward0>)\n",
      "tensor(0.0141, device='cuda:0', grad_fn=<MeanBackward0>)\n",
      "tensor(0.0141, device='cuda:0', grad_fn=<MeanBackward0>)\n",
      "tensor(0.0141, device='cuda:0', grad_fn=<MeanBackward0>)\n",
      "tensor(0.0145, device='cuda:0', grad_fn=<MeanBackward0>)\n"
     ]
    },
    {
     "name": "stderr",
     "output_type": "stream",
     "text": [
      "  2%|███▎                                                                                                                                                       | 64/3007 [00:01<00:44, 65.79it/s]"
     ]
    },
    {
     "name": "stdout",
     "output_type": "stream",
     "text": [
      "tensor(0.0144, device='cuda:0', grad_fn=<MeanBackward0>)\n",
      "tensor(0.0141, device='cuda:0', grad_fn=<MeanBackward0>)\n",
      "tensor(0.0145, device='cuda:0', grad_fn=<MeanBackward0>)\n",
      "tensor(0.0143, device='cuda:0', grad_fn=<MeanBackward0>)\n",
      "tensor(0.0141, device='cuda:0', grad_fn=<MeanBackward0>)\n",
      "tensor(0.0142, device='cuda:0', grad_fn=<MeanBackward0>)\n",
      "tensor(0.0142, device='cuda:0', grad_fn=<MeanBackward0>)\n",
      "tensor(0.0141, device='cuda:0', grad_fn=<MeanBackward0>)\n",
      "tensor(0.0142, device='cuda:0', grad_fn=<MeanBackward0>)\n"
     ]
    },
    {
     "name": "stderr",
     "output_type": "stream",
     "text": [
      "  2%|███▋                                                                                                                                                       | 72/3007 [00:01<00:42, 69.26it/s]"
     ]
    },
    {
     "name": "stdout",
     "output_type": "stream",
     "text": [
      "tensor(0.0138, device='cuda:0', grad_fn=<MeanBackward0>)\n",
      "tensor(0.0138, device='cuda:0', grad_fn=<MeanBackward0>)\n",
      "tensor(0.0140, device='cuda:0', grad_fn=<MeanBackward0>)\n",
      "tensor(0.0140, device='cuda:0', grad_fn=<MeanBackward0>)\n",
      "tensor(0.0142, device='cuda:0', grad_fn=<MeanBackward0>)\n",
      "tensor(0.0144, device='cuda:0', grad_fn=<MeanBackward0>)\n"
     ]
    },
    {
     "name": "stderr",
     "output_type": "stream",
     "text": [
      "  3%|████                                                                                                                                                       | 80/3007 [00:01<00:40, 72.20it/s]"
     ]
    },
    {
     "name": "stdout",
     "output_type": "stream",
     "text": [
      "tensor(0.0146, device='cuda:0', grad_fn=<MeanBackward0>)\n",
      "tensor(0.0142, device='cuda:0', grad_fn=<MeanBackward0>)\n",
      "tensor(0.0142, device='cuda:0', grad_fn=<MeanBackward0>)\n",
      "tensor(0.0141, device='cuda:0', grad_fn=<MeanBackward0>)\n",
      "tensor(0.0139, device='cuda:0', grad_fn=<MeanBackward0>)\n",
      "tensor(0.0141, device='cuda:0', grad_fn=<MeanBackward0>)\n",
      "tensor(0.0142, device='cuda:0', grad_fn=<MeanBackward0>)\n",
      "tensor(0.0143, device='cuda:0', grad_fn=<MeanBackward0>)\n",
      "tensor(0.0142, device='cuda:0', grad_fn=<MeanBackward0>)\n",
      "tensor(0.0138, device='cuda:0', grad_fn=<MeanBackward0>)\n",
      "tensor(0.0139, device='cuda:0', grad_fn=<MeanBackward0>)\n",
      "tensor(0.0135, device='cuda:0', grad_fn=<MeanBackward0>)\n",
      "tensor(0.0138, device='cuda:0', grad_fn=<MeanBackward0>)\n",
      "tensor(0.0139, device='cuda:0', grad_fn=<MeanBackward0>)\n",
      "tensor(0.0138, device='cuda:0', grad_fn=<MeanBackward0>)\n"
     ]
    },
    {
     "name": "stderr",
     "output_type": "stream",
     "text": [
      "  3%|████▉                                                                                                                                                      | 96/3007 [00:01<00:41, 69.77it/s]"
     ]
    },
    {
     "name": "stdout",
     "output_type": "stream",
     "text": [
      "tensor(0.0134, device='cuda:0', grad_fn=<MeanBackward0>)\n",
      "tensor(0.0138, device='cuda:0', grad_fn=<MeanBackward0>)\n",
      "tensor(0.0139, device='cuda:0', grad_fn=<MeanBackward0>)\n",
      "tensor(0.0133, device='cuda:0', grad_fn=<MeanBackward0>)\n",
      "tensor(0.0134, device='cuda:0', grad_fn=<MeanBackward0>)\n",
      "tensor(0.0136, device='cuda:0', grad_fn=<MeanBackward0>)\n",
      "tensor(0.0139, device='cuda:0', grad_fn=<MeanBackward0>)\n",
      "tensor(0.0134, device='cuda:0', grad_fn=<MeanBackward0>)\n",
      "tensor(0.0134, device='cuda:0', grad_fn=<MeanBackward0>)\n",
      "tensor(0.0134, device='cuda:0', grad_fn=<MeanBackward0>)\n",
      "tensor(0.0135, device='cuda:0', grad_fn=<MeanBackward0>)\n",
      "tensor(0.0132, device='cuda:0', grad_fn=<MeanBackward0>)\n",
      "tensor(0.0136, device='cuda:0', grad_fn=<MeanBackward0>)\n",
      "tensor(0.0134, device='cuda:0', grad_fn=<MeanBackward0>)\n"
     ]
    },
    {
     "name": "stderr",
     "output_type": "stream",
     "text": [
      "  3%|█████▎                                                                                                                                                    | 104/3007 [00:01<00:42, 69.07it/s]"
     ]
    },
    {
     "name": "stdout",
     "output_type": "stream",
     "text": [
      "tensor(0.0135, device='cuda:0', grad_fn=<MeanBackward0>)\n",
      "tensor(0.0132, device='cuda:0', grad_fn=<MeanBackward0>)\n",
      "tensor(0.0134, device='cuda:0', grad_fn=<MeanBackward0>)\n",
      "tensor(0.0133, device='cuda:0', grad_fn=<MeanBackward0>)\n",
      "tensor(0.0134, device='cuda:0', grad_fn=<MeanBackward0>)\n",
      "tensor(0.0135, device='cuda:0', grad_fn=<MeanBackward0>)\n",
      "tensor(0.0134, device='cuda:0', grad_fn=<MeanBackward0>)\n",
      "tensor(0.0136, device='cuda:0', grad_fn=<MeanBackward0>)\n",
      "tensor(0.0128, device='cuda:0', grad_fn=<MeanBackward0>)\n"
     ]
    },
    {
     "name": "stderr",
     "output_type": "stream",
     "text": [
      "  4%|█████▋                                                                                                                                                    | 111/3007 [00:01<00:42, 68.47it/s]"
     ]
    },
    {
     "name": "stdout",
     "output_type": "stream",
     "text": [
      "tensor(0.0133, device='cuda:0', grad_fn=<MeanBackward0>)\n",
      "tensor(0.0134, device='cuda:0', grad_fn=<MeanBackward0>)\n",
      "tensor(0.0133, device='cuda:0', grad_fn=<MeanBackward0>)\n",
      "tensor(0.0130, device='cuda:0', grad_fn=<MeanBackward0>)\n",
      "tensor(0.0127, device='cuda:0', grad_fn=<MeanBackward0>)\n"
     ]
    },
    {
     "name": "stderr",
     "output_type": "stream",
     "text": [
      "  4%|██████                                                                                                                                                    | 118/3007 [00:01<00:42, 68.43it/s]"
     ]
    },
    {
     "name": "stdout",
     "output_type": "stream",
     "text": [
      "tensor(0.0130, device='cuda:0', grad_fn=<MeanBackward0>)\n",
      "tensor(0.0133, device='cuda:0', grad_fn=<MeanBackward0>)\n",
      "tensor(0.0133, device='cuda:0', grad_fn=<MeanBackward0>)\n",
      "tensor(0.0135, device='cuda:0', grad_fn=<MeanBackward0>)\n",
      "tensor(0.0128, device='cuda:0', grad_fn=<MeanBackward0>)\n",
      "tensor(0.0133, device='cuda:0', grad_fn=<MeanBackward0>)\n",
      "tensor(0.0130, device='cuda:0', grad_fn=<MeanBackward0>)\n",
      "tensor(0.0130, device='cuda:0', grad_fn=<MeanBackward0>)\n",
      "tensor(0.0129, device='cuda:0', grad_fn=<MeanBackward0>)\n"
     ]
    },
    {
     "name": "stderr",
     "output_type": "stream",
     "text": [
      "  4%|██████▍                                                                                                                                                   | 125/3007 [00:02<00:42, 68.05it/s]"
     ]
    },
    {
     "name": "stdout",
     "output_type": "stream",
     "text": [
      "tensor(0.0131, device='cuda:0', grad_fn=<MeanBackward0>)\n",
      "tensor(0.0125, device='cuda:0', grad_fn=<MeanBackward0>)\n",
      "tensor(0.0128, device='cuda:0', grad_fn=<MeanBackward0>)\n",
      "tensor(0.0134, device='cuda:0', grad_fn=<MeanBackward0>)\n",
      "tensor(0.0133, device='cuda:0', grad_fn=<MeanBackward0>)\n"
     ]
    },
    {
     "name": "stderr",
     "output_type": "stream",
     "text": [
      "  4%|██████▊                                                                                                                                                   | 132/3007 [00:02<00:42, 68.13it/s]"
     ]
    },
    {
     "name": "stdout",
     "output_type": "stream",
     "text": [
      "tensor(0.0129, device='cuda:0', grad_fn=<MeanBackward0>)\n",
      "tensor(0.0129, device='cuda:0', grad_fn=<MeanBackward0>)\n",
      "tensor(0.0128, device='cuda:0', grad_fn=<MeanBackward0>)\n",
      "tensor(0.0131, device='cuda:0', grad_fn=<MeanBackward0>)\n",
      "tensor(0.0127, device='cuda:0', grad_fn=<MeanBackward0>)\n",
      "tensor(0.0126, device='cuda:0', grad_fn=<MeanBackward0>)\n",
      "tensor(0.0123, device='cuda:0', grad_fn=<MeanBackward0>)\n",
      "tensor(0.0131, device='cuda:0', grad_fn=<MeanBackward0>)\n",
      "tensor(0.0125, device='cuda:0', grad_fn=<MeanBackward0>)\n"
     ]
    },
    {
     "name": "stderr",
     "output_type": "stream",
     "text": [
      "  5%|███████                                                                                                                                                   | 139/3007 [00:02<00:42, 67.96it/s]"
     ]
    },
    {
     "name": "stdout",
     "output_type": "stream",
     "text": [
      "tensor(0.0128, device='cuda:0', grad_fn=<MeanBackward0>)\n",
      "tensor(0.0123, device='cuda:0', grad_fn=<MeanBackward0>)\n",
      "tensor(0.0127, device='cuda:0', grad_fn=<MeanBackward0>)\n",
      "tensor(0.0132, device='cuda:0', grad_fn=<MeanBackward0>)\n",
      "tensor(0.0125, device='cuda:0', grad_fn=<MeanBackward0>)\n"
     ]
    },
    {
     "name": "stderr",
     "output_type": "stream",
     "text": [
      "  5%|███████▍                                                                                                                                                  | 146/3007 [00:02<00:42, 67.86it/s]"
     ]
    },
    {
     "name": "stdout",
     "output_type": "stream",
     "text": [
      "tensor(0.0126, device='cuda:0', grad_fn=<MeanBackward0>)\n",
      "tensor(0.0127, device='cuda:0', grad_fn=<MeanBackward0>)\n",
      "tensor(0.0128, device='cuda:0', grad_fn=<MeanBackward0>)\n",
      "tensor(0.0125, device='cuda:0', grad_fn=<MeanBackward0>)\n",
      "tensor(0.0127, device='cuda:0', grad_fn=<MeanBackward0>)\n",
      "tensor(0.0130, device='cuda:0', grad_fn=<MeanBackward0>)\n",
      "tensor(0.0123, device='cuda:0', grad_fn=<MeanBackward0>)\n",
      "tensor(0.0131, device='cuda:0', grad_fn=<MeanBackward0>)\n",
      "tensor(0.0128, device='cuda:0', grad_fn=<MeanBackward0>)\n",
      "tensor(0.0132, device='cuda:0', grad_fn=<MeanBackward0>)\n",
      "tensor(0.0124, device='cuda:0', grad_fn=<MeanBackward0>)\n"
     ]
    },
    {
     "name": "stderr",
     "output_type": "stream",
     "text": [
      "  5%|███████▉                                                                                                                                                  | 155/3007 [00:02<00:39, 72.23it/s]"
     ]
    },
    {
     "name": "stdout",
     "output_type": "stream",
     "text": [
      "tensor(0.0127, device='cuda:0', grad_fn=<MeanBackward0>)\n",
      "tensor(0.0121, device='cuda:0', grad_fn=<MeanBackward0>)\n",
      "tensor(0.0126, device='cuda:0', grad_fn=<MeanBackward0>)\n",
      "tensor(0.0123, device='cuda:0', grad_fn=<MeanBackward0>)\n",
      "tensor(0.0130, device='cuda:0', grad_fn=<MeanBackward0>)\n"
     ]
    },
    {
     "name": "stderr",
     "output_type": "stream",
     "text": [
      "  5%|████████▎                                                                                                                                                 | 163/3007 [00:02<00:40, 70.91it/s]"
     ]
    },
    {
     "name": "stdout",
     "output_type": "stream",
     "text": [
      "tensor(0.0124, device='cuda:0', grad_fn=<MeanBackward0>)\n",
      "tensor(0.0121, device='cuda:0', grad_fn=<MeanBackward0>)\n",
      "tensor(0.0124, device='cuda:0', grad_fn=<MeanBackward0>)\n",
      "tensor(0.0125, device='cuda:0', grad_fn=<MeanBackward0>)\n",
      "tensor(0.0125, device='cuda:0', grad_fn=<MeanBackward0>)\n",
      "tensor(0.0126, device='cuda:0', grad_fn=<MeanBackward0>)\n",
      "tensor(0.0123, device='cuda:0', grad_fn=<MeanBackward0>)\n",
      "tensor(0.0122, device='cuda:0', grad_fn=<MeanBackward0>)\n",
      "tensor(0.0124, device='cuda:0', grad_fn=<MeanBackward0>)\n"
     ]
    },
    {
     "name": "stderr",
     "output_type": "stream",
     "text": [
      "  6%|████████▊                                                                                                                                                 | 171/3007 [00:02<00:40, 69.91it/s]"
     ]
    },
    {
     "name": "stdout",
     "output_type": "stream",
     "text": [
      "tensor(0.0124, device='cuda:0', grad_fn=<MeanBackward0>)\n",
      "tensor(0.0124, device='cuda:0', grad_fn=<MeanBackward0>)\n",
      "tensor(0.0126, device='cuda:0', grad_fn=<MeanBackward0>)\n",
      "tensor(0.0130, device='cuda:0', grad_fn=<MeanBackward0>)\n",
      "tensor(0.0124, device='cuda:0', grad_fn=<MeanBackward0>)\n"
     ]
    },
    {
     "name": "stderr",
     "output_type": "stream",
     "text": [
      "  6%|█████████                                                                                                                                                 | 178/3007 [00:02<00:40, 69.45it/s]"
     ]
    },
    {
     "name": "stdout",
     "output_type": "stream",
     "text": [
      "tensor(0.0123, device='cuda:0', grad_fn=<MeanBackward0>)\n",
      "tensor(0.0126, device='cuda:0', grad_fn=<MeanBackward0>)\n",
      "tensor(0.0125, device='cuda:0', grad_fn=<MeanBackward0>)\n",
      "tensor(0.0132, device='cuda:0', grad_fn=<MeanBackward0>)\n",
      "tensor(0.0122, device='cuda:0', grad_fn=<MeanBackward0>)\n",
      "tensor(0.0123, device='cuda:0', grad_fn=<MeanBackward0>)\n",
      "tensor(0.0125, device='cuda:0', grad_fn=<MeanBackward0>)\n",
      "tensor(0.0131, device='cuda:0', grad_fn=<MeanBackward0>)\n",
      "tensor(0.0126, device='cuda:0', grad_fn=<MeanBackward0>)\n"
     ]
    },
    {
     "name": "stderr",
     "output_type": "stream",
     "text": [
      "  6%|█████████▍                                                                                                                                                | 185/3007 [00:02<00:40, 68.91it/s]"
     ]
    },
    {
     "name": "stdout",
     "output_type": "stream",
     "text": [
      "tensor(0.0123, device='cuda:0', grad_fn=<MeanBackward0>)\n",
      "tensor(0.0124, device='cuda:0', grad_fn=<MeanBackward0>)\n",
      "tensor(0.0123, device='cuda:0', grad_fn=<MeanBackward0>)\n",
      "tensor(0.0125, device='cuda:0', grad_fn=<MeanBackward0>)\n",
      "tensor(0.0123, device='cuda:0', grad_fn=<MeanBackward0>)\n"
     ]
    },
    {
     "name": "stderr",
     "output_type": "stream",
     "text": [
      "  6%|█████████▊                                                                                                                                                | 192/3007 [00:03<00:41, 68.37it/s]"
     ]
    },
    {
     "name": "stdout",
     "output_type": "stream",
     "text": [
      "tensor(0.0124, device='cuda:0', grad_fn=<MeanBackward0>)\n",
      "tensor(0.0117, device='cuda:0', grad_fn=<MeanBackward0>)\n",
      "tensor(0.0127, device='cuda:0', grad_fn=<MeanBackward0>)\n",
      "tensor(0.0125, device='cuda:0', grad_fn=<MeanBackward0>)\n",
      "tensor(0.0127, device='cuda:0', grad_fn=<MeanBackward0>)\n",
      "tensor(0.0125, device='cuda:0', grad_fn=<MeanBackward0>)\n",
      "tensor(0.0122, device='cuda:0', grad_fn=<MeanBackward0>)\n",
      "tensor(0.0125, device='cuda:0', grad_fn=<MeanBackward0>)\n",
      "tensor(0.0124, device='cuda:0', grad_fn=<MeanBackward0>)\n"
     ]
    },
    {
     "name": "stderr",
     "output_type": "stream",
     "text": [
      "  7%|██████████▏                                                                                                                                               | 199/3007 [00:03<00:41, 68.35it/s]"
     ]
    },
    {
     "name": "stdout",
     "output_type": "stream",
     "text": [
      "tensor(0.0120, device='cuda:0', grad_fn=<MeanBackward0>)\n",
      "tensor(0.0126, device='cuda:0', grad_fn=<MeanBackward0>)\n",
      "tensor(0.0122, device='cuda:0', grad_fn=<MeanBackward0>)\n",
      "tensor(0.0126, device='cuda:0', grad_fn=<MeanBackward0>)\n",
      "tensor(0.0126, device='cuda:0', grad_fn=<MeanBackward0>)\n"
     ]
    },
    {
     "name": "stderr",
     "output_type": "stream",
     "text": [
      "  7%|██████████▌                                                                                                                                               | 206/3007 [00:03<00:41, 68.03it/s]"
     ]
    },
    {
     "name": "stdout",
     "output_type": "stream",
     "text": [
      "tensor(0.0123, device='cuda:0', grad_fn=<MeanBackward0>)\n",
      "tensor(0.0126, device='cuda:0', grad_fn=<MeanBackward0>)\n",
      "tensor(0.0124, device='cuda:0', grad_fn=<MeanBackward0>)\n",
      "tensor(0.0123, device='cuda:0', grad_fn=<MeanBackward0>)\n",
      "tensor(0.0124, device='cuda:0', grad_fn=<MeanBackward0>)\n",
      "tensor(0.0119, device='cuda:0', grad_fn=<MeanBackward0>)\n",
      "tensor(0.0125, device='cuda:0', grad_fn=<MeanBackward0>)\n",
      "tensor(0.0124, device='cuda:0', grad_fn=<MeanBackward0>)\n",
      "tensor(0.0127, device='cuda:0', grad_fn=<MeanBackward0>)\n"
     ]
    },
    {
     "name": "stderr",
     "output_type": "stream",
     "text": [
      "  7%|██████████▉                                                                                                                                               | 213/3007 [00:03<00:41, 68.06it/s]"
     ]
    },
    {
     "name": "stdout",
     "output_type": "stream",
     "text": [
      "tensor(0.0126, device='cuda:0', grad_fn=<MeanBackward0>)\n",
      "tensor(0.0121, device='cuda:0', grad_fn=<MeanBackward0>)\n",
      "tensor(0.0123, device='cuda:0', grad_fn=<MeanBackward0>)\n",
      "tensor(0.0126, device='cuda:0', grad_fn=<MeanBackward0>)\n",
      "tensor(0.0128, device='cuda:0', grad_fn=<MeanBackward0>)\n"
     ]
    },
    {
     "name": "stderr",
     "output_type": "stream",
     "text": [
      "  7%|███████████▎                                                                                                                                              | 220/3007 [00:03<00:40, 68.15it/s]"
     ]
    },
    {
     "name": "stdout",
     "output_type": "stream",
     "text": [
      "tensor(0.0128, device='cuda:0', grad_fn=<MeanBackward0>)\n",
      "tensor(0.0121, device='cuda:0', grad_fn=<MeanBackward0>)\n",
      "tensor(0.0126, device='cuda:0', grad_fn=<MeanBackward0>)\n",
      "tensor(0.0127, device='cuda:0', grad_fn=<MeanBackward0>)\n",
      "tensor(0.0124, device='cuda:0', grad_fn=<MeanBackward0>)\n",
      "tensor(0.0125, device='cuda:0', grad_fn=<MeanBackward0>)\n",
      "tensor(0.0126, device='cuda:0', grad_fn=<MeanBackward0>)\n",
      "tensor(0.0124, device='cuda:0', grad_fn=<MeanBackward0>)\n",
      "tensor(0.0124, device='cuda:0', grad_fn=<MeanBackward0>)\n",
      "tensor(0.0125, device='cuda:0', grad_fn=<MeanBackward0>)\n"
     ]
    },
    {
     "name": "stderr",
     "output_type": "stream",
     "text": [
      "  8%|███████████▋                                                                                                                                              | 228/3007 [00:03<00:39, 71.16it/s]"
     ]
    },
    {
     "name": "stdout",
     "output_type": "stream",
     "text": [
      "tensor(0.0126, device='cuda:0', grad_fn=<MeanBackward0>)\n",
      "tensor(0.0126, device='cuda:0', grad_fn=<MeanBackward0>)\n",
      "tensor(0.0126, device='cuda:0', grad_fn=<MeanBackward0>)\n",
      "tensor(0.0122, device='cuda:0', grad_fn=<MeanBackward0>)\n",
      "tensor(0.0124, device='cuda:0', grad_fn=<MeanBackward0>)\n"
     ]
    },
    {
     "name": "stderr",
     "output_type": "stream",
     "text": [
      "  8%|████████████                                                                                                                                              | 236/3007 [00:03<00:39, 69.89it/s]"
     ]
    },
    {
     "name": "stdout",
     "output_type": "stream",
     "text": [
      "tensor(0.0124, device='cuda:0', grad_fn=<MeanBackward0>)\n",
      "tensor(0.0126, device='cuda:0', grad_fn=<MeanBackward0>)\n",
      "tensor(0.0124, device='cuda:0', grad_fn=<MeanBackward0>)\n",
      "tensor(0.0124, device='cuda:0', grad_fn=<MeanBackward0>)\n",
      "tensor(0.0128, device='cuda:0', grad_fn=<MeanBackward0>)\n",
      "tensor(0.0122, device='cuda:0', grad_fn=<MeanBackward0>)\n",
      "tensor(0.0123, device='cuda:0', grad_fn=<MeanBackward0>)\n",
      "tensor(0.0124, device='cuda:0', grad_fn=<MeanBackward0>)\n",
      "tensor(0.0125, device='cuda:0', grad_fn=<MeanBackward0>)\n",
      "tensor(0.0119, device='cuda:0', grad_fn=<MeanBackward0>)\n"
     ]
    },
    {
     "name": "stderr",
     "output_type": "stream",
     "text": [
      "  8%|████████████▍                                                                                                                                             | 244/3007 [00:03<00:40, 69.01it/s]"
     ]
    },
    {
     "name": "stdout",
     "output_type": "stream",
     "text": [
      "tensor(0.0122, device='cuda:0', grad_fn=<MeanBackward0>)\n",
      "tensor(0.0127, device='cuda:0', grad_fn=<MeanBackward0>)\n",
      "tensor(0.0124, device='cuda:0', grad_fn=<MeanBackward0>)\n",
      "tensor(0.0125, device='cuda:0', grad_fn=<MeanBackward0>)\n"
     ]
    },
    {
     "name": "stderr",
     "output_type": "stream",
     "text": [
      "  8%|████████████▊                                                                                                                                             | 251/3007 [00:03<00:40, 68.80it/s]"
     ]
    },
    {
     "name": "stdout",
     "output_type": "stream",
     "text": [
      "tensor(0.0122, device='cuda:0', grad_fn=<MeanBackward0>)\n",
      "tensor(0.0124, device='cuda:0', grad_fn=<MeanBackward0>)\n",
      "tensor(0.0125, device='cuda:0', grad_fn=<MeanBackward0>)\n",
      "tensor(0.0127, device='cuda:0', grad_fn=<MeanBackward0>)\n",
      "tensor(0.0126, device='cuda:0', grad_fn=<MeanBackward0>)\n",
      "tensor(0.0124, device='cuda:0', grad_fn=<MeanBackward0>)\n",
      "tensor(0.0125, device='cuda:0', grad_fn=<MeanBackward0>)\n",
      "tensor(0.0129, device='cuda:0', grad_fn=<MeanBackward0>)\n",
      "tensor(0.0125, device='cuda:0', grad_fn=<MeanBackward0>)\n",
      "tensor(0.0126, device='cuda:0', grad_fn=<MeanBackward0>)\n"
     ]
    },
    {
     "name": "stderr",
     "output_type": "stream",
     "text": [
      "  9%|█████████████▏                                                                                                                                            | 258/3007 [00:03<00:40, 68.23it/s]"
     ]
    },
    {
     "name": "stdout",
     "output_type": "stream",
     "text": [
      "tensor(0.0124, device='cuda:0', grad_fn=<MeanBackward0>)\n",
      "tensor(0.0125, device='cuda:0', grad_fn=<MeanBackward0>)\n",
      "tensor(0.0126, device='cuda:0', grad_fn=<MeanBackward0>)\n",
      "tensor(0.0123, device='cuda:0', grad_fn=<MeanBackward0>)\n"
     ]
    },
    {
     "name": "stderr",
     "output_type": "stream",
     "text": [
      "  9%|█████████████▌                                                                                                                                            | 265/3007 [00:04<00:40, 67.86it/s]"
     ]
    },
    {
     "name": "stdout",
     "output_type": "stream",
     "text": [
      "tensor(0.0124, device='cuda:0', grad_fn=<MeanBackward0>)\n",
      "tensor(0.0125, device='cuda:0', grad_fn=<MeanBackward0>)\n",
      "tensor(0.0122, device='cuda:0', grad_fn=<MeanBackward0>)\n",
      "tensor(0.0123, device='cuda:0', grad_fn=<MeanBackward0>)\n",
      "tensor(0.0126, device='cuda:0', grad_fn=<MeanBackward0>)\n",
      "tensor(0.0124, device='cuda:0', grad_fn=<MeanBackward0>)\n",
      "tensor(0.0125, device='cuda:0', grad_fn=<MeanBackward0>)\n",
      "tensor(0.0129, device='cuda:0', grad_fn=<MeanBackward0>)\n",
      "tensor(0.0124, device='cuda:0', grad_fn=<MeanBackward0>)\n",
      "tensor(0.0124, device='cuda:0', grad_fn=<MeanBackward0>)\n"
     ]
    },
    {
     "name": "stderr",
     "output_type": "stream",
     "text": [
      "  9%|█████████████▉                                                                                                                                            | 272/3007 [00:04<00:40, 67.98it/s]"
     ]
    },
    {
     "name": "stdout",
     "output_type": "stream",
     "text": [
      "tensor(0.0126, device='cuda:0', grad_fn=<MeanBackward0>)\n",
      "tensor(0.0119, device='cuda:0', grad_fn=<MeanBackward0>)\n",
      "tensor(0.0124, device='cuda:0', grad_fn=<MeanBackward0>)\n",
      "tensor(0.0121, device='cuda:0', grad_fn=<MeanBackward0>)\n"
     ]
    },
    {
     "name": "stderr",
     "output_type": "stream",
     "text": [
      "  9%|██████████████▎                                                                                                                                           | 279/3007 [00:04<00:40, 67.77it/s]"
     ]
    },
    {
     "name": "stdout",
     "output_type": "stream",
     "text": [
      "tensor(0.0122, device='cuda:0', grad_fn=<MeanBackward0>)\n",
      "tensor(0.0121, device='cuda:0', grad_fn=<MeanBackward0>)\n",
      "tensor(0.0117, device='cuda:0', grad_fn=<MeanBackward0>)\n",
      "tensor(0.0129, device='cuda:0', grad_fn=<MeanBackward0>)\n",
      "tensor(0.0120, device='cuda:0', grad_fn=<MeanBackward0>)\n",
      "tensor(0.0124, device='cuda:0', grad_fn=<MeanBackward0>)\n",
      "tensor(0.0123, device='cuda:0', grad_fn=<MeanBackward0>)\n",
      "tensor(0.0122, device='cuda:0', grad_fn=<MeanBackward0>)\n",
      "tensor(0.0121, device='cuda:0', grad_fn=<MeanBackward0>)\n",
      "tensor(0.0128, device='cuda:0', grad_fn=<MeanBackward0>)\n"
     ]
    },
    {
     "name": "stderr",
     "output_type": "stream",
     "text": [
      " 10%|██████████████▋                                                                                                                                           | 286/3007 [00:04<00:40, 67.60it/s]"
     ]
    },
    {
     "name": "stdout",
     "output_type": "stream",
     "text": [
      "tensor(0.0127, device='cuda:0', grad_fn=<MeanBackward0>)\n",
      "tensor(0.0121, device='cuda:0', grad_fn=<MeanBackward0>)\n",
      "tensor(0.0127, device='cuda:0', grad_fn=<MeanBackward0>)\n",
      "tensor(0.0123, device='cuda:0', grad_fn=<MeanBackward0>)\n"
     ]
    },
    {
     "name": "stderr",
     "output_type": "stream",
     "text": [
      " 10%|███████████████                                                                                                                                           | 293/3007 [00:04<00:40, 67.78it/s]"
     ]
    },
    {
     "name": "stdout",
     "output_type": "stream",
     "text": [
      "tensor(0.0126, device='cuda:0', grad_fn=<MeanBackward0>)\n",
      "tensor(0.0126, device='cuda:0', grad_fn=<MeanBackward0>)\n",
      "tensor(0.0123, device='cuda:0', grad_fn=<MeanBackward0>)\n",
      "tensor(0.0124, device='cuda:0', grad_fn=<MeanBackward0>)\n",
      "tensor(0.0127, device='cuda:0', grad_fn=<MeanBackward0>)\n",
      "tensor(0.0123, device='cuda:0', grad_fn=<MeanBackward0>)\n",
      "tensor(0.0121, device='cuda:0', grad_fn=<MeanBackward0>)\n",
      "tensor(0.0125, device='cuda:0', grad_fn=<MeanBackward0>)\n",
      "tensor(0.0123, device='cuda:0', grad_fn=<MeanBackward0>)\n",
      "tensor(0.0122, device='cuda:0', grad_fn=<MeanBackward0>)\n"
     ]
    },
    {
     "name": "stderr",
     "output_type": "stream",
     "text": [
      " 10%|███████████████▎                                                                                                                                          | 300/3007 [00:04<00:40, 67.64it/s]"
     ]
    },
    {
     "name": "stdout",
     "output_type": "stream",
     "text": [
      "tensor(0.0119, device='cuda:0', grad_fn=<MeanBackward0>)\n",
      "tensor(0.0127, device='cuda:0', grad_fn=<MeanBackward0>)\n",
      "tensor(0.0127, device='cuda:0', grad_fn=<MeanBackward0>)\n",
      "tensor(0.0123, device='cuda:0', grad_fn=<MeanBackward0>)\n",
      "tensor(0.0125, device='cuda:0', grad_fn=<MeanBackward0>)\n",
      "tensor(0.0124, device='cuda:0', grad_fn=<MeanBackward0>)\n"
     ]
    },
    {
     "name": "stderr",
     "output_type": "stream",
     "text": [
      " 10%|████████████████                                                                                                                                          | 314/3007 [00:04<00:30, 88.59it/s]"
     ]
    },
    {
     "name": "stdout",
     "output_type": "stream",
     "text": [
      "tensor(0.0120, device='cuda:0', grad_fn=<MeanBackward0>)\n",
      "tensor(0.0123, device='cuda:0', grad_fn=<MeanBackward0>)\n",
      "tensor(0.0121, device='cuda:0', grad_fn=<MeanBackward0>)\n",
      "tensor(0.0128, device='cuda:0', grad_fn=<MeanBackward0>)\n",
      "tensor(0.0126, device='cuda:0', grad_fn=<MeanBackward0>)\n",
      "tensor(0.0128, device='cuda:0', grad_fn=<MeanBackward0>)\n",
      "tensor(0.0119, device='cuda:0', grad_fn=<MeanBackward0>)\n",
      "tensor(0.0122, device='cuda:0', grad_fn=<MeanBackward0>)\n",
      "tensor(0.0125, device='cuda:0', grad_fn=<MeanBackward0>)\n",
      "tensor(0.0126, device='cuda:0', grad_fn=<MeanBackward0>)\n",
      "tensor(0.0124, device='cuda:0', grad_fn=<MeanBackward0>)\n",
      "tensor(0.0127, device='cuda:0', grad_fn=<MeanBackward0>)\n",
      "tensor(0.0122, device='cuda:0', grad_fn=<MeanBackward0>)\n",
      "tensor(0.0124, device='cuda:0', grad_fn=<MeanBackward0>)\n",
      "tensor(0.0125, device='cuda:0', grad_fn=<MeanBackward0>)\n",
      "tensor(0.0127, device='cuda:0', grad_fn=<MeanBackward0>)\n",
      "tensor(0.0125, device='cuda:0', grad_fn=<MeanBackward0>)\n"
     ]
    },
    {
     "name": "stderr",
     "output_type": "stream",
     "text": [
      " 11%|████████████████▌                                                                                                                                         | 323/3007 [00:04<00:30, 87.33it/s]"
     ]
    },
    {
     "name": "stdout",
     "output_type": "stream",
     "text": [
      "tensor(0.0124, device='cuda:0', grad_fn=<MeanBackward0>)\n",
      "tensor(0.0124, device='cuda:0', grad_fn=<MeanBackward0>)\n",
      "tensor(0.0123, device='cuda:0', grad_fn=<MeanBackward0>)\n",
      "tensor(0.0123, device='cuda:0', grad_fn=<MeanBackward0>)\n"
     ]
    },
    {
     "name": "stderr",
     "output_type": "stream",
     "text": [
      " 11%|█████████████████                                                                                                                                         | 332/3007 [00:04<00:33, 80.37it/s]"
     ]
    },
    {
     "name": "stdout",
     "output_type": "stream",
     "text": [
      "tensor(0.0125, device='cuda:0', grad_fn=<MeanBackward0>)\n",
      "tensor(0.0125, device='cuda:0', grad_fn=<MeanBackward0>)\n",
      "tensor(0.0127, device='cuda:0', grad_fn=<MeanBackward0>)\n",
      "tensor(0.0123, device='cuda:0', grad_fn=<MeanBackward0>)\n",
      "tensor(0.0121, device='cuda:0', grad_fn=<MeanBackward0>)\n",
      "tensor(0.0127, device='cuda:0', grad_fn=<MeanBackward0>)\n",
      "tensor(0.0122, device='cuda:0', grad_fn=<MeanBackward0>)\n",
      "tensor(0.0123, device='cuda:0', grad_fn=<MeanBackward0>)\n",
      "tensor(0.0122, device='cuda:0', grad_fn=<MeanBackward0>)\n",
      "tensor(0.0125, device='cuda:0', grad_fn=<MeanBackward0>)\n",
      "tensor(0.0123, device='cuda:0', grad_fn=<MeanBackward0>)\n",
      "tensor(0.0127, device='cuda:0', grad_fn=<MeanBackward0>)\n",
      "tensor(0.0124, device='cuda:0', grad_fn=<MeanBackward0>)\n",
      "tensor(0.0122, device='cuda:0', grad_fn=<MeanBackward0>)\n"
     ]
    },
    {
     "name": "stderr",
     "output_type": "stream",
     "text": [
      " 11%|█████████████████▍                                                                                                                                        | 341/3007 [00:05<00:34, 76.34it/s]"
     ]
    },
    {
     "name": "stdout",
     "output_type": "stream",
     "text": [
      "tensor(0.0126, device='cuda:0', grad_fn=<MeanBackward0>)\n",
      "tensor(0.0124, device='cuda:0', grad_fn=<MeanBackward0>)\n",
      "tensor(0.0123, device='cuda:0', grad_fn=<MeanBackward0>)\n",
      "tensor(0.0121, device='cuda:0', grad_fn=<MeanBackward0>)\n",
      "tensor(0.0121, device='cuda:0', grad_fn=<MeanBackward0>)\n",
      "tensor(0.0126, device='cuda:0', grad_fn=<MeanBackward0>)\n",
      "tensor(0.0121, device='cuda:0', grad_fn=<MeanBackward0>)\n",
      "tensor(0.0123, device='cuda:0', grad_fn=<MeanBackward0>)\n",
      "tensor(0.0121, device='cuda:0', grad_fn=<MeanBackward0>)\n",
      "tensor(0.0126, device='cuda:0', grad_fn=<MeanBackward0>)\n"
     ]
    },
    {
     "name": "stderr",
     "output_type": "stream",
     "text": [
      " 12%|█████████████████▊                                                                                                                                        | 349/3007 [00:05<00:35, 73.84it/s]"
     ]
    },
    {
     "name": "stdout",
     "output_type": "stream",
     "text": [
      "tensor(0.0126, device='cuda:0', grad_fn=<MeanBackward0>)\n",
      "tensor(0.0122, device='cuda:0', grad_fn=<MeanBackward0>)\n",
      "tensor(0.0118, device='cuda:0', grad_fn=<MeanBackward0>)\n",
      "tensor(0.0118, device='cuda:0', grad_fn=<MeanBackward0>)\n"
     ]
    },
    {
     "name": "stderr",
     "output_type": "stream",
     "text": [
      " 12%|██████████████████▎                                                                                                                                       | 357/3007 [00:05<00:36, 72.22it/s]"
     ]
    },
    {
     "name": "stdout",
     "output_type": "stream",
     "text": [
      "tensor(0.0122, device='cuda:0', grad_fn=<MeanBackward0>)\n",
      "tensor(0.0126, device='cuda:0', grad_fn=<MeanBackward0>)\n",
      "tensor(0.0125, device='cuda:0', grad_fn=<MeanBackward0>)\n",
      "tensor(0.0122, device='cuda:0', grad_fn=<MeanBackward0>)\n",
      "tensor(0.0124, device='cuda:0', grad_fn=<MeanBackward0>)\n",
      "tensor(0.0123, device='cuda:0', grad_fn=<MeanBackward0>)\n",
      "tensor(0.0126, device='cuda:0', grad_fn=<MeanBackward0>)\n",
      "tensor(0.0124, device='cuda:0', grad_fn=<MeanBackward0>)\n",
      "tensor(0.0126, device='cuda:0', grad_fn=<MeanBackward0>)\n",
      "tensor(0.0124, device='cuda:0', grad_fn=<MeanBackward0>)\n"
     ]
    },
    {
     "name": "stderr",
     "output_type": "stream",
     "text": [
      " 12%|██████████████████▋                                                                                                                                       | 365/3007 [00:05<00:37, 70.96it/s]"
     ]
    },
    {
     "name": "stdout",
     "output_type": "stream",
     "text": [
      "tensor(0.0120, device='cuda:0', grad_fn=<MeanBackward0>)\n",
      "tensor(0.0125, device='cuda:0', grad_fn=<MeanBackward0>)\n",
      "tensor(0.0125, device='cuda:0', grad_fn=<MeanBackward0>)\n",
      "tensor(0.0127, device='cuda:0', grad_fn=<MeanBackward0>)\n"
     ]
    },
    {
     "name": "stderr",
     "output_type": "stream",
     "text": [
      " 12%|███████████████████                                                                                                                                       | 373/3007 [00:05<00:37, 70.08it/s]"
     ]
    },
    {
     "name": "stdout",
     "output_type": "stream",
     "text": [
      "tensor(0.0121, device='cuda:0', grad_fn=<MeanBackward0>)\n",
      "tensor(0.0122, device='cuda:0', grad_fn=<MeanBackward0>)\n",
      "tensor(0.0125, device='cuda:0', grad_fn=<MeanBackward0>)\n",
      "tensor(0.0122, device='cuda:0', grad_fn=<MeanBackward0>)\n",
      "tensor(0.0123, device='cuda:0', grad_fn=<MeanBackward0>)\n",
      "tensor(0.0122, device='cuda:0', grad_fn=<MeanBackward0>)\n",
      "tensor(0.0124, device='cuda:0', grad_fn=<MeanBackward0>)\n",
      "tensor(0.0125, device='cuda:0', grad_fn=<MeanBackward0>)\n",
      "tensor(0.0126, device='cuda:0', grad_fn=<MeanBackward0>)\n",
      "tensor(0.0119, device='cuda:0', grad_fn=<MeanBackward0>)\n",
      "tensor(0.0125, device='cuda:0', grad_fn=<MeanBackward0>)\n",
      "tensor(0.0120, device='cuda:0', grad_fn=<MeanBackward0>)\n",
      "tensor(0.0124, device='cuda:0', grad_fn=<MeanBackward0>)\n",
      "tensor(0.0124, device='cuda:0', grad_fn=<MeanBackward0>)\n"
     ]
    },
    {
     "name": "stderr",
     "output_type": "stream",
     "text": [
      " 13%|███████████████████▊                                                                                                                                      | 388/3007 [00:05<00:37, 69.24it/s]"
     ]
    },
    {
     "name": "stdout",
     "output_type": "stream",
     "text": [
      "tensor(0.0125, device='cuda:0', grad_fn=<MeanBackward0>)\n",
      "tensor(0.0124, device='cuda:0', grad_fn=<MeanBackward0>)\n",
      "tensor(0.0120, device='cuda:0', grad_fn=<MeanBackward0>)\n",
      "tensor(0.0122, device='cuda:0', grad_fn=<MeanBackward0>)\n",
      "tensor(0.0124, device='cuda:0', grad_fn=<MeanBackward0>)\n",
      "tensor(0.0122, device='cuda:0', grad_fn=<MeanBackward0>)\n",
      "tensor(0.0119, device='cuda:0', grad_fn=<MeanBackward0>)\n",
      "tensor(0.0124, device='cuda:0', grad_fn=<MeanBackward0>)\n",
      "tensor(0.0125, device='cuda:0', grad_fn=<MeanBackward0>)\n",
      "tensor(0.0121, device='cuda:0', grad_fn=<MeanBackward0>)\n",
      "tensor(0.0124, device='cuda:0', grad_fn=<MeanBackward0>)\n",
      "tensor(0.0125, device='cuda:0', grad_fn=<MeanBackward0>)\n",
      "tensor(0.0123, device='cuda:0', grad_fn=<MeanBackward0>)\n",
      "tensor(0.0126, device='cuda:0', grad_fn=<MeanBackward0>)\n",
      "tensor(0.0125, device='cuda:0', grad_fn=<MeanBackward0>)\n",
      "tensor(0.0121, device='cuda:0', grad_fn=<MeanBackward0>)\n"
     ]
    },
    {
     "name": "stderr",
     "output_type": "stream",
     "text": [
      " 13%|████████████████████▋                                                                                                                                     | 404/3007 [00:05<00:36, 70.79it/s]"
     ]
    },
    {
     "name": "stdout",
     "output_type": "stream",
     "text": [
      "tensor(0.0125, device='cuda:0', grad_fn=<MeanBackward0>)\n",
      "tensor(0.0126, device='cuda:0', grad_fn=<MeanBackward0>)\n",
      "tensor(0.0124, device='cuda:0', grad_fn=<MeanBackward0>)\n",
      "tensor(0.0127, device='cuda:0', grad_fn=<MeanBackward0>)\n",
      "tensor(0.0122, device='cuda:0', grad_fn=<MeanBackward0>)\n",
      "tensor(0.0124, device='cuda:0', grad_fn=<MeanBackward0>)\n",
      "tensor(0.0124, device='cuda:0', grad_fn=<MeanBackward0>)\n",
      "tensor(0.0121, device='cuda:0', grad_fn=<MeanBackward0>)\n",
      "tensor(0.0122, device='cuda:0', grad_fn=<MeanBackward0>)\n",
      "tensor(0.0123, device='cuda:0', grad_fn=<MeanBackward0>)\n",
      "tensor(0.0122, device='cuda:0', grad_fn=<MeanBackward0>)\n",
      "tensor(0.0124, device='cuda:0', grad_fn=<MeanBackward0>)\n",
      "tensor(0.0125, device='cuda:0', grad_fn=<MeanBackward0>)\n",
      "tensor(0.0119, device='cuda:0', grad_fn=<MeanBackward0>)\n"
     ]
    },
    {
     "name": "stderr",
     "output_type": "stream",
     "text": [
      " 14%|█████████████████████                                                                                                                                     | 412/3007 [00:06<00:37, 70.01it/s]"
     ]
    },
    {
     "name": "stdout",
     "output_type": "stream",
     "text": [
      "tensor(0.0122, device='cuda:0', grad_fn=<MeanBackward0>)\n",
      "tensor(0.0128, device='cuda:0', grad_fn=<MeanBackward0>)\n",
      "tensor(0.0121, device='cuda:0', grad_fn=<MeanBackward0>)\n",
      "tensor(0.0121, device='cuda:0', grad_fn=<MeanBackward0>)\n",
      "tensor(0.0126, device='cuda:0', grad_fn=<MeanBackward0>)\n",
      "tensor(0.0121, device='cuda:0', grad_fn=<MeanBackward0>)\n",
      "tensor(0.0123, device='cuda:0', grad_fn=<MeanBackward0>)\n",
      "tensor(0.0127, device='cuda:0', grad_fn=<MeanBackward0>)\n",
      "tensor(0.0125, device='cuda:0', grad_fn=<MeanBackward0>)\n"
     ]
    },
    {
     "name": "stderr",
     "output_type": "stream",
     "text": [
      " 14%|█████████████████████▌                                                                                                                                    | 420/3007 [00:06<00:37, 69.38it/s]"
     ]
    },
    {
     "name": "stdout",
     "output_type": "stream",
     "text": [
      "tensor(0.0124, device='cuda:0', grad_fn=<MeanBackward0>)\n",
      "tensor(0.0127, device='cuda:0', grad_fn=<MeanBackward0>)\n",
      "tensor(0.0129, device='cuda:0', grad_fn=<MeanBackward0>)\n",
      "tensor(0.0123, device='cuda:0', grad_fn=<MeanBackward0>)\n",
      "tensor(0.0121, device='cuda:0', grad_fn=<MeanBackward0>)\n"
     ]
    },
    {
     "name": "stderr",
     "output_type": "stream",
     "text": [
      " 14%|█████████████████████▊                                                                                                                                    | 427/3007 [00:06<00:37, 69.09it/s]"
     ]
    },
    {
     "name": "stdout",
     "output_type": "stream",
     "text": [
      "tensor(0.0124, device='cuda:0', grad_fn=<MeanBackward0>)\n",
      "tensor(0.0125, device='cuda:0', grad_fn=<MeanBackward0>)\n",
      "tensor(0.0120, device='cuda:0', grad_fn=<MeanBackward0>)\n",
      "tensor(0.0126, device='cuda:0', grad_fn=<MeanBackward0>)\n",
      "tensor(0.0119, device='cuda:0', grad_fn=<MeanBackward0>)\n",
      "tensor(0.0123, device='cuda:0', grad_fn=<MeanBackward0>)\n",
      "tensor(0.0119, device='cuda:0', grad_fn=<MeanBackward0>)\n",
      "tensor(0.0124, device='cuda:0', grad_fn=<MeanBackward0>)\n",
      "tensor(0.0123, device='cuda:0', grad_fn=<MeanBackward0>)\n"
     ]
    },
    {
     "name": "stderr",
     "output_type": "stream",
     "text": [
      " 14%|██████████████████████▏                                                                                                                                   | 434/3007 [00:06<00:37, 68.92it/s]"
     ]
    },
    {
     "name": "stdout",
     "output_type": "stream",
     "text": [
      "tensor(0.0123, device='cuda:0', grad_fn=<MeanBackward0>)\n",
      "tensor(0.0128, device='cuda:0', grad_fn=<MeanBackward0>)\n",
      "tensor(0.0125, device='cuda:0', grad_fn=<MeanBackward0>)\n",
      "tensor(0.0122, device='cuda:0', grad_fn=<MeanBackward0>)\n",
      "tensor(0.0124, device='cuda:0', grad_fn=<MeanBackward0>)\n"
     ]
    },
    {
     "name": "stderr",
     "output_type": "stream",
     "text": [
      " 15%|██████████████████████▌                                                                                                                                   | 441/3007 [00:06<00:37, 68.63it/s]"
     ]
    },
    {
     "name": "stdout",
     "output_type": "stream",
     "text": [
      "tensor(0.0122, device='cuda:0', grad_fn=<MeanBackward0>)\n",
      "tensor(0.0125, device='cuda:0', grad_fn=<MeanBackward0>)\n",
      "tensor(0.0125, device='cuda:0', grad_fn=<MeanBackward0>)\n",
      "tensor(0.0128, device='cuda:0', grad_fn=<MeanBackward0>)\n",
      "tensor(0.0119, device='cuda:0', grad_fn=<MeanBackward0>)\n",
      "tensor(0.0120, device='cuda:0', grad_fn=<MeanBackward0>)\n",
      "tensor(0.0124, device='cuda:0', grad_fn=<MeanBackward0>)\n",
      "tensor(0.0122, device='cuda:0', grad_fn=<MeanBackward0>)\n",
      "tensor(0.0125, device='cuda:0', grad_fn=<MeanBackward0>)\n"
     ]
    },
    {
     "name": "stderr",
     "output_type": "stream",
     "text": [
      " 15%|██████████████████████▉                                                                                                                                   | 448/3007 [00:06<00:37, 68.54it/s]"
     ]
    },
    {
     "name": "stdout",
     "output_type": "stream",
     "text": [
      "tensor(0.0127, device='cuda:0', grad_fn=<MeanBackward0>)\n",
      "tensor(0.0123, device='cuda:0', grad_fn=<MeanBackward0>)\n",
      "tensor(0.0122, device='cuda:0', grad_fn=<MeanBackward0>)\n",
      "tensor(0.0123, device='cuda:0', grad_fn=<MeanBackward0>)\n",
      "tensor(0.0130, device='cuda:0', grad_fn=<MeanBackward0>)\n"
     ]
    },
    {
     "name": "stderr",
     "output_type": "stream",
     "text": [
      " 15%|███████████████████████▎                                                                                                                                  | 455/3007 [00:06<00:37, 68.53it/s]"
     ]
    },
    {
     "name": "stdout",
     "output_type": "stream",
     "text": [
      "tensor(0.0122, device='cuda:0', grad_fn=<MeanBackward0>)\n",
      "tensor(0.0122, device='cuda:0', grad_fn=<MeanBackward0>)\n",
      "tensor(0.0124, device='cuda:0', grad_fn=<MeanBackward0>)\n",
      "tensor(0.0122, device='cuda:0', grad_fn=<MeanBackward0>)\n",
      "tensor(0.0123, device='cuda:0', grad_fn=<MeanBackward0>)\n",
      "tensor(0.0126, device='cuda:0', grad_fn=<MeanBackward0>)\n",
      "tensor(0.0124, device='cuda:0', grad_fn=<MeanBackward0>)\n",
      "tensor(0.0129, device='cuda:0', grad_fn=<MeanBackward0>)\n",
      "tensor(0.0124, device='cuda:0', grad_fn=<MeanBackward0>)\n"
     ]
    },
    {
     "name": "stderr",
     "output_type": "stream",
     "text": [
      " 15%|███████████████████████▋                                                                                                                                  | 462/3007 [00:06<00:37, 68.53it/s]"
     ]
    },
    {
     "name": "stdout",
     "output_type": "stream",
     "text": [
      "tensor(0.0120, device='cuda:0', grad_fn=<MeanBackward0>)\n",
      "tensor(0.0126, device='cuda:0', grad_fn=<MeanBackward0>)\n",
      "tensor(0.0122, device='cuda:0', grad_fn=<MeanBackward0>)\n",
      "tensor(0.0124, device='cuda:0', grad_fn=<MeanBackward0>)\n",
      "tensor(0.0123, device='cuda:0', grad_fn=<MeanBackward0>)\n"
     ]
    },
    {
     "name": "stderr",
     "output_type": "stream",
     "text": [
      " 16%|████████████████████████▏                                                                                                                                 | 472/3007 [00:06<00:33, 75.10it/s]"
     ]
    },
    {
     "name": "stdout",
     "output_type": "stream",
     "text": [
      "tensor(0.0119, device='cuda:0', grad_fn=<MeanBackward0>)\n",
      "tensor(0.0124, device='cuda:0', grad_fn=<MeanBackward0>)\n",
      "tensor(0.0124, device='cuda:0', grad_fn=<MeanBackward0>)\n",
      "tensor(0.0126, device='cuda:0', grad_fn=<MeanBackward0>)\n",
      "tensor(0.0122, device='cuda:0', grad_fn=<MeanBackward0>)\n",
      "tensor(0.0123, device='cuda:0', grad_fn=<MeanBackward0>)\n",
      "tensor(0.0124, device='cuda:0', grad_fn=<MeanBackward0>)\n",
      "tensor(0.0129, device='cuda:0', grad_fn=<MeanBackward0>)\n",
      "tensor(0.0124, device='cuda:0', grad_fn=<MeanBackward0>)\n",
      "tensor(0.0124, device='cuda:0', grad_fn=<MeanBackward0>)\n",
      "tensor(0.0121, device='cuda:0', grad_fn=<MeanBackward0>)\n"
     ]
    },
    {
     "name": "stderr",
     "output_type": "stream",
     "text": [
      " 16%|████████████████████████▌                                                                                                                                 | 480/3007 [00:07<00:35, 71.22it/s]"
     ]
    },
    {
     "name": "stdout",
     "output_type": "stream",
     "text": [
      "tensor(0.0122, device='cuda:0', grad_fn=<MeanBackward0>)\n",
      "tensor(0.0124, device='cuda:0', grad_fn=<MeanBackward0>)\n",
      "tensor(0.0125, device='cuda:0', grad_fn=<MeanBackward0>)\n",
      "tensor(0.0124, device='cuda:0', grad_fn=<MeanBackward0>)\n",
      "tensor(0.0122, device='cuda:0', grad_fn=<MeanBackward0>)\n"
     ]
    },
    {
     "name": "stderr",
     "output_type": "stream",
     "text": [
      " 16%|████████████████████████▉                                                                                                                                 | 488/3007 [00:07<00:35, 70.37it/s]"
     ]
    },
    {
     "name": "stdout",
     "output_type": "stream",
     "text": [
      "tensor(0.0122, device='cuda:0', grad_fn=<MeanBackward0>)\n",
      "tensor(0.0126, device='cuda:0', grad_fn=<MeanBackward0>)\n",
      "tensor(0.0124, device='cuda:0', grad_fn=<MeanBackward0>)\n",
      "tensor(0.0121, device='cuda:0', grad_fn=<MeanBackward0>)\n",
      "tensor(0.0124, device='cuda:0', grad_fn=<MeanBackward0>)\n",
      "tensor(0.0124, device='cuda:0', grad_fn=<MeanBackward0>)\n",
      "tensor(0.0119, device='cuda:0', grad_fn=<MeanBackward0>)\n",
      "tensor(0.0122, device='cuda:0', grad_fn=<MeanBackward0>)\n",
      "tensor(0.0124, device='cuda:0', grad_fn=<MeanBackward0>)\n",
      "tensor(0.0124, device='cuda:0', grad_fn=<MeanBackward0>)\n",
      "tensor(0.0121, device='cuda:0', grad_fn=<MeanBackward0>)\n",
      "tensor(0.0125, device='cuda:0', grad_fn=<MeanBackward0>)\n",
      "tensor(0.0120, device='cuda:0', grad_fn=<MeanBackward0>)\n",
      "tensor(0.0122, device='cuda:0', grad_fn=<MeanBackward0>)\n"
     ]
    },
    {
     "name": "stderr",
     "output_type": "stream",
     "text": [
      " 17%|█████████████████████████▊                                                                                                                                | 503/3007 [00:07<00:36, 69.06it/s]"
     ]
    },
    {
     "name": "stdout",
     "output_type": "stream",
     "text": [
      "tensor(0.0121, device='cuda:0', grad_fn=<MeanBackward0>)\n",
      "tensor(0.0130, device='cuda:0', grad_fn=<MeanBackward0>)\n",
      "tensor(0.0119, device='cuda:0', grad_fn=<MeanBackward0>)\n",
      "tensor(0.0123, device='cuda:0', grad_fn=<MeanBackward0>)\n",
      "tensor(0.0120, device='cuda:0', grad_fn=<MeanBackward0>)\n",
      "tensor(0.0123, device='cuda:0', grad_fn=<MeanBackward0>)\n",
      "tensor(0.0124, device='cuda:0', grad_fn=<MeanBackward0>)\n",
      "tensor(0.0126, device='cuda:0', grad_fn=<MeanBackward0>)\n",
      "tensor(0.0124, device='cuda:0', grad_fn=<MeanBackward0>)\n",
      "tensor(0.0119, device='cuda:0', grad_fn=<MeanBackward0>)\n",
      "tensor(0.0125, device='cuda:0', grad_fn=<MeanBackward0>)\n",
      "tensor(0.0121, device='cuda:0', grad_fn=<MeanBackward0>)\n",
      "tensor(0.0121, device='cuda:0', grad_fn=<MeanBackward0>)\n",
      "tensor(0.0126, device='cuda:0', grad_fn=<MeanBackward0>)\n"
     ]
    },
    {
     "name": "stderr",
     "output_type": "stream",
     "text": [
      " 17%|██████████████████████████▍                                                                                                                               | 517/3007 [00:07<00:36, 68.30it/s]"
     ]
    },
    {
     "name": "stdout",
     "output_type": "stream",
     "text": [
      "tensor(0.0123, device='cuda:0', grad_fn=<MeanBackward0>)\n",
      "tensor(0.0122, device='cuda:0', grad_fn=<MeanBackward0>)\n",
      "tensor(0.0125, device='cuda:0', grad_fn=<MeanBackward0>)\n",
      "tensor(0.0123, device='cuda:0', grad_fn=<MeanBackward0>)\n",
      "tensor(0.0125, device='cuda:0', grad_fn=<MeanBackward0>)\n",
      "tensor(0.0120, device='cuda:0', grad_fn=<MeanBackward0>)\n",
      "tensor(0.0123, device='cuda:0', grad_fn=<MeanBackward0>)\n",
      "tensor(0.0124, device='cuda:0', grad_fn=<MeanBackward0>)\n",
      "tensor(0.0121, device='cuda:0', grad_fn=<MeanBackward0>)\n",
      "tensor(0.0123, device='cuda:0', grad_fn=<MeanBackward0>)\n",
      "tensor(0.0122, device='cuda:0', grad_fn=<MeanBackward0>)\n",
      "tensor(0.0127, device='cuda:0', grad_fn=<MeanBackward0>)\n",
      "tensor(0.0128, device='cuda:0', grad_fn=<MeanBackward0>)\n",
      "tensor(0.0124, device='cuda:0', grad_fn=<MeanBackward0>)\n"
     ]
    },
    {
     "name": "stderr",
     "output_type": "stream",
     "text": [
      " 18%|███████████████████████████▏                                                                                                                              | 531/3007 [00:07<00:36, 68.00it/s]"
     ]
    },
    {
     "name": "stdout",
     "output_type": "stream",
     "text": [
      "tensor(0.0127, device='cuda:0', grad_fn=<MeanBackward0>)\n",
      "tensor(0.0128, device='cuda:0', grad_fn=<MeanBackward0>)\n",
      "tensor(0.0123, device='cuda:0', grad_fn=<MeanBackward0>)\n",
      "tensor(0.0126, device='cuda:0', grad_fn=<MeanBackward0>)\n",
      "tensor(0.0125, device='cuda:0', grad_fn=<MeanBackward0>)\n",
      "tensor(0.0118, device='cuda:0', grad_fn=<MeanBackward0>)\n",
      "tensor(0.0123, device='cuda:0', grad_fn=<MeanBackward0>)\n",
      "tensor(0.0120, device='cuda:0', grad_fn=<MeanBackward0>)\n",
      "tensor(0.0128, device='cuda:0', grad_fn=<MeanBackward0>)\n",
      "tensor(0.0124, device='cuda:0', grad_fn=<MeanBackward0>)\n",
      "tensor(0.0121, device='cuda:0', grad_fn=<MeanBackward0>)\n",
      "tensor(0.0125, device='cuda:0', grad_fn=<MeanBackward0>)\n",
      "tensor(0.0123, device='cuda:0', grad_fn=<MeanBackward0>)\n",
      "tensor(0.0125, device='cuda:0', grad_fn=<MeanBackward0>)\n"
     ]
    },
    {
     "name": "stderr",
     "output_type": "stream",
     "text": [
      " 18%|████████████████████████████                                                                                                                              | 547/3007 [00:08<00:33, 73.70it/s]"
     ]
    },
    {
     "name": "stdout",
     "output_type": "stream",
     "text": [
      "tensor(0.0122, device='cuda:0', grad_fn=<MeanBackward0>)\n",
      "tensor(0.0122, device='cuda:0', grad_fn=<MeanBackward0>)\n",
      "tensor(0.0123, device='cuda:0', grad_fn=<MeanBackward0>)\n",
      "tensor(0.0120, device='cuda:0', grad_fn=<MeanBackward0>)\n",
      "tensor(0.0126, device='cuda:0', grad_fn=<MeanBackward0>)\n",
      "tensor(0.0123, device='cuda:0', grad_fn=<MeanBackward0>)\n",
      "tensor(0.0121, device='cuda:0', grad_fn=<MeanBackward0>)\n",
      "tensor(0.0124, device='cuda:0', grad_fn=<MeanBackward0>)\n",
      "tensor(0.0124, device='cuda:0', grad_fn=<MeanBackward0>)\n",
      "tensor(0.0126, device='cuda:0', grad_fn=<MeanBackward0>)\n",
      "tensor(0.0121, device='cuda:0', grad_fn=<MeanBackward0>)\n",
      "tensor(0.0122, device='cuda:0', grad_fn=<MeanBackward0>)\n",
      "tensor(0.0120, device='cuda:0', grad_fn=<MeanBackward0>)\n",
      "tensor(0.0125, device='cuda:0', grad_fn=<MeanBackward0>)\n",
      "tensor(0.0121, device='cuda:0', grad_fn=<MeanBackward0>)\n",
      "tensor(0.0124, device='cuda:0', grad_fn=<MeanBackward0>)\n",
      "tensor(0.0122, device='cuda:0', grad_fn=<MeanBackward0>)\n"
     ]
    },
    {
     "name": "stderr",
     "output_type": "stream",
     "text": [
      " 19%|████████████████████████████▊                                                                                                                             | 563/3007 [00:08<00:33, 72.05it/s]"
     ]
    },
    {
     "name": "stdout",
     "output_type": "stream",
     "text": [
      "tensor(0.0119, device='cuda:0', grad_fn=<MeanBackward0>)\n",
      "tensor(0.0125, device='cuda:0', grad_fn=<MeanBackward0>)\n",
      "tensor(0.0121, device='cuda:0', grad_fn=<MeanBackward0>)\n",
      "tensor(0.0126, device='cuda:0', grad_fn=<MeanBackward0>)\n",
      "tensor(0.0120, device='cuda:0', grad_fn=<MeanBackward0>)\n",
      "tensor(0.0121, device='cuda:0', grad_fn=<MeanBackward0>)\n",
      "tensor(0.0124, device='cuda:0', grad_fn=<MeanBackward0>)\n",
      "tensor(0.0122, device='cuda:0', grad_fn=<MeanBackward0>)\n",
      "tensor(0.0121, device='cuda:0', grad_fn=<MeanBackward0>)\n",
      "tensor(0.0121, device='cuda:0', grad_fn=<MeanBackward0>)\n",
      "tensor(0.0124, device='cuda:0', grad_fn=<MeanBackward0>)\n",
      "tensor(0.0122, device='cuda:0', grad_fn=<MeanBackward0>)\n",
      "tensor(0.0124, device='cuda:0', grad_fn=<MeanBackward0>)\n",
      "tensor(0.0124, device='cuda:0', grad_fn=<MeanBackward0>)\n"
     ]
    },
    {
     "name": "stderr",
     "output_type": "stream",
     "text": [
      " 19%|█████████████████████████████▏                                                                                                                            | 571/3007 [00:08<00:34, 70.79it/s]"
     ]
    },
    {
     "name": "stdout",
     "output_type": "stream",
     "text": [
      "tensor(0.0122, device='cuda:0', grad_fn=<MeanBackward0>)\n",
      "tensor(0.0122, device='cuda:0', grad_fn=<MeanBackward0>)\n",
      "tensor(0.0123, device='cuda:0', grad_fn=<MeanBackward0>)\n",
      "tensor(0.0124, device='cuda:0', grad_fn=<MeanBackward0>)\n",
      "tensor(0.0121, device='cuda:0', grad_fn=<MeanBackward0>)\n",
      "tensor(0.0121, device='cuda:0', grad_fn=<MeanBackward0>)\n",
      "tensor(0.0121, device='cuda:0', grad_fn=<MeanBackward0>)\n",
      "tensor(0.0121, device='cuda:0', grad_fn=<MeanBackward0>)\n",
      "tensor(0.0124, device='cuda:0', grad_fn=<MeanBackward0>)\n"
     ]
    },
    {
     "name": "stderr",
     "output_type": "stream",
     "text": [
      " 19%|█████████████████████████████▋                                                                                                                            | 579/3007 [00:08<00:34, 70.00it/s]"
     ]
    },
    {
     "name": "stdout",
     "output_type": "stream",
     "text": [
      "tensor(0.0124, device='cuda:0', grad_fn=<MeanBackward0>)\n",
      "tensor(0.0120, device='cuda:0', grad_fn=<MeanBackward0>)\n",
      "tensor(0.0122, device='cuda:0', grad_fn=<MeanBackward0>)\n",
      "tensor(0.0125, device='cuda:0', grad_fn=<MeanBackward0>)\n",
      "tensor(0.0125, device='cuda:0', grad_fn=<MeanBackward0>)\n"
     ]
    },
    {
     "name": "stderr",
     "output_type": "stream",
     "text": [
      " 20%|██████████████████████████████                                                                                                                            | 587/3007 [00:08<00:34, 69.40it/s]"
     ]
    },
    {
     "name": "stdout",
     "output_type": "stream",
     "text": [
      "tensor(0.0125, device='cuda:0', grad_fn=<MeanBackward0>)\n",
      "tensor(0.0120, device='cuda:0', grad_fn=<MeanBackward0>)\n",
      "tensor(0.0120, device='cuda:0', grad_fn=<MeanBackward0>)\n",
      "tensor(0.0126, device='cuda:0', grad_fn=<MeanBackward0>)\n",
      "tensor(0.0120, device='cuda:0', grad_fn=<MeanBackward0>)\n",
      "tensor(0.0124, device='cuda:0', grad_fn=<MeanBackward0>)\n",
      "tensor(0.0123, device='cuda:0', grad_fn=<MeanBackward0>)\n",
      "tensor(0.0117, device='cuda:0', grad_fn=<MeanBackward0>)\n",
      "tensor(0.0122, device='cuda:0', grad_fn=<MeanBackward0>)\n"
     ]
    },
    {
     "name": "stderr",
     "output_type": "stream",
     "text": [
      " 20%|██████████████████████████████▍                                                                                                                           | 594/3007 [00:08<00:34, 69.08it/s]"
     ]
    },
    {
     "name": "stdout",
     "output_type": "stream",
     "text": [
      "tensor(0.0120, device='cuda:0', grad_fn=<MeanBackward0>)\n",
      "tensor(0.0125, device='cuda:0', grad_fn=<MeanBackward0>)\n",
      "tensor(0.0125, device='cuda:0', grad_fn=<MeanBackward0>)\n",
      "tensor(0.0120, device='cuda:0', grad_fn=<MeanBackward0>)\n",
      "tensor(0.0121, device='cuda:0', grad_fn=<MeanBackward0>)\n"
     ]
    },
    {
     "name": "stderr",
     "output_type": "stream",
     "text": [
      " 20%|██████████████████████████████▊                                                                                                                           | 601/3007 [00:08<00:34, 68.93it/s]"
     ]
    },
    {
     "name": "stdout",
     "output_type": "stream",
     "text": [
      "tensor(0.0122, device='cuda:0', grad_fn=<MeanBackward0>)\n",
      "tensor(0.0119, device='cuda:0', grad_fn=<MeanBackward0>)\n",
      "tensor(0.0121, device='cuda:0', grad_fn=<MeanBackward0>)\n",
      "tensor(0.0122, device='cuda:0', grad_fn=<MeanBackward0>)\n",
      "tensor(0.0120, device='cuda:0', grad_fn=<MeanBackward0>)\n",
      "tensor(0.0121, device='cuda:0', grad_fn=<MeanBackward0>)\n",
      "tensor(0.0120, device='cuda:0', grad_fn=<MeanBackward0>)\n",
      "tensor(0.0122, device='cuda:0', grad_fn=<MeanBackward0>)\n",
      "tensor(0.0124, device='cuda:0', grad_fn=<MeanBackward0>)\n"
     ]
    },
    {
     "name": "stderr",
     "output_type": "stream",
     "text": [
      " 20%|███████████████████████████████▏                                                                                                                          | 608/3007 [00:08<00:34, 68.82it/s]"
     ]
    },
    {
     "name": "stdout",
     "output_type": "stream",
     "text": [
      "tensor(0.0121, device='cuda:0', grad_fn=<MeanBackward0>)\n",
      "tensor(0.0124, device='cuda:0', grad_fn=<MeanBackward0>)\n",
      "tensor(0.0126, device='cuda:0', grad_fn=<MeanBackward0>)\n",
      "tensor(0.0124, device='cuda:0', grad_fn=<MeanBackward0>)\n",
      "tensor(0.0121, device='cuda:0', grad_fn=<MeanBackward0>)\n"
     ]
    },
    {
     "name": "stderr",
     "output_type": "stream",
     "text": [
      " 20%|███████████████████████████████▍                                                                                                                          | 615/3007 [00:09<00:34, 68.58it/s]"
     ]
    },
    {
     "name": "stdout",
     "output_type": "stream",
     "text": [
      "tensor(0.0123, device='cuda:0', grad_fn=<MeanBackward0>)\n",
      "tensor(0.0126, device='cuda:0', grad_fn=<MeanBackward0>)\n",
      "tensor(0.0124, device='cuda:0', grad_fn=<MeanBackward0>)\n",
      "tensor(0.0123, device='cuda:0', grad_fn=<MeanBackward0>)\n",
      "tensor(0.0128, device='cuda:0', grad_fn=<MeanBackward0>)\n",
      "tensor(0.0121, device='cuda:0', grad_fn=<MeanBackward0>)\n",
      "tensor(0.0128, device='cuda:0', grad_fn=<MeanBackward0>)\n",
      "tensor(0.0122, device='cuda:0', grad_fn=<MeanBackward0>)\n",
      "tensor(0.0122, device='cuda:0', grad_fn=<MeanBackward0>)\n"
     ]
    },
    {
     "name": "stderr",
     "output_type": "stream",
     "text": [
      " 21%|███████████████████████████████▊                                                                                                                          | 622/3007 [00:09<00:34, 68.46it/s]"
     ]
    },
    {
     "name": "stdout",
     "output_type": "stream",
     "text": [
      "tensor(0.0122, device='cuda:0', grad_fn=<MeanBackward0>)\n",
      "tensor(0.0123, device='cuda:0', grad_fn=<MeanBackward0>)\n",
      "tensor(0.0120, device='cuda:0', grad_fn=<MeanBackward0>)\n",
      "tensor(0.0121, device='cuda:0', grad_fn=<MeanBackward0>)\n",
      "tensor(0.0121, device='cuda:0', grad_fn=<MeanBackward0>)\n",
      "tensor(0.0126, device='cuda:0', grad_fn=<MeanBackward0>)\n",
      "tensor(0.0125, device='cuda:0', grad_fn=<MeanBackward0>)\n",
      "tensor(0.0122, device='cuda:0', grad_fn=<MeanBackward0>)\n",
      "tensor(0.0122, device='cuda:0', grad_fn=<MeanBackward0>)\n"
     ]
    },
    {
     "name": "stderr",
     "output_type": "stream",
     "text": [
      " 21%|████████████████████████████████▌                                                                                                                         | 636/3007 [00:09<00:26, 87.93it/s]"
     ]
    },
    {
     "name": "stdout",
     "output_type": "stream",
     "text": [
      "tensor(0.0123, device='cuda:0', grad_fn=<MeanBackward0>)\n",
      "tensor(0.0125, device='cuda:0', grad_fn=<MeanBackward0>)\n",
      "tensor(0.0122, device='cuda:0', grad_fn=<MeanBackward0>)\n",
      "tensor(0.0119, device='cuda:0', grad_fn=<MeanBackward0>)\n",
      "tensor(0.0126, device='cuda:0', grad_fn=<MeanBackward0>)\n",
      "tensor(0.0123, device='cuda:0', grad_fn=<MeanBackward0>)\n",
      "tensor(0.0122, device='cuda:0', grad_fn=<MeanBackward0>)\n",
      "tensor(0.0125, device='cuda:0', grad_fn=<MeanBackward0>)\n",
      "tensor(0.0121, device='cuda:0', grad_fn=<MeanBackward0>)\n",
      "tensor(0.0123, device='cuda:0', grad_fn=<MeanBackward0>)\n",
      "tensor(0.0119, device='cuda:0', grad_fn=<MeanBackward0>)\n",
      "tensor(0.0123, device='cuda:0', grad_fn=<MeanBackward0>)\n",
      "tensor(0.0126, device='cuda:0', grad_fn=<MeanBackward0>)\n",
      "tensor(0.0122, device='cuda:0', grad_fn=<MeanBackward0>)\n",
      "tensor(0.0120, device='cuda:0', grad_fn=<MeanBackward0>)\n",
      "tensor(0.0121, device='cuda:0', grad_fn=<MeanBackward0>)\n",
      "tensor(0.0123, device='cuda:0', grad_fn=<MeanBackward0>)\n",
      "tensor(0.0124, device='cuda:0', grad_fn=<MeanBackward0>)\n",
      "tensor(0.0123, device='cuda:0', grad_fn=<MeanBackward0>)\n",
      "tensor(0.0122, device='cuda:0', grad_fn=<MeanBackward0>)\n",
      "tensor(0.0126, device='cuda:0', grad_fn=<MeanBackward0>)\n"
     ]
    },
    {
     "name": "stderr",
     "output_type": "stream",
     "text": [
      " 22%|█████████████████████████████████▏                                                                                                                       | 653/3007 [00:09<00:21, 108.15it/s]"
     ]
    },
    {
     "name": "stdout",
     "output_type": "stream",
     "text": [
      "tensor(0.0126, device='cuda:0', grad_fn=<MeanBackward0>)\n",
      "tensor(0.0123, device='cuda:0', grad_fn=<MeanBackward0>)\n",
      "tensor(0.0119, device='cuda:0', grad_fn=<MeanBackward0>)\n",
      "tensor(0.0122, device='cuda:0', grad_fn=<MeanBackward0>)\n",
      "tensor(0.0121, device='cuda:0', grad_fn=<MeanBackward0>)\n",
      "tensor(0.0122, device='cuda:0', grad_fn=<MeanBackward0>)\n",
      "tensor(0.0122, device='cuda:0', grad_fn=<MeanBackward0>)\n",
      "tensor(0.0123, device='cuda:0', grad_fn=<MeanBackward0>)\n",
      "tensor(0.0121, device='cuda:0', grad_fn=<MeanBackward0>)\n",
      "tensor(0.0124, device='cuda:0', grad_fn=<MeanBackward0>)\n",
      "tensor(0.0122, device='cuda:0', grad_fn=<MeanBackward0>)\n",
      "tensor(0.0121, device='cuda:0', grad_fn=<MeanBackward0>)\n",
      "tensor(0.0124, device='cuda:0', grad_fn=<MeanBackward0>)\n",
      "tensor(0.0120, device='cuda:0', grad_fn=<MeanBackward0>)\n"
     ]
    },
    {
     "name": "stderr",
     "output_type": "stream",
     "text": [
      " 22%|██████████████████████████████████                                                                                                                        | 664/3007 [00:09<00:25, 92.40it/s]"
     ]
    },
    {
     "name": "stdout",
     "output_type": "stream",
     "text": [
      "tensor(0.0125, device='cuda:0', grad_fn=<MeanBackward0>)\n",
      "tensor(0.0122, device='cuda:0', grad_fn=<MeanBackward0>)\n",
      "tensor(0.0120, device='cuda:0', grad_fn=<MeanBackward0>)\n",
      "tensor(0.0126, device='cuda:0', grad_fn=<MeanBackward0>)\n",
      "tensor(0.0123, device='cuda:0', grad_fn=<MeanBackward0>)\n",
      "tensor(0.0126, device='cuda:0', grad_fn=<MeanBackward0>)\n"
     ]
    },
    {
     "name": "stderr",
     "output_type": "stream",
     "text": [
      " 22%|██████████████████████████████████▌                                                                                                                       | 674/3007 [00:09<00:27, 84.07it/s]"
     ]
    },
    {
     "name": "stdout",
     "output_type": "stream",
     "text": [
      "tensor(0.0119, device='cuda:0', grad_fn=<MeanBackward0>)\n",
      "tensor(0.0122, device='cuda:0', grad_fn=<MeanBackward0>)\n",
      "tensor(0.0124, device='cuda:0', grad_fn=<MeanBackward0>)\n",
      "tensor(0.0121, device='cuda:0', grad_fn=<MeanBackward0>)\n",
      "tensor(0.0121, device='cuda:0', grad_fn=<MeanBackward0>)\n",
      "tensor(0.0120, device='cuda:0', grad_fn=<MeanBackward0>)\n",
      "tensor(0.0120, device='cuda:0', grad_fn=<MeanBackward0>)\n",
      "tensor(0.0124, device='cuda:0', grad_fn=<MeanBackward0>)\n"
     ]
    },
    {
     "name": "stderr",
     "output_type": "stream",
     "text": [
      " 23%|██████████████████████████████████▉                                                                                                                       | 683/3007 [00:09<00:29, 79.31it/s]"
     ]
    },
    {
     "name": "stdout",
     "output_type": "stream",
     "text": [
      "tensor(0.0123, device='cuda:0', grad_fn=<MeanBackward0>)\n",
      "tensor(0.0119, device='cuda:0', grad_fn=<MeanBackward0>)\n",
      "tensor(0.0124, device='cuda:0', grad_fn=<MeanBackward0>)\n",
      "tensor(0.0123, device='cuda:0', grad_fn=<MeanBackward0>)\n",
      "tensor(0.0120, device='cuda:0', grad_fn=<MeanBackward0>)\n",
      "tensor(0.0125, device='cuda:0', grad_fn=<MeanBackward0>)\n",
      "tensor(0.0125, device='cuda:0', grad_fn=<MeanBackward0>)\n",
      "tensor(0.0123, device='cuda:0', grad_fn=<MeanBackward0>)\n",
      "tensor(0.0126, device='cuda:0', grad_fn=<MeanBackward0>)\n",
      "tensor(0.0126, device='cuda:0', grad_fn=<MeanBackward0>)\n",
      "tensor(0.0123, device='cuda:0', grad_fn=<MeanBackward0>)\n",
      "tensor(0.0122, device='cuda:0', grad_fn=<MeanBackward0>)\n",
      "tensor(0.0120, device='cuda:0', grad_fn=<MeanBackward0>)\n",
      "tensor(0.0121, device='cuda:0', grad_fn=<MeanBackward0>)\n"
     ]
    },
    {
     "name": "stderr",
     "output_type": "stream",
     "text": [
      " 23%|███████████████████████████████████▍                                                                                                                      | 692/3007 [00:09<00:30, 75.67it/s]"
     ]
    },
    {
     "name": "stdout",
     "output_type": "stream",
     "text": [
      "tensor(0.0122, device='cuda:0', grad_fn=<MeanBackward0>)\n",
      "tensor(0.0122, device='cuda:0', grad_fn=<MeanBackward0>)\n",
      "tensor(0.0121, device='cuda:0', grad_fn=<MeanBackward0>)\n",
      "tensor(0.0120, device='cuda:0', grad_fn=<MeanBackward0>)\n",
      "tensor(0.0120, device='cuda:0', grad_fn=<MeanBackward0>)\n",
      "tensor(0.0125, device='cuda:0', grad_fn=<MeanBackward0>)\n"
     ]
    },
    {
     "name": "stderr",
     "output_type": "stream",
     "text": [
      " 23%|███████████████████████████████████▊                                                                                                                      | 700/3007 [00:10<00:31, 73.26it/s]"
     ]
    },
    {
     "name": "stdout",
     "output_type": "stream",
     "text": [
      "tensor(0.0123, device='cuda:0', grad_fn=<MeanBackward0>)\n",
      "tensor(0.0122, device='cuda:0', grad_fn=<MeanBackward0>)\n",
      "tensor(0.0126, device='cuda:0', grad_fn=<MeanBackward0>)\n",
      "tensor(0.0124, device='cuda:0', grad_fn=<MeanBackward0>)\n",
      "tensor(0.0124, device='cuda:0', grad_fn=<MeanBackward0>)\n",
      "tensor(0.0127, device='cuda:0', grad_fn=<MeanBackward0>)\n",
      "tensor(0.0118, device='cuda:0', grad_fn=<MeanBackward0>)\n",
      "tensor(0.0121, device='cuda:0', grad_fn=<MeanBackward0>)\n"
     ]
    },
    {
     "name": "stderr",
     "output_type": "stream",
     "text": [
      " 24%|████████████████████████████████████▎                                                                                                                     | 708/3007 [00:10<00:32, 71.59it/s]"
     ]
    },
    {
     "name": "stdout",
     "output_type": "stream",
     "text": [
      "tensor(0.0125, device='cuda:0', grad_fn=<MeanBackward0>)\n",
      "tensor(0.0123, device='cuda:0', grad_fn=<MeanBackward0>)\n",
      "tensor(0.0123, device='cuda:0', grad_fn=<MeanBackward0>)\n",
      "tensor(0.0122, device='cuda:0', grad_fn=<MeanBackward0>)\n",
      "tensor(0.0122, device='cuda:0', grad_fn=<MeanBackward0>)\n",
      "tensor(0.0126, device='cuda:0', grad_fn=<MeanBackward0>)\n"
     ]
    },
    {
     "name": "stderr",
     "output_type": "stream",
     "text": [
      " 24%|████████████████████████████████████▋                                                                                                                     | 716/3007 [00:10<00:32, 70.59it/s]"
     ]
    },
    {
     "name": "stdout",
     "output_type": "stream",
     "text": [
      "tensor(0.0126, device='cuda:0', grad_fn=<MeanBackward0>)\n",
      "tensor(0.0124, device='cuda:0', grad_fn=<MeanBackward0>)\n",
      "tensor(0.0122, device='cuda:0', grad_fn=<MeanBackward0>)\n",
      "tensor(0.0121, device='cuda:0', grad_fn=<MeanBackward0>)\n",
      "tensor(0.0124, device='cuda:0', grad_fn=<MeanBackward0>)\n",
      "tensor(0.0125, device='cuda:0', grad_fn=<MeanBackward0>)\n",
      "tensor(0.0119, device='cuda:0', grad_fn=<MeanBackward0>)\n",
      "tensor(0.0123, device='cuda:0', grad_fn=<MeanBackward0>)\n"
     ]
    },
    {
     "name": "stderr",
     "output_type": "stream",
     "text": [
      " 24%|█████████████████████████████████████▏                                                                                                                    | 725/3007 [00:10<00:30, 74.56it/s]"
     ]
    },
    {
     "name": "stdout",
     "output_type": "stream",
     "text": [
      "tensor(0.0124, device='cuda:0', grad_fn=<MeanBackward0>)\n",
      "tensor(0.0129, device='cuda:0', grad_fn=<MeanBackward0>)\n",
      "tensor(0.0120, device='cuda:0', grad_fn=<MeanBackward0>)\n",
      "tensor(0.0118, device='cuda:0', grad_fn=<MeanBackward0>)\n",
      "tensor(0.0122, device='cuda:0', grad_fn=<MeanBackward0>)\n",
      "tensor(0.0120, device='cuda:0', grad_fn=<MeanBackward0>)\n",
      "tensor(0.0123, device='cuda:0', grad_fn=<MeanBackward0>)\n"
     ]
    },
    {
     "name": "stderr",
     "output_type": "stream",
     "text": [
      " 24%|█████████████████████████████████████▌                                                                                                                    | 733/3007 [00:10<00:31, 71.22it/s]"
     ]
    },
    {
     "name": "stdout",
     "output_type": "stream",
     "text": [
      "tensor(0.0120, device='cuda:0', grad_fn=<MeanBackward0>)\n",
      "tensor(0.0120, device='cuda:0', grad_fn=<MeanBackward0>)\n",
      "tensor(0.0123, device='cuda:0', grad_fn=<MeanBackward0>)\n",
      "tensor(0.0125, device='cuda:0', grad_fn=<MeanBackward0>)\n",
      "tensor(0.0122, device='cuda:0', grad_fn=<MeanBackward0>)\n",
      "tensor(0.0119, device='cuda:0', grad_fn=<MeanBackward0>)\n",
      "tensor(0.0125, device='cuda:0', grad_fn=<MeanBackward0>)\n",
      "tensor(0.0123, device='cuda:0', grad_fn=<MeanBackward0>)\n",
      "tensor(0.0124, device='cuda:0', grad_fn=<MeanBackward0>)\n",
      "tensor(0.0120, device='cuda:0', grad_fn=<MeanBackward0>)\n",
      "tensor(0.0119, device='cuda:0', grad_fn=<MeanBackward0>)\n",
      "tensor(0.0123, device='cuda:0', grad_fn=<MeanBackward0>)\n",
      "tensor(0.0121, device='cuda:0', grad_fn=<MeanBackward0>)\n",
      "tensor(0.0120, device='cuda:0', grad_fn=<MeanBackward0>)\n"
     ]
    },
    {
     "name": "stderr",
     "output_type": "stream",
     "text": [
      " 25%|██████████████████████████████████████▎                                                                                                                   | 749/3007 [00:10<00:32, 69.38it/s]"
     ]
    },
    {
     "name": "stdout",
     "output_type": "stream",
     "text": [
      "tensor(0.0125, device='cuda:0', grad_fn=<MeanBackward0>)\n",
      "tensor(0.0123, device='cuda:0', grad_fn=<MeanBackward0>)\n",
      "tensor(0.0118, device='cuda:0', grad_fn=<MeanBackward0>)\n",
      "tensor(0.0121, device='cuda:0', grad_fn=<MeanBackward0>)\n",
      "tensor(0.0122, device='cuda:0', grad_fn=<MeanBackward0>)\n",
      "tensor(0.0125, device='cuda:0', grad_fn=<MeanBackward0>)\n",
      "tensor(0.0122, device='cuda:0', grad_fn=<MeanBackward0>)\n",
      "tensor(0.0122, device='cuda:0', grad_fn=<MeanBackward0>)\n",
      "tensor(0.0120, device='cuda:0', grad_fn=<MeanBackward0>)\n",
      "tensor(0.0121, device='cuda:0', grad_fn=<MeanBackward0>)\n",
      "tensor(0.0124, device='cuda:0', grad_fn=<MeanBackward0>)\n",
      "tensor(0.0124, device='cuda:0', grad_fn=<MeanBackward0>)\n",
      "tensor(0.0120, device='cuda:0', grad_fn=<MeanBackward0>)\n",
      "tensor(0.0122, device='cuda:0', grad_fn=<MeanBackward0>)\n"
     ]
    },
    {
     "name": "stderr",
     "output_type": "stream",
     "text": [
      " 25%|███████████████████████████████████████                                                                                                                   | 763/3007 [00:10<00:32, 68.71it/s]"
     ]
    },
    {
     "name": "stdout",
     "output_type": "stream",
     "text": [
      "tensor(0.0123, device='cuda:0', grad_fn=<MeanBackward0>)\n",
      "tensor(0.0119, device='cuda:0', grad_fn=<MeanBackward0>)\n",
      "tensor(0.0121, device='cuda:0', grad_fn=<MeanBackward0>)\n",
      "tensor(0.0122, device='cuda:0', grad_fn=<MeanBackward0>)\n",
      "tensor(0.0116, device='cuda:0', grad_fn=<MeanBackward0>)\n",
      "tensor(0.0120, device='cuda:0', grad_fn=<MeanBackward0>)\n",
      "tensor(0.0121, device='cuda:0', grad_fn=<MeanBackward0>)\n",
      "tensor(0.0125, device='cuda:0', grad_fn=<MeanBackward0>)\n",
      "tensor(0.0121, device='cuda:0', grad_fn=<MeanBackward0>)\n",
      "tensor(0.0121, device='cuda:0', grad_fn=<MeanBackward0>)\n",
      "tensor(0.0129, device='cuda:0', grad_fn=<MeanBackward0>)\n",
      "tensor(0.0120, device='cuda:0', grad_fn=<MeanBackward0>)\n",
      "tensor(0.0125, device='cuda:0', grad_fn=<MeanBackward0>)\n",
      "tensor(0.0121, device='cuda:0', grad_fn=<MeanBackward0>)\n"
     ]
    },
    {
     "name": "stderr",
     "output_type": "stream",
     "text": [
      " 26%|███████████████████████████████████████▊                                                                                                                  | 777/3007 [00:11<00:32, 68.43it/s]"
     ]
    },
    {
     "name": "stdout",
     "output_type": "stream",
     "text": [
      "tensor(0.0121, device='cuda:0', grad_fn=<MeanBackward0>)\n",
      "tensor(0.0117, device='cuda:0', grad_fn=<MeanBackward0>)\n",
      "tensor(0.0122, device='cuda:0', grad_fn=<MeanBackward0>)\n",
      "tensor(0.0123, device='cuda:0', grad_fn=<MeanBackward0>)\n",
      "tensor(0.0126, device='cuda:0', grad_fn=<MeanBackward0>)\n",
      "tensor(0.0123, device='cuda:0', grad_fn=<MeanBackward0>)\n",
      "tensor(0.0122, device='cuda:0', grad_fn=<MeanBackward0>)\n",
      "tensor(0.0122, device='cuda:0', grad_fn=<MeanBackward0>)\n",
      "tensor(0.0125, device='cuda:0', grad_fn=<MeanBackward0>)\n",
      "tensor(0.0122, device='cuda:0', grad_fn=<MeanBackward0>)\n",
      "tensor(0.0123, device='cuda:0', grad_fn=<MeanBackward0>)\n",
      "tensor(0.0121, device='cuda:0', grad_fn=<MeanBackward0>)\n",
      "tensor(0.0121, device='cuda:0', grad_fn=<MeanBackward0>)\n",
      "tensor(0.0123, device='cuda:0', grad_fn=<MeanBackward0>)\n"
     ]
    },
    {
     "name": "stderr",
     "output_type": "stream",
     "text": [
      " 26%|████████████████████████████████████████▌                                                                                                                 | 791/3007 [00:11<00:32, 68.25it/s]"
     ]
    },
    {
     "name": "stdout",
     "output_type": "stream",
     "text": [
      "tensor(0.0117, device='cuda:0', grad_fn=<MeanBackward0>)\n",
      "tensor(0.0117, device='cuda:0', grad_fn=<MeanBackward0>)\n",
      "tensor(0.0122, device='cuda:0', grad_fn=<MeanBackward0>)\n",
      "tensor(0.0122, device='cuda:0', grad_fn=<MeanBackward0>)\n",
      "tensor(0.0124, device='cuda:0', grad_fn=<MeanBackward0>)\n",
      "tensor(0.0124, device='cuda:0', grad_fn=<MeanBackward0>)\n",
      "tensor(0.0123, device='cuda:0', grad_fn=<MeanBackward0>)\n",
      "tensor(0.0121, device='cuda:0', grad_fn=<MeanBackward0>)\n",
      "tensor(0.0124, device='cuda:0', grad_fn=<MeanBackward0>)\n",
      "tensor(0.0122, device='cuda:0', grad_fn=<MeanBackward0>)\n",
      "tensor(0.0122, device='cuda:0', grad_fn=<MeanBackward0>)\n",
      "tensor(0.0119, device='cuda:0', grad_fn=<MeanBackward0>)\n",
      "tensor(0.0122, device='cuda:0', grad_fn=<MeanBackward0>)\n",
      "tensor(0.0122, device='cuda:0', grad_fn=<MeanBackward0>)\n"
     ]
    },
    {
     "name": "stderr",
     "output_type": "stream",
     "text": [
      " 27%|█████████████████████████████████████████▍                                                                                                                | 808/3007 [00:11<00:29, 74.57it/s]"
     ]
    },
    {
     "name": "stdout",
     "output_type": "stream",
     "text": [
      "tensor(0.0124, device='cuda:0', grad_fn=<MeanBackward0>)\n",
      "tensor(0.0119, device='cuda:0', grad_fn=<MeanBackward0>)\n",
      "tensor(0.0124, device='cuda:0', grad_fn=<MeanBackward0>)\n",
      "tensor(0.0121, device='cuda:0', grad_fn=<MeanBackward0>)\n",
      "tensor(0.0126, device='cuda:0', grad_fn=<MeanBackward0>)\n",
      "tensor(0.0122, device='cuda:0', grad_fn=<MeanBackward0>)\n",
      "tensor(0.0123, device='cuda:0', grad_fn=<MeanBackward0>)\n",
      "tensor(0.0121, device='cuda:0', grad_fn=<MeanBackward0>)\n",
      "tensor(0.0121, device='cuda:0', grad_fn=<MeanBackward0>)\n",
      "tensor(0.0118, device='cuda:0', grad_fn=<MeanBackward0>)\n",
      "tensor(0.0123, device='cuda:0', grad_fn=<MeanBackward0>)\n",
      "tensor(0.0120, device='cuda:0', grad_fn=<MeanBackward0>)\n",
      "tensor(0.0122, device='cuda:0', grad_fn=<MeanBackward0>)\n",
      "tensor(0.0124, device='cuda:0', grad_fn=<MeanBackward0>)\n",
      "tensor(0.0119, device='cuda:0', grad_fn=<MeanBackward0>)\n",
      "tensor(0.0121, device='cuda:0', grad_fn=<MeanBackward0>)\n",
      "tensor(0.0125, device='cuda:0', grad_fn=<MeanBackward0>)\n"
     ]
    },
    {
     "name": "stderr",
     "output_type": "stream",
     "text": [
      " 27%|█████████████████████████████████████████▊                                                                                                                | 816/3007 [00:11<00:30, 72.39it/s]"
     ]
    },
    {
     "name": "stdout",
     "output_type": "stream",
     "text": [
      "tensor(0.0120, device='cuda:0', grad_fn=<MeanBackward0>)\n",
      "tensor(0.0122, device='cuda:0', grad_fn=<MeanBackward0>)\n",
      "tensor(0.0126, device='cuda:0', grad_fn=<MeanBackward0>)\n",
      "tensor(0.0121, device='cuda:0', grad_fn=<MeanBackward0>)\n",
      "tensor(0.0124, device='cuda:0', grad_fn=<MeanBackward0>)\n",
      "tensor(0.0122, device='cuda:0', grad_fn=<MeanBackward0>)\n",
      "tensor(0.0121, device='cuda:0', grad_fn=<MeanBackward0>)\n",
      "tensor(0.0122, device='cuda:0', grad_fn=<MeanBackward0>)\n",
      "tensor(0.0124, device='cuda:0', grad_fn=<MeanBackward0>)\n"
     ]
    },
    {
     "name": "stderr",
     "output_type": "stream",
     "text": [
      " 27%|██████████████████████████████████████████▏                                                                                                               | 824/3007 [00:11<00:30, 71.01it/s]"
     ]
    },
    {
     "name": "stdout",
     "output_type": "stream",
     "text": [
      "tensor(0.0121, device='cuda:0', grad_fn=<MeanBackward0>)\n",
      "tensor(0.0125, device='cuda:0', grad_fn=<MeanBackward0>)\n",
      "tensor(0.0122, device='cuda:0', grad_fn=<MeanBackward0>)\n",
      "tensor(0.0122, device='cuda:0', grad_fn=<MeanBackward0>)\n",
      "tensor(0.0120, device='cuda:0', grad_fn=<MeanBackward0>)\n"
     ]
    },
    {
     "name": "stderr",
     "output_type": "stream",
     "text": [
      " 28%|██████████████████████████████████████████▌                                                                                                               | 832/3007 [00:11<00:31, 70.07it/s]"
     ]
    },
    {
     "name": "stdout",
     "output_type": "stream",
     "text": [
      "tensor(0.0121, device='cuda:0', grad_fn=<MeanBackward0>)\n",
      "tensor(0.0123, device='cuda:0', grad_fn=<MeanBackward0>)\n",
      "tensor(0.0127, device='cuda:0', grad_fn=<MeanBackward0>)\n",
      "tensor(0.0123, device='cuda:0', grad_fn=<MeanBackward0>)\n",
      "tensor(0.0124, device='cuda:0', grad_fn=<MeanBackward0>)\n",
      "tensor(0.0123, device='cuda:0', grad_fn=<MeanBackward0>)\n",
      "tensor(0.0122, device='cuda:0', grad_fn=<MeanBackward0>)\n",
      "tensor(0.0121, device='cuda:0', grad_fn=<MeanBackward0>)\n",
      "tensor(0.0122, device='cuda:0', grad_fn=<MeanBackward0>)\n"
     ]
    },
    {
     "name": "stderr",
     "output_type": "stream",
     "text": [
      " 28%|███████████████████████████████████████████                                                                                                               | 840/3007 [00:12<00:31, 69.43it/s]"
     ]
    },
    {
     "name": "stdout",
     "output_type": "stream",
     "text": [
      "tensor(0.0123, device='cuda:0', grad_fn=<MeanBackward0>)\n",
      "tensor(0.0124, device='cuda:0', grad_fn=<MeanBackward0>)\n",
      "tensor(0.0122, device='cuda:0', grad_fn=<MeanBackward0>)\n",
      "tensor(0.0122, device='cuda:0', grad_fn=<MeanBackward0>)\n",
      "tensor(0.0123, device='cuda:0', grad_fn=<MeanBackward0>)\n"
     ]
    },
    {
     "name": "stderr",
     "output_type": "stream",
     "text": [
      " 28%|███████████████████████████████████████████▍                                                                                                              | 847/3007 [00:12<00:31, 69.10it/s]"
     ]
    },
    {
     "name": "stdout",
     "output_type": "stream",
     "text": [
      "tensor(0.0125, device='cuda:0', grad_fn=<MeanBackward0>)\n",
      "tensor(0.0123, device='cuda:0', grad_fn=<MeanBackward0>)\n",
      "tensor(0.0122, device='cuda:0', grad_fn=<MeanBackward0>)\n",
      "tensor(0.0120, device='cuda:0', grad_fn=<MeanBackward0>)\n",
      "tensor(0.0125, device='cuda:0', grad_fn=<MeanBackward0>)\n",
      "tensor(0.0124, device='cuda:0', grad_fn=<MeanBackward0>)\n",
      "tensor(0.0121, device='cuda:0', grad_fn=<MeanBackward0>)\n",
      "tensor(0.0120, device='cuda:0', grad_fn=<MeanBackward0>)\n",
      "tensor(0.0124, device='cuda:0', grad_fn=<MeanBackward0>)\n"
     ]
    },
    {
     "name": "stderr",
     "output_type": "stream",
     "text": [
      " 28%|███████████████████████████████████████████▋                                                                                                              | 854/3007 [00:12<00:31, 68.79it/s]"
     ]
    },
    {
     "name": "stdout",
     "output_type": "stream",
     "text": [
      "tensor(0.0119, device='cuda:0', grad_fn=<MeanBackward0>)\n",
      "tensor(0.0122, device='cuda:0', grad_fn=<MeanBackward0>)\n",
      "tensor(0.0123, device='cuda:0', grad_fn=<MeanBackward0>)\n",
      "tensor(0.0123, device='cuda:0', grad_fn=<MeanBackward0>)\n",
      "tensor(0.0126, device='cuda:0', grad_fn=<MeanBackward0>)\n"
     ]
    },
    {
     "name": "stderr",
     "output_type": "stream",
     "text": [
      " 29%|████████████████████████████████████████████                                                                                                              | 861/3007 [00:12<00:31, 68.51it/s]"
     ]
    },
    {
     "name": "stdout",
     "output_type": "stream",
     "text": [
      "tensor(0.0123, device='cuda:0', grad_fn=<MeanBackward0>)\n",
      "tensor(0.0118, device='cuda:0', grad_fn=<MeanBackward0>)\n",
      "tensor(0.0126, device='cuda:0', grad_fn=<MeanBackward0>)\n",
      "tensor(0.0124, device='cuda:0', grad_fn=<MeanBackward0>)\n",
      "tensor(0.0119, device='cuda:0', grad_fn=<MeanBackward0>)\n",
      "tensor(0.0126, device='cuda:0', grad_fn=<MeanBackward0>)\n",
      "tensor(0.0124, device='cuda:0', grad_fn=<MeanBackward0>)\n",
      "tensor(0.0121, device='cuda:0', grad_fn=<MeanBackward0>)\n",
      "tensor(0.0122, device='cuda:0', grad_fn=<MeanBackward0>)\n"
     ]
    },
    {
     "name": "stderr",
     "output_type": "stream",
     "text": [
      " 29%|████████████████████████████████████████████▍                                                                                                             | 868/3007 [00:12<00:31, 68.27it/s]"
     ]
    },
    {
     "name": "stdout",
     "output_type": "stream",
     "text": [
      "tensor(0.0127, device='cuda:0', grad_fn=<MeanBackward0>)\n",
      "tensor(0.0123, device='cuda:0', grad_fn=<MeanBackward0>)\n",
      "tensor(0.0121, device='cuda:0', grad_fn=<MeanBackward0>)\n",
      "tensor(0.0126, device='cuda:0', grad_fn=<MeanBackward0>)\n",
      "tensor(0.0124, device='cuda:0', grad_fn=<MeanBackward0>)\n"
     ]
    },
    {
     "name": "stderr",
     "output_type": "stream",
     "text": [
      " 29%|████████████████████████████████████████████▊                                                                                                             | 875/3007 [00:12<00:31, 68.12it/s]"
     ]
    },
    {
     "name": "stdout",
     "output_type": "stream",
     "text": [
      "tensor(0.0122, device='cuda:0', grad_fn=<MeanBackward0>)\n",
      "tensor(0.0126, device='cuda:0', grad_fn=<MeanBackward0>)\n",
      "tensor(0.0121, device='cuda:0', grad_fn=<MeanBackward0>)\n",
      "tensor(0.0120, device='cuda:0', grad_fn=<MeanBackward0>)\n",
      "tensor(0.0117, device='cuda:0', grad_fn=<MeanBackward0>)\n",
      "tensor(0.0125, device='cuda:0', grad_fn=<MeanBackward0>)\n",
      "tensor(0.0124, device='cuda:0', grad_fn=<MeanBackward0>)\n",
      "tensor(0.0121, device='cuda:0', grad_fn=<MeanBackward0>)\n",
      "tensor(0.0125, device='cuda:0', grad_fn=<MeanBackward0>)\n",
      "tensor(0.0121, device='cuda:0', grad_fn=<MeanBackward0>)\n"
     ]
    },
    {
     "name": "stderr",
     "output_type": "stream",
     "text": [
      " 29%|█████████████████████████████████████████████▏                                                                                                            | 883/3007 [00:12<00:30, 70.01it/s]"
     ]
    },
    {
     "name": "stdout",
     "output_type": "stream",
     "text": [
      "tensor(0.0125, device='cuda:0', grad_fn=<MeanBackward0>)\n",
      "tensor(0.0118, device='cuda:0', grad_fn=<MeanBackward0>)\n",
      "tensor(0.0121, device='cuda:0', grad_fn=<MeanBackward0>)\n",
      "tensor(0.0119, device='cuda:0', grad_fn=<MeanBackward0>)\n",
      "tensor(0.0119, device='cuda:0', grad_fn=<MeanBackward0>)\n"
     ]
    },
    {
     "name": "stderr",
     "output_type": "stream",
     "text": [
      " 30%|█████████████████████████████████████████████▌                                                                                                            | 890/3007 [00:12<00:30, 69.35it/s]"
     ]
    },
    {
     "name": "stdout",
     "output_type": "stream",
     "text": [
      "tensor(0.0123, device='cuda:0', grad_fn=<MeanBackward0>)\n",
      "tensor(0.0125, device='cuda:0', grad_fn=<MeanBackward0>)\n",
      "tensor(0.0121, device='cuda:0', grad_fn=<MeanBackward0>)\n",
      "tensor(0.0122, device='cuda:0', grad_fn=<MeanBackward0>)\n",
      "tensor(0.0124, device='cuda:0', grad_fn=<MeanBackward0>)\n",
      "tensor(0.0122, device='cuda:0', grad_fn=<MeanBackward0>)\n",
      "tensor(0.0119, device='cuda:0', grad_fn=<MeanBackward0>)\n",
      "tensor(0.0124, device='cuda:0', grad_fn=<MeanBackward0>)\n",
      "tensor(0.0121, device='cuda:0', grad_fn=<MeanBackward0>)\n"
     ]
    },
    {
     "name": "stderr",
     "output_type": "stream",
     "text": [
      " 30%|█████████████████████████████████████████████▉                                                                                                            | 897/3007 [00:12<00:30, 68.92it/s]"
     ]
    },
    {
     "name": "stdout",
     "output_type": "stream",
     "text": [
      "tensor(0.0124, device='cuda:0', grad_fn=<MeanBackward0>)\n",
      "tensor(0.0121, device='cuda:0', grad_fn=<MeanBackward0>)\n",
      "tensor(0.0121, device='cuda:0', grad_fn=<MeanBackward0>)\n",
      "tensor(0.0121, device='cuda:0', grad_fn=<MeanBackward0>)\n",
      "tensor(0.0124, device='cuda:0', grad_fn=<MeanBackward0>)\n"
     ]
    },
    {
     "name": "stderr",
     "output_type": "stream",
     "text": [
      " 30%|██████████████████████████████████████████████▎                                                                                                           | 904/3007 [00:12<00:30, 68.73it/s]"
     ]
    },
    {
     "name": "stdout",
     "output_type": "stream",
     "text": [
      "tensor(0.0123, device='cuda:0', grad_fn=<MeanBackward0>)\n",
      "tensor(0.0123, device='cuda:0', grad_fn=<MeanBackward0>)\n",
      "tensor(0.0121, device='cuda:0', grad_fn=<MeanBackward0>)\n",
      "tensor(0.0123, device='cuda:0', grad_fn=<MeanBackward0>)\n",
      "tensor(0.0124, device='cuda:0', grad_fn=<MeanBackward0>)\n",
      "tensor(0.0117, device='cuda:0', grad_fn=<MeanBackward0>)\n",
      "tensor(0.0120, device='cuda:0', grad_fn=<MeanBackward0>)\n",
      "tensor(0.0119, device='cuda:0', grad_fn=<MeanBackward0>)\n",
      "tensor(0.0121, device='cuda:0', grad_fn=<MeanBackward0>)\n"
     ]
    },
    {
     "name": "stderr",
     "output_type": "stream",
     "text": [
      " 30%|██████████████████████████████████████████████▋                                                                                                           | 911/3007 [00:13<00:30, 68.39it/s]"
     ]
    },
    {
     "name": "stdout",
     "output_type": "stream",
     "text": [
      "tensor(0.0124, device='cuda:0', grad_fn=<MeanBackward0>)\n",
      "tensor(0.0120, device='cuda:0', grad_fn=<MeanBackward0>)\n",
      "tensor(0.0123, device='cuda:0', grad_fn=<MeanBackward0>)\n",
      "tensor(0.0123, device='cuda:0', grad_fn=<MeanBackward0>)\n",
      "tensor(0.0121, device='cuda:0', grad_fn=<MeanBackward0>)\n"
     ]
    },
    {
     "name": "stderr",
     "output_type": "stream",
     "text": [
      " 31%|███████████████████████████████████████████████                                                                                                           | 918/3007 [00:13<00:30, 68.36it/s]"
     ]
    },
    {
     "name": "stdout",
     "output_type": "stream",
     "text": [
      "tensor(0.0123, device='cuda:0', grad_fn=<MeanBackward0>)\n",
      "tensor(0.0120, device='cuda:0', grad_fn=<MeanBackward0>)\n",
      "tensor(0.0123, device='cuda:0', grad_fn=<MeanBackward0>)\n",
      "tensor(0.0126, device='cuda:0', grad_fn=<MeanBackward0>)\n",
      "tensor(0.0123, device='cuda:0', grad_fn=<MeanBackward0>)\n",
      "tensor(0.0121, device='cuda:0', grad_fn=<MeanBackward0>)\n",
      "tensor(0.0119, device='cuda:0', grad_fn=<MeanBackward0>)\n",
      "tensor(0.0127, device='cuda:0', grad_fn=<MeanBackward0>)\n",
      "tensor(0.0123, device='cuda:0', grad_fn=<MeanBackward0>)\n"
     ]
    },
    {
     "name": "stderr",
     "output_type": "stream",
     "text": [
      " 31%|███████████████████████████████████████████████▎                                                                                                          | 925/3007 [00:13<00:30, 67.96it/s]"
     ]
    },
    {
     "name": "stdout",
     "output_type": "stream",
     "text": [
      "tensor(0.0120, device='cuda:0', grad_fn=<MeanBackward0>)\n",
      "tensor(0.0126, device='cuda:0', grad_fn=<MeanBackward0>)\n",
      "tensor(0.0122, device='cuda:0', grad_fn=<MeanBackward0>)\n",
      "tensor(0.0123, device='cuda:0', grad_fn=<MeanBackward0>)\n",
      "tensor(0.0122, device='cuda:0', grad_fn=<MeanBackward0>)\n"
     ]
    },
    {
     "name": "stderr",
     "output_type": "stream",
     "text": [
      " 31%|███████████████████████████████████████████████▋                                                                                                          | 932/3007 [00:13<00:30, 67.64it/s]"
     ]
    },
    {
     "name": "stdout",
     "output_type": "stream",
     "text": [
      "tensor(0.0127, device='cuda:0', grad_fn=<MeanBackward0>)\n",
      "tensor(0.0125, device='cuda:0', grad_fn=<MeanBackward0>)\n",
      "tensor(0.0120, device='cuda:0', grad_fn=<MeanBackward0>)\n",
      "tensor(0.0123, device='cuda:0', grad_fn=<MeanBackward0>)\n",
      "tensor(0.0122, device='cuda:0', grad_fn=<MeanBackward0>)\n",
      "tensor(0.0122, device='cuda:0', grad_fn=<MeanBackward0>)\n",
      "tensor(0.0126, device='cuda:0', grad_fn=<MeanBackward0>)\n",
      "tensor(0.0122, device='cuda:0', grad_fn=<MeanBackward0>)\n",
      "tensor(0.0121, device='cuda:0', grad_fn=<MeanBackward0>)\n"
     ]
    },
    {
     "name": "stderr",
     "output_type": "stream",
     "text": [
      " 31%|████████████████████████████████████████████████                                                                                                          | 939/3007 [00:13<00:30, 67.82it/s]"
     ]
    },
    {
     "name": "stdout",
     "output_type": "stream",
     "text": [
      "tensor(0.0119, device='cuda:0', grad_fn=<MeanBackward0>)\n",
      "tensor(0.0122, device='cuda:0', grad_fn=<MeanBackward0>)\n",
      "tensor(0.0120, device='cuda:0', grad_fn=<MeanBackward0>)\n",
      "tensor(0.0121, device='cuda:0', grad_fn=<MeanBackward0>)\n",
      "tensor(0.0122, device='cuda:0', grad_fn=<MeanBackward0>)\n"
     ]
    },
    {
     "name": "stderr",
     "output_type": "stream",
     "text": [
      " 31%|████████████████████████████████████████████████▍                                                                                                         | 946/3007 [00:13<00:30, 67.60it/s]"
     ]
    },
    {
     "name": "stdout",
     "output_type": "stream",
     "text": [
      "tensor(0.0126, device='cuda:0', grad_fn=<MeanBackward0>)\n",
      "tensor(0.0124, device='cuda:0', grad_fn=<MeanBackward0>)\n",
      "tensor(0.0123, device='cuda:0', grad_fn=<MeanBackward0>)\n",
      "tensor(0.0122, device='cuda:0', grad_fn=<MeanBackward0>)\n",
      "tensor(0.0120, device='cuda:0', grad_fn=<MeanBackward0>)\n",
      "tensor(0.0125, device='cuda:0', grad_fn=<MeanBackward0>)\n",
      "tensor(0.0122, device='cuda:0', grad_fn=<MeanBackward0>)\n",
      "tensor(0.0122, device='cuda:0', grad_fn=<MeanBackward0>)\n",
      "tensor(0.0123, device='cuda:0', grad_fn=<MeanBackward0>)\n"
     ]
    },
    {
     "name": "stderr",
     "output_type": "stream",
     "text": [
      " 32%|████████████████████████████████████████████████▉                                                                                                         | 955/3007 [00:13<00:28, 72.90it/s]"
     ]
    },
    {
     "name": "stdout",
     "output_type": "stream",
     "text": [
      "tensor(0.0119, device='cuda:0', grad_fn=<MeanBackward0>)\n",
      "tensor(0.0120, device='cuda:0', grad_fn=<MeanBackward0>)\n",
      "tensor(0.0117, device='cuda:0', grad_fn=<MeanBackward0>)\n",
      "tensor(0.0118, device='cuda:0', grad_fn=<MeanBackward0>)\n",
      "tensor(0.0121, device='cuda:0', grad_fn=<MeanBackward0>)\n",
      "tensor(0.0122, device='cuda:0', grad_fn=<MeanBackward0>)\n",
      "tensor(0.0123, device='cuda:0', grad_fn=<MeanBackward0>)\n"
     ]
    },
    {
     "name": "stderr",
     "output_type": "stream",
     "text": [
      " 32%|█████████████████████████████████████████████████▎                                                                                                        | 964/3007 [00:13<00:26, 75.88it/s]"
     ]
    },
    {
     "name": "stdout",
     "output_type": "stream",
     "text": [
      "tensor(0.0120, device='cuda:0', grad_fn=<MeanBackward0>)\n",
      "tensor(0.0119, device='cuda:0', grad_fn=<MeanBackward0>)\n",
      "tensor(0.0120, device='cuda:0', grad_fn=<MeanBackward0>)\n",
      "tensor(0.0123, device='cuda:0', grad_fn=<MeanBackward0>)\n",
      "tensor(0.0124, device='cuda:0', grad_fn=<MeanBackward0>)\n",
      "tensor(0.0118, device='cuda:0', grad_fn=<MeanBackward0>)\n",
      "tensor(0.0120, device='cuda:0', grad_fn=<MeanBackward0>)\n",
      "tensor(0.0123, device='cuda:0', grad_fn=<MeanBackward0>)\n",
      "tensor(0.0124, device='cuda:0', grad_fn=<MeanBackward0>)\n",
      "tensor(0.0119, device='cuda:0', grad_fn=<MeanBackward0>)\n",
      "tensor(0.0121, device='cuda:0', grad_fn=<MeanBackward0>)\n",
      "tensor(0.0129, device='cuda:0', grad_fn=<MeanBackward0>)\n",
      "tensor(0.0121, device='cuda:0', grad_fn=<MeanBackward0>)\n",
      "tensor(0.0125, device='cuda:0', grad_fn=<MeanBackward0>)\n",
      "tensor(0.0124, device='cuda:0', grad_fn=<MeanBackward0>)\n"
     ]
    },
    {
     "name": "stderr",
     "output_type": "stream",
     "text": [
      " 33%|██████████████████████████████████████████████████▏                                                                                                       | 980/3007 [00:14<00:28, 71.62it/s]"
     ]
    },
    {
     "name": "stdout",
     "output_type": "stream",
     "text": [
      "tensor(0.0122, device='cuda:0', grad_fn=<MeanBackward0>)\n",
      "tensor(0.0123, device='cuda:0', grad_fn=<MeanBackward0>)\n",
      "tensor(0.0123, device='cuda:0', grad_fn=<MeanBackward0>)\n",
      "tensor(0.0123, device='cuda:0', grad_fn=<MeanBackward0>)\n",
      "tensor(0.0121, device='cuda:0', grad_fn=<MeanBackward0>)\n",
      "tensor(0.0120, device='cuda:0', grad_fn=<MeanBackward0>)\n",
      "tensor(0.0120, device='cuda:0', grad_fn=<MeanBackward0>)\n",
      "tensor(0.0126, device='cuda:0', grad_fn=<MeanBackward0>)\n",
      "tensor(0.0119, device='cuda:0', grad_fn=<MeanBackward0>)\n",
      "tensor(0.0121, device='cuda:0', grad_fn=<MeanBackward0>)\n",
      "tensor(0.0123, device='cuda:0', grad_fn=<MeanBackward0>)\n",
      "tensor(0.0123, device='cuda:0', grad_fn=<MeanBackward0>)\n",
      "tensor(0.0119, device='cuda:0', grad_fn=<MeanBackward0>)\n",
      "tensor(0.0120, device='cuda:0', grad_fn=<MeanBackward0>)\n"
     ]
    },
    {
     "name": "stderr",
     "output_type": "stream",
     "text": [
      " 33%|██████████████████████████████████████████████████▌                                                                                                       | 988/3007 [00:14<00:28, 70.22it/s]"
     ]
    },
    {
     "name": "stdout",
     "output_type": "stream",
     "text": [
      "tensor(0.0123, device='cuda:0', grad_fn=<MeanBackward0>)\n",
      "tensor(0.0120, device='cuda:0', grad_fn=<MeanBackward0>)\n",
      "tensor(0.0122, device='cuda:0', grad_fn=<MeanBackward0>)\n",
      "tensor(0.0122, device='cuda:0', grad_fn=<MeanBackward0>)\n",
      "tensor(0.0122, device='cuda:0', grad_fn=<MeanBackward0>)\n",
      "tensor(0.0122, device='cuda:0', grad_fn=<MeanBackward0>)\n",
      "tensor(0.0127, device='cuda:0', grad_fn=<MeanBackward0>)\n",
      "tensor(0.0123, device='cuda:0', grad_fn=<MeanBackward0>)\n",
      "tensor(0.0119, device='cuda:0', grad_fn=<MeanBackward0>)\n",
      "tensor(0.0124, device='cuda:0', grad_fn=<MeanBackward0>)\n"
     ]
    },
    {
     "name": "stderr",
     "output_type": "stream",
     "text": [
      " 33%|███████████████████████████████████████████████████                                                                                                       | 996/3007 [00:14<00:28, 69.35it/s]"
     ]
    },
    {
     "name": "stdout",
     "output_type": "stream",
     "text": [
      "tensor(0.0122, device='cuda:0', grad_fn=<MeanBackward0>)\n",
      "tensor(0.0124, device='cuda:0', grad_fn=<MeanBackward0>)\n",
      "tensor(0.0121, device='cuda:0', grad_fn=<MeanBackward0>)\n",
      "tensor(0.0121, device='cuda:0', grad_fn=<MeanBackward0>)\n"
     ]
    },
    {
     "name": "stderr",
     "output_type": "stream",
     "text": [
      " 33%|███████████████████████████████████████████████████                                                                                                      | 1003/3007 [00:14<00:29, 69.04it/s]"
     ]
    },
    {
     "name": "stdout",
     "output_type": "stream",
     "text": [
      "tensor(0.0118, device='cuda:0', grad_fn=<MeanBackward0>)\n",
      "tensor(0.0123, device='cuda:0', grad_fn=<MeanBackward0>)\n",
      "tensor(0.0121, device='cuda:0', grad_fn=<MeanBackward0>)\n",
      "tensor(0.0124, device='cuda:0', grad_fn=<MeanBackward0>)\n",
      "tensor(0.0119, device='cuda:0', grad_fn=<MeanBackward0>)\n",
      "tensor(0.0120, device='cuda:0', grad_fn=<MeanBackward0>)\n",
      "tensor(0.0121, device='cuda:0', grad_fn=<MeanBackward0>)\n",
      "tensor(0.0124, device='cuda:0', grad_fn=<MeanBackward0>)\n",
      "tensor(0.0123, device='cuda:0', grad_fn=<MeanBackward0>)\n",
      "tensor(0.0121, device='cuda:0', grad_fn=<MeanBackward0>)\n"
     ]
    },
    {
     "name": "stderr",
     "output_type": "stream",
     "text": [
      " 34%|███████████████████████████████████████████████████▍                                                                                                     | 1010/3007 [00:14<00:29, 68.59it/s]"
     ]
    },
    {
     "name": "stdout",
     "output_type": "stream",
     "text": [
      "tensor(0.0120, device='cuda:0', grad_fn=<MeanBackward0>)\n",
      "tensor(0.0119, device='cuda:0', grad_fn=<MeanBackward0>)\n",
      "tensor(0.0120, device='cuda:0', grad_fn=<MeanBackward0>)\n",
      "tensor(0.0117, device='cuda:0', grad_fn=<MeanBackward0>)\n"
     ]
    },
    {
     "name": "stderr",
     "output_type": "stream",
     "text": [
      " 34%|███████████████████████████████████████████████████▋                                                                                                     | 1017/3007 [00:14<00:29, 68.37it/s]"
     ]
    },
    {
     "name": "stdout",
     "output_type": "stream",
     "text": [
      "tensor(0.0124, device='cuda:0', grad_fn=<MeanBackward0>)\n",
      "tensor(0.0124, device='cuda:0', grad_fn=<MeanBackward0>)\n",
      "tensor(0.0124, device='cuda:0', grad_fn=<MeanBackward0>)\n",
      "tensor(0.0124, device='cuda:0', grad_fn=<MeanBackward0>)\n",
      "tensor(0.0123, device='cuda:0', grad_fn=<MeanBackward0>)\n",
      "tensor(0.0126, device='cuda:0', grad_fn=<MeanBackward0>)\n",
      "tensor(0.0126, device='cuda:0', grad_fn=<MeanBackward0>)\n",
      "tensor(0.0121, device='cuda:0', grad_fn=<MeanBackward0>)\n",
      "tensor(0.0120, device='cuda:0', grad_fn=<MeanBackward0>)\n",
      "tensor(0.0123, device='cuda:0', grad_fn=<MeanBackward0>)\n"
     ]
    },
    {
     "name": "stderr",
     "output_type": "stream",
     "text": [
      " 34%|████████████████████████████████████████████████████                                                                                                     | 1024/3007 [00:14<00:29, 68.20it/s]"
     ]
    },
    {
     "name": "stdout",
     "output_type": "stream",
     "text": [
      "tensor(0.0119, device='cuda:0', grad_fn=<MeanBackward0>)\n",
      "tensor(0.0118, device='cuda:0', grad_fn=<MeanBackward0>)\n",
      "tensor(0.0121, device='cuda:0', grad_fn=<MeanBackward0>)\n",
      "tensor(0.0119, device='cuda:0', grad_fn=<MeanBackward0>)\n"
     ]
    },
    {
     "name": "stderr",
     "output_type": "stream",
     "text": [
      " 34%|████████████████████████████████████████████████████▍                                                                                                    | 1031/3007 [00:14<00:29, 67.99it/s]"
     ]
    },
    {
     "name": "stdout",
     "output_type": "stream",
     "text": [
      "tensor(0.0121, device='cuda:0', grad_fn=<MeanBackward0>)\n",
      "tensor(0.0119, device='cuda:0', grad_fn=<MeanBackward0>)\n",
      "tensor(0.0122, device='cuda:0', grad_fn=<MeanBackward0>)\n",
      "tensor(0.0122, device='cuda:0', grad_fn=<MeanBackward0>)\n",
      "tensor(0.0124, device='cuda:0', grad_fn=<MeanBackward0>)\n",
      "tensor(0.0122, device='cuda:0', grad_fn=<MeanBackward0>)\n",
      "tensor(0.0122, device='cuda:0', grad_fn=<MeanBackward0>)\n",
      "tensor(0.0123, device='cuda:0', grad_fn=<MeanBackward0>)\n",
      "tensor(0.0121, device='cuda:0', grad_fn=<MeanBackward0>)\n",
      "tensor(0.0123, device='cuda:0', grad_fn=<MeanBackward0>)\n",
      "tensor(0.0124, device='cuda:0', grad_fn=<MeanBackward0>)\n",
      "tensor(0.0119, device='cuda:0', grad_fn=<MeanBackward0>)\n",
      "tensor(0.0121, device='cuda:0', grad_fn=<MeanBackward0>)\n",
      "tensor(0.0119, device='cuda:0', grad_fn=<MeanBackward0>)\n",
      "tensor(0.0122, device='cuda:0', grad_fn=<MeanBackward0>)\n",
      "tensor(0.0124, device='cuda:0', grad_fn=<MeanBackward0>)\n"
     ]
    },
    {
     "name": "stderr",
     "output_type": "stream",
     "text": [
      " 35%|█████████████████████████████████████████████████████                                                                                                    | 1044/3007 [00:14<00:23, 85.26it/s]"
     ]
    },
    {
     "name": "stdout",
     "output_type": "stream",
     "text": [
      "tensor(0.0123, device='cuda:0', grad_fn=<MeanBackward0>)\n",
      "tensor(0.0120, device='cuda:0', grad_fn=<MeanBackward0>)\n",
      "tensor(0.0123, device='cuda:0', grad_fn=<MeanBackward0>)\n",
      "tensor(0.0121, device='cuda:0', grad_fn=<MeanBackward0>)\n"
     ]
    },
    {
     "name": "stderr",
     "output_type": "stream",
     "text": [
      " 35%|█████████████████████████████████████████████████████▌                                                                                                   | 1053/3007 [00:15<00:24, 79.98it/s]"
     ]
    },
    {
     "name": "stdout",
     "output_type": "stream",
     "text": [
      "tensor(0.0125, device='cuda:0', grad_fn=<MeanBackward0>)\n",
      "tensor(0.0122, device='cuda:0', grad_fn=<MeanBackward0>)\n",
      "tensor(0.0116, device='cuda:0', grad_fn=<MeanBackward0>)\n",
      "tensor(0.0119, device='cuda:0', grad_fn=<MeanBackward0>)\n",
      "tensor(0.0123, device='cuda:0', grad_fn=<MeanBackward0>)\n",
      "tensor(0.0120, device='cuda:0', grad_fn=<MeanBackward0>)\n",
      "tensor(0.0124, device='cuda:0', grad_fn=<MeanBackward0>)\n",
      "tensor(0.0124, device='cuda:0', grad_fn=<MeanBackward0>)\n",
      "tensor(0.0124, device='cuda:0', grad_fn=<MeanBackward0>)\n",
      "tensor(0.0123, device='cuda:0', grad_fn=<MeanBackward0>)\n",
      "tensor(0.0121, device='cuda:0', grad_fn=<MeanBackward0>)\n",
      "tensor(0.0123, device='cuda:0', grad_fn=<MeanBackward0>)\n",
      "tensor(0.0126, device='cuda:0', grad_fn=<MeanBackward0>)\n",
      "tensor(0.0120, device='cuda:0', grad_fn=<MeanBackward0>)\n"
     ]
    },
    {
     "name": "stderr",
     "output_type": "stream",
     "text": [
      " 36%|██████████████████████████████████████████████████████▍                                                                                                  | 1070/3007 [00:15<00:26, 73.39it/s]"
     ]
    },
    {
     "name": "stdout",
     "output_type": "stream",
     "text": [
      "tensor(0.0120, device='cuda:0', grad_fn=<MeanBackward0>)\n",
      "tensor(0.0127, device='cuda:0', grad_fn=<MeanBackward0>)\n",
      "tensor(0.0122, device='cuda:0', grad_fn=<MeanBackward0>)\n",
      "tensor(0.0122, device='cuda:0', grad_fn=<MeanBackward0>)\n",
      "tensor(0.0118, device='cuda:0', grad_fn=<MeanBackward0>)\n",
      "tensor(0.0127, device='cuda:0', grad_fn=<MeanBackward0>)\n",
      "tensor(0.0120, device='cuda:0', grad_fn=<MeanBackward0>)\n",
      "tensor(0.0125, device='cuda:0', grad_fn=<MeanBackward0>)\n",
      "tensor(0.0122, device='cuda:0', grad_fn=<MeanBackward0>)\n",
      "tensor(0.0122, device='cuda:0', grad_fn=<MeanBackward0>)\n",
      "tensor(0.0121, device='cuda:0', grad_fn=<MeanBackward0>)\n",
      "tensor(0.0120, device='cuda:0', grad_fn=<MeanBackward0>)\n",
      "tensor(0.0119, device='cuda:0', grad_fn=<MeanBackward0>)\n",
      "tensor(0.0120, device='cuda:0', grad_fn=<MeanBackward0>)\n"
     ]
    },
    {
     "name": "stderr",
     "output_type": "stream",
     "text": [
      " 36%|███████████████████████████████████████████████████████▎                                                                                                 | 1086/3007 [00:15<00:27, 70.48it/s]"
     ]
    },
    {
     "name": "stdout",
     "output_type": "stream",
     "text": [
      "tensor(0.0124, device='cuda:0', grad_fn=<MeanBackward0>)\n",
      "tensor(0.0123, device='cuda:0', grad_fn=<MeanBackward0>)\n",
      "tensor(0.0123, device='cuda:0', grad_fn=<MeanBackward0>)\n",
      "tensor(0.0123, device='cuda:0', grad_fn=<MeanBackward0>)\n",
      "tensor(0.0121, device='cuda:0', grad_fn=<MeanBackward0>)\n",
      "tensor(0.0122, device='cuda:0', grad_fn=<MeanBackward0>)\n",
      "tensor(0.0119, device='cuda:0', grad_fn=<MeanBackward0>)\n",
      "tensor(0.0124, device='cuda:0', grad_fn=<MeanBackward0>)\n",
      "tensor(0.0120, device='cuda:0', grad_fn=<MeanBackward0>)\n",
      "tensor(0.0122, device='cuda:0', grad_fn=<MeanBackward0>)\n",
      "tensor(0.0120, device='cuda:0', grad_fn=<MeanBackward0>)\n",
      "tensor(0.0119, device='cuda:0', grad_fn=<MeanBackward0>)\n",
      "tensor(0.0121, device='cuda:0', grad_fn=<MeanBackward0>)\n",
      "tensor(0.0121, device='cuda:0', grad_fn=<MeanBackward0>)\n"
     ]
    },
    {
     "name": "stderr",
     "output_type": "stream",
     "text": [
      " 36%|███████████████████████████████████████████████████████▋                                                                                                 | 1094/3007 [00:15<00:27, 69.63it/s]"
     ]
    },
    {
     "name": "stdout",
     "output_type": "stream",
     "text": [
      "tensor(0.0125, device='cuda:0', grad_fn=<MeanBackward0>)\n",
      "tensor(0.0124, device='cuda:0', grad_fn=<MeanBackward0>)\n",
      "tensor(0.0120, device='cuda:0', grad_fn=<MeanBackward0>)\n",
      "tensor(0.0121, device='cuda:0', grad_fn=<MeanBackward0>)\n",
      "tensor(0.0126, device='cuda:0', grad_fn=<MeanBackward0>)\n",
      "tensor(0.0126, device='cuda:0', grad_fn=<MeanBackward0>)\n",
      "tensor(0.0124, device='cuda:0', grad_fn=<MeanBackward0>)\n",
      "tensor(0.0124, device='cuda:0', grad_fn=<MeanBackward0>)\n",
      "tensor(0.0126, device='cuda:0', grad_fn=<MeanBackward0>)\n",
      "tensor(0.0121, device='cuda:0', grad_fn=<MeanBackward0>)\n",
      "tensor(0.0119, device='cuda:0', grad_fn=<MeanBackward0>)\n"
     ]
    },
    {
     "name": "stderr",
     "output_type": "stream",
     "text": [
      " 37%|████████████████████████████████████████████████████████                                                                                                 | 1101/3007 [00:15<00:27, 69.24it/s]"
     ]
    },
    {
     "name": "stdout",
     "output_type": "stream",
     "text": [
      "tensor(0.0125, device='cuda:0', grad_fn=<MeanBackward0>)\n",
      "tensor(0.0123, device='cuda:0', grad_fn=<MeanBackward0>)\n",
      "tensor(0.0122, device='cuda:0', grad_fn=<MeanBackward0>)\n"
     ]
    },
    {
     "name": "stderr",
     "output_type": "stream",
     "text": [
      " 37%|████████████████████████████████████████████████████████▍                                                                                                | 1108/3007 [00:15<00:27, 68.77it/s]"
     ]
    },
    {
     "name": "stdout",
     "output_type": "stream",
     "text": [
      "tensor(0.0121, device='cuda:0', grad_fn=<MeanBackward0>)\n",
      "tensor(0.0123, device='cuda:0', grad_fn=<MeanBackward0>)\n",
      "tensor(0.0124, device='cuda:0', grad_fn=<MeanBackward0>)\n",
      "tensor(0.0122, device='cuda:0', grad_fn=<MeanBackward0>)\n",
      "tensor(0.0122, device='cuda:0', grad_fn=<MeanBackward0>)\n",
      "tensor(0.0121, device='cuda:0', grad_fn=<MeanBackward0>)\n",
      "tensor(0.0118, device='cuda:0', grad_fn=<MeanBackward0>)\n",
      "tensor(0.0119, device='cuda:0', grad_fn=<MeanBackward0>)\n",
      "tensor(0.0123, device='cuda:0', grad_fn=<MeanBackward0>)\n",
      "tensor(0.0123, device='cuda:0', grad_fn=<MeanBackward0>)\n",
      "tensor(0.0125, device='cuda:0', grad_fn=<MeanBackward0>)\n"
     ]
    },
    {
     "name": "stderr",
     "output_type": "stream",
     "text": [
      " 37%|████████████████████████████████████████████████████████▋                                                                                                | 1115/3007 [00:15<00:27, 68.36it/s]"
     ]
    },
    {
     "name": "stdout",
     "output_type": "stream",
     "text": [
      "tensor(0.0124, device='cuda:0', grad_fn=<MeanBackward0>)\n",
      "tensor(0.0120, device='cuda:0', grad_fn=<MeanBackward0>)\n",
      "tensor(0.0117, device='cuda:0', grad_fn=<MeanBackward0>)\n",
      "tensor(0.0125, device='cuda:0', grad_fn=<MeanBackward0>)\n",
      "tensor(0.0125, device='cuda:0', grad_fn=<MeanBackward0>)\n"
     ]
    },
    {
     "name": "stderr",
     "output_type": "stream",
     "text": [
      " 37%|█████████████████████████████████████████████████████████▏                                                                                               | 1124/3007 [00:16<00:25, 74.29it/s]"
     ]
    },
    {
     "name": "stdout",
     "output_type": "stream",
     "text": [
      "tensor(0.0123, device='cuda:0', grad_fn=<MeanBackward0>)\n",
      "tensor(0.0122, device='cuda:0', grad_fn=<MeanBackward0>)\n",
      "tensor(0.0124, device='cuda:0', grad_fn=<MeanBackward0>)\n",
      "tensor(0.0118, device='cuda:0', grad_fn=<MeanBackward0>)\n",
      "tensor(0.0121, device='cuda:0', grad_fn=<MeanBackward0>)\n",
      "tensor(0.0124, device='cuda:0', grad_fn=<MeanBackward0>)\n",
      "tensor(0.0124, device='cuda:0', grad_fn=<MeanBackward0>)\n",
      "tensor(0.0124, device='cuda:0', grad_fn=<MeanBackward0>)\n",
      "tensor(0.0122, device='cuda:0', grad_fn=<MeanBackward0>)\n",
      "tensor(0.0121, device='cuda:0', grad_fn=<MeanBackward0>)\n",
      "tensor(0.0120, device='cuda:0', grad_fn=<MeanBackward0>)\n"
     ]
    },
    {
     "name": "stderr",
     "output_type": "stream",
     "text": [
      " 38%|█████████████████████████████████████████████████████████▌                                                                                               | 1132/3007 [00:16<00:25, 72.37it/s]"
     ]
    },
    {
     "name": "stdout",
     "output_type": "stream",
     "text": [
      "tensor(0.0124, device='cuda:0', grad_fn=<MeanBackward0>)\n",
      "tensor(0.0120, device='cuda:0', grad_fn=<MeanBackward0>)\n",
      "tensor(0.0122, device='cuda:0', grad_fn=<MeanBackward0>)\n",
      "tensor(0.0118, device='cuda:0', grad_fn=<MeanBackward0>)\n"
     ]
    },
    {
     "name": "stderr",
     "output_type": "stream",
     "text": [
      " 38%|██████████████████████████████████████████████████████████                                                                                               | 1140/3007 [00:16<00:26, 70.70it/s]"
     ]
    },
    {
     "name": "stdout",
     "output_type": "stream",
     "text": [
      "tensor(0.0124, device='cuda:0', grad_fn=<MeanBackward0>)\n",
      "tensor(0.0122, device='cuda:0', grad_fn=<MeanBackward0>)\n",
      "tensor(0.0124, device='cuda:0', grad_fn=<MeanBackward0>)\n",
      "tensor(0.0116, device='cuda:0', grad_fn=<MeanBackward0>)\n",
      "tensor(0.0124, device='cuda:0', grad_fn=<MeanBackward0>)\n",
      "tensor(0.0122, device='cuda:0', grad_fn=<MeanBackward0>)\n",
      "tensor(0.0122, device='cuda:0', grad_fn=<MeanBackward0>)\n",
      "tensor(0.0121, device='cuda:0', grad_fn=<MeanBackward0>)\n",
      "tensor(0.0122, device='cuda:0', grad_fn=<MeanBackward0>)\n",
      "tensor(0.0121, device='cuda:0', grad_fn=<MeanBackward0>)\n"
     ]
    },
    {
     "name": "stderr",
     "output_type": "stream",
     "text": [
      " 38%|██████████████████████████████████████████████████████████▍                                                                                              | 1148/3007 [00:16<00:26, 69.61it/s]"
     ]
    },
    {
     "name": "stdout",
     "output_type": "stream",
     "text": [
      "tensor(0.0123, device='cuda:0', grad_fn=<MeanBackward0>)\n",
      "tensor(0.0118, device='cuda:0', grad_fn=<MeanBackward0>)\n",
      "tensor(0.0124, device='cuda:0', grad_fn=<MeanBackward0>)\n",
      "tensor(0.0123, device='cuda:0', grad_fn=<MeanBackward0>)\n"
     ]
    },
    {
     "name": "stderr",
     "output_type": "stream",
     "text": [
      " 38%|██████████████████████████████████████████████████████████▊                                                                                              | 1155/3007 [00:16<00:26, 69.01it/s]"
     ]
    },
    {
     "name": "stdout",
     "output_type": "stream",
     "text": [
      "tensor(0.0122, device='cuda:0', grad_fn=<MeanBackward0>)\n",
      "tensor(0.0123, device='cuda:0', grad_fn=<MeanBackward0>)\n",
      "tensor(0.0125, device='cuda:0', grad_fn=<MeanBackward0>)\n",
      "tensor(0.0121, device='cuda:0', grad_fn=<MeanBackward0>)\n",
      "tensor(0.0121, device='cuda:0', grad_fn=<MeanBackward0>)\n",
      "tensor(0.0125, device='cuda:0', grad_fn=<MeanBackward0>)\n",
      "tensor(0.0125, device='cuda:0', grad_fn=<MeanBackward0>)\n",
      "tensor(0.0124, device='cuda:0', grad_fn=<MeanBackward0>)\n",
      "tensor(0.0125, device='cuda:0', grad_fn=<MeanBackward0>)\n",
      "tensor(0.0123, device='cuda:0', grad_fn=<MeanBackward0>)\n"
     ]
    },
    {
     "name": "stderr",
     "output_type": "stream",
     "text": [
      " 39%|███████████████████████████████████████████████████████████                                                                                              | 1162/3007 [00:16<00:26, 68.72it/s]"
     ]
    },
    {
     "name": "stdout",
     "output_type": "stream",
     "text": [
      "tensor(0.0120, device='cuda:0', grad_fn=<MeanBackward0>)\n",
      "tensor(0.0124, device='cuda:0', grad_fn=<MeanBackward0>)\n",
      "tensor(0.0123, device='cuda:0', grad_fn=<MeanBackward0>)\n",
      "tensor(0.0122, device='cuda:0', grad_fn=<MeanBackward0>)\n"
     ]
    },
    {
     "name": "stderr",
     "output_type": "stream",
     "text": [
      " 39%|███████████████████████████████████████████████████████████▍                                                                                             | 1169/3007 [00:16<00:26, 68.19it/s]"
     ]
    },
    {
     "name": "stdout",
     "output_type": "stream",
     "text": [
      "tensor(0.0123, device='cuda:0', grad_fn=<MeanBackward0>)\n",
      "tensor(0.0121, device='cuda:0', grad_fn=<MeanBackward0>)\n",
      "tensor(0.0121, device='cuda:0', grad_fn=<MeanBackward0>)\n",
      "tensor(0.0116, device='cuda:0', grad_fn=<MeanBackward0>)\n",
      "tensor(0.0118, device='cuda:0', grad_fn=<MeanBackward0>)\n",
      "tensor(0.0118, device='cuda:0', grad_fn=<MeanBackward0>)\n",
      "tensor(0.0125, device='cuda:0', grad_fn=<MeanBackward0>)\n",
      "tensor(0.0123, device='cuda:0', grad_fn=<MeanBackward0>)\n",
      "tensor(0.0123, device='cuda:0', grad_fn=<MeanBackward0>)\n",
      "tensor(0.0123, device='cuda:0', grad_fn=<MeanBackward0>)\n"
     ]
    },
    {
     "name": "stderr",
     "output_type": "stream",
     "text": [
      " 39%|███████████████████████████████████████████████████████████▊                                                                                             | 1176/3007 [00:16<00:26, 68.21it/s]"
     ]
    },
    {
     "name": "stdout",
     "output_type": "stream",
     "text": [
      "tensor(0.0121, device='cuda:0', grad_fn=<MeanBackward0>)\n",
      "tensor(0.0120, device='cuda:0', grad_fn=<MeanBackward0>)\n",
      "tensor(0.0116, device='cuda:0', grad_fn=<MeanBackward0>)\n",
      "tensor(0.0124, device='cuda:0', grad_fn=<MeanBackward0>)\n"
     ]
    },
    {
     "name": "stderr",
     "output_type": "stream",
     "text": [
      " 39%|████████████████████████████████████████████████████████████▏                                                                                            | 1183/3007 [00:16<00:26, 67.83it/s]"
     ]
    },
    {
     "name": "stdout",
     "output_type": "stream",
     "text": [
      "tensor(0.0119, device='cuda:0', grad_fn=<MeanBackward0>)\n",
      "tensor(0.0125, device='cuda:0', grad_fn=<MeanBackward0>)\n",
      "tensor(0.0123, device='cuda:0', grad_fn=<MeanBackward0>)\n",
      "tensor(0.0124, device='cuda:0', grad_fn=<MeanBackward0>)\n",
      "tensor(0.0122, device='cuda:0', grad_fn=<MeanBackward0>)\n",
      "tensor(0.0125, device='cuda:0', grad_fn=<MeanBackward0>)\n",
      "tensor(0.0122, device='cuda:0', grad_fn=<MeanBackward0>)\n",
      "tensor(0.0123, device='cuda:0', grad_fn=<MeanBackward0>)\n",
      "tensor(0.0125, device='cuda:0', grad_fn=<MeanBackward0>)\n",
      "tensor(0.0122, device='cuda:0', grad_fn=<MeanBackward0>)\n"
     ]
    },
    {
     "name": "stderr",
     "output_type": "stream",
     "text": [
      " 40%|████████████████████████████████████████████████████████████▌                                                                                            | 1190/3007 [00:17<00:26, 67.59it/s]"
     ]
    },
    {
     "name": "stdout",
     "output_type": "stream",
     "text": [
      "tensor(0.0122, device='cuda:0', grad_fn=<MeanBackward0>)\n",
      "tensor(0.0119, device='cuda:0', grad_fn=<MeanBackward0>)\n",
      "tensor(0.0123, device='cuda:0', grad_fn=<MeanBackward0>)\n",
      "tensor(0.0121, device='cuda:0', grad_fn=<MeanBackward0>)\n"
     ]
    },
    {
     "name": "stderr",
     "output_type": "stream",
     "text": [
      " 40%|█████████████████████████████████████████████████████████████                                                                                            | 1201/3007 [00:17<00:22, 78.98it/s]"
     ]
    },
    {
     "name": "stdout",
     "output_type": "stream",
     "text": [
      "tensor(0.0123, device='cuda:0', grad_fn=<MeanBackward0>)\n",
      "tensor(0.0121, device='cuda:0', grad_fn=<MeanBackward0>)\n",
      "tensor(0.0118, device='cuda:0', grad_fn=<MeanBackward0>)\n",
      "tensor(0.0125, device='cuda:0', grad_fn=<MeanBackward0>)\n",
      "tensor(0.0122, device='cuda:0', grad_fn=<MeanBackward0>)\n",
      "tensor(0.0122, device='cuda:0', grad_fn=<MeanBackward0>)\n",
      "tensor(0.0120, device='cuda:0', grad_fn=<MeanBackward0>)\n",
      "tensor(0.0121, device='cuda:0', grad_fn=<MeanBackward0>)\n",
      "tensor(0.0121, device='cuda:0', grad_fn=<MeanBackward0>)\n",
      "tensor(0.0122, device='cuda:0', grad_fn=<MeanBackward0>)\n",
      "tensor(0.0122, device='cuda:0', grad_fn=<MeanBackward0>)\n",
      "tensor(0.0122, device='cuda:0', grad_fn=<MeanBackward0>)\n",
      "tensor(0.0122, device='cuda:0', grad_fn=<MeanBackward0>)\n",
      "tensor(0.0123, device='cuda:0', grad_fn=<MeanBackward0>)\n",
      "tensor(0.0119, device='cuda:0', grad_fn=<MeanBackward0>)\n",
      "tensor(0.0120, device='cuda:0', grad_fn=<MeanBackward0>)\n",
      "tensor(0.0121, device='cuda:0', grad_fn=<MeanBackward0>)\n",
      "tensor(0.0118, device='cuda:0', grad_fn=<MeanBackward0>)\n"
     ]
    },
    {
     "name": "stderr",
     "output_type": "stream",
     "text": [
      " 40%|█████████████████████████████████████████████████████████████▉                                                                                           | 1217/3007 [00:17<00:24, 72.73it/s]"
     ]
    },
    {
     "name": "stdout",
     "output_type": "stream",
     "text": [
      "tensor(0.0121, device='cuda:0', grad_fn=<MeanBackward0>)\n",
      "tensor(0.0122, device='cuda:0', grad_fn=<MeanBackward0>)\n",
      "tensor(0.0120, device='cuda:0', grad_fn=<MeanBackward0>)\n",
      "tensor(0.0120, device='cuda:0', grad_fn=<MeanBackward0>)\n",
      "tensor(0.0118, device='cuda:0', grad_fn=<MeanBackward0>)\n",
      "tensor(0.0123, device='cuda:0', grad_fn=<MeanBackward0>)\n",
      "tensor(0.0124, device='cuda:0', grad_fn=<MeanBackward0>)\n",
      "tensor(0.0122, device='cuda:0', grad_fn=<MeanBackward0>)\n",
      "tensor(0.0122, device='cuda:0', grad_fn=<MeanBackward0>)\n",
      "tensor(0.0130, device='cuda:0', grad_fn=<MeanBackward0>)\n",
      "tensor(0.0122, device='cuda:0', grad_fn=<MeanBackward0>)\n",
      "tensor(0.0120, device='cuda:0', grad_fn=<MeanBackward0>)\n",
      "tensor(0.0123, device='cuda:0', grad_fn=<MeanBackward0>)\n",
      "tensor(0.0123, device='cuda:0', grad_fn=<MeanBackward0>)\n"
     ]
    },
    {
     "name": "stderr",
     "output_type": "stream",
     "text": [
      " 41%|██████████████████████████████████████████████████████████████▎                                                                                          | 1225/3007 [00:17<00:25, 71.16it/s]"
     ]
    },
    {
     "name": "stdout",
     "output_type": "stream",
     "text": [
      "tensor(0.0121, device='cuda:0', grad_fn=<MeanBackward0>)\n",
      "tensor(0.0122, device='cuda:0', grad_fn=<MeanBackward0>)\n",
      "tensor(0.0121, device='cuda:0', grad_fn=<MeanBackward0>)\n",
      "tensor(0.0126, device='cuda:0', grad_fn=<MeanBackward0>)\n",
      "tensor(0.0125, device='cuda:0', grad_fn=<MeanBackward0>)\n",
      "tensor(0.0122, device='cuda:0', grad_fn=<MeanBackward0>)\n",
      "tensor(0.0122, device='cuda:0', grad_fn=<MeanBackward0>)\n",
      "tensor(0.0123, device='cuda:0', grad_fn=<MeanBackward0>)\n",
      "tensor(0.0121, device='cuda:0', grad_fn=<MeanBackward0>)\n",
      "tensor(0.0122, device='cuda:0', grad_fn=<MeanBackward0>)\n"
     ]
    },
    {
     "name": "stderr",
     "output_type": "stream",
     "text": [
      " 41%|██████████████████████████████████████████████████████████████▋                                                                                          | 1233/3007 [00:17<00:25, 70.10it/s]"
     ]
    },
    {
     "name": "stdout",
     "output_type": "stream",
     "text": [
      "tensor(0.0124, device='cuda:0', grad_fn=<MeanBackward0>)\n",
      "tensor(0.0120, device='cuda:0', grad_fn=<MeanBackward0>)\n",
      "tensor(0.0123, device='cuda:0', grad_fn=<MeanBackward0>)\n",
      "tensor(0.0123, device='cuda:0', grad_fn=<MeanBackward0>)\n"
     ]
    },
    {
     "name": "stderr",
     "output_type": "stream",
     "text": [
      " 41%|███████████████████████████████████████████████████████████████▏                                                                                         | 1241/3007 [00:17<00:25, 69.53it/s]"
     ]
    },
    {
     "name": "stdout",
     "output_type": "stream",
     "text": [
      "tensor(0.0123, device='cuda:0', grad_fn=<MeanBackward0>)\n",
      "tensor(0.0119, device='cuda:0', grad_fn=<MeanBackward0>)\n",
      "tensor(0.0125, device='cuda:0', grad_fn=<MeanBackward0>)\n",
      "tensor(0.0116, device='cuda:0', grad_fn=<MeanBackward0>)\n",
      "tensor(0.0119, device='cuda:0', grad_fn=<MeanBackward0>)\n",
      "tensor(0.0119, device='cuda:0', grad_fn=<MeanBackward0>)\n",
      "tensor(0.0122, device='cuda:0', grad_fn=<MeanBackward0>)\n",
      "tensor(0.0121, device='cuda:0', grad_fn=<MeanBackward0>)\n",
      "tensor(0.0118, device='cuda:0', grad_fn=<MeanBackward0>)\n",
      "tensor(0.0124, device='cuda:0', grad_fn=<MeanBackward0>)\n"
     ]
    },
    {
     "name": "stderr",
     "output_type": "stream",
     "text": [
      " 42%|███████████████████████████████████████████████████████████████▍                                                                                         | 1248/3007 [00:17<00:25, 68.94it/s]"
     ]
    },
    {
     "name": "stdout",
     "output_type": "stream",
     "text": [
      "tensor(0.0121, device='cuda:0', grad_fn=<MeanBackward0>)\n",
      "tensor(0.0124, device='cuda:0', grad_fn=<MeanBackward0>)\n",
      "tensor(0.0122, device='cuda:0', grad_fn=<MeanBackward0>)\n",
      "tensor(0.0127, device='cuda:0', grad_fn=<MeanBackward0>)\n"
     ]
    },
    {
     "name": "stderr",
     "output_type": "stream",
     "text": [
      " 42%|███████████████████████████████████████████████████████████████▊                                                                                         | 1255/3007 [00:17<00:25, 68.54it/s]"
     ]
    },
    {
     "name": "stdout",
     "output_type": "stream",
     "text": [
      "tensor(0.0119, device='cuda:0', grad_fn=<MeanBackward0>)\n",
      "tensor(0.0126, device='cuda:0', grad_fn=<MeanBackward0>)\n",
      "tensor(0.0122, device='cuda:0', grad_fn=<MeanBackward0>)\n",
      "tensor(0.0124, device='cuda:0', grad_fn=<MeanBackward0>)\n",
      "tensor(0.0122, device='cuda:0', grad_fn=<MeanBackward0>)\n",
      "tensor(0.0121, device='cuda:0', grad_fn=<MeanBackward0>)\n",
      "tensor(0.0122, device='cuda:0', grad_fn=<MeanBackward0>)\n",
      "tensor(0.0122, device='cuda:0', grad_fn=<MeanBackward0>)\n",
      "tensor(0.0120, device='cuda:0', grad_fn=<MeanBackward0>)\n",
      "tensor(0.0123, device='cuda:0', grad_fn=<MeanBackward0>)\n"
     ]
    },
    {
     "name": "stderr",
     "output_type": "stream",
     "text": [
      " 42%|████████████████████████████████████████████████████████████████▏                                                                                        | 1262/3007 [00:18<00:25, 68.46it/s]"
     ]
    },
    {
     "name": "stdout",
     "output_type": "stream",
     "text": [
      "tensor(0.0124, device='cuda:0', grad_fn=<MeanBackward0>)\n",
      "tensor(0.0121, device='cuda:0', grad_fn=<MeanBackward0>)\n",
      "tensor(0.0124, device='cuda:0', grad_fn=<MeanBackward0>)\n",
      "tensor(0.0123, device='cuda:0', grad_fn=<MeanBackward0>)\n"
     ]
    },
    {
     "name": "stderr",
     "output_type": "stream",
     "text": [
      " 42%|████████████████████████████████████████████████████████████████▌                                                                                        | 1269/3007 [00:18<00:25, 68.20it/s]"
     ]
    },
    {
     "name": "stdout",
     "output_type": "stream",
     "text": [
      "tensor(0.0121, device='cuda:0', grad_fn=<MeanBackward0>)\n",
      "tensor(0.0121, device='cuda:0', grad_fn=<MeanBackward0>)\n",
      "tensor(0.0122, device='cuda:0', grad_fn=<MeanBackward0>)\n",
      "tensor(0.0121, device='cuda:0', grad_fn=<MeanBackward0>)\n",
      "tensor(0.0124, device='cuda:0', grad_fn=<MeanBackward0>)\n",
      "tensor(0.0120, device='cuda:0', grad_fn=<MeanBackward0>)\n",
      "tensor(0.0124, device='cuda:0', grad_fn=<MeanBackward0>)\n",
      "tensor(0.0122, device='cuda:0', grad_fn=<MeanBackward0>)\n",
      "tensor(0.0123, device='cuda:0', grad_fn=<MeanBackward0>)\n",
      "tensor(0.0119, device='cuda:0', grad_fn=<MeanBackward0>)\n",
      "tensor(0.0122, device='cuda:0', grad_fn=<MeanBackward0>)\n"
     ]
    },
    {
     "name": "stderr",
     "output_type": "stream",
     "text": [
      " 43%|█████████████████████████████████████████████████████████████████                                                                                        | 1278/3007 [00:18<00:23, 73.95it/s]"
     ]
    },
    {
     "name": "stdout",
     "output_type": "stream",
     "text": [
      "tensor(0.0124, device='cuda:0', grad_fn=<MeanBackward0>)\n",
      "tensor(0.0124, device='cuda:0', grad_fn=<MeanBackward0>)\n",
      "tensor(0.0124, device='cuda:0', grad_fn=<MeanBackward0>)\n",
      "tensor(0.0124, device='cuda:0', grad_fn=<MeanBackward0>)\n",
      "tensor(0.0123, device='cuda:0', grad_fn=<MeanBackward0>)\n"
     ]
    },
    {
     "name": "stderr",
     "output_type": "stream",
     "text": [
      " 43%|█████████████████████████████████████████████████████████████████▍                                                                                       | 1286/3007 [00:18<00:23, 73.14it/s]"
     ]
    },
    {
     "name": "stdout",
     "output_type": "stream",
     "text": [
      "tensor(0.0121, device='cuda:0', grad_fn=<MeanBackward0>)\n",
      "tensor(0.0123, device='cuda:0', grad_fn=<MeanBackward0>)\n",
      "tensor(0.0120, device='cuda:0', grad_fn=<MeanBackward0>)\n",
      "tensor(0.0123, device='cuda:0', grad_fn=<MeanBackward0>)\n",
      "tensor(0.0122, device='cuda:0', grad_fn=<MeanBackward0>)\n",
      "tensor(0.0125, device='cuda:0', grad_fn=<MeanBackward0>)\n",
      "tensor(0.0124, device='cuda:0', grad_fn=<MeanBackward0>)\n",
      "tensor(0.0120, device='cuda:0', grad_fn=<MeanBackward0>)\n",
      "tensor(0.0123, device='cuda:0', grad_fn=<MeanBackward0>)\n",
      "tensor(0.0120, device='cuda:0', grad_fn=<MeanBackward0>)\n"
     ]
    },
    {
     "name": "stderr",
     "output_type": "stream",
     "text": [
      " 43%|█████████████████████████████████████████████████████████████████▊                                                                                       | 1294/3007 [00:18<00:24, 71.33it/s]"
     ]
    },
    {
     "name": "stdout",
     "output_type": "stream",
     "text": [
      "tensor(0.0121, device='cuda:0', grad_fn=<MeanBackward0>)\n",
      "tensor(0.0124, device='cuda:0', grad_fn=<MeanBackward0>)\n",
      "tensor(0.0120, device='cuda:0', grad_fn=<MeanBackward0>)\n",
      "tensor(0.0121, device='cuda:0', grad_fn=<MeanBackward0>)\n"
     ]
    },
    {
     "name": "stderr",
     "output_type": "stream",
     "text": [
      " 43%|██████████████████████████████████████████████████████████████████▏                                                                                      | 1302/3007 [00:18<00:24, 70.13it/s]"
     ]
    },
    {
     "name": "stdout",
     "output_type": "stream",
     "text": [
      "tensor(0.0122, device='cuda:0', grad_fn=<MeanBackward0>)\n",
      "tensor(0.0121, device='cuda:0', grad_fn=<MeanBackward0>)\n",
      "tensor(0.0118, device='cuda:0', grad_fn=<MeanBackward0>)\n",
      "tensor(0.0119, device='cuda:0', grad_fn=<MeanBackward0>)\n",
      "tensor(0.0127, device='cuda:0', grad_fn=<MeanBackward0>)\n",
      "tensor(0.0120, device='cuda:0', grad_fn=<MeanBackward0>)\n",
      "tensor(0.0125, device='cuda:0', grad_fn=<MeanBackward0>)\n",
      "tensor(0.0119, device='cuda:0', grad_fn=<MeanBackward0>)\n",
      "tensor(0.0122, device='cuda:0', grad_fn=<MeanBackward0>)\n",
      "tensor(0.0122, device='cuda:0', grad_fn=<MeanBackward0>)\n",
      "tensor(0.0120, device='cuda:0', grad_fn=<MeanBackward0>)\n",
      "tensor(0.0119, device='cuda:0', grad_fn=<MeanBackward0>)\n",
      "tensor(0.0123, device='cuda:0', grad_fn=<MeanBackward0>)\n",
      "tensor(0.0123, device='cuda:0', grad_fn=<MeanBackward0>)\n"
     ]
    },
    {
     "name": "stderr",
     "output_type": "stream",
     "text": [
      " 44%|███████████████████████████████████████████████████████████████████                                                                                      | 1317/3007 [00:18<00:24, 68.99it/s]"
     ]
    },
    {
     "name": "stdout",
     "output_type": "stream",
     "text": [
      "tensor(0.0123, device='cuda:0', grad_fn=<MeanBackward0>)\n",
      "tensor(0.0119, device='cuda:0', grad_fn=<MeanBackward0>)\n",
      "tensor(0.0129, device='cuda:0', grad_fn=<MeanBackward0>)\n",
      "tensor(0.0125, device='cuda:0', grad_fn=<MeanBackward0>)\n",
      "tensor(0.0120, device='cuda:0', grad_fn=<MeanBackward0>)\n",
      "tensor(0.0122, device='cuda:0', grad_fn=<MeanBackward0>)\n",
      "tensor(0.0123, device='cuda:0', grad_fn=<MeanBackward0>)\n",
      "tensor(0.0124, device='cuda:0', grad_fn=<MeanBackward0>)\n",
      "tensor(0.0123, device='cuda:0', grad_fn=<MeanBackward0>)\n",
      "tensor(0.0125, device='cuda:0', grad_fn=<MeanBackward0>)\n",
      "tensor(0.0125, device='cuda:0', grad_fn=<MeanBackward0>)\n",
      "tensor(0.0117, device='cuda:0', grad_fn=<MeanBackward0>)\n",
      "tensor(0.0122, device='cuda:0', grad_fn=<MeanBackward0>)\n",
      "tensor(0.0123, device='cuda:0', grad_fn=<MeanBackward0>)\n"
     ]
    },
    {
     "name": "stderr",
     "output_type": "stream",
     "text": [
      " 44%|███████████████████████████████████████████████████████████████████▋                                                                                     | 1331/3007 [00:18<00:24, 68.49it/s]"
     ]
    },
    {
     "name": "stdout",
     "output_type": "stream",
     "text": [
      "tensor(0.0121, device='cuda:0', grad_fn=<MeanBackward0>)\n",
      "tensor(0.0121, device='cuda:0', grad_fn=<MeanBackward0>)\n",
      "tensor(0.0121, device='cuda:0', grad_fn=<MeanBackward0>)\n",
      "tensor(0.0119, device='cuda:0', grad_fn=<MeanBackward0>)\n",
      "tensor(0.0122, device='cuda:0', grad_fn=<MeanBackward0>)\n",
      "tensor(0.0120, device='cuda:0', grad_fn=<MeanBackward0>)\n",
      "tensor(0.0122, device='cuda:0', grad_fn=<MeanBackward0>)\n",
      "tensor(0.0120, device='cuda:0', grad_fn=<MeanBackward0>)\n",
      "tensor(0.0122, device='cuda:0', grad_fn=<MeanBackward0>)\n",
      "tensor(0.0123, device='cuda:0', grad_fn=<MeanBackward0>)\n",
      "tensor(0.0124, device='cuda:0', grad_fn=<MeanBackward0>)\n",
      "tensor(0.0126, device='cuda:0', grad_fn=<MeanBackward0>)\n",
      "tensor(0.0120, device='cuda:0', grad_fn=<MeanBackward0>)\n",
      "tensor(0.0121, device='cuda:0', grad_fn=<MeanBackward0>)\n"
     ]
    },
    {
     "name": "stderr",
     "output_type": "stream",
     "text": [
      " 45%|████████████████████████████████████████████████████████████████████▍                                                                                    | 1345/3007 [00:19<00:24, 68.04it/s]"
     ]
    },
    {
     "name": "stdout",
     "output_type": "stream",
     "text": [
      "tensor(0.0120, device='cuda:0', grad_fn=<MeanBackward0>)\n",
      "tensor(0.0119, device='cuda:0', grad_fn=<MeanBackward0>)\n",
      "tensor(0.0123, device='cuda:0', grad_fn=<MeanBackward0>)\n",
      "tensor(0.0125, device='cuda:0', grad_fn=<MeanBackward0>)\n",
      "tensor(0.0118, device='cuda:0', grad_fn=<MeanBackward0>)\n",
      "tensor(0.0118, device='cuda:0', grad_fn=<MeanBackward0>)\n",
      "tensor(0.0126, device='cuda:0', grad_fn=<MeanBackward0>)\n",
      "tensor(0.0123, device='cuda:0', grad_fn=<MeanBackward0>)\n",
      "tensor(0.0125, device='cuda:0', grad_fn=<MeanBackward0>)\n",
      "tensor(0.0122, device='cuda:0', grad_fn=<MeanBackward0>)\n",
      "tensor(0.0125, device='cuda:0', grad_fn=<MeanBackward0>)\n",
      "tensor(0.0122, device='cuda:0', grad_fn=<MeanBackward0>)\n",
      "tensor(0.0121, device='cuda:0', grad_fn=<MeanBackward0>)\n",
      "tensor(0.0121, device='cuda:0', grad_fn=<MeanBackward0>)\n"
     ]
    },
    {
     "name": "stderr",
     "output_type": "stream",
     "text": [
      " 45%|█████████████████████████████████████████████████████████████████████▎                                                                                   | 1362/3007 [00:19<00:21, 76.42it/s]"
     ]
    },
    {
     "name": "stdout",
     "output_type": "stream",
     "text": [
      "tensor(0.0117, device='cuda:0', grad_fn=<MeanBackward0>)\n",
      "tensor(0.0124, device='cuda:0', grad_fn=<MeanBackward0>)\n",
      "tensor(0.0120, device='cuda:0', grad_fn=<MeanBackward0>)\n",
      "tensor(0.0122, device='cuda:0', grad_fn=<MeanBackward0>)\n",
      "tensor(0.0126, device='cuda:0', grad_fn=<MeanBackward0>)\n",
      "tensor(0.0121, device='cuda:0', grad_fn=<MeanBackward0>)\n",
      "tensor(0.0124, device='cuda:0', grad_fn=<MeanBackward0>)\n",
      "tensor(0.0124, device='cuda:0', grad_fn=<MeanBackward0>)\n",
      "tensor(0.0122, device='cuda:0', grad_fn=<MeanBackward0>)\n",
      "tensor(0.0123, device='cuda:0', grad_fn=<MeanBackward0>)\n",
      "tensor(0.0122, device='cuda:0', grad_fn=<MeanBackward0>)\n",
      "tensor(0.0125, device='cuda:0', grad_fn=<MeanBackward0>)\n",
      "tensor(0.0121, device='cuda:0', grad_fn=<MeanBackward0>)\n",
      "tensor(0.0123, device='cuda:0', grad_fn=<MeanBackward0>)\n",
      "tensor(0.0122, device='cuda:0', grad_fn=<MeanBackward0>)\n",
      "tensor(0.0127, device='cuda:0', grad_fn=<MeanBackward0>)\n",
      "tensor(0.0124, device='cuda:0', grad_fn=<MeanBackward0>)\n"
     ]
    },
    {
     "name": "stderr",
     "output_type": "stream",
     "text": [
      " 46%|█████████████████████████████████████████████████████████████████████▋                                                                                   | 1370/3007 [00:19<00:22, 73.79it/s]"
     ]
    },
    {
     "name": "stdout",
     "output_type": "stream",
     "text": [
      "tensor(0.0122, device='cuda:0', grad_fn=<MeanBackward0>)\n",
      "tensor(0.0126, device='cuda:0', grad_fn=<MeanBackward0>)\n",
      "tensor(0.0126, device='cuda:0', grad_fn=<MeanBackward0>)\n",
      "tensor(0.0124, device='cuda:0', grad_fn=<MeanBackward0>)\n",
      "tensor(0.0124, device='cuda:0', grad_fn=<MeanBackward0>)\n",
      "tensor(0.0119, device='cuda:0', grad_fn=<MeanBackward0>)\n",
      "tensor(0.0120, device='cuda:0', grad_fn=<MeanBackward0>)\n",
      "tensor(0.0119, device='cuda:0', grad_fn=<MeanBackward0>)\n",
      "tensor(0.0121, device='cuda:0', grad_fn=<MeanBackward0>)\n",
      "tensor(0.0119, device='cuda:0', grad_fn=<MeanBackward0>)\n"
     ]
    },
    {
     "name": "stderr",
     "output_type": "stream",
     "text": [
      " 46%|██████████████████████████████████████████████████████████████████████                                                                                   | 1378/3007 [00:19<00:22, 71.84it/s]"
     ]
    },
    {
     "name": "stdout",
     "output_type": "stream",
     "text": [
      "tensor(0.0122, device='cuda:0', grad_fn=<MeanBackward0>)\n",
      "tensor(0.0122, device='cuda:0', grad_fn=<MeanBackward0>)\n",
      "tensor(0.0118, device='cuda:0', grad_fn=<MeanBackward0>)\n",
      "tensor(0.0126, device='cuda:0', grad_fn=<MeanBackward0>)\n"
     ]
    },
    {
     "name": "stderr",
     "output_type": "stream",
     "text": [
      " 46%|██████████████████████████████████████████████████████████████████████▌                                                                                  | 1386/3007 [00:19<00:23, 70.38it/s]"
     ]
    },
    {
     "name": "stdout",
     "output_type": "stream",
     "text": [
      "tensor(0.0114, device='cuda:0', grad_fn=<MeanBackward0>)\n",
      "tensor(0.0123, device='cuda:0', grad_fn=<MeanBackward0>)\n",
      "tensor(0.0121, device='cuda:0', grad_fn=<MeanBackward0>)\n",
      "tensor(0.0122, device='cuda:0', grad_fn=<MeanBackward0>)\n",
      "tensor(0.0124, device='cuda:0', grad_fn=<MeanBackward0>)\n",
      "tensor(0.0123, device='cuda:0', grad_fn=<MeanBackward0>)\n",
      "tensor(0.0123, device='cuda:0', grad_fn=<MeanBackward0>)\n",
      "tensor(0.0119, device='cuda:0', grad_fn=<MeanBackward0>)\n",
      "tensor(0.0121, device='cuda:0', grad_fn=<MeanBackward0>)\n",
      "tensor(0.0123, device='cuda:0', grad_fn=<MeanBackward0>)\n"
     ]
    },
    {
     "name": "stderr",
     "output_type": "stream",
     "text": [
      " 46%|██████████████████████████████████████████████████████████████████████▉                                                                                  | 1394/3007 [00:19<00:23, 69.53it/s]"
     ]
    },
    {
     "name": "stdout",
     "output_type": "stream",
     "text": [
      "tensor(0.0119, device='cuda:0', grad_fn=<MeanBackward0>)\n",
      "tensor(0.0120, device='cuda:0', grad_fn=<MeanBackward0>)\n",
      "tensor(0.0123, device='cuda:0', grad_fn=<MeanBackward0>)\n",
      "tensor(0.0126, device='cuda:0', grad_fn=<MeanBackward0>)\n"
     ]
    },
    {
     "name": "stderr",
     "output_type": "stream",
     "text": [
      " 47%|███████████████████████████████████████████████████████████████████████▎                                                                                 | 1401/3007 [00:19<00:23, 69.08it/s]"
     ]
    },
    {
     "name": "stdout",
     "output_type": "stream",
     "text": [
      "tensor(0.0124, device='cuda:0', grad_fn=<MeanBackward0>)\n",
      "tensor(0.0123, device='cuda:0', grad_fn=<MeanBackward0>)\n",
      "tensor(0.0121, device='cuda:0', grad_fn=<MeanBackward0>)\n",
      "tensor(0.0123, device='cuda:0', grad_fn=<MeanBackward0>)\n",
      "tensor(0.0124, device='cuda:0', grad_fn=<MeanBackward0>)\n",
      "tensor(0.0119, device='cuda:0', grad_fn=<MeanBackward0>)\n",
      "tensor(0.0121, device='cuda:0', grad_fn=<MeanBackward0>)\n",
      "tensor(0.0120, device='cuda:0', grad_fn=<MeanBackward0>)\n",
      "tensor(0.0120, device='cuda:0', grad_fn=<MeanBackward0>)\n",
      "tensor(0.0122, device='cuda:0', grad_fn=<MeanBackward0>)\n"
     ]
    },
    {
     "name": "stderr",
     "output_type": "stream",
     "text": [
      " 47%|███████████████████████████████████████████████████████████████████████▋                                                                                 | 1408/3007 [00:20<00:23, 68.48it/s]"
     ]
    },
    {
     "name": "stdout",
     "output_type": "stream",
     "text": [
      "tensor(0.0119, device='cuda:0', grad_fn=<MeanBackward0>)\n",
      "tensor(0.0119, device='cuda:0', grad_fn=<MeanBackward0>)\n",
      "tensor(0.0121, device='cuda:0', grad_fn=<MeanBackward0>)\n",
      "tensor(0.0129, device='cuda:0', grad_fn=<MeanBackward0>)\n"
     ]
    },
    {
     "name": "stderr",
     "output_type": "stream",
     "text": [
      " 47%|███████████████████████████████████████████████████████████████████████▉                                                                                 | 1415/3007 [00:20<00:23, 68.43it/s]"
     ]
    },
    {
     "name": "stdout",
     "output_type": "stream",
     "text": [
      "tensor(0.0119, device='cuda:0', grad_fn=<MeanBackward0>)\n",
      "tensor(0.0121, device='cuda:0', grad_fn=<MeanBackward0>)\n",
      "tensor(0.0121, device='cuda:0', grad_fn=<MeanBackward0>)\n",
      "tensor(0.0120, device='cuda:0', grad_fn=<MeanBackward0>)\n",
      "tensor(0.0120, device='cuda:0', grad_fn=<MeanBackward0>)\n",
      "tensor(0.0120, device='cuda:0', grad_fn=<MeanBackward0>)\n",
      "tensor(0.0127, device='cuda:0', grad_fn=<MeanBackward0>)\n",
      "tensor(0.0123, device='cuda:0', grad_fn=<MeanBackward0>)\n",
      "tensor(0.0121, device='cuda:0', grad_fn=<MeanBackward0>)\n",
      "tensor(0.0123, device='cuda:0', grad_fn=<MeanBackward0>)\n"
     ]
    },
    {
     "name": "stderr",
     "output_type": "stream",
     "text": [
      " 47%|████████████████████████████████████████████████████████████████████████▎                                                                                | 1422/3007 [00:20<00:23, 68.03it/s]"
     ]
    },
    {
     "name": "stdout",
     "output_type": "stream",
     "text": [
      "tensor(0.0124, device='cuda:0', grad_fn=<MeanBackward0>)\n",
      "tensor(0.0119, device='cuda:0', grad_fn=<MeanBackward0>)\n",
      "tensor(0.0121, device='cuda:0', grad_fn=<MeanBackward0>)\n",
      "tensor(0.0121, device='cuda:0', grad_fn=<MeanBackward0>)\n"
     ]
    },
    {
     "name": "stderr",
     "output_type": "stream",
     "text": [
      " 48%|████████████████████████████████████████████████████████████████████████▋                                                                                | 1429/3007 [00:20<00:23, 67.81it/s]"
     ]
    },
    {
     "name": "stdout",
     "output_type": "stream",
     "text": [
      "tensor(0.0121, device='cuda:0', grad_fn=<MeanBackward0>)\n",
      "tensor(0.0119, device='cuda:0', grad_fn=<MeanBackward0>)\n",
      "tensor(0.0122, device='cuda:0', grad_fn=<MeanBackward0>)\n",
      "tensor(0.0121, device='cuda:0', grad_fn=<MeanBackward0>)\n",
      "tensor(0.0120, device='cuda:0', grad_fn=<MeanBackward0>)\n",
      "tensor(0.0120, device='cuda:0', grad_fn=<MeanBackward0>)\n",
      "tensor(0.0120, device='cuda:0', grad_fn=<MeanBackward0>)\n",
      "tensor(0.0121, device='cuda:0', grad_fn=<MeanBackward0>)\n",
      "tensor(0.0123, device='cuda:0', grad_fn=<MeanBackward0>)\n",
      "tensor(0.0119, device='cuda:0', grad_fn=<MeanBackward0>)\n",
      "tensor(0.0118, device='cuda:0', grad_fn=<MeanBackward0>)\n",
      "tensor(0.0122, device='cuda:0', grad_fn=<MeanBackward0>)\n",
      "tensor(0.0122, device='cuda:0', grad_fn=<MeanBackward0>)\n"
     ]
    },
    {
     "name": "stderr",
     "output_type": "stream",
     "text": [
      " 48%|█████████████████████████████████████████████████████████████████████████▎                                                                               | 1440/3007 [00:20<00:19, 78.47it/s]"
     ]
    },
    {
     "name": "stdout",
     "output_type": "stream",
     "text": [
      "tensor(0.0119, device='cuda:0', grad_fn=<MeanBackward0>)\n",
      "tensor(0.0119, device='cuda:0', grad_fn=<MeanBackward0>)\n",
      "tensor(0.0122, device='cuda:0', grad_fn=<MeanBackward0>)\n",
      "tensor(0.0125, device='cuda:0', grad_fn=<MeanBackward0>)\n",
      "tensor(0.0125, device='cuda:0', grad_fn=<MeanBackward0>)\n"
     ]
    },
    {
     "name": "stderr",
     "output_type": "stream",
     "text": [
      " 48%|█████████████████████████████████████████████████████████████████████████▋                                                                               | 1448/3007 [00:20<00:20, 75.07it/s]"
     ]
    },
    {
     "name": "stdout",
     "output_type": "stream",
     "text": [
      "tensor(0.0118, device='cuda:0', grad_fn=<MeanBackward0>)\n",
      "tensor(0.0121, device='cuda:0', grad_fn=<MeanBackward0>)\n",
      "tensor(0.0122, device='cuda:0', grad_fn=<MeanBackward0>)\n",
      "tensor(0.0122, device='cuda:0', grad_fn=<MeanBackward0>)\n",
      "tensor(0.0124, device='cuda:0', grad_fn=<MeanBackward0>)\n",
      "tensor(0.0121, device='cuda:0', grad_fn=<MeanBackward0>)\n",
      "tensor(0.0123, device='cuda:0', grad_fn=<MeanBackward0>)\n",
      "tensor(0.0123, device='cuda:0', grad_fn=<MeanBackward0>)\n",
      "tensor(0.0123, device='cuda:0', grad_fn=<MeanBackward0>)\n",
      "tensor(0.0123, device='cuda:0', grad_fn=<MeanBackward0>)\n",
      "tensor(0.0121, device='cuda:0', grad_fn=<MeanBackward0>)\n",
      "tensor(0.0123, device='cuda:0', grad_fn=<MeanBackward0>)\n",
      "tensor(0.0123, device='cuda:0', grad_fn=<MeanBackward0>)\n",
      "tensor(0.0125, device='cuda:0', grad_fn=<MeanBackward0>)\n"
     ]
    },
    {
     "name": "stderr",
     "output_type": "stream",
     "text": [
      " 49%|██████████████████████████████████████████████████████████████████████████▍                                                                              | 1464/3007 [00:20<00:21, 70.96it/s]"
     ]
    },
    {
     "name": "stdout",
     "output_type": "stream",
     "text": [
      "tensor(0.0121, device='cuda:0', grad_fn=<MeanBackward0>)\n",
      "tensor(0.0122, device='cuda:0', grad_fn=<MeanBackward0>)\n",
      "tensor(0.0124, device='cuda:0', grad_fn=<MeanBackward0>)\n",
      "tensor(0.0124, device='cuda:0', grad_fn=<MeanBackward0>)\n",
      "tensor(0.0121, device='cuda:0', grad_fn=<MeanBackward0>)\n",
      "tensor(0.0121, device='cuda:0', grad_fn=<MeanBackward0>)\n",
      "tensor(0.0124, device='cuda:0', grad_fn=<MeanBackward0>)\n",
      "tensor(0.0122, device='cuda:0', grad_fn=<MeanBackward0>)\n",
      "tensor(0.0123, device='cuda:0', grad_fn=<MeanBackward0>)\n",
      "tensor(0.0122, device='cuda:0', grad_fn=<MeanBackward0>)\n",
      "tensor(0.0124, device='cuda:0', grad_fn=<MeanBackward0>)\n",
      "tensor(0.0123, device='cuda:0', grad_fn=<MeanBackward0>)\n",
      "tensor(0.0128, device='cuda:0', grad_fn=<MeanBackward0>)\n",
      "tensor(0.0124, device='cuda:0', grad_fn=<MeanBackward0>)\n"
     ]
    },
    {
     "name": "stderr",
     "output_type": "stream",
     "text": [
      " 49%|██████████████████████████████████████████████████████████████████████████▉                                                                              | 1472/3007 [00:20<00:21, 70.13it/s]"
     ]
    },
    {
     "name": "stdout",
     "output_type": "stream",
     "text": [
      "tensor(0.0122, device='cuda:0', grad_fn=<MeanBackward0>)\n",
      "tensor(0.0122, device='cuda:0', grad_fn=<MeanBackward0>)\n",
      "tensor(0.0119, device='cuda:0', grad_fn=<MeanBackward0>)\n",
      "tensor(0.0128, device='cuda:0', grad_fn=<MeanBackward0>)\n",
      "tensor(0.0118, device='cuda:0', grad_fn=<MeanBackward0>)\n",
      "tensor(0.0121, device='cuda:0', grad_fn=<MeanBackward0>)\n",
      "tensor(0.0122, device='cuda:0', grad_fn=<MeanBackward0>)\n",
      "tensor(0.0122, device='cuda:0', grad_fn=<MeanBackward0>)\n",
      "tensor(0.0122, device='cuda:0', grad_fn=<MeanBackward0>)\n",
      "tensor(0.0121, device='cuda:0', grad_fn=<MeanBackward0>)\n"
     ]
    },
    {
     "name": "stderr",
     "output_type": "stream",
     "text": [
      " 49%|███████████████████████████████████████████████████████████████████████████▎                                                                             | 1480/3007 [00:21<00:22, 69.22it/s]"
     ]
    },
    {
     "name": "stdout",
     "output_type": "stream",
     "text": [
      "tensor(0.0124, device='cuda:0', grad_fn=<MeanBackward0>)\n",
      "tensor(0.0120, device='cuda:0', grad_fn=<MeanBackward0>)\n",
      "tensor(0.0120, device='cuda:0', grad_fn=<MeanBackward0>)\n",
      "tensor(0.0120, device='cuda:0', grad_fn=<MeanBackward0>)\n"
     ]
    },
    {
     "name": "stderr",
     "output_type": "stream",
     "text": [
      " 49%|███████████████████████████████████████████████████████████████████████████▋                                                                             | 1487/3007 [00:21<00:22, 68.66it/s]"
     ]
    },
    {
     "name": "stdout",
     "output_type": "stream",
     "text": [
      "tensor(0.0125, device='cuda:0', grad_fn=<MeanBackward0>)\n",
      "tensor(0.0116, device='cuda:0', grad_fn=<MeanBackward0>)\n",
      "tensor(0.0124, device='cuda:0', grad_fn=<MeanBackward0>)\n",
      "tensor(0.0122, device='cuda:0', grad_fn=<MeanBackward0>)\n",
      "tensor(0.0122, device='cuda:0', grad_fn=<MeanBackward0>)\n",
      "tensor(0.0126, device='cuda:0', grad_fn=<MeanBackward0>)\n",
      "tensor(0.0121, device='cuda:0', grad_fn=<MeanBackward0>)\n",
      "tensor(0.0121, device='cuda:0', grad_fn=<MeanBackward0>)\n",
      "tensor(0.0120, device='cuda:0', grad_fn=<MeanBackward0>)\n",
      "tensor(0.0121, device='cuda:0', grad_fn=<MeanBackward0>)\n"
     ]
    },
    {
     "name": "stderr",
     "output_type": "stream",
     "text": [
      " 50%|████████████████████████████████████████████████████████████████████████████                                                                             | 1494/3007 [00:21<00:22, 68.55it/s]"
     ]
    },
    {
     "name": "stdout",
     "output_type": "stream",
     "text": [
      "tensor(0.0118, device='cuda:0', grad_fn=<MeanBackward0>)\n",
      "tensor(0.0126, device='cuda:0', grad_fn=<MeanBackward0>)\n",
      "tensor(0.0125, device='cuda:0', grad_fn=<MeanBackward0>)\n",
      "tensor(0.0120, device='cuda:0', grad_fn=<MeanBackward0>)\n"
     ]
    },
    {
     "name": "stderr",
     "output_type": "stream",
     "text": [
      " 50%|████████████████████████████████████████████████████████████████████████████▎                                                                            | 1501/3007 [00:21<00:22, 68.25it/s]"
     ]
    },
    {
     "name": "stdout",
     "output_type": "stream",
     "text": [
      "tensor(0.0122, device='cuda:0', grad_fn=<MeanBackward0>)\n",
      "tensor(0.0126, device='cuda:0', grad_fn=<MeanBackward0>)\n",
      "tensor(0.0125, device='cuda:0', grad_fn=<MeanBackward0>)\n",
      "tensor(0.0121, device='cuda:0', grad_fn=<MeanBackward0>)\n",
      "tensor(0.0119, device='cuda:0', grad_fn=<MeanBackward0>)\n",
      "tensor(0.0119, device='cuda:0', grad_fn=<MeanBackward0>)\n",
      "tensor(0.0123, device='cuda:0', grad_fn=<MeanBackward0>)\n",
      "tensor(0.0120, device='cuda:0', grad_fn=<MeanBackward0>)\n",
      "tensor(0.0122, device='cuda:0', grad_fn=<MeanBackward0>)\n",
      "tensor(0.0127, device='cuda:0', grad_fn=<MeanBackward0>)\n"
     ]
    },
    {
     "name": "stderr",
     "output_type": "stream",
     "text": [
      " 50%|████████████████████████████████████████████████████████████████████████████▋                                                                            | 1508/3007 [00:21<00:21, 68.15it/s]"
     ]
    },
    {
     "name": "stdout",
     "output_type": "stream",
     "text": [
      "tensor(0.0125, device='cuda:0', grad_fn=<MeanBackward0>)\n",
      "tensor(0.0120, device='cuda:0', grad_fn=<MeanBackward0>)\n",
      "tensor(0.0124, device='cuda:0', grad_fn=<MeanBackward0>)\n",
      "tensor(0.0120, device='cuda:0', grad_fn=<MeanBackward0>)\n",
      "tensor(0.0119, device='cuda:0', grad_fn=<MeanBackward0>)\n",
      "tensor(0.0120, device='cuda:0', grad_fn=<MeanBackward0>)\n",
      "tensor(0.0118, device='cuda:0', grad_fn=<MeanBackward0>)\n",
      "tensor(0.0122, device='cuda:0', grad_fn=<MeanBackward0>)\n",
      "tensor(0.0127, device='cuda:0', grad_fn=<MeanBackward0>)\n"
     ]
    },
    {
     "name": "stderr",
     "output_type": "stream",
     "text": [
      " 51%|█████████████████████████████████████████████████████████████████████████████▌                                                                           | 1525/3007 [00:21<00:15, 95.74it/s]"
     ]
    },
    {
     "name": "stdout",
     "output_type": "stream",
     "text": [
      "tensor(0.0126, device='cuda:0', grad_fn=<MeanBackward0>)\n",
      "tensor(0.0120, device='cuda:0', grad_fn=<MeanBackward0>)\n",
      "tensor(0.0118, device='cuda:0', grad_fn=<MeanBackward0>)\n",
      "tensor(0.0125, device='cuda:0', grad_fn=<MeanBackward0>)\n",
      "tensor(0.0121, device='cuda:0', grad_fn=<MeanBackward0>)\n",
      "tensor(0.0120, device='cuda:0', grad_fn=<MeanBackward0>)\n",
      "tensor(0.0120, device='cuda:0', grad_fn=<MeanBackward0>)\n",
      "tensor(0.0122, device='cuda:0', grad_fn=<MeanBackward0>)\n",
      "tensor(0.0122, device='cuda:0', grad_fn=<MeanBackward0>)\n",
      "tensor(0.0122, device='cuda:0', grad_fn=<MeanBackward0>)\n",
      "tensor(0.0122, device='cuda:0', grad_fn=<MeanBackward0>)\n",
      "tensor(0.0124, device='cuda:0', grad_fn=<MeanBackward0>)\n",
      "tensor(0.0118, device='cuda:0', grad_fn=<MeanBackward0>)\n",
      "tensor(0.0121, device='cuda:0', grad_fn=<MeanBackward0>)\n",
      "tensor(0.0124, device='cuda:0', grad_fn=<MeanBackward0>)\n",
      "tensor(0.0121, device='cuda:0', grad_fn=<MeanBackward0>)\n",
      "tensor(0.0124, device='cuda:0', grad_fn=<MeanBackward0>)\n",
      "tensor(0.0123, device='cuda:0', grad_fn=<MeanBackward0>)\n",
      "tensor(0.0117, device='cuda:0', grad_fn=<MeanBackward0>)\n",
      "tensor(0.0123, device='cuda:0', grad_fn=<MeanBackward0>)\n",
      "tensor(0.0121, device='cuda:0', grad_fn=<MeanBackward0>)\n",
      "tensor(0.0122, device='cuda:0', grad_fn=<MeanBackward0>)\n",
      "tensor(0.0117, device='cuda:0', grad_fn=<MeanBackward0>)\n"
     ]
    },
    {
     "name": "stderr",
     "output_type": "stream",
     "text": [
      " 51%|█████████████████████████████████████████████████████████████████████████████▊                                                                          | 1540/3007 [00:21<00:13, 106.53it/s]"
     ]
    },
    {
     "name": "stdout",
     "output_type": "stream",
     "text": [
      "tensor(0.0115, device='cuda:0', grad_fn=<MeanBackward0>)\n",
      "tensor(0.0124, device='cuda:0', grad_fn=<MeanBackward0>)\n",
      "tensor(0.0125, device='cuda:0', grad_fn=<MeanBackward0>)\n"
     ]
    },
    {
     "name": "stderr",
     "output_type": "stream",
     "text": [
      " 52%|██████████████████████████████████████████████████████████████████████████████▉                                                                          | 1551/3007 [00:21<00:15, 91.69it/s]"
     ]
    },
    {
     "name": "stdout",
     "output_type": "stream",
     "text": [
      "tensor(0.0128, device='cuda:0', grad_fn=<MeanBackward0>)\n",
      "tensor(0.0124, device='cuda:0', grad_fn=<MeanBackward0>)\n",
      "tensor(0.0123, device='cuda:0', grad_fn=<MeanBackward0>)\n",
      "tensor(0.0124, device='cuda:0', grad_fn=<MeanBackward0>)\n",
      "tensor(0.0127, device='cuda:0', grad_fn=<MeanBackward0>)\n",
      "tensor(0.0125, device='cuda:0', grad_fn=<MeanBackward0>)\n",
      "tensor(0.0124, device='cuda:0', grad_fn=<MeanBackward0>)\n",
      "tensor(0.0123, device='cuda:0', grad_fn=<MeanBackward0>)\n",
      "tensor(0.0125, device='cuda:0', grad_fn=<MeanBackward0>)\n",
      "tensor(0.0125, device='cuda:0', grad_fn=<MeanBackward0>)\n",
      "tensor(0.0124, device='cuda:0', grad_fn=<MeanBackward0>)\n",
      "tensor(0.0125, device='cuda:0', grad_fn=<MeanBackward0>)\n",
      "tensor(0.0121, device='cuda:0', grad_fn=<MeanBackward0>)\n",
      "tensor(0.0122, device='cuda:0', grad_fn=<MeanBackward0>)\n"
     ]
    },
    {
     "name": "stderr",
     "output_type": "stream",
     "text": [
      " 52%|███████████████████████████████████████████████████████████████████████████████▍                                                                         | 1561/3007 [00:22<00:17, 83.76it/s]"
     ]
    },
    {
     "name": "stdout",
     "output_type": "stream",
     "text": [
      "tensor(0.0121, device='cuda:0', grad_fn=<MeanBackward0>)\n",
      "tensor(0.0122, device='cuda:0', grad_fn=<MeanBackward0>)\n",
      "tensor(0.0121, device='cuda:0', grad_fn=<MeanBackward0>)\n",
      "tensor(0.0121, device='cuda:0', grad_fn=<MeanBackward0>)\n",
      "tensor(0.0121, device='cuda:0', grad_fn=<MeanBackward0>)\n",
      "tensor(0.0122, device='cuda:0', grad_fn=<MeanBackward0>)\n",
      "tensor(0.0122, device='cuda:0', grad_fn=<MeanBackward0>)\n",
      "tensor(0.0121, device='cuda:0', grad_fn=<MeanBackward0>)\n",
      "tensor(0.0120, device='cuda:0', grad_fn=<MeanBackward0>)\n",
      "tensor(0.0120, device='cuda:0', grad_fn=<MeanBackward0>)\n",
      "tensor(0.0124, device='cuda:0', grad_fn=<MeanBackward0>)\n"
     ]
    },
    {
     "name": "stderr",
     "output_type": "stream",
     "text": [
      " 52%|███████████████████████████████████████████████████████████████████████████████▉                                                                         | 1570/3007 [00:22<00:18, 78.89it/s]"
     ]
    },
    {
     "name": "stdout",
     "output_type": "stream",
     "text": [
      "tensor(0.0119, device='cuda:0', grad_fn=<MeanBackward0>)\n",
      "tensor(0.0122, device='cuda:0', grad_fn=<MeanBackward0>)\n",
      "tensor(0.0127, device='cuda:0', grad_fn=<MeanBackward0>)\n"
     ]
    },
    {
     "name": "stderr",
     "output_type": "stream",
     "text": [
      " 53%|████████████████████████████████████████████████████████████████████████████████▎                                                                        | 1579/3007 [00:22<00:18, 75.53it/s]"
     ]
    },
    {
     "name": "stdout",
     "output_type": "stream",
     "text": [
      "tensor(0.0122, device='cuda:0', grad_fn=<MeanBackward0>)\n",
      "tensor(0.0121, device='cuda:0', grad_fn=<MeanBackward0>)\n",
      "tensor(0.0129, device='cuda:0', grad_fn=<MeanBackward0>)\n",
      "tensor(0.0122, device='cuda:0', grad_fn=<MeanBackward0>)\n",
      "tensor(0.0120, device='cuda:0', grad_fn=<MeanBackward0>)\n",
      "tensor(0.0121, device='cuda:0', grad_fn=<MeanBackward0>)\n",
      "tensor(0.0121, device='cuda:0', grad_fn=<MeanBackward0>)\n",
      "tensor(0.0121, device='cuda:0', grad_fn=<MeanBackward0>)\n",
      "tensor(0.0125, device='cuda:0', grad_fn=<MeanBackward0>)\n",
      "tensor(0.0120, device='cuda:0', grad_fn=<MeanBackward0>)\n",
      "tensor(0.0121, device='cuda:0', grad_fn=<MeanBackward0>)\n",
      "tensor(0.0123, device='cuda:0', grad_fn=<MeanBackward0>)\n",
      "tensor(0.0121, device='cuda:0', grad_fn=<MeanBackward0>)\n",
      "tensor(0.0117, device='cuda:0', grad_fn=<MeanBackward0>)\n"
     ]
    },
    {
     "name": "stderr",
     "output_type": "stream",
     "text": [
      " 53%|█████████████████████████████████████████████████████████████████████████████████▏                                                                       | 1595/3007 [00:22<00:19, 71.52it/s]"
     ]
    },
    {
     "name": "stdout",
     "output_type": "stream",
     "text": [
      "tensor(0.0123, device='cuda:0', grad_fn=<MeanBackward0>)\n",
      "tensor(0.0121, device='cuda:0', grad_fn=<MeanBackward0>)\n",
      "tensor(0.0123, device='cuda:0', grad_fn=<MeanBackward0>)\n",
      "tensor(0.0125, device='cuda:0', grad_fn=<MeanBackward0>)\n",
      "tensor(0.0122, device='cuda:0', grad_fn=<MeanBackward0>)\n",
      "tensor(0.0121, device='cuda:0', grad_fn=<MeanBackward0>)\n",
      "tensor(0.0121, device='cuda:0', grad_fn=<MeanBackward0>)\n",
      "tensor(0.0123, device='cuda:0', grad_fn=<MeanBackward0>)\n",
      "tensor(0.0122, device='cuda:0', grad_fn=<MeanBackward0>)\n",
      "tensor(0.0123, device='cuda:0', grad_fn=<MeanBackward0>)\n",
      "tensor(0.0127, device='cuda:0', grad_fn=<MeanBackward0>)\n",
      "tensor(0.0123, device='cuda:0', grad_fn=<MeanBackward0>)\n",
      "tensor(0.0122, device='cuda:0', grad_fn=<MeanBackward0>)\n",
      "tensor(0.0121, device='cuda:0', grad_fn=<MeanBackward0>)\n"
     ]
    },
    {
     "name": "stderr",
     "output_type": "stream",
     "text": [
      " 53%|█████████████████████████████████████████████████████████████████████████████████▌                                                                       | 1603/3007 [00:22<00:19, 70.34it/s]"
     ]
    },
    {
     "name": "stdout",
     "output_type": "stream",
     "text": [
      "tensor(0.0127, device='cuda:0', grad_fn=<MeanBackward0>)\n",
      "tensor(0.0126, device='cuda:0', grad_fn=<MeanBackward0>)\n",
      "tensor(0.0125, device='cuda:0', grad_fn=<MeanBackward0>)\n",
      "tensor(0.0124, device='cuda:0', grad_fn=<MeanBackward0>)\n",
      "tensor(0.0123, device='cuda:0', grad_fn=<MeanBackward0>)\n",
      "tensor(0.0121, device='cuda:0', grad_fn=<MeanBackward0>)\n",
      "tensor(0.0119, device='cuda:0', grad_fn=<MeanBackward0>)\n",
      "tensor(0.0120, device='cuda:0', grad_fn=<MeanBackward0>)\n",
      "tensor(0.0123, device='cuda:0', grad_fn=<MeanBackward0>)\n",
      "tensor(0.0120, device='cuda:0', grad_fn=<MeanBackward0>)\n",
      "tensor(0.0120, device='cuda:0', grad_fn=<MeanBackward0>)\n"
     ]
    },
    {
     "name": "stderr",
     "output_type": "stream",
     "text": [
      " 54%|█████████████████████████████████████████████████████████████████████████████████▉                                                                       | 1611/3007 [00:22<00:19, 70.39it/s]"
     ]
    },
    {
     "name": "stdout",
     "output_type": "stream",
     "text": [
      "tensor(0.0123, device='cuda:0', grad_fn=<MeanBackward0>)\n",
      "tensor(0.0120, device='cuda:0', grad_fn=<MeanBackward0>)\n",
      "tensor(0.0121, device='cuda:0', grad_fn=<MeanBackward0>)\n",
      "tensor(0.0117, device='cuda:0', grad_fn=<MeanBackward0>)\n"
     ]
    },
    {
     "name": "stderr",
     "output_type": "stream",
     "text": [
      " 54%|██████████████████████████████████████████████████████████████████████████████████▍                                                                      | 1619/3007 [00:22<00:19, 71.90it/s]"
     ]
    },
    {
     "name": "stdout",
     "output_type": "stream",
     "text": [
      "tensor(0.0122, device='cuda:0', grad_fn=<MeanBackward0>)\n",
      "tensor(0.0120, device='cuda:0', grad_fn=<MeanBackward0>)\n",
      "tensor(0.0120, device='cuda:0', grad_fn=<MeanBackward0>)\n",
      "tensor(0.0124, device='cuda:0', grad_fn=<MeanBackward0>)\n",
      "tensor(0.0121, device='cuda:0', grad_fn=<MeanBackward0>)\n",
      "tensor(0.0121, device='cuda:0', grad_fn=<MeanBackward0>)\n",
      "tensor(0.0122, device='cuda:0', grad_fn=<MeanBackward0>)\n",
      "tensor(0.0125, device='cuda:0', grad_fn=<MeanBackward0>)\n",
      "tensor(0.0120, device='cuda:0', grad_fn=<MeanBackward0>)\n",
      "tensor(0.0124, device='cuda:0', grad_fn=<MeanBackward0>)\n",
      "tensor(0.0122, device='cuda:0', grad_fn=<MeanBackward0>)\n"
     ]
    },
    {
     "name": "stderr",
     "output_type": "stream",
     "text": [
      " 54%|██████████████████████████████████████████████████████████████████████████████████▊                                                                      | 1627/3007 [00:22<00:19, 70.62it/s]"
     ]
    },
    {
     "name": "stdout",
     "output_type": "stream",
     "text": [
      "tensor(0.0123, device='cuda:0', grad_fn=<MeanBackward0>)\n",
      "tensor(0.0124, device='cuda:0', grad_fn=<MeanBackward0>)\n",
      "tensor(0.0122, device='cuda:0', grad_fn=<MeanBackward0>)\n"
     ]
    },
    {
     "name": "stderr",
     "output_type": "stream",
     "text": [
      " 54%|███████████████████████████████████████████████████████████████████████████████████▏                                                                     | 1635/3007 [00:23<00:19, 69.91it/s]"
     ]
    },
    {
     "name": "stdout",
     "output_type": "stream",
     "text": [
      "tensor(0.0118, device='cuda:0', grad_fn=<MeanBackward0>)\n",
      "tensor(0.0124, device='cuda:0', grad_fn=<MeanBackward0>)\n",
      "tensor(0.0124, device='cuda:0', grad_fn=<MeanBackward0>)\n",
      "tensor(0.0121, device='cuda:0', grad_fn=<MeanBackward0>)\n",
      "tensor(0.0123, device='cuda:0', grad_fn=<MeanBackward0>)\n",
      "tensor(0.0121, device='cuda:0', grad_fn=<MeanBackward0>)\n",
      "tensor(0.0122, device='cuda:0', grad_fn=<MeanBackward0>)\n",
      "tensor(0.0120, device='cuda:0', grad_fn=<MeanBackward0>)\n",
      "tensor(0.0121, device='cuda:0', grad_fn=<MeanBackward0>)\n",
      "tensor(0.0122, device='cuda:0', grad_fn=<MeanBackward0>)\n",
      "tensor(0.0122, device='cuda:0', grad_fn=<MeanBackward0>)\n",
      "tensor(0.0123, device='cuda:0', grad_fn=<MeanBackward0>)\n",
      "tensor(0.0117, device='cuda:0', grad_fn=<MeanBackward0>)\n",
      "tensor(0.0121, device='cuda:0', grad_fn=<MeanBackward0>)\n"
     ]
    },
    {
     "name": "stderr",
     "output_type": "stream",
     "text": [
      " 55%|███████████████████████████████████████████████████████████████████████████████████▉                                                                     | 1650/3007 [00:23<00:19, 68.55it/s]"
     ]
    },
    {
     "name": "stdout",
     "output_type": "stream",
     "text": [
      "tensor(0.0126, device='cuda:0', grad_fn=<MeanBackward0>)\n",
      "tensor(0.0122, device='cuda:0', grad_fn=<MeanBackward0>)\n",
      "tensor(0.0122, device='cuda:0', grad_fn=<MeanBackward0>)\n",
      "tensor(0.0120, device='cuda:0', grad_fn=<MeanBackward0>)\n",
      "tensor(0.0118, device='cuda:0', grad_fn=<MeanBackward0>)\n",
      "tensor(0.0117, device='cuda:0', grad_fn=<MeanBackward0>)\n",
      "tensor(0.0120, device='cuda:0', grad_fn=<MeanBackward0>)\n",
      "tensor(0.0120, device='cuda:0', grad_fn=<MeanBackward0>)\n",
      "tensor(0.0126, device='cuda:0', grad_fn=<MeanBackward0>)\n",
      "tensor(0.0120, device='cuda:0', grad_fn=<MeanBackward0>)\n",
      "tensor(0.0123, device='cuda:0', grad_fn=<MeanBackward0>)\n",
      "tensor(0.0124, device='cuda:0', grad_fn=<MeanBackward0>)\n",
      "tensor(0.0121, device='cuda:0', grad_fn=<MeanBackward0>)\n",
      "tensor(0.0121, device='cuda:0', grad_fn=<MeanBackward0>)\n"
     ]
    },
    {
     "name": "stderr",
     "output_type": "stream",
     "text": [
      " 55%|████████████████████████████████████████████████████████████████████████████████████▋                                                                    | 1664/3007 [00:23<00:19, 68.11it/s]"
     ]
    },
    {
     "name": "stdout",
     "output_type": "stream",
     "text": [
      "tensor(0.0120, device='cuda:0', grad_fn=<MeanBackward0>)\n",
      "tensor(0.0122, device='cuda:0', grad_fn=<MeanBackward0>)\n",
      "tensor(0.0120, device='cuda:0', grad_fn=<MeanBackward0>)\n",
      "tensor(0.0120, device='cuda:0', grad_fn=<MeanBackward0>)\n",
      "tensor(0.0122, device='cuda:0', grad_fn=<MeanBackward0>)\n",
      "tensor(0.0122, device='cuda:0', grad_fn=<MeanBackward0>)\n",
      "tensor(0.0118, device='cuda:0', grad_fn=<MeanBackward0>)\n",
      "tensor(0.0123, device='cuda:0', grad_fn=<MeanBackward0>)\n",
      "tensor(0.0121, device='cuda:0', grad_fn=<MeanBackward0>)\n",
      "tensor(0.0119, device='cuda:0', grad_fn=<MeanBackward0>)\n",
      "tensor(0.0124, device='cuda:0', grad_fn=<MeanBackward0>)\n",
      "tensor(0.0123, device='cuda:0', grad_fn=<MeanBackward0>)\n",
      "tensor(0.0119, device='cuda:0', grad_fn=<MeanBackward0>)\n",
      "tensor(0.0126, device='cuda:0', grad_fn=<MeanBackward0>)\n"
     ]
    },
    {
     "name": "stderr",
     "output_type": "stream",
     "text": [
      " 56%|█████████████████████████████████████████████████████████████████████████████████████▍                                                                   | 1678/3007 [00:23<00:19, 67.92it/s]"
     ]
    },
    {
     "name": "stdout",
     "output_type": "stream",
     "text": [
      "tensor(0.0119, device='cuda:0', grad_fn=<MeanBackward0>)\n",
      "tensor(0.0121, device='cuda:0', grad_fn=<MeanBackward0>)\n",
      "tensor(0.0117, device='cuda:0', grad_fn=<MeanBackward0>)\n",
      "tensor(0.0124, device='cuda:0', grad_fn=<MeanBackward0>)\n",
      "tensor(0.0117, device='cuda:0', grad_fn=<MeanBackward0>)\n",
      "tensor(0.0118, device='cuda:0', grad_fn=<MeanBackward0>)\n",
      "tensor(0.0121, device='cuda:0', grad_fn=<MeanBackward0>)\n",
      "tensor(0.0122, device='cuda:0', grad_fn=<MeanBackward0>)\n",
      "tensor(0.0120, device='cuda:0', grad_fn=<MeanBackward0>)\n",
      "tensor(0.0121, device='cuda:0', grad_fn=<MeanBackward0>)\n",
      "tensor(0.0121, device='cuda:0', grad_fn=<MeanBackward0>)\n",
      "tensor(0.0123, device='cuda:0', grad_fn=<MeanBackward0>)\n",
      "tensor(0.0121, device='cuda:0', grad_fn=<MeanBackward0>)\n",
      "tensor(0.0121, device='cuda:0', grad_fn=<MeanBackward0>)\n"
     ]
    },
    {
     "name": "stderr",
     "output_type": "stream",
     "text": [
      " 57%|██████████████████████████████████████████████████████████████████████████████████████▋                                                                  | 1703/3007 [00:23<00:13, 99.51it/s]"
     ]
    },
    {
     "name": "stdout",
     "output_type": "stream",
     "text": [
      "tensor(0.0123, device='cuda:0', grad_fn=<MeanBackward0>)\n",
      "tensor(0.0120, device='cuda:0', grad_fn=<MeanBackward0>)\n",
      "tensor(0.0121, device='cuda:0', grad_fn=<MeanBackward0>)\n",
      "tensor(0.0122, device='cuda:0', grad_fn=<MeanBackward0>)\n",
      "tensor(0.0120, device='cuda:0', grad_fn=<MeanBackward0>)\n",
      "tensor(0.0120, device='cuda:0', grad_fn=<MeanBackward0>)\n",
      "tensor(0.0123, device='cuda:0', grad_fn=<MeanBackward0>)\n",
      "tensor(0.0125, device='cuda:0', grad_fn=<MeanBackward0>)\n",
      "tensor(0.0121, device='cuda:0', grad_fn=<MeanBackward0>)\n",
      "tensor(0.0125, device='cuda:0', grad_fn=<MeanBackward0>)\n",
      "tensor(0.0124, device='cuda:0', grad_fn=<MeanBackward0>)\n",
      "tensor(0.0121, device='cuda:0', grad_fn=<MeanBackward0>)\n",
      "tensor(0.0120, device='cuda:0', grad_fn=<MeanBackward0>)\n",
      "tensor(0.0125, device='cuda:0', grad_fn=<MeanBackward0>)\n",
      "tensor(0.0121, device='cuda:0', grad_fn=<MeanBackward0>)\n",
      "tensor(0.0124, device='cuda:0', grad_fn=<MeanBackward0>)\n",
      "tensor(0.0118, device='cuda:0', grad_fn=<MeanBackward0>)\n",
      "tensor(0.0120, device='cuda:0', grad_fn=<MeanBackward0>)\n",
      "tensor(0.0124, device='cuda:0', grad_fn=<MeanBackward0>)\n",
      "tensor(0.0122, device='cuda:0', grad_fn=<MeanBackward0>)\n",
      "tensor(0.0124, device='cuda:0', grad_fn=<MeanBackward0>)\n",
      "tensor(0.0120, device='cuda:0', grad_fn=<MeanBackward0>)\n",
      "tensor(0.0121, device='cuda:0', grad_fn=<MeanBackward0>)\n",
      "tensor(0.0125, device='cuda:0', grad_fn=<MeanBackward0>)\n",
      "tensor(0.0124, device='cuda:0', grad_fn=<MeanBackward0>)\n",
      "tensor(0.0123, device='cuda:0', grad_fn=<MeanBackward0>)\n",
      "tensor(0.0120, device='cuda:0', grad_fn=<MeanBackward0>)\n",
      "tensor(0.0120, device='cuda:0', grad_fn=<MeanBackward0>)\n",
      "tensor(0.0119, device='cuda:0', grad_fn=<MeanBackward0>)\n",
      "tensor(0.0124, device='cuda:0', grad_fn=<MeanBackward0>)\n",
      "tensor(0.0124, device='cuda:0', grad_fn=<MeanBackward0>)\n",
      "tensor(0.0124, device='cuda:0', grad_fn=<MeanBackward0>)\n",
      "tensor(0.0121, device='cuda:0', grad_fn=<MeanBackward0>)\n",
      "tensor(0.0124, device='cuda:0', grad_fn=<MeanBackward0>)\n",
      "tensor(0.0119, device='cuda:0', grad_fn=<MeanBackward0>)\n",
      "tensor(0.0116, device='cuda:0', grad_fn=<MeanBackward0>)\n",
      "tensor(0.0120, device='cuda:0', grad_fn=<MeanBackward0>)\n",
      "tensor(0.0125, device='cuda:0', grad_fn=<MeanBackward0>)\n",
      "tensor(0.0121, device='cuda:0', grad_fn=<MeanBackward0>)\n",
      "tensor(0.0116, device='cuda:0', grad_fn=<MeanBackward0>)\n"
     ]
    },
    {
     "name": "stderr",
     "output_type": "stream",
     "text": [
      " 57%|███████████████████████████████████████████████████████████████████████████████████████▏                                                                | 1726/3007 [00:24<00:09, 137.46it/s]"
     ]
    },
    {
     "name": "stdout",
     "output_type": "stream",
     "text": [
      "tensor(0.0120, device='cuda:0', grad_fn=<MeanBackward0>)\n",
      "tensor(0.0129, device='cuda:0', grad_fn=<MeanBackward0>)\n",
      "tensor(0.0127, device='cuda:0', grad_fn=<MeanBackward0>)\n",
      "tensor(0.0121, device='cuda:0', grad_fn=<MeanBackward0>)\n",
      "tensor(0.0123, device='cuda:0', grad_fn=<MeanBackward0>)\n",
      "tensor(0.0123, device='cuda:0', grad_fn=<MeanBackward0>)\n",
      "tensor(0.0119, device='cuda:0', grad_fn=<MeanBackward0>)\n",
      "tensor(0.0120, device='cuda:0', grad_fn=<MeanBackward0>)\n",
      "tensor(0.0122, device='cuda:0', grad_fn=<MeanBackward0>)\n",
      "tensor(0.0123, device='cuda:0', grad_fn=<MeanBackward0>)\n",
      "tensor(0.0125, device='cuda:0', grad_fn=<MeanBackward0>)\n",
      "tensor(0.0124, device='cuda:0', grad_fn=<MeanBackward0>)\n",
      "tensor(0.0120, device='cuda:0', grad_fn=<MeanBackward0>)\n",
      "tensor(0.0118, device='cuda:0', grad_fn=<MeanBackward0>)\n",
      "tensor(0.0119, device='cuda:0', grad_fn=<MeanBackward0>)\n",
      "tensor(0.0120, device='cuda:0', grad_fn=<MeanBackward0>)\n"
     ]
    },
    {
     "name": "stderr",
     "output_type": "stream",
     "text": [
      " 58%|███████████████████████████████████████████████████████████████████████████████████████▉                                                                | 1740/3007 [00:24<00:11, 107.03it/s]"
     ]
    },
    {
     "name": "stdout",
     "output_type": "stream",
     "text": [
      "tensor(0.0120, device='cuda:0', grad_fn=<MeanBackward0>)\n",
      "tensor(0.0122, device='cuda:0', grad_fn=<MeanBackward0>)\n",
      "tensor(0.0124, device='cuda:0', grad_fn=<MeanBackward0>)\n",
      "tensor(0.0120, device='cuda:0', grad_fn=<MeanBackward0>)\n",
      "tensor(0.0124, device='cuda:0', grad_fn=<MeanBackward0>)\n",
      "tensor(0.0122, device='cuda:0', grad_fn=<MeanBackward0>)\n",
      "tensor(0.0122, device='cuda:0', grad_fn=<MeanBackward0>)\n",
      "tensor(0.0126, device='cuda:0', grad_fn=<MeanBackward0>)\n",
      "tensor(0.0126, device='cuda:0', grad_fn=<MeanBackward0>)\n",
      "tensor(0.0119, device='cuda:0', grad_fn=<MeanBackward0>)\n",
      "tensor(0.0121, device='cuda:0', grad_fn=<MeanBackward0>)\n"
     ]
    },
    {
     "name": "stderr",
     "output_type": "stream",
     "text": [
      " 58%|█████████████████████████████████████████████████████████████████████████████████████████▏                                                               | 1752/3007 [00:24<00:13, 92.84it/s]"
     ]
    },
    {
     "name": "stdout",
     "output_type": "stream",
     "text": [
      "tensor(0.0123, device='cuda:0', grad_fn=<MeanBackward0>)\n",
      "tensor(0.0121, device='cuda:0', grad_fn=<MeanBackward0>)\n",
      "tensor(0.0118, device='cuda:0', grad_fn=<MeanBackward0>)\n"
     ]
    },
    {
     "name": "stderr",
     "output_type": "stream",
     "text": [
      " 59%|█████████████████████████████████████████████████████████████████████████████████████████▋                                                               | 1763/3007 [00:24<00:14, 84.78it/s]"
     ]
    },
    {
     "name": "stdout",
     "output_type": "stream",
     "text": [
      "tensor(0.0123, device='cuda:0', grad_fn=<MeanBackward0>)\n",
      "tensor(0.0119, device='cuda:0', grad_fn=<MeanBackward0>)\n",
      "tensor(0.0119, device='cuda:0', grad_fn=<MeanBackward0>)\n",
      "tensor(0.0119, device='cuda:0', grad_fn=<MeanBackward0>)\n",
      "tensor(0.0122, device='cuda:0', grad_fn=<MeanBackward0>)\n",
      "tensor(0.0123, device='cuda:0', grad_fn=<MeanBackward0>)\n",
      "tensor(0.0120, device='cuda:0', grad_fn=<MeanBackward0>)\n",
      "tensor(0.0119, device='cuda:0', grad_fn=<MeanBackward0>)\n",
      "tensor(0.0123, device='cuda:0', grad_fn=<MeanBackward0>)\n",
      "tensor(0.0119, device='cuda:0', grad_fn=<MeanBackward0>)\n",
      "tensor(0.0121, device='cuda:0', grad_fn=<MeanBackward0>)\n",
      "tensor(0.0125, device='cuda:0', grad_fn=<MeanBackward0>)\n",
      "tensor(0.0123, device='cuda:0', grad_fn=<MeanBackward0>)\n",
      "tensor(0.0123, device='cuda:0', grad_fn=<MeanBackward0>)\n"
     ]
    },
    {
     "name": "stderr",
     "output_type": "stream",
     "text": [
      " 59%|██████████████████████████████████████████████████████████████████████████████████████████▏                                                              | 1773/3007 [00:24<00:15, 79.81it/s]"
     ]
    },
    {
     "name": "stdout",
     "output_type": "stream",
     "text": [
      "tensor(0.0121, device='cuda:0', grad_fn=<MeanBackward0>)\n",
      "tensor(0.0118, device='cuda:0', grad_fn=<MeanBackward0>)\n",
      "tensor(0.0119, device='cuda:0', grad_fn=<MeanBackward0>)\n",
      "tensor(0.0122, device='cuda:0', grad_fn=<MeanBackward0>)\n",
      "tensor(0.0118, device='cuda:0', grad_fn=<MeanBackward0>)\n",
      "tensor(0.0123, device='cuda:0', grad_fn=<MeanBackward0>)\n",
      "tensor(0.0122, device='cuda:0', grad_fn=<MeanBackward0>)\n",
      "tensor(0.0122, device='cuda:0', grad_fn=<MeanBackward0>)\n",
      "tensor(0.0121, device='cuda:0', grad_fn=<MeanBackward0>)\n",
      "tensor(0.0124, device='cuda:0', grad_fn=<MeanBackward0>)\n",
      "tensor(0.0122, device='cuda:0', grad_fn=<MeanBackward0>)\n",
      "tensor(0.0117, device='cuda:0', grad_fn=<MeanBackward0>)\n",
      "tensor(0.0125, device='cuda:0', grad_fn=<MeanBackward0>)\n",
      "tensor(0.0122, device='cuda:0', grad_fn=<MeanBackward0>)\n"
     ]
    },
    {
     "name": "stderr",
     "output_type": "stream",
     "text": [
      " 60%|███████████████████████████████████████████████████████████████████████████████████████████▏                                                             | 1791/3007 [00:25<00:16, 74.16it/s]"
     ]
    },
    {
     "name": "stdout",
     "output_type": "stream",
     "text": [
      "tensor(0.0122, device='cuda:0', grad_fn=<MeanBackward0>)\n",
      "tensor(0.0121, device='cuda:0', grad_fn=<MeanBackward0>)\n",
      "tensor(0.0122, device='cuda:0', grad_fn=<MeanBackward0>)\n",
      "tensor(0.0125, device='cuda:0', grad_fn=<MeanBackward0>)\n",
      "tensor(0.0120, device='cuda:0', grad_fn=<MeanBackward0>)\n",
      "tensor(0.0122, device='cuda:0', grad_fn=<MeanBackward0>)\n",
      "tensor(0.0129, device='cuda:0', grad_fn=<MeanBackward0>)\n",
      "tensor(0.0124, device='cuda:0', grad_fn=<MeanBackward0>)\n",
      "tensor(0.0122, device='cuda:0', grad_fn=<MeanBackward0>)\n",
      "tensor(0.0121, device='cuda:0', grad_fn=<MeanBackward0>)\n",
      "tensor(0.0127, device='cuda:0', grad_fn=<MeanBackward0>)\n",
      "tensor(0.0127, device='cuda:0', grad_fn=<MeanBackward0>)\n",
      "tensor(0.0124, device='cuda:0', grad_fn=<MeanBackward0>)\n",
      "tensor(0.0123, device='cuda:0', grad_fn=<MeanBackward0>)\n"
     ]
    },
    {
     "name": "stderr",
     "output_type": "stream",
     "text": [
      " 60%|████████████████████████████████████████████████████████████████████████████████████████████▎                                                            | 1815/3007 [00:25<00:12, 93.48it/s]"
     ]
    },
    {
     "name": "stdout",
     "output_type": "stream",
     "text": [
      "tensor(0.0124, device='cuda:0', grad_fn=<MeanBackward0>)\n",
      "tensor(0.0123, device='cuda:0', grad_fn=<MeanBackward0>)\n",
      "tensor(0.0123, device='cuda:0', grad_fn=<MeanBackward0>)\n",
      "tensor(0.0127, device='cuda:0', grad_fn=<MeanBackward0>)\n",
      "tensor(0.0116, device='cuda:0', grad_fn=<MeanBackward0>)\n",
      "tensor(0.0120, device='cuda:0', grad_fn=<MeanBackward0>)\n",
      "tensor(0.0119, device='cuda:0', grad_fn=<MeanBackward0>)\n",
      "tensor(0.0122, device='cuda:0', grad_fn=<MeanBackward0>)\n",
      "tensor(0.0123, device='cuda:0', grad_fn=<MeanBackward0>)\n",
      "tensor(0.0119, device='cuda:0', grad_fn=<MeanBackward0>)\n",
      "tensor(0.0124, device='cuda:0', grad_fn=<MeanBackward0>)\n",
      "tensor(0.0122, device='cuda:0', grad_fn=<MeanBackward0>)\n",
      "tensor(0.0128, device='cuda:0', grad_fn=<MeanBackward0>)\n",
      "tensor(0.0124, device='cuda:0', grad_fn=<MeanBackward0>)\n",
      "tensor(0.0122, device='cuda:0', grad_fn=<MeanBackward0>)\n",
      "tensor(0.0121, device='cuda:0', grad_fn=<MeanBackward0>)\n",
      "tensor(0.0118, device='cuda:0', grad_fn=<MeanBackward0>)\n",
      "tensor(0.0126, device='cuda:0', grad_fn=<MeanBackward0>)\n",
      "tensor(0.0125, device='cuda:0', grad_fn=<MeanBackward0>)\n",
      "tensor(0.0125, device='cuda:0', grad_fn=<MeanBackward0>)\n",
      "tensor(0.0122, device='cuda:0', grad_fn=<MeanBackward0>)\n",
      "tensor(0.0121, device='cuda:0', grad_fn=<MeanBackward0>)\n",
      "tensor(0.0122, device='cuda:0', grad_fn=<MeanBackward0>)\n",
      "tensor(0.0123, device='cuda:0', grad_fn=<MeanBackward0>)\n",
      "tensor(0.0127, device='cuda:0', grad_fn=<MeanBackward0>)\n",
      "tensor(0.0126, device='cuda:0', grad_fn=<MeanBackward0>)\n",
      "tensor(0.0121, device='cuda:0', grad_fn=<MeanBackward0>)\n",
      "tensor(0.0126, device='cuda:0', grad_fn=<MeanBackward0>)\n",
      "tensor(0.0128, device='cuda:0', grad_fn=<MeanBackward0>)\n",
      "tensor(0.0124, device='cuda:0', grad_fn=<MeanBackward0>)\n"
     ]
    },
    {
     "name": "stderr",
     "output_type": "stream",
     "text": [
      " 61%|████████████████████████████████████████████████████████████████████████████████████████████▍                                                           | 1829/3007 [00:25<00:11, 103.38it/s]"
     ]
    },
    {
     "name": "stdout",
     "output_type": "stream",
     "text": [
      "tensor(0.0118, device='cuda:0', grad_fn=<MeanBackward0>)\n",
      "tensor(0.0123, device='cuda:0', grad_fn=<MeanBackward0>)\n",
      "tensor(0.0122, device='cuda:0', grad_fn=<MeanBackward0>)\n",
      "tensor(0.0122, device='cuda:0', grad_fn=<MeanBackward0>)\n",
      "tensor(0.0125, device='cuda:0', grad_fn=<MeanBackward0>)\n",
      "tensor(0.0123, device='cuda:0', grad_fn=<MeanBackward0>)\n",
      "tensor(0.0121, device='cuda:0', grad_fn=<MeanBackward0>)\n",
      "tensor(0.0123, device='cuda:0', grad_fn=<MeanBackward0>)\n",
      "tensor(0.0119, device='cuda:0', grad_fn=<MeanBackward0>)\n",
      "tensor(0.0123, device='cuda:0', grad_fn=<MeanBackward0>)\n",
      "tensor(0.0119, device='cuda:0', grad_fn=<MeanBackward0>)\n",
      "tensor(0.0124, device='cuda:0', grad_fn=<MeanBackward0>)\n",
      "tensor(0.0122, device='cuda:0', grad_fn=<MeanBackward0>)\n",
      "tensor(0.0122, device='cuda:0', grad_fn=<MeanBackward0>)\n"
     ]
    },
    {
     "name": "stderr",
     "output_type": "stream",
     "text": [
      " 62%|██████████████████████████████████████████████████████████████████████████████████████████████▏                                                          | 1850/3007 [00:25<00:13, 82.95it/s]"
     ]
    },
    {
     "name": "stdout",
     "output_type": "stream",
     "text": [
      "tensor(0.0119, device='cuda:0', grad_fn=<MeanBackward0>)\n",
      "tensor(0.0120, device='cuda:0', grad_fn=<MeanBackward0>)\n",
      "tensor(0.0123, device='cuda:0', grad_fn=<MeanBackward0>)\n",
      "tensor(0.0119, device='cuda:0', grad_fn=<MeanBackward0>)\n",
      "tensor(0.0120, device='cuda:0', grad_fn=<MeanBackward0>)\n",
      "tensor(0.0121, device='cuda:0', grad_fn=<MeanBackward0>)\n",
      "tensor(0.0116, device='cuda:0', grad_fn=<MeanBackward0>)\n",
      "tensor(0.0122, device='cuda:0', grad_fn=<MeanBackward0>)\n",
      "tensor(0.0124, device='cuda:0', grad_fn=<MeanBackward0>)\n",
      "tensor(0.0119, device='cuda:0', grad_fn=<MeanBackward0>)\n",
      "tensor(0.0118, device='cuda:0', grad_fn=<MeanBackward0>)\n",
      "tensor(0.0127, device='cuda:0', grad_fn=<MeanBackward0>)\n",
      "tensor(0.0123, device='cuda:0', grad_fn=<MeanBackward0>)\n",
      "tensor(0.0123, device='cuda:0', grad_fn=<MeanBackward0>)\n"
     ]
    },
    {
     "name": "stderr",
     "output_type": "stream",
     "text": [
      " 62%|██████████████████████████████████████████████████████████████████████████████████████████████▌                                                          | 1859/3007 [00:25<00:14, 78.67it/s]"
     ]
    },
    {
     "name": "stdout",
     "output_type": "stream",
     "text": [
      "tensor(0.0122, device='cuda:0', grad_fn=<MeanBackward0>)\n",
      "tensor(0.0124, device='cuda:0', grad_fn=<MeanBackward0>)\n",
      "tensor(0.0127, device='cuda:0', grad_fn=<MeanBackward0>)\n",
      "tensor(0.0120, device='cuda:0', grad_fn=<MeanBackward0>)\n",
      "tensor(0.0123, device='cuda:0', grad_fn=<MeanBackward0>)\n",
      "tensor(0.0116, device='cuda:0', grad_fn=<MeanBackward0>)\n",
      "tensor(0.0118, device='cuda:0', grad_fn=<MeanBackward0>)\n",
      "tensor(0.0126, device='cuda:0', grad_fn=<MeanBackward0>)\n",
      "tensor(0.0123, device='cuda:0', grad_fn=<MeanBackward0>)\n",
      "tensor(0.0124, device='cuda:0', grad_fn=<MeanBackward0>)\n",
      "tensor(0.0124, device='cuda:0', grad_fn=<MeanBackward0>)\n",
      "tensor(0.0122, device='cuda:0', grad_fn=<MeanBackward0>)\n",
      "tensor(0.0119, device='cuda:0', grad_fn=<MeanBackward0>)\n",
      "tensor(0.0125, device='cuda:0', grad_fn=<MeanBackward0>)\n"
     ]
    },
    {
     "name": "stderr",
     "output_type": "stream",
     "text": [
      " 62%|███████████████████████████████████████████████████████████████████████████████████████████████▍                                                         | 1876/3007 [00:26<00:15, 73.17it/s]"
     ]
    },
    {
     "name": "stdout",
     "output_type": "stream",
     "text": [
      "tensor(0.0117, device='cuda:0', grad_fn=<MeanBackward0>)\n",
      "tensor(0.0122, device='cuda:0', grad_fn=<MeanBackward0>)\n",
      "tensor(0.0120, device='cuda:0', grad_fn=<MeanBackward0>)\n",
      "tensor(0.0123, device='cuda:0', grad_fn=<MeanBackward0>)\n",
      "tensor(0.0122, device='cuda:0', grad_fn=<MeanBackward0>)\n",
      "tensor(0.0124, device='cuda:0', grad_fn=<MeanBackward0>)\n",
      "tensor(0.0123, device='cuda:0', grad_fn=<MeanBackward0>)\n",
      "tensor(0.0121, device='cuda:0', grad_fn=<MeanBackward0>)\n",
      "tensor(0.0125, device='cuda:0', grad_fn=<MeanBackward0>)\n",
      "tensor(0.0121, device='cuda:0', grad_fn=<MeanBackward0>)\n",
      "tensor(0.0121, device='cuda:0', grad_fn=<MeanBackward0>)\n",
      "tensor(0.0118, device='cuda:0', grad_fn=<MeanBackward0>)\n",
      "tensor(0.0122, device='cuda:0', grad_fn=<MeanBackward0>)\n",
      "tensor(0.0120, device='cuda:0', grad_fn=<MeanBackward0>)\n"
     ]
    },
    {
     "name": "stderr",
     "output_type": "stream",
     "text": [
      " 63%|████████████████████████████████████████████████████████████████████████████████████████████████▎                                                        | 1892/3007 [00:26<00:15, 70.62it/s]"
     ]
    },
    {
     "name": "stdout",
     "output_type": "stream",
     "text": [
      "tensor(0.0124, device='cuda:0', grad_fn=<MeanBackward0>)\n",
      "tensor(0.0122, device='cuda:0', grad_fn=<MeanBackward0>)\n",
      "tensor(0.0124, device='cuda:0', grad_fn=<MeanBackward0>)\n",
      "tensor(0.0121, device='cuda:0', grad_fn=<MeanBackward0>)\n",
      "tensor(0.0123, device='cuda:0', grad_fn=<MeanBackward0>)\n",
      "tensor(0.0122, device='cuda:0', grad_fn=<MeanBackward0>)\n",
      "tensor(0.0124, device='cuda:0', grad_fn=<MeanBackward0>)\n",
      "tensor(0.0121, device='cuda:0', grad_fn=<MeanBackward0>)\n",
      "tensor(0.0121, device='cuda:0', grad_fn=<MeanBackward0>)\n",
      "tensor(0.0120, device='cuda:0', grad_fn=<MeanBackward0>)\n",
      "tensor(0.0120, device='cuda:0', grad_fn=<MeanBackward0>)\n",
      "tensor(0.0121, device='cuda:0', grad_fn=<MeanBackward0>)\n",
      "tensor(0.0122, device='cuda:0', grad_fn=<MeanBackward0>)\n",
      "tensor(0.0123, device='cuda:0', grad_fn=<MeanBackward0>)\n"
     ]
    },
    {
     "name": "stderr",
     "output_type": "stream",
     "text": [
      " 63%|████████████████████████████████████████████████████████████████████████████████████████████████▊                                                        | 1903/3007 [00:26<00:13, 79.70it/s]"
     ]
    },
    {
     "name": "stdout",
     "output_type": "stream",
     "text": [
      "tensor(0.0120, device='cuda:0', grad_fn=<MeanBackward0>)\n",
      "tensor(0.0120, device='cuda:0', grad_fn=<MeanBackward0>)\n",
      "tensor(0.0118, device='cuda:0', grad_fn=<MeanBackward0>)\n",
      "tensor(0.0122, device='cuda:0', grad_fn=<MeanBackward0>)\n",
      "tensor(0.0124, device='cuda:0', grad_fn=<MeanBackward0>)\n",
      "tensor(0.0122, device='cuda:0', grad_fn=<MeanBackward0>)\n",
      "tensor(0.0118, device='cuda:0', grad_fn=<MeanBackward0>)\n",
      "tensor(0.0123, device='cuda:0', grad_fn=<MeanBackward0>)\n",
      "tensor(0.0123, device='cuda:0', grad_fn=<MeanBackward0>)\n",
      "tensor(0.0120, device='cuda:0', grad_fn=<MeanBackward0>)\n",
      "tensor(0.0122, device='cuda:0', grad_fn=<MeanBackward0>)\n",
      "tensor(0.0124, device='cuda:0', grad_fn=<MeanBackward0>)\n",
      "tensor(0.0122, device='cuda:0', grad_fn=<MeanBackward0>)\n",
      "tensor(0.0124, device='cuda:0', grad_fn=<MeanBackward0>)\n",
      "tensor(0.0126, device='cuda:0', grad_fn=<MeanBackward0>)\n",
      "tensor(0.0120, device='cuda:0', grad_fn=<MeanBackward0>)\n",
      "tensor(0.0122, device='cuda:0', grad_fn=<MeanBackward0>)\n",
      "tensor(0.0121, device='cuda:0', grad_fn=<MeanBackward0>)\n"
     ]
    },
    {
     "name": "stderr",
     "output_type": "stream",
     "text": [
      " 64%|█████████████████████████████████████████████████████████████████████████████████████████████████▎                                                       | 1913/3007 [00:26<00:13, 83.22it/s]"
     ]
    },
    {
     "name": "stdout",
     "output_type": "stream",
     "text": [
      "tensor(0.0119, device='cuda:0', grad_fn=<MeanBackward0>)\n",
      "tensor(0.0126, device='cuda:0', grad_fn=<MeanBackward0>)\n",
      "tensor(0.0120, device='cuda:0', grad_fn=<MeanBackward0>)\n"
     ]
    },
    {
     "name": "stderr",
     "output_type": "stream",
     "text": [
      " 64%|█████████████████████████████████████████████████████████████████████████████████████████████████▊                                                       | 1922/3007 [00:26<00:13, 77.87it/s]"
     ]
    },
    {
     "name": "stdout",
     "output_type": "stream",
     "text": [
      "tensor(0.0124, device='cuda:0', grad_fn=<MeanBackward0>)\n",
      "tensor(0.0120, device='cuda:0', grad_fn=<MeanBackward0>)\n",
      "tensor(0.0121, device='cuda:0', grad_fn=<MeanBackward0>)\n",
      "tensor(0.0120, device='cuda:0', grad_fn=<MeanBackward0>)\n",
      "tensor(0.0122, device='cuda:0', grad_fn=<MeanBackward0>)\n",
      "tensor(0.0129, device='cuda:0', grad_fn=<MeanBackward0>)\n",
      "tensor(0.0123, device='cuda:0', grad_fn=<MeanBackward0>)\n",
      "tensor(0.0121, device='cuda:0', grad_fn=<MeanBackward0>)\n",
      "tensor(0.0119, device='cuda:0', grad_fn=<MeanBackward0>)\n",
      "tensor(0.0121, device='cuda:0', grad_fn=<MeanBackward0>)\n",
      "tensor(0.0120, device='cuda:0', grad_fn=<MeanBackward0>)\n"
     ]
    },
    {
     "name": "stderr",
     "output_type": "stream",
     "text": [
      " 64%|██████████████████████████████████████████████████████████████████████████████████████████████████▏                                                      | 1930/3007 [00:26<00:14, 75.07it/s]"
     ]
    },
    {
     "name": "stdout",
     "output_type": "stream",
     "text": [
      "tensor(0.0122, device='cuda:0', grad_fn=<MeanBackward0>)\n",
      "tensor(0.0124, device='cuda:0', grad_fn=<MeanBackward0>)\n",
      "tensor(0.0120, device='cuda:0', grad_fn=<MeanBackward0>)\n"
     ]
    },
    {
     "name": "stderr",
     "output_type": "stream",
     "text": [
      " 64%|██████████████████████████████████████████████████████████████████████████████████████████████████▌                                                      | 1938/3007 [00:26<00:14, 72.73it/s]"
     ]
    },
    {
     "name": "stdout",
     "output_type": "stream",
     "text": [
      "tensor(0.0116, device='cuda:0', grad_fn=<MeanBackward0>)\n",
      "tensor(0.0119, device='cuda:0', grad_fn=<MeanBackward0>)\n",
      "tensor(0.0121, device='cuda:0', grad_fn=<MeanBackward0>)\n",
      "tensor(0.0125, device='cuda:0', grad_fn=<MeanBackward0>)\n",
      "tensor(0.0124, device='cuda:0', grad_fn=<MeanBackward0>)\n",
      "tensor(0.0118, device='cuda:0', grad_fn=<MeanBackward0>)\n",
      "tensor(0.0122, device='cuda:0', grad_fn=<MeanBackward0>)\n",
      "tensor(0.0116, device='cuda:0', grad_fn=<MeanBackward0>)\n",
      "tensor(0.0122, device='cuda:0', grad_fn=<MeanBackward0>)\n",
      "tensor(0.0122, device='cuda:0', grad_fn=<MeanBackward0>)\n",
      "tensor(0.0121, device='cuda:0', grad_fn=<MeanBackward0>)\n",
      "tensor(0.0123, device='cuda:0', grad_fn=<MeanBackward0>)\n",
      "tensor(0.0123, device='cuda:0', grad_fn=<MeanBackward0>)\n",
      "tensor(0.0120, device='cuda:0', grad_fn=<MeanBackward0>)\n"
     ]
    },
    {
     "name": "stderr",
     "output_type": "stream",
     "text": [
      " 65%|███████████████████████████████████████████████████████████████████████████████████████████████████▍                                                     | 1954/3007 [00:27<00:15, 70.07it/s]"
     ]
    },
    {
     "name": "stdout",
     "output_type": "stream",
     "text": [
      "tensor(0.0123, device='cuda:0', grad_fn=<MeanBackward0>)\n",
      "tensor(0.0120, device='cuda:0', grad_fn=<MeanBackward0>)\n",
      "tensor(0.0121, device='cuda:0', grad_fn=<MeanBackward0>)\n",
      "tensor(0.0118, device='cuda:0', grad_fn=<MeanBackward0>)\n",
      "tensor(0.0122, device='cuda:0', grad_fn=<MeanBackward0>)\n",
      "tensor(0.0117, device='cuda:0', grad_fn=<MeanBackward0>)\n",
      "tensor(0.0125, device='cuda:0', grad_fn=<MeanBackward0>)\n",
      "tensor(0.0122, device='cuda:0', grad_fn=<MeanBackward0>)\n",
      "tensor(0.0123, device='cuda:0', grad_fn=<MeanBackward0>)\n",
      "tensor(0.0118, device='cuda:0', grad_fn=<MeanBackward0>)\n",
      "tensor(0.0121, device='cuda:0', grad_fn=<MeanBackward0>)\n",
      "tensor(0.0121, device='cuda:0', grad_fn=<MeanBackward0>)\n",
      "tensor(0.0119, device='cuda:0', grad_fn=<MeanBackward0>)\n",
      "tensor(0.0119, device='cuda:0', grad_fn=<MeanBackward0>)\n"
     ]
    },
    {
     "name": "stderr",
     "output_type": "stream",
     "text": [
      " 65%|████████████████████████████████████████████████████████████████████████████████████████████████████▏                                                    | 1969/3007 [00:27<00:15, 68.92it/s]"
     ]
    },
    {
     "name": "stdout",
     "output_type": "stream",
     "text": [
      "tensor(0.0126, device='cuda:0', grad_fn=<MeanBackward0>)\n",
      "tensor(0.0122, device='cuda:0', grad_fn=<MeanBackward0>)\n",
      "tensor(0.0117, device='cuda:0', grad_fn=<MeanBackward0>)\n",
      "tensor(0.0119, device='cuda:0', grad_fn=<MeanBackward0>)\n",
      "tensor(0.0121, device='cuda:0', grad_fn=<MeanBackward0>)\n",
      "tensor(0.0120, device='cuda:0', grad_fn=<MeanBackward0>)\n",
      "tensor(0.0121, device='cuda:0', grad_fn=<MeanBackward0>)\n",
      "tensor(0.0117, device='cuda:0', grad_fn=<MeanBackward0>)\n",
      "tensor(0.0121, device='cuda:0', grad_fn=<MeanBackward0>)\n",
      "tensor(0.0116, device='cuda:0', grad_fn=<MeanBackward0>)\n",
      "tensor(0.0123, device='cuda:0', grad_fn=<MeanBackward0>)\n",
      "tensor(0.0123, device='cuda:0', grad_fn=<MeanBackward0>)\n",
      "tensor(0.0121, device='cuda:0', grad_fn=<MeanBackward0>)\n",
      "tensor(0.0119, device='cuda:0', grad_fn=<MeanBackward0>)\n"
     ]
    },
    {
     "name": "stderr",
     "output_type": "stream",
     "text": [
      " 66%|█████████████████████████████████████████████████████████████████████████████████████████████████████▍                                                   | 1993/3007 [00:27<00:10, 96.23it/s]"
     ]
    },
    {
     "name": "stdout",
     "output_type": "stream",
     "text": [
      "tensor(0.0129, device='cuda:0', grad_fn=<MeanBackward0>)\n",
      "tensor(0.0120, device='cuda:0', grad_fn=<MeanBackward0>)\n",
      "tensor(0.0123, device='cuda:0', grad_fn=<MeanBackward0>)\n",
      "tensor(0.0120, device='cuda:0', grad_fn=<MeanBackward0>)\n",
      "tensor(0.0119, device='cuda:0', grad_fn=<MeanBackward0>)\n",
      "tensor(0.0122, device='cuda:0', grad_fn=<MeanBackward0>)\n",
      "tensor(0.0122, device='cuda:0', grad_fn=<MeanBackward0>)\n",
      "tensor(0.0122, device='cuda:0', grad_fn=<MeanBackward0>)\n",
      "tensor(0.0121, device='cuda:0', grad_fn=<MeanBackward0>)\n",
      "tensor(0.0124, device='cuda:0', grad_fn=<MeanBackward0>)\n",
      "tensor(0.0123, device='cuda:0', grad_fn=<MeanBackward0>)\n",
      "tensor(0.0120, device='cuda:0', grad_fn=<MeanBackward0>)\n",
      "tensor(0.0123, device='cuda:0', grad_fn=<MeanBackward0>)\n",
      "tensor(0.0121, device='cuda:0', grad_fn=<MeanBackward0>)\n",
      "tensor(0.0125, device='cuda:0', grad_fn=<MeanBackward0>)\n",
      "tensor(0.0120, device='cuda:0', grad_fn=<MeanBackward0>)\n",
      "tensor(0.0119, device='cuda:0', grad_fn=<MeanBackward0>)\n",
      "tensor(0.0121, device='cuda:0', grad_fn=<MeanBackward0>)\n",
      "tensor(0.0116, device='cuda:0', grad_fn=<MeanBackward0>)\n",
      "tensor(0.0121, device='cuda:0', grad_fn=<MeanBackward0>)\n",
      "tensor(0.0126, device='cuda:0', grad_fn=<MeanBackward0>)\n",
      "tensor(0.0125, device='cuda:0', grad_fn=<MeanBackward0>)\n",
      "tensor(0.0121, device='cuda:0', grad_fn=<MeanBackward0>)\n",
      "tensor(0.0124, device='cuda:0', grad_fn=<MeanBackward0>)\n",
      "tensor(0.0124, device='cuda:0', grad_fn=<MeanBackward0>)\n",
      "tensor(0.0120, device='cuda:0', grad_fn=<MeanBackward0>)\n"
     ]
    },
    {
     "name": "stderr",
     "output_type": "stream",
     "text": [
      " 67%|█████████████████████████████████████████████████████████████████████████████████████████████████████▉                                                   | 2003/3007 [00:27<00:11, 90.46it/s]"
     ]
    },
    {
     "name": "stdout",
     "output_type": "stream",
     "text": [
      "tensor(0.0125, device='cuda:0', grad_fn=<MeanBackward0>)\n",
      "tensor(0.0118, device='cuda:0', grad_fn=<MeanBackward0>)\n",
      "tensor(0.0122, device='cuda:0', grad_fn=<MeanBackward0>)\n",
      "tensor(0.0120, device='cuda:0', grad_fn=<MeanBackward0>)\n",
      "tensor(0.0123, device='cuda:0', grad_fn=<MeanBackward0>)\n",
      "tensor(0.0125, device='cuda:0', grad_fn=<MeanBackward0>)\n",
      "tensor(0.0122, device='cuda:0', grad_fn=<MeanBackward0>)\n",
      "tensor(0.0119, device='cuda:0', grad_fn=<MeanBackward0>)\n",
      "tensor(0.0119, device='cuda:0', grad_fn=<MeanBackward0>)\n",
      "tensor(0.0123, device='cuda:0', grad_fn=<MeanBackward0>)\n",
      "tensor(0.0118, device='cuda:0', grad_fn=<MeanBackward0>)\n",
      "tensor(0.0123, device='cuda:0', grad_fn=<MeanBackward0>)\n",
      "tensor(0.0122, device='cuda:0', grad_fn=<MeanBackward0>)\n",
      "tensor(0.0120, device='cuda:0', grad_fn=<MeanBackward0>)\n"
     ]
    },
    {
     "name": "stderr",
     "output_type": "stream",
     "text": [
      " 67%|██████████████████████████████████████████████████████████████████████████████████████████████████████▉                                                  | 2022/3007 [00:27<00:12, 77.58it/s]"
     ]
    },
    {
     "name": "stdout",
     "output_type": "stream",
     "text": [
      "tensor(0.0124, device='cuda:0', grad_fn=<MeanBackward0>)\n",
      "tensor(0.0121, device='cuda:0', grad_fn=<MeanBackward0>)\n",
      "tensor(0.0126, device='cuda:0', grad_fn=<MeanBackward0>)\n",
      "tensor(0.0123, device='cuda:0', grad_fn=<MeanBackward0>)\n",
      "tensor(0.0125, device='cuda:0', grad_fn=<MeanBackward0>)\n",
      "tensor(0.0122, device='cuda:0', grad_fn=<MeanBackward0>)\n",
      "tensor(0.0121, device='cuda:0', grad_fn=<MeanBackward0>)\n",
      "tensor(0.0123, device='cuda:0', grad_fn=<MeanBackward0>)\n",
      "tensor(0.0116, device='cuda:0', grad_fn=<MeanBackward0>)\n",
      "tensor(0.0121, device='cuda:0', grad_fn=<MeanBackward0>)\n",
      "tensor(0.0120, device='cuda:0', grad_fn=<MeanBackward0>)\n",
      "tensor(0.0123, device='cuda:0', grad_fn=<MeanBackward0>)\n",
      "tensor(0.0123, device='cuda:0', grad_fn=<MeanBackward0>)\n",
      "tensor(0.0123, device='cuda:0', grad_fn=<MeanBackward0>)\n"
     ]
    },
    {
     "name": "stderr",
     "output_type": "stream",
     "text": [
      " 68%|███████████████████████████████████████████████████████████████████████████████████████████████████████▎                                                 | 2030/3007 [00:28<00:13, 74.83it/s]"
     ]
    },
    {
     "name": "stdout",
     "output_type": "stream",
     "text": [
      "tensor(0.0122, device='cuda:0', grad_fn=<MeanBackward0>)\n",
      "tensor(0.0119, device='cuda:0', grad_fn=<MeanBackward0>)\n",
      "tensor(0.0120, device='cuda:0', grad_fn=<MeanBackward0>)\n",
      "tensor(0.0123, device='cuda:0', grad_fn=<MeanBackward0>)\n",
      "tensor(0.0121, device='cuda:0', grad_fn=<MeanBackward0>)\n",
      "tensor(0.0122, device='cuda:0', grad_fn=<MeanBackward0>)\n",
      "tensor(0.0121, device='cuda:0', grad_fn=<MeanBackward0>)\n",
      "tensor(0.0126, device='cuda:0', grad_fn=<MeanBackward0>)\n",
      "tensor(0.0119, device='cuda:0', grad_fn=<MeanBackward0>)\n",
      "tensor(0.0118, device='cuda:0', grad_fn=<MeanBackward0>)\n",
      "tensor(0.0122, device='cuda:0', grad_fn=<MeanBackward0>)\n"
     ]
    },
    {
     "name": "stderr",
     "output_type": "stream",
     "text": [
      " 68%|███████████████████████████████████████████████████████████████████████████████████████████████████████▋                                                 | 2038/3007 [00:28<00:13, 72.80it/s]"
     ]
    },
    {
     "name": "stdout",
     "output_type": "stream",
     "text": [
      "tensor(0.0123, device='cuda:0', grad_fn=<MeanBackward0>)\n",
      "tensor(0.0123, device='cuda:0', grad_fn=<MeanBackward0>)\n",
      "tensor(0.0122, device='cuda:0', grad_fn=<MeanBackward0>)\n"
     ]
    },
    {
     "name": "stderr",
     "output_type": "stream",
     "text": [
      " 68%|████████████████████████████████████████████████████████████████████████████████████████████████████████                                                 | 2046/3007 [00:28<00:13, 71.14it/s]"
     ]
    },
    {
     "name": "stdout",
     "output_type": "stream",
     "text": [
      "tensor(0.0122, device='cuda:0', grad_fn=<MeanBackward0>)\n",
      "tensor(0.0118, device='cuda:0', grad_fn=<MeanBackward0>)\n",
      "tensor(0.0120, device='cuda:0', grad_fn=<MeanBackward0>)\n",
      "tensor(0.0126, device='cuda:0', grad_fn=<MeanBackward0>)\n",
      "tensor(0.0121, device='cuda:0', grad_fn=<MeanBackward0>)\n",
      "tensor(0.0126, device='cuda:0', grad_fn=<MeanBackward0>)\n",
      "tensor(0.0122, device='cuda:0', grad_fn=<MeanBackward0>)\n",
      "tensor(0.0121, device='cuda:0', grad_fn=<MeanBackward0>)\n",
      "tensor(0.0121, device='cuda:0', grad_fn=<MeanBackward0>)\n",
      "tensor(0.0122, device='cuda:0', grad_fn=<MeanBackward0>)\n",
      "tensor(0.0121, device='cuda:0', grad_fn=<MeanBackward0>)\n"
     ]
    },
    {
     "name": "stderr",
     "output_type": "stream",
     "text": [
      " 68%|████████████████████████████████████████████████████████████████████████████████████████████████████████▌                                                | 2054/3007 [00:28<00:13, 69.99it/s]"
     ]
    },
    {
     "name": "stdout",
     "output_type": "stream",
     "text": [
      "tensor(0.0122, device='cuda:0', grad_fn=<MeanBackward0>)\n",
      "tensor(0.0121, device='cuda:0', grad_fn=<MeanBackward0>)\n",
      "tensor(0.0125, device='cuda:0', grad_fn=<MeanBackward0>)\n"
     ]
    },
    {
     "name": "stderr",
     "output_type": "stream",
     "text": [
      " 69%|████████████████████████████████████████████████████████████████████████████████████████████████████████▉                                                | 2062/3007 [00:28<00:13, 69.49it/s]"
     ]
    },
    {
     "name": "stdout",
     "output_type": "stream",
     "text": [
      "tensor(0.0120, device='cuda:0', grad_fn=<MeanBackward0>)\n",
      "tensor(0.0121, device='cuda:0', grad_fn=<MeanBackward0>)\n",
      "tensor(0.0117, device='cuda:0', grad_fn=<MeanBackward0>)\n",
      "tensor(0.0120, device='cuda:0', grad_fn=<MeanBackward0>)\n",
      "tensor(0.0125, device='cuda:0', grad_fn=<MeanBackward0>)\n",
      "tensor(0.0122, device='cuda:0', grad_fn=<MeanBackward0>)\n",
      "tensor(0.0117, device='cuda:0', grad_fn=<MeanBackward0>)\n",
      "tensor(0.0121, device='cuda:0', grad_fn=<MeanBackward0>)\n",
      "tensor(0.0124, device='cuda:0', grad_fn=<MeanBackward0>)\n",
      "tensor(0.0128, device='cuda:0', grad_fn=<MeanBackward0>)\n",
      "tensor(0.0123, device='cuda:0', grad_fn=<MeanBackward0>)\n",
      "tensor(0.0120, device='cuda:0', grad_fn=<MeanBackward0>)\n",
      "tensor(0.0119, device='cuda:0', grad_fn=<MeanBackward0>)\n",
      "tensor(0.0121, device='cuda:0', grad_fn=<MeanBackward0>)\n",
      "tensor(0.0123, device='cuda:0', grad_fn=<MeanBackward0>)\n",
      "tensor(0.0122, device='cuda:0', grad_fn=<MeanBackward0>)\n"
     ]
    },
    {
     "name": "stderr",
     "output_type": "stream",
     "text": [
      " 69%|█████████████████████████████████████████████████████████████████████████████████████████████████████████▊                                               | 2079/3007 [00:28<00:12, 74.30it/s]"
     ]
    },
    {
     "name": "stdout",
     "output_type": "stream",
     "text": [
      "tensor(0.0121, device='cuda:0', grad_fn=<MeanBackward0>)\n",
      "tensor(0.0123, device='cuda:0', grad_fn=<MeanBackward0>)\n",
      "tensor(0.0124, device='cuda:0', grad_fn=<MeanBackward0>)\n",
      "tensor(0.0121, device='cuda:0', grad_fn=<MeanBackward0>)\n",
      "tensor(0.0122, device='cuda:0', grad_fn=<MeanBackward0>)\n",
      "tensor(0.0121, device='cuda:0', grad_fn=<MeanBackward0>)\n",
      "tensor(0.0123, device='cuda:0', grad_fn=<MeanBackward0>)\n",
      "tensor(0.0121, device='cuda:0', grad_fn=<MeanBackward0>)\n",
      "tensor(0.0122, device='cuda:0', grad_fn=<MeanBackward0>)\n",
      "tensor(0.0122, device='cuda:0', grad_fn=<MeanBackward0>)\n",
      "tensor(0.0119, device='cuda:0', grad_fn=<MeanBackward0>)\n",
      "tensor(0.0118, device='cuda:0', grad_fn=<MeanBackward0>)\n",
      "tensor(0.0122, device='cuda:0', grad_fn=<MeanBackward0>)\n",
      "tensor(0.0122, device='cuda:0', grad_fn=<MeanBackward0>)\n",
      "tensor(0.0124, device='cuda:0', grad_fn=<MeanBackward0>)\n"
     ]
    },
    {
     "name": "stderr",
     "output_type": "stream",
     "text": [
      " 70%|██████████████████████████████████████████████████████████████████████████████████████████████████████████▌                                              | 2095/3007 [00:28<00:12, 70.99it/s]"
     ]
    },
    {
     "name": "stdout",
     "output_type": "stream",
     "text": [
      "tensor(0.0122, device='cuda:0', grad_fn=<MeanBackward0>)\n",
      "tensor(0.0124, device='cuda:0', grad_fn=<MeanBackward0>)\n",
      "tensor(0.0123, device='cuda:0', grad_fn=<MeanBackward0>)\n",
      "tensor(0.0119, device='cuda:0', grad_fn=<MeanBackward0>)\n",
      "tensor(0.0122, device='cuda:0', grad_fn=<MeanBackward0>)\n",
      "tensor(0.0122, device='cuda:0', grad_fn=<MeanBackward0>)\n",
      "tensor(0.0124, device='cuda:0', grad_fn=<MeanBackward0>)\n",
      "tensor(0.0121, device='cuda:0', grad_fn=<MeanBackward0>)\n",
      "tensor(0.0121, device='cuda:0', grad_fn=<MeanBackward0>)\n",
      "tensor(0.0122, device='cuda:0', grad_fn=<MeanBackward0>)\n",
      "tensor(0.0124, device='cuda:0', grad_fn=<MeanBackward0>)\n",
      "tensor(0.0121, device='cuda:0', grad_fn=<MeanBackward0>)\n",
      "tensor(0.0122, device='cuda:0', grad_fn=<MeanBackward0>)\n",
      "tensor(0.0118, device='cuda:0', grad_fn=<MeanBackward0>)\n"
     ]
    },
    {
     "name": "stderr",
     "output_type": "stream",
     "text": [
      " 70%|███████████████████████████████████████████████████████████████████████████████████████████████████████████                                              | 2103/3007 [00:29<00:12, 69.87it/s]"
     ]
    },
    {
     "name": "stdout",
     "output_type": "stream",
     "text": [
      "tensor(0.0124, device='cuda:0', grad_fn=<MeanBackward0>)\n",
      "tensor(0.0122, device='cuda:0', grad_fn=<MeanBackward0>)\n",
      "tensor(0.0120, device='cuda:0', grad_fn=<MeanBackward0>)\n",
      "tensor(0.0121, device='cuda:0', grad_fn=<MeanBackward0>)\n",
      "tensor(0.0121, device='cuda:0', grad_fn=<MeanBackward0>)\n",
      "tensor(0.0118, device='cuda:0', grad_fn=<MeanBackward0>)\n",
      "tensor(0.0118, device='cuda:0', grad_fn=<MeanBackward0>)\n",
      "tensor(0.0124, device='cuda:0', grad_fn=<MeanBackward0>)\n",
      "tensor(0.0123, device='cuda:0', grad_fn=<MeanBackward0>)\n",
      "tensor(0.0124, device='cuda:0', grad_fn=<MeanBackward0>)\n",
      "tensor(0.0123, device='cuda:0', grad_fn=<MeanBackward0>)\n"
     ]
    },
    {
     "name": "stderr",
     "output_type": "stream",
     "text": [
      " 70%|███████████████████████████████████████████████████████████████████████████████████████████████████████████▍                                             | 2111/3007 [00:29<00:12, 69.10it/s]"
     ]
    },
    {
     "name": "stdout",
     "output_type": "stream",
     "text": [
      "tensor(0.0121, device='cuda:0', grad_fn=<MeanBackward0>)\n",
      "tensor(0.0122, device='cuda:0', grad_fn=<MeanBackward0>)\n",
      "tensor(0.0119, device='cuda:0', grad_fn=<MeanBackward0>)\n"
     ]
    },
    {
     "name": "stderr",
     "output_type": "stream",
     "text": [
      " 70%|███████████████████████████████████████████████████████████████████████████████████████████████████████████▊                                             | 2118/3007 [00:29<00:12, 68.88it/s]"
     ]
    },
    {
     "name": "stdout",
     "output_type": "stream",
     "text": [
      "tensor(0.0120, device='cuda:0', grad_fn=<MeanBackward0>)\n",
      "tensor(0.0120, device='cuda:0', grad_fn=<MeanBackward0>)\n",
      "tensor(0.0119, device='cuda:0', grad_fn=<MeanBackward0>)\n",
      "tensor(0.0125, device='cuda:0', grad_fn=<MeanBackward0>)\n",
      "tensor(0.0118, device='cuda:0', grad_fn=<MeanBackward0>)\n",
      "tensor(0.0123, device='cuda:0', grad_fn=<MeanBackward0>)\n",
      "tensor(0.0120, device='cuda:0', grad_fn=<MeanBackward0>)\n",
      "tensor(0.0117, device='cuda:0', grad_fn=<MeanBackward0>)\n",
      "tensor(0.0122, device='cuda:0', grad_fn=<MeanBackward0>)\n",
      "tensor(0.0121, device='cuda:0', grad_fn=<MeanBackward0>)\n",
      "tensor(0.0121, device='cuda:0', grad_fn=<MeanBackward0>)\n"
     ]
    },
    {
     "name": "stderr",
     "output_type": "stream",
     "text": [
      " 71%|████████████████████████████████████████████████████████████████████████████████████████████████████████████                                             | 2125/3007 [00:29<00:12, 68.41it/s]"
     ]
    },
    {
     "name": "stdout",
     "output_type": "stream",
     "text": [
      "tensor(0.0118, device='cuda:0', grad_fn=<MeanBackward0>)\n",
      "tensor(0.0122, device='cuda:0', grad_fn=<MeanBackward0>)\n",
      "tensor(0.0122, device='cuda:0', grad_fn=<MeanBackward0>)\n"
     ]
    },
    {
     "name": "stderr",
     "output_type": "stream",
     "text": [
      " 71%|████████████████████████████████████████████████████████████████████████████████████████████████████████████▍                                            | 2132/3007 [00:29<00:12, 68.01it/s]"
     ]
    },
    {
     "name": "stdout",
     "output_type": "stream",
     "text": [
      "tensor(0.0120, device='cuda:0', grad_fn=<MeanBackward0>)\n",
      "tensor(0.0119, device='cuda:0', grad_fn=<MeanBackward0>)\n",
      "tensor(0.0122, device='cuda:0', grad_fn=<MeanBackward0>)\n",
      "tensor(0.0119, device='cuda:0', grad_fn=<MeanBackward0>)\n",
      "tensor(0.0122, device='cuda:0', grad_fn=<MeanBackward0>)\n",
      "tensor(0.0123, device='cuda:0', grad_fn=<MeanBackward0>)\n",
      "tensor(0.0121, device='cuda:0', grad_fn=<MeanBackward0>)\n",
      "tensor(0.0116, device='cuda:0', grad_fn=<MeanBackward0>)\n",
      "tensor(0.0126, device='cuda:0', grad_fn=<MeanBackward0>)\n",
      "tensor(0.0117, device='cuda:0', grad_fn=<MeanBackward0>)\n",
      "tensor(0.0125, device='cuda:0', grad_fn=<MeanBackward0>)\n"
     ]
    },
    {
     "name": "stderr",
     "output_type": "stream",
     "text": [
      " 71%|████████████████████████████████████████████████████████████████████████████████████████████████████████████▊                                            | 2139/3007 [00:29<00:12, 68.09it/s]"
     ]
    },
    {
     "name": "stdout",
     "output_type": "stream",
     "text": [
      "tensor(0.0123, device='cuda:0', grad_fn=<MeanBackward0>)\n",
      "tensor(0.0121, device='cuda:0', grad_fn=<MeanBackward0>)\n",
      "tensor(0.0118, device='cuda:0', grad_fn=<MeanBackward0>)\n"
     ]
    },
    {
     "name": "stderr",
     "output_type": "stream",
     "text": [
      " 71%|█████████████████████████████████████████████████████████████████████████████████████████████████████████████▏                                           | 2146/3007 [00:29<00:12, 67.83it/s]"
     ]
    },
    {
     "name": "stdout",
     "output_type": "stream",
     "text": [
      "tensor(0.0124, device='cuda:0', grad_fn=<MeanBackward0>)\n",
      "tensor(0.0119, device='cuda:0', grad_fn=<MeanBackward0>)\n",
      "tensor(0.0117, device='cuda:0', grad_fn=<MeanBackward0>)\n",
      "tensor(0.0126, device='cuda:0', grad_fn=<MeanBackward0>)\n",
      "tensor(0.0122, device='cuda:0', grad_fn=<MeanBackward0>)\n",
      "tensor(0.0125, device='cuda:0', grad_fn=<MeanBackward0>)\n",
      "tensor(0.0119, device='cuda:0', grad_fn=<MeanBackward0>)\n",
      "tensor(0.0124, device='cuda:0', grad_fn=<MeanBackward0>)\n",
      "tensor(0.0120, device='cuda:0', grad_fn=<MeanBackward0>)\n",
      "tensor(0.0126, device='cuda:0', grad_fn=<MeanBackward0>)\n",
      "tensor(0.0118, device='cuda:0', grad_fn=<MeanBackward0>)\n",
      "tensor(0.0126, device='cuda:0', grad_fn=<MeanBackward0>)\n",
      "tensor(0.0122, device='cuda:0', grad_fn=<MeanBackward0>)\n",
      "tensor(0.0118, device='cuda:0', grad_fn=<MeanBackward0>)\n",
      "tensor(0.0124, device='cuda:0', grad_fn=<MeanBackward0>)\n"
     ]
    },
    {
     "name": "stderr",
     "output_type": "stream",
     "text": [
      " 72%|█████████████████████████████████████████████████████████████████████████████████████████████████████████████▊                                           | 2158/3007 [00:29<00:10, 81.72it/s]"
     ]
    },
    {
     "name": "stdout",
     "output_type": "stream",
     "text": [
      "tensor(0.0121, device='cuda:0', grad_fn=<MeanBackward0>)\n",
      "tensor(0.0119, device='cuda:0', grad_fn=<MeanBackward0>)\n",
      "tensor(0.0121, device='cuda:0', grad_fn=<MeanBackward0>)\n",
      "tensor(0.0117, device='cuda:0', grad_fn=<MeanBackward0>)\n",
      "tensor(0.0118, device='cuda:0', grad_fn=<MeanBackward0>)\n",
      "tensor(0.0118, device='cuda:0', grad_fn=<MeanBackward0>)\n"
     ]
    },
    {
     "name": "stderr",
     "output_type": "stream",
     "text": [
      " 72%|██████████████████████████████████████████████████████████████████████████████████████████████████████████████▎                                          | 2167/3007 [00:29<00:10, 83.11it/s]"
     ]
    },
    {
     "name": "stdout",
     "output_type": "stream",
     "text": [
      "tensor(0.0120, device='cuda:0', grad_fn=<MeanBackward0>)\n",
      "tensor(0.0118, device='cuda:0', grad_fn=<MeanBackward0>)\n",
      "tensor(0.0118, device='cuda:0', grad_fn=<MeanBackward0>)\n",
      "tensor(0.0121, device='cuda:0', grad_fn=<MeanBackward0>)\n",
      "tensor(0.0120, device='cuda:0', grad_fn=<MeanBackward0>)\n",
      "tensor(0.0122, device='cuda:0', grad_fn=<MeanBackward0>)\n",
      "tensor(0.0123, device='cuda:0', grad_fn=<MeanBackward0>)\n",
      "tensor(0.0121, device='cuda:0', grad_fn=<MeanBackward0>)\n",
      "tensor(0.0127, device='cuda:0', grad_fn=<MeanBackward0>)\n",
      "tensor(0.0122, device='cuda:0', grad_fn=<MeanBackward0>)\n",
      "tensor(0.0117, device='cuda:0', grad_fn=<MeanBackward0>)\n",
      "tensor(0.0121, device='cuda:0', grad_fn=<MeanBackward0>)\n",
      "tensor(0.0123, device='cuda:0', grad_fn=<MeanBackward0>)\n",
      "tensor(0.0121, device='cuda:0', grad_fn=<MeanBackward0>)\n"
     ]
    },
    {
     "name": "stderr",
     "output_type": "stream",
     "text": [
      " 73%|███████████████████████████████████████████████████████████████████████████████████████████████████████████████                                          | 2184/3007 [00:30<00:11, 74.70it/s]"
     ]
    },
    {
     "name": "stdout",
     "output_type": "stream",
     "text": [
      "tensor(0.0124, device='cuda:0', grad_fn=<MeanBackward0>)\n",
      "tensor(0.0117, device='cuda:0', grad_fn=<MeanBackward0>)\n",
      "tensor(0.0122, device='cuda:0', grad_fn=<MeanBackward0>)\n",
      "tensor(0.0120, device='cuda:0', grad_fn=<MeanBackward0>)\n",
      "tensor(0.0117, device='cuda:0', grad_fn=<MeanBackward0>)\n",
      "tensor(0.0117, device='cuda:0', grad_fn=<MeanBackward0>)\n",
      "tensor(0.0124, device='cuda:0', grad_fn=<MeanBackward0>)\n",
      "tensor(0.0124, device='cuda:0', grad_fn=<MeanBackward0>)\n",
      "tensor(0.0121, device='cuda:0', grad_fn=<MeanBackward0>)\n",
      "tensor(0.0125, device='cuda:0', grad_fn=<MeanBackward0>)\n",
      "tensor(0.0124, device='cuda:0', grad_fn=<MeanBackward0>)\n",
      "tensor(0.0121, device='cuda:0', grad_fn=<MeanBackward0>)\n",
      "tensor(0.0120, device='cuda:0', grad_fn=<MeanBackward0>)\n",
      "tensor(0.0121, device='cuda:0', grad_fn=<MeanBackward0>)\n"
     ]
    },
    {
     "name": "stderr",
     "output_type": "stream",
     "text": [
      " 73%|███████████████████████████████████████████████████████████████████████████████████████████████████████████████▉                                         | 2200/3007 [00:30<00:11, 71.06it/s]"
     ]
    },
    {
     "name": "stdout",
     "output_type": "stream",
     "text": [
      "tensor(0.0119, device='cuda:0', grad_fn=<MeanBackward0>)\n",
      "tensor(0.0123, device='cuda:0', grad_fn=<MeanBackward0>)\n",
      "tensor(0.0124, device='cuda:0', grad_fn=<MeanBackward0>)\n",
      "tensor(0.0120, device='cuda:0', grad_fn=<MeanBackward0>)\n",
      "tensor(0.0123, device='cuda:0', grad_fn=<MeanBackward0>)\n",
      "tensor(0.0125, device='cuda:0', grad_fn=<MeanBackward0>)\n",
      "tensor(0.0122, device='cuda:0', grad_fn=<MeanBackward0>)\n",
      "tensor(0.0119, device='cuda:0', grad_fn=<MeanBackward0>)\n",
      "tensor(0.0120, device='cuda:0', grad_fn=<MeanBackward0>)\n",
      "tensor(0.0122, device='cuda:0', grad_fn=<MeanBackward0>)\n",
      "tensor(0.0120, device='cuda:0', grad_fn=<MeanBackward0>)\n",
      "tensor(0.0119, device='cuda:0', grad_fn=<MeanBackward0>)\n",
      "tensor(0.0123, device='cuda:0', grad_fn=<MeanBackward0>)\n",
      "tensor(0.0127, device='cuda:0', grad_fn=<MeanBackward0>)\n"
     ]
    },
    {
     "name": "stderr",
     "output_type": "stream",
     "text": [
      " 73%|████████████████████████████████████████████████████████████████████████████████████████████████████████████████▎                                        | 2208/3007 [00:30<00:11, 70.17it/s]"
     ]
    },
    {
     "name": "stdout",
     "output_type": "stream",
     "text": [
      "tensor(0.0122, device='cuda:0', grad_fn=<MeanBackward0>)\n",
      "tensor(0.0120, device='cuda:0', grad_fn=<MeanBackward0>)\n",
      "tensor(0.0124, device='cuda:0', grad_fn=<MeanBackward0>)\n",
      "tensor(0.0121, device='cuda:0', grad_fn=<MeanBackward0>)\n",
      "tensor(0.0123, device='cuda:0', grad_fn=<MeanBackward0>)\n",
      "tensor(0.0122, device='cuda:0', grad_fn=<MeanBackward0>)\n",
      "tensor(0.0117, device='cuda:0', grad_fn=<MeanBackward0>)\n",
      "tensor(0.0121, device='cuda:0', grad_fn=<MeanBackward0>)\n",
      "tensor(0.0120, device='cuda:0', grad_fn=<MeanBackward0>)\n",
      "tensor(0.0123, device='cuda:0', grad_fn=<MeanBackward0>)\n",
      "tensor(0.0121, device='cuda:0', grad_fn=<MeanBackward0>)\n"
     ]
    },
    {
     "name": "stderr",
     "output_type": "stream",
     "text": [
      " 74%|████████████████████████████████████████████████████████████████████████████████████████████████████████████████▊                                        | 2216/3007 [00:30<00:11, 69.48it/s]"
     ]
    },
    {
     "name": "stdout",
     "output_type": "stream",
     "text": [
      "tensor(0.0121, device='cuda:0', grad_fn=<MeanBackward0>)\n",
      "tensor(0.0124, device='cuda:0', grad_fn=<MeanBackward0>)\n",
      "tensor(0.0119, device='cuda:0', grad_fn=<MeanBackward0>)\n"
     ]
    },
    {
     "name": "stderr",
     "output_type": "stream",
     "text": [
      " 74%|█████████████████████████████████████████████████████████████████████████████████████████████████████████████████                                        | 2223/3007 [00:30<00:11, 68.96it/s]"
     ]
    },
    {
     "name": "stdout",
     "output_type": "stream",
     "text": [
      "tensor(0.0124, device='cuda:0', grad_fn=<MeanBackward0>)\n",
      "tensor(0.0120, device='cuda:0', grad_fn=<MeanBackward0>)\n",
      "tensor(0.0120, device='cuda:0', grad_fn=<MeanBackward0>)\n",
      "tensor(0.0121, device='cuda:0', grad_fn=<MeanBackward0>)\n",
      "tensor(0.0120, device='cuda:0', grad_fn=<MeanBackward0>)\n",
      "tensor(0.0119, device='cuda:0', grad_fn=<MeanBackward0>)\n",
      "tensor(0.0126, device='cuda:0', grad_fn=<MeanBackward0>)\n",
      "tensor(0.0126, device='cuda:0', grad_fn=<MeanBackward0>)\n",
      "tensor(0.0120, device='cuda:0', grad_fn=<MeanBackward0>)\n",
      "tensor(0.0120, device='cuda:0', grad_fn=<MeanBackward0>)\n",
      "tensor(0.0125, device='cuda:0', grad_fn=<MeanBackward0>)\n"
     ]
    },
    {
     "name": "stderr",
     "output_type": "stream",
     "text": [
      " 74%|█████████████████████████████████████████████████████████████████████████████████████████████████████████████████▍                                       | 2230/3007 [00:30<00:11, 68.77it/s]"
     ]
    },
    {
     "name": "stdout",
     "output_type": "stream",
     "text": [
      "tensor(0.0128, device='cuda:0', grad_fn=<MeanBackward0>)\n",
      "tensor(0.0122, device='cuda:0', grad_fn=<MeanBackward0>)\n",
      "tensor(0.0121, device='cuda:0', grad_fn=<MeanBackward0>)\n"
     ]
    },
    {
     "name": "stderr",
     "output_type": "stream",
     "text": [
      " 74%|█████████████████████████████████████████████████████████████████████████████████████████████████████████████████▉                                       | 2239/3007 [00:30<00:10, 72.55it/s]"
     ]
    },
    {
     "name": "stdout",
     "output_type": "stream",
     "text": [
      "tensor(0.0122, device='cuda:0', grad_fn=<MeanBackward0>)\n",
      "tensor(0.0119, device='cuda:0', grad_fn=<MeanBackward0>)\n",
      "tensor(0.0117, device='cuda:0', grad_fn=<MeanBackward0>)\n",
      "tensor(0.0118, device='cuda:0', grad_fn=<MeanBackward0>)\n",
      "tensor(0.0123, device='cuda:0', grad_fn=<MeanBackward0>)\n",
      "tensor(0.0120, device='cuda:0', grad_fn=<MeanBackward0>)\n",
      "tensor(0.0117, device='cuda:0', grad_fn=<MeanBackward0>)\n",
      "tensor(0.0121, device='cuda:0', grad_fn=<MeanBackward0>)\n",
      "tensor(0.0119, device='cuda:0', grad_fn=<MeanBackward0>)\n",
      "tensor(0.0123, device='cuda:0', grad_fn=<MeanBackward0>)\n",
      "tensor(0.0121, device='cuda:0', grad_fn=<MeanBackward0>)\n",
      "tensor(0.0120, device='cuda:0', grad_fn=<MeanBackward0>)\n"
     ]
    },
    {
     "name": "stderr",
     "output_type": "stream",
     "text": [
      " 75%|██████████████████████████████████████████████████████████████████████████████████████████████████████████████████▎                                      | 2247/3007 [00:31<00:10, 70.36it/s]"
     ]
    },
    {
     "name": "stdout",
     "output_type": "stream",
     "text": [
      "tensor(0.0125, device='cuda:0', grad_fn=<MeanBackward0>)\n",
      "tensor(0.0123, device='cuda:0', grad_fn=<MeanBackward0>)\n",
      "tensor(0.0123, device='cuda:0', grad_fn=<MeanBackward0>)\n"
     ]
    },
    {
     "name": "stderr",
     "output_type": "stream",
     "text": [
      " 75%|██████████████████████████████████████████████████████████████████████████████████████████████████████████████████▋                                      | 2255/3007 [00:31<00:10, 69.48it/s]"
     ]
    },
    {
     "name": "stdout",
     "output_type": "stream",
     "text": [
      "tensor(0.0121, device='cuda:0', grad_fn=<MeanBackward0>)\n",
      "tensor(0.0115, device='cuda:0', grad_fn=<MeanBackward0>)\n",
      "tensor(0.0126, device='cuda:0', grad_fn=<MeanBackward0>)\n",
      "tensor(0.0121, device='cuda:0', grad_fn=<MeanBackward0>)\n",
      "tensor(0.0122, device='cuda:0', grad_fn=<MeanBackward0>)\n",
      "tensor(0.0121, device='cuda:0', grad_fn=<MeanBackward0>)\n",
      "tensor(0.0122, device='cuda:0', grad_fn=<MeanBackward0>)\n",
      "tensor(0.0120, device='cuda:0', grad_fn=<MeanBackward0>)\n",
      "tensor(0.0117, device='cuda:0', grad_fn=<MeanBackward0>)\n",
      "tensor(0.0119, device='cuda:0', grad_fn=<MeanBackward0>)\n",
      "tensor(0.0122, device='cuda:0', grad_fn=<MeanBackward0>)\n",
      "tensor(0.0123, device='cuda:0', grad_fn=<MeanBackward0>)\n",
      "tensor(0.0122, device='cuda:0', grad_fn=<MeanBackward0>)\n",
      "tensor(0.0124, device='cuda:0', grad_fn=<MeanBackward0>)\n"
     ]
    },
    {
     "name": "stderr",
     "output_type": "stream",
     "text": [
      " 75%|███████████████████████████████████████████████████████████████████████████████████████████████████████████████████▍                                     | 2269/3007 [00:31<00:10, 68.69it/s]"
     ]
    },
    {
     "name": "stdout",
     "output_type": "stream",
     "text": [
      "tensor(0.0120, device='cuda:0', grad_fn=<MeanBackward0>)\n",
      "tensor(0.0125, device='cuda:0', grad_fn=<MeanBackward0>)\n",
      "tensor(0.0120, device='cuda:0', grad_fn=<MeanBackward0>)\n",
      "tensor(0.0120, device='cuda:0', grad_fn=<MeanBackward0>)\n",
      "tensor(0.0126, device='cuda:0', grad_fn=<MeanBackward0>)\n",
      "tensor(0.0122, device='cuda:0', grad_fn=<MeanBackward0>)\n",
      "tensor(0.0120, device='cuda:0', grad_fn=<MeanBackward0>)\n",
      "tensor(0.0122, device='cuda:0', grad_fn=<MeanBackward0>)\n",
      "tensor(0.0124, device='cuda:0', grad_fn=<MeanBackward0>)\n",
      "tensor(0.0121, device='cuda:0', grad_fn=<MeanBackward0>)\n",
      "tensor(0.0120, device='cuda:0', grad_fn=<MeanBackward0>)\n",
      "tensor(0.0122, device='cuda:0', grad_fn=<MeanBackward0>)\n",
      "tensor(0.0123, device='cuda:0', grad_fn=<MeanBackward0>)\n",
      "tensor(0.0124, device='cuda:0', grad_fn=<MeanBackward0>)\n"
     ]
    },
    {
     "name": "stderr",
     "output_type": "stream",
     "text": [
      " 76%|████████████████████████████████████████████████████████████████████████████████████████████████████████████████████▏                                    | 2283/3007 [00:31<00:10, 68.33it/s]"
     ]
    },
    {
     "name": "stdout",
     "output_type": "stream",
     "text": [
      "tensor(0.0120, device='cuda:0', grad_fn=<MeanBackward0>)\n",
      "tensor(0.0120, device='cuda:0', grad_fn=<MeanBackward0>)\n",
      "tensor(0.0118, device='cuda:0', grad_fn=<MeanBackward0>)\n",
      "tensor(0.0121, device='cuda:0', grad_fn=<MeanBackward0>)\n",
      "tensor(0.0122, device='cuda:0', grad_fn=<MeanBackward0>)\n",
      "tensor(0.0118, device='cuda:0', grad_fn=<MeanBackward0>)\n",
      "tensor(0.0121, device='cuda:0', grad_fn=<MeanBackward0>)\n",
      "tensor(0.0121, device='cuda:0', grad_fn=<MeanBackward0>)\n",
      "tensor(0.0121, device='cuda:0', grad_fn=<MeanBackward0>)\n",
      "tensor(0.0126, device='cuda:0', grad_fn=<MeanBackward0>)\n",
      "tensor(0.0118, device='cuda:0', grad_fn=<MeanBackward0>)\n",
      "tensor(0.0124, device='cuda:0', grad_fn=<MeanBackward0>)\n",
      "tensor(0.0122, device='cuda:0', grad_fn=<MeanBackward0>)\n",
      "tensor(0.0118, device='cuda:0', grad_fn=<MeanBackward0>)\n"
     ]
    },
    {
     "name": "stderr",
     "output_type": "stream",
     "text": [
      " 76%|████████████████████████████████████████████████████████████████████████████████████████████████████████████████████▊                                    | 2297/3007 [00:31<00:10, 67.99it/s]"
     ]
    },
    {
     "name": "stdout",
     "output_type": "stream",
     "text": [
      "tensor(0.0121, device='cuda:0', grad_fn=<MeanBackward0>)\n",
      "tensor(0.0125, device='cuda:0', grad_fn=<MeanBackward0>)\n",
      "tensor(0.0118, device='cuda:0', grad_fn=<MeanBackward0>)\n",
      "tensor(0.0121, device='cuda:0', grad_fn=<MeanBackward0>)\n",
      "tensor(0.0120, device='cuda:0', grad_fn=<MeanBackward0>)\n",
      "tensor(0.0121, device='cuda:0', grad_fn=<MeanBackward0>)\n",
      "tensor(0.0122, device='cuda:0', grad_fn=<MeanBackward0>)\n",
      "tensor(0.0122, device='cuda:0', grad_fn=<MeanBackward0>)\n",
      "tensor(0.0120, device='cuda:0', grad_fn=<MeanBackward0>)\n",
      "tensor(0.0123, device='cuda:0', grad_fn=<MeanBackward0>)\n",
      "tensor(0.0120, device='cuda:0', grad_fn=<MeanBackward0>)\n",
      "tensor(0.0116, device='cuda:0', grad_fn=<MeanBackward0>)\n",
      "tensor(0.0123, device='cuda:0', grad_fn=<MeanBackward0>)\n",
      "tensor(0.0117, device='cuda:0', grad_fn=<MeanBackward0>)\n"
     ]
    },
    {
     "name": "stderr",
     "output_type": "stream",
     "text": [
      " 77%|█████████████████████████████████████████████████████████████████████████████████████████████████████████████████████▌                                   | 2311/3007 [00:32<00:10, 67.60it/s]"
     ]
    },
    {
     "name": "stdout",
     "output_type": "stream",
     "text": [
      "tensor(0.0118, device='cuda:0', grad_fn=<MeanBackward0>)\n",
      "tensor(0.0116, device='cuda:0', grad_fn=<MeanBackward0>)\n",
      "tensor(0.0123, device='cuda:0', grad_fn=<MeanBackward0>)\n",
      "tensor(0.0125, device='cuda:0', grad_fn=<MeanBackward0>)\n",
      "tensor(0.0116, device='cuda:0', grad_fn=<MeanBackward0>)\n",
      "tensor(0.0120, device='cuda:0', grad_fn=<MeanBackward0>)\n",
      "tensor(0.0120, device='cuda:0', grad_fn=<MeanBackward0>)\n",
      "tensor(0.0128, device='cuda:0', grad_fn=<MeanBackward0>)\n",
      "tensor(0.0124, device='cuda:0', grad_fn=<MeanBackward0>)\n",
      "tensor(0.0123, device='cuda:0', grad_fn=<MeanBackward0>)\n",
      "tensor(0.0121, device='cuda:0', grad_fn=<MeanBackward0>)\n",
      "tensor(0.0119, device='cuda:0', grad_fn=<MeanBackward0>)\n",
      "tensor(0.0121, device='cuda:0', grad_fn=<MeanBackward0>)\n",
      "tensor(0.0124, device='cuda:0', grad_fn=<MeanBackward0>)\n",
      "tensor(0.0121, device='cuda:0', grad_fn=<MeanBackward0>)\n",
      "tensor(0.0121, device='cuda:0', grad_fn=<MeanBackward0>)\n",
      "tensor(0.0121, device='cuda:0', grad_fn=<MeanBackward0>)\n",
      "tensor(0.0123, device='cuda:0', grad_fn=<MeanBackward0>)\n",
      "tensor(0.0123, device='cuda:0', grad_fn=<MeanBackward0>)\n",
      "tensor(0.0122, device='cuda:0', grad_fn=<MeanBackward0>)\n",
      "tensor(0.0122, device='cuda:0', grad_fn=<MeanBackward0>)\n",
      "tensor(0.0121, device='cuda:0', grad_fn=<MeanBackward0>)\n",
      "tensor(0.0121, device='cuda:0', grad_fn=<MeanBackward0>)\n",
      "tensor(0.0121, device='cuda:0', grad_fn=<MeanBackward0>)\n"
     ]
    },
    {
     "name": "stderr",
     "output_type": "stream",
     "text": [
      " 78%|██████████████████████████████████████████████████████████████████████████████████████████████████████████████████████▌                                 | 2346/3007 [00:32<00:05, 118.82it/s]"
     ]
    },
    {
     "name": "stdout",
     "output_type": "stream",
     "text": [
      "tensor(0.0117, device='cuda:0', grad_fn=<MeanBackward0>)\n",
      "tensor(0.0122, device='cuda:0', grad_fn=<MeanBackward0>)\n",
      "tensor(0.0121, device='cuda:0', grad_fn=<MeanBackward0>)\n",
      "tensor(0.0126, device='cuda:0', grad_fn=<MeanBackward0>)\n",
      "tensor(0.0126, device='cuda:0', grad_fn=<MeanBackward0>)\n",
      "tensor(0.0123, device='cuda:0', grad_fn=<MeanBackward0>)\n",
      "tensor(0.0122, device='cuda:0', grad_fn=<MeanBackward0>)\n",
      "tensor(0.0119, device='cuda:0', grad_fn=<MeanBackward0>)\n",
      "tensor(0.0118, device='cuda:0', grad_fn=<MeanBackward0>)\n",
      "tensor(0.0120, device='cuda:0', grad_fn=<MeanBackward0>)\n",
      "tensor(0.0119, device='cuda:0', grad_fn=<MeanBackward0>)\n",
      "tensor(0.0123, device='cuda:0', grad_fn=<MeanBackward0>)\n",
      "tensor(0.0120, device='cuda:0', grad_fn=<MeanBackward0>)\n",
      "tensor(0.0120, device='cuda:0', grad_fn=<MeanBackward0>)\n",
      "tensor(0.0123, device='cuda:0', grad_fn=<MeanBackward0>)\n",
      "tensor(0.0120, device='cuda:0', grad_fn=<MeanBackward0>)\n",
      "tensor(0.0121, device='cuda:0', grad_fn=<MeanBackward0>)\n",
      "tensor(0.0122, device='cuda:0', grad_fn=<MeanBackward0>)\n",
      "tensor(0.0122, device='cuda:0', grad_fn=<MeanBackward0>)\n",
      "tensor(0.0116, device='cuda:0', grad_fn=<MeanBackward0>)\n",
      "tensor(0.0121, device='cuda:0', grad_fn=<MeanBackward0>)\n",
      "tensor(0.0124, device='cuda:0', grad_fn=<MeanBackward0>)\n",
      "tensor(0.0121, device='cuda:0', grad_fn=<MeanBackward0>)\n",
      "tensor(0.0122, device='cuda:0', grad_fn=<MeanBackward0>)\n",
      "tensor(0.0124, device='cuda:0', grad_fn=<MeanBackward0>)\n"
     ]
    },
    {
     "name": "stderr",
     "output_type": "stream",
     "text": [
      " 78%|███████████████████████████████████████████████████████████████████████████████████████████████████████████████████████▉                                 | 2358/3007 [00:32<00:06, 97.31it/s]"
     ]
    },
    {
     "name": "stdout",
     "output_type": "stream",
     "text": [
      "tensor(0.0120, device='cuda:0', grad_fn=<MeanBackward0>)\n",
      "tensor(0.0123, device='cuda:0', grad_fn=<MeanBackward0>)\n",
      "tensor(0.0125, device='cuda:0', grad_fn=<MeanBackward0>)\n",
      "tensor(0.0119, device='cuda:0', grad_fn=<MeanBackward0>)\n",
      "tensor(0.0119, device='cuda:0', grad_fn=<MeanBackward0>)\n",
      "tensor(0.0120, device='cuda:0', grad_fn=<MeanBackward0>)\n",
      "tensor(0.0120, device='cuda:0', grad_fn=<MeanBackward0>)\n",
      "tensor(0.0123, device='cuda:0', grad_fn=<MeanBackward0>)\n",
      "tensor(0.0121, device='cuda:0', grad_fn=<MeanBackward0>)\n",
      "tensor(0.0123, device='cuda:0', grad_fn=<MeanBackward0>)\n",
      "tensor(0.0115, device='cuda:0', grad_fn=<MeanBackward0>)\n",
      "tensor(0.0123, device='cuda:0', grad_fn=<MeanBackward0>)\n",
      "tensor(0.0123, device='cuda:0', grad_fn=<MeanBackward0>)\n",
      "tensor(0.0120, device='cuda:0', grad_fn=<MeanBackward0>)\n"
     ]
    },
    {
     "name": "stderr",
     "output_type": "stream",
     "text": [
      " 79%|████████████████████████████████████████████████████████████████████████████████████████████████████████████████████████▌                                | 2369/3007 [00:32<00:07, 86.76it/s]"
     ]
    },
    {
     "name": "stdout",
     "output_type": "stream",
     "text": [
      "tensor(0.0121, device='cuda:0', grad_fn=<MeanBackward0>)\n",
      "tensor(0.0122, device='cuda:0', grad_fn=<MeanBackward0>)\n",
      "tensor(0.0121, device='cuda:0', grad_fn=<MeanBackward0>)\n",
      "tensor(0.0123, device='cuda:0', grad_fn=<MeanBackward0>)\n",
      "tensor(0.0118, device='cuda:0', grad_fn=<MeanBackward0>)\n",
      "tensor(0.0116, device='cuda:0', grad_fn=<MeanBackward0>)\n",
      "tensor(0.0119, device='cuda:0', grad_fn=<MeanBackward0>)\n",
      "tensor(0.0119, device='cuda:0', grad_fn=<MeanBackward0>)\n",
      "tensor(0.0122, device='cuda:0', grad_fn=<MeanBackward0>)\n",
      "tensor(0.0118, device='cuda:0', grad_fn=<MeanBackward0>)\n",
      "tensor(0.0124, device='cuda:0', grad_fn=<MeanBackward0>)\n"
     ]
    },
    {
     "name": "stderr",
     "output_type": "stream",
     "text": [
      " 79%|█████████████████████████████████████████████████████████████████████████████████████████████████████████████████████████                                | 2379/3007 [00:32<00:07, 80.61it/s]"
     ]
    },
    {
     "name": "stdout",
     "output_type": "stream",
     "text": [
      "tensor(0.0126, device='cuda:0', grad_fn=<MeanBackward0>)\n",
      "tensor(0.0119, device='cuda:0', grad_fn=<MeanBackward0>)\n",
      "tensor(0.0123, device='cuda:0', grad_fn=<MeanBackward0>)\n"
     ]
    },
    {
     "name": "stderr",
     "output_type": "stream",
     "text": [
      " 79%|█████████████████████████████████████████████████████████████████████████████████████████████████████████████████████████▌                               | 2388/3007 [00:32<00:08, 76.78it/s]"
     ]
    },
    {
     "name": "stdout",
     "output_type": "stream",
     "text": [
      "tensor(0.0124, device='cuda:0', grad_fn=<MeanBackward0>)\n",
      "tensor(0.0126, device='cuda:0', grad_fn=<MeanBackward0>)\n",
      "tensor(0.0120, device='cuda:0', grad_fn=<MeanBackward0>)\n",
      "tensor(0.0122, device='cuda:0', grad_fn=<MeanBackward0>)\n",
      "tensor(0.0120, device='cuda:0', grad_fn=<MeanBackward0>)\n",
      "tensor(0.0121, device='cuda:0', grad_fn=<MeanBackward0>)\n",
      "tensor(0.0121, device='cuda:0', grad_fn=<MeanBackward0>)\n",
      "tensor(0.0123, device='cuda:0', grad_fn=<MeanBackward0>)\n",
      "tensor(0.0126, device='cuda:0', grad_fn=<MeanBackward0>)\n",
      "tensor(0.0120, device='cuda:0', grad_fn=<MeanBackward0>)\n",
      "tensor(0.0118, device='cuda:0', grad_fn=<MeanBackward0>)\n",
      "tensor(0.0128, device='cuda:0', grad_fn=<MeanBackward0>)\n",
      "tensor(0.0123, device='cuda:0', grad_fn=<MeanBackward0>)\n",
      "tensor(0.0120, device='cuda:0', grad_fn=<MeanBackward0>)\n"
     ]
    },
    {
     "name": "stderr",
     "output_type": "stream",
     "text": [
      " 80%|██████████████████████████████████████████████████████████████████████████████████████████████████████████████████████████▎                              | 2404/3007 [00:33<00:08, 72.30it/s]"
     ]
    },
    {
     "name": "stdout",
     "output_type": "stream",
     "text": [
      "tensor(0.0118, device='cuda:0', grad_fn=<MeanBackward0>)\n",
      "tensor(0.0117, device='cuda:0', grad_fn=<MeanBackward0>)\n",
      "tensor(0.0123, device='cuda:0', grad_fn=<MeanBackward0>)\n",
      "tensor(0.0121, device='cuda:0', grad_fn=<MeanBackward0>)\n",
      "tensor(0.0120, device='cuda:0', grad_fn=<MeanBackward0>)\n",
      "tensor(0.0123, device='cuda:0', grad_fn=<MeanBackward0>)\n",
      "tensor(0.0118, device='cuda:0', grad_fn=<MeanBackward0>)\n",
      "tensor(0.0123, device='cuda:0', grad_fn=<MeanBackward0>)\n",
      "tensor(0.0121, device='cuda:0', grad_fn=<MeanBackward0>)\n",
      "tensor(0.0119, device='cuda:0', grad_fn=<MeanBackward0>)\n",
      "tensor(0.0118, device='cuda:0', grad_fn=<MeanBackward0>)\n",
      "tensor(0.0123, device='cuda:0', grad_fn=<MeanBackward0>)\n",
      "tensor(0.0121, device='cuda:0', grad_fn=<MeanBackward0>)\n",
      "tensor(0.0120, device='cuda:0', grad_fn=<MeanBackward0>)\n"
     ]
    },
    {
     "name": "stderr",
     "output_type": "stream",
     "text": [
      " 81%|███████████████████████████████████████████████████████████████████████████████████████████████████████████████████████████▏                             | 2422/3007 [00:33<00:07, 76.91it/s]"
     ]
    },
    {
     "name": "stdout",
     "output_type": "stream",
     "text": [
      "tensor(0.0125, device='cuda:0', grad_fn=<MeanBackward0>)\n",
      "tensor(0.0118, device='cuda:0', grad_fn=<MeanBackward0>)\n",
      "tensor(0.0120, device='cuda:0', grad_fn=<MeanBackward0>)\n",
      "tensor(0.0125, device='cuda:0', grad_fn=<MeanBackward0>)\n",
      "tensor(0.0122, device='cuda:0', grad_fn=<MeanBackward0>)\n",
      "tensor(0.0121, device='cuda:0', grad_fn=<MeanBackward0>)\n",
      "tensor(0.0125, device='cuda:0', grad_fn=<MeanBackward0>)\n",
      "tensor(0.0121, device='cuda:0', grad_fn=<MeanBackward0>)\n",
      "tensor(0.0118, device='cuda:0', grad_fn=<MeanBackward0>)\n",
      "tensor(0.0119, device='cuda:0', grad_fn=<MeanBackward0>)\n",
      "tensor(0.0121, device='cuda:0', grad_fn=<MeanBackward0>)\n",
      "tensor(0.0127, device='cuda:0', grad_fn=<MeanBackward0>)\n",
      "tensor(0.0119, device='cuda:0', grad_fn=<MeanBackward0>)\n",
      "tensor(0.0121, device='cuda:0', grad_fn=<MeanBackward0>)\n",
      "tensor(0.0121, device='cuda:0', grad_fn=<MeanBackward0>)\n",
      "tensor(0.0121, device='cuda:0', grad_fn=<MeanBackward0>)\n",
      "tensor(0.0118, device='cuda:0', grad_fn=<MeanBackward0>)\n",
      "tensor(0.0120, device='cuda:0', grad_fn=<MeanBackward0>)\n",
      "tensor(0.0123, device='cuda:0', grad_fn=<MeanBackward0>)\n",
      "tensor(0.0120, device='cuda:0', grad_fn=<MeanBackward0>)\n",
      "tensor(0.0120, device='cuda:0', grad_fn=<MeanBackward0>)\n",
      "tensor(0.0119, device='cuda:0', grad_fn=<MeanBackward0>)\n"
     ]
    },
    {
     "name": "stderr",
     "output_type": "stream",
     "text": [
      " 81%|███████████████████████████████████████████████████████████████████████████████████████████████████████████████████████████▉                             | 2435/3007 [00:33<00:06, 88.22it/s]"
     ]
    },
    {
     "name": "stdout",
     "output_type": "stream",
     "text": [
      "tensor(0.0117, device='cuda:0', grad_fn=<MeanBackward0>)\n",
      "tensor(0.0121, device='cuda:0', grad_fn=<MeanBackward0>)\n",
      "tensor(0.0118, device='cuda:0', grad_fn=<MeanBackward0>)\n",
      "tensor(0.0122, device='cuda:0', grad_fn=<MeanBackward0>)\n",
      "tensor(0.0121, device='cuda:0', grad_fn=<MeanBackward0>)\n",
      "tensor(0.0119, device='cuda:0', grad_fn=<MeanBackward0>)\n",
      "tensor(0.0118, device='cuda:0', grad_fn=<MeanBackward0>)\n",
      "tensor(0.0120, device='cuda:0', grad_fn=<MeanBackward0>)\n",
      "tensor(0.0125, device='cuda:0', grad_fn=<MeanBackward0>)\n",
      "tensor(0.0125, device='cuda:0', grad_fn=<MeanBackward0>)\n",
      "tensor(0.0124, device='cuda:0', grad_fn=<MeanBackward0>)\n"
     ]
    },
    {
     "name": "stderr",
     "output_type": "stream",
     "text": [
      " 81%|████████████████████████████████████████████████████████████████████████████████████████████████████████████████████████████▎                            | 2444/3007 [00:33<00:06, 81.50it/s]"
     ]
    },
    {
     "name": "stdout",
     "output_type": "stream",
     "text": [
      "tensor(0.0124, device='cuda:0', grad_fn=<MeanBackward0>)\n",
      "tensor(0.0122, device='cuda:0', grad_fn=<MeanBackward0>)\n",
      "tensor(0.0119, device='cuda:0', grad_fn=<MeanBackward0>)\n"
     ]
    },
    {
     "name": "stderr",
     "output_type": "stream",
     "text": [
      " 82%|████████████████████████████████████████████████████████████████████████████████████████████████████████████████████████████▊                            | 2453/3007 [00:33<00:07, 77.11it/s]"
     ]
    },
    {
     "name": "stdout",
     "output_type": "stream",
     "text": [
      "tensor(0.0122, device='cuda:0', grad_fn=<MeanBackward0>)\n",
      "tensor(0.0117, device='cuda:0', grad_fn=<MeanBackward0>)\n",
      "tensor(0.0125, device='cuda:0', grad_fn=<MeanBackward0>)\n",
      "tensor(0.0123, device='cuda:0', grad_fn=<MeanBackward0>)\n",
      "tensor(0.0119, device='cuda:0', grad_fn=<MeanBackward0>)\n",
      "tensor(0.0123, device='cuda:0', grad_fn=<MeanBackward0>)\n",
      "tensor(0.0121, device='cuda:0', grad_fn=<MeanBackward0>)\n",
      "tensor(0.0119, device='cuda:0', grad_fn=<MeanBackward0>)\n",
      "tensor(0.0119, device='cuda:0', grad_fn=<MeanBackward0>)\n",
      "tensor(0.0119, device='cuda:0', grad_fn=<MeanBackward0>)\n",
      "tensor(0.0124, device='cuda:0', grad_fn=<MeanBackward0>)\n",
      "tensor(0.0123, device='cuda:0', grad_fn=<MeanBackward0>)\n",
      "tensor(0.0122, device='cuda:0', grad_fn=<MeanBackward0>)\n",
      "tensor(0.0124, device='cuda:0', grad_fn=<MeanBackward0>)\n"
     ]
    },
    {
     "name": "stderr",
     "output_type": "stream",
     "text": [
      " 82%|█████████████████████████████████████████████████████████████████████████████████████████████████████████████████████████████▋                           | 2469/3007 [00:33<00:07, 72.52it/s]"
     ]
    },
    {
     "name": "stdout",
     "output_type": "stream",
     "text": [
      "tensor(0.0122, device='cuda:0', grad_fn=<MeanBackward0>)\n",
      "tensor(0.0122, device='cuda:0', grad_fn=<MeanBackward0>)\n",
      "tensor(0.0120, device='cuda:0', grad_fn=<MeanBackward0>)\n",
      "tensor(0.0117, device='cuda:0', grad_fn=<MeanBackward0>)\n",
      "tensor(0.0119, device='cuda:0', grad_fn=<MeanBackward0>)\n",
      "tensor(0.0120, device='cuda:0', grad_fn=<MeanBackward0>)\n",
      "tensor(0.0122, device='cuda:0', grad_fn=<MeanBackward0>)\n",
      "tensor(0.0119, device='cuda:0', grad_fn=<MeanBackward0>)\n",
      "tensor(0.0121, device='cuda:0', grad_fn=<MeanBackward0>)\n",
      "tensor(0.0118, device='cuda:0', grad_fn=<MeanBackward0>)\n",
      "tensor(0.0119, device='cuda:0', grad_fn=<MeanBackward0>)\n",
      "tensor(0.0122, device='cuda:0', grad_fn=<MeanBackward0>)\n",
      "tensor(0.0122, device='cuda:0', grad_fn=<MeanBackward0>)\n",
      "tensor(0.0120, device='cuda:0', grad_fn=<MeanBackward0>)\n"
     ]
    },
    {
     "name": "stderr",
     "output_type": "stream",
     "text": [
      " 82%|██████████████████████████████████████████████████████████████████████████████████████████████████████████████████████████████                           | 2477/3007 [00:34<00:07, 71.07it/s]"
     ]
    },
    {
     "name": "stdout",
     "output_type": "stream",
     "text": [
      "tensor(0.0118, device='cuda:0', grad_fn=<MeanBackward0>)\n",
      "tensor(0.0120, device='cuda:0', grad_fn=<MeanBackward0>)\n",
      "tensor(0.0122, device='cuda:0', grad_fn=<MeanBackward0>)\n",
      "tensor(0.0120, device='cuda:0', grad_fn=<MeanBackward0>)\n",
      "tensor(0.0119, device='cuda:0', grad_fn=<MeanBackward0>)\n",
      "tensor(0.0119, device='cuda:0', grad_fn=<MeanBackward0>)\n",
      "tensor(0.0119, device='cuda:0', grad_fn=<MeanBackward0>)\n",
      "tensor(0.0123, device='cuda:0', grad_fn=<MeanBackward0>)\n",
      "tensor(0.0121, device='cuda:0', grad_fn=<MeanBackward0>)\n",
      "tensor(0.0123, device='cuda:0', grad_fn=<MeanBackward0>)\n",
      "tensor(0.0120, device='cuda:0', grad_fn=<MeanBackward0>)\n"
     ]
    },
    {
     "name": "stderr",
     "output_type": "stream",
     "text": [
      " 83%|██████████████████████████████████████████████████████████████████████████████████████████████████████████████████████████████▍                          | 2485/3007 [00:34<00:07, 70.26it/s]"
     ]
    },
    {
     "name": "stdout",
     "output_type": "stream",
     "text": [
      "tensor(0.0122, device='cuda:0', grad_fn=<MeanBackward0>)\n",
      "tensor(0.0117, device='cuda:0', grad_fn=<MeanBackward0>)\n",
      "tensor(0.0124, device='cuda:0', grad_fn=<MeanBackward0>)\n"
     ]
    },
    {
     "name": "stderr",
     "output_type": "stream",
     "text": [
      " 83%|██████████████████████████████████████████████████████████████████████████████████████████████████████████████████████████████▊                          | 2493/3007 [00:34<00:07, 69.50it/s]"
     ]
    },
    {
     "name": "stdout",
     "output_type": "stream",
     "text": [
      "tensor(0.0120, device='cuda:0', grad_fn=<MeanBackward0>)\n",
      "tensor(0.0121, device='cuda:0', grad_fn=<MeanBackward0>)\n",
      "tensor(0.0122, device='cuda:0', grad_fn=<MeanBackward0>)\n",
      "tensor(0.0124, device='cuda:0', grad_fn=<MeanBackward0>)\n",
      "tensor(0.0123, device='cuda:0', grad_fn=<MeanBackward0>)\n",
      "tensor(0.0123, device='cuda:0', grad_fn=<MeanBackward0>)\n",
      "tensor(0.0119, device='cuda:0', grad_fn=<MeanBackward0>)\n",
      "tensor(0.0121, device='cuda:0', grad_fn=<MeanBackward0>)\n",
      "tensor(0.0119, device='cuda:0', grad_fn=<MeanBackward0>)\n",
      "tensor(0.0122, device='cuda:0', grad_fn=<MeanBackward0>)\n",
      "tensor(0.0123, device='cuda:0', grad_fn=<MeanBackward0>)\n"
     ]
    },
    {
     "name": "stderr",
     "output_type": "stream",
     "text": [
      " 83%|███████████████████████████████████████████████████████████████████████████████████████████████████████████████████████████████▏                         | 2500/3007 [00:34<00:07, 68.89it/s]"
     ]
    },
    {
     "name": "stdout",
     "output_type": "stream",
     "text": [
      "tensor(0.0123, device='cuda:0', grad_fn=<MeanBackward0>)\n",
      "tensor(0.0120, device='cuda:0', grad_fn=<MeanBackward0>)\n",
      "tensor(0.0120, device='cuda:0', grad_fn=<MeanBackward0>)\n"
     ]
    },
    {
     "name": "stderr",
     "output_type": "stream",
     "text": [
      " 84%|███████████████████████████████████████████████████████████████████████████████████████████████████████████████████████████████▍                        | 2520/3007 [00:34<00:04, 104.17it/s]"
     ]
    },
    {
     "name": "stdout",
     "output_type": "stream",
     "text": [
      "tensor(0.0125, device='cuda:0', grad_fn=<MeanBackward0>)\n",
      "tensor(0.0123, device='cuda:0', grad_fn=<MeanBackward0>)\n",
      "tensor(0.0122, device='cuda:0', grad_fn=<MeanBackward0>)\n",
      "tensor(0.0120, device='cuda:0', grad_fn=<MeanBackward0>)\n",
      "tensor(0.0122, device='cuda:0', grad_fn=<MeanBackward0>)\n",
      "tensor(0.0120, device='cuda:0', grad_fn=<MeanBackward0>)\n",
      "tensor(0.0122, device='cuda:0', grad_fn=<MeanBackward0>)\n",
      "tensor(0.0123, device='cuda:0', grad_fn=<MeanBackward0>)\n",
      "tensor(0.0121, device='cuda:0', grad_fn=<MeanBackward0>)\n",
      "tensor(0.0119, device='cuda:0', grad_fn=<MeanBackward0>)\n",
      "tensor(0.0123, device='cuda:0', grad_fn=<MeanBackward0>)\n",
      "tensor(0.0124, device='cuda:0', grad_fn=<MeanBackward0>)\n",
      "tensor(0.0122, device='cuda:0', grad_fn=<MeanBackward0>)\n",
      "tensor(0.0119, device='cuda:0', grad_fn=<MeanBackward0>)\n",
      "tensor(0.0116, device='cuda:0', grad_fn=<MeanBackward0>)\n",
      "tensor(0.0121, device='cuda:0', grad_fn=<MeanBackward0>)\n",
      "tensor(0.0118, device='cuda:0', grad_fn=<MeanBackward0>)\n",
      "tensor(0.0121, device='cuda:0', grad_fn=<MeanBackward0>)\n",
      "tensor(0.0120, device='cuda:0', grad_fn=<MeanBackward0>)\n",
      "tensor(0.0125, device='cuda:0', grad_fn=<MeanBackward0>)\n",
      "tensor(0.0124, device='cuda:0', grad_fn=<MeanBackward0>)\n",
      "tensor(0.0119, device='cuda:0', grad_fn=<MeanBackward0>)\n",
      "tensor(0.0119, device='cuda:0', grad_fn=<MeanBackward0>)\n",
      "tensor(0.0121, device='cuda:0', grad_fn=<MeanBackward0>)\n",
      "tensor(0.0119, device='cuda:0', grad_fn=<MeanBackward0>)\n",
      "tensor(0.0122, device='cuda:0', grad_fn=<MeanBackward0>)\n",
      "tensor(0.0124, device='cuda:0', grad_fn=<MeanBackward0>)\n",
      "tensor(0.0123, device='cuda:0', grad_fn=<MeanBackward0>)\n",
      "tensor(0.0122, device='cuda:0', grad_fn=<MeanBackward0>)\n",
      "tensor(0.0119, device='cuda:0', grad_fn=<MeanBackward0>)\n",
      "tensor(0.0122, device='cuda:0', grad_fn=<MeanBackward0>)\n",
      "tensor(0.0121, device='cuda:0', grad_fn=<MeanBackward0>)\n",
      "tensor(0.0119, device='cuda:0', grad_fn=<MeanBackward0>)\n",
      "tensor(0.0125, device='cuda:0', grad_fn=<MeanBackward0>)\n"
     ]
    },
    {
     "name": "stderr",
     "output_type": "stream",
     "text": [
      " 84%|████████████████████████████████████████████████████████████████████████████████████████████████████████████████████████████████▎                       | 2538/3007 [00:34<00:03, 122.58it/s]"
     ]
    },
    {
     "name": "stdout",
     "output_type": "stream",
     "text": [
      "tensor(0.0122, device='cuda:0', grad_fn=<MeanBackward0>)\n",
      "tensor(0.0120, device='cuda:0', grad_fn=<MeanBackward0>)\n",
      "tensor(0.0124, device='cuda:0', grad_fn=<MeanBackward0>)\n",
      "tensor(0.0125, device='cuda:0', grad_fn=<MeanBackward0>)\n",
      "tensor(0.0118, device='cuda:0', grad_fn=<MeanBackward0>)\n",
      "tensor(0.0125, device='cuda:0', grad_fn=<MeanBackward0>)\n",
      "tensor(0.0122, device='cuda:0', grad_fn=<MeanBackward0>)\n",
      "tensor(0.0120, device='cuda:0', grad_fn=<MeanBackward0>)\n",
      "tensor(0.0121, device='cuda:0', grad_fn=<MeanBackward0>)\n",
      "tensor(0.0123, device='cuda:0', grad_fn=<MeanBackward0>)\n",
      "tensor(0.0119, device='cuda:0', grad_fn=<MeanBackward0>)\n",
      "tensor(0.0121, device='cuda:0', grad_fn=<MeanBackward0>)\n",
      "tensor(0.0122, device='cuda:0', grad_fn=<MeanBackward0>)\n",
      "tensor(0.0121, device='cuda:0', grad_fn=<MeanBackward0>)\n",
      "tensor(0.0122, device='cuda:0', grad_fn=<MeanBackward0>)\n"
     ]
    },
    {
     "name": "stderr",
     "output_type": "stream",
     "text": [
      " 85%|█████████████████████████████████████████████████████████████████████████████████████████████████████████████████████████████████▊                       | 2551/3007 [00:34<00:04, 98.58it/s]"
     ]
    },
    {
     "name": "stdout",
     "output_type": "stream",
     "text": [
      "tensor(0.0122, device='cuda:0', grad_fn=<MeanBackward0>)\n",
      "tensor(0.0121, device='cuda:0', grad_fn=<MeanBackward0>)\n",
      "tensor(0.0122, device='cuda:0', grad_fn=<MeanBackward0>)\n"
     ]
    },
    {
     "name": "stderr",
     "output_type": "stream",
     "text": [
      " 85%|██████████████████████████████████████████████████████████████████████████████████████████████████████████████████████████████████▎                      | 2562/3007 [00:34<00:05, 88.01it/s]"
     ]
    },
    {
     "name": "stdout",
     "output_type": "stream",
     "text": [
      "tensor(0.0122, device='cuda:0', grad_fn=<MeanBackward0>)\n",
      "tensor(0.0122, device='cuda:0', grad_fn=<MeanBackward0>)\n",
      "tensor(0.0121, device='cuda:0', grad_fn=<MeanBackward0>)\n",
      "tensor(0.0124, device='cuda:0', grad_fn=<MeanBackward0>)\n",
      "tensor(0.0122, device='cuda:0', grad_fn=<MeanBackward0>)\n",
      "tensor(0.0121, device='cuda:0', grad_fn=<MeanBackward0>)\n",
      "tensor(0.0117, device='cuda:0', grad_fn=<MeanBackward0>)\n",
      "tensor(0.0125, device='cuda:0', grad_fn=<MeanBackward0>)\n",
      "tensor(0.0121, device='cuda:0', grad_fn=<MeanBackward0>)\n",
      "tensor(0.0123, device='cuda:0', grad_fn=<MeanBackward0>)\n",
      "tensor(0.0122, device='cuda:0', grad_fn=<MeanBackward0>)\n",
      "tensor(0.0121, device='cuda:0', grad_fn=<MeanBackward0>)\n",
      "tensor(0.0125, device='cuda:0', grad_fn=<MeanBackward0>)\n",
      "tensor(0.0121, device='cuda:0', grad_fn=<MeanBackward0>)\n"
     ]
    },
    {
     "name": "stderr",
     "output_type": "stream",
     "text": [
      " 86%|██████████████████████████████████████████████████████████████████████████████████████████████████████████████████████████████████▊                      | 2572/3007 [00:35<00:05, 81.64it/s]"
     ]
    },
    {
     "name": "stdout",
     "output_type": "stream",
     "text": [
      "tensor(0.0124, device='cuda:0', grad_fn=<MeanBackward0>)\n",
      "tensor(0.0122, device='cuda:0', grad_fn=<MeanBackward0>)\n",
      "tensor(0.0121, device='cuda:0', grad_fn=<MeanBackward0>)\n",
      "tensor(0.0118, device='cuda:0', grad_fn=<MeanBackward0>)\n",
      "tensor(0.0124, device='cuda:0', grad_fn=<MeanBackward0>)\n",
      "tensor(0.0122, device='cuda:0', grad_fn=<MeanBackward0>)\n",
      "tensor(0.0123, device='cuda:0', grad_fn=<MeanBackward0>)\n",
      "tensor(0.0125, device='cuda:0', grad_fn=<MeanBackward0>)\n",
      "tensor(0.0118, device='cuda:0', grad_fn=<MeanBackward0>)\n",
      "tensor(0.0124, device='cuda:0', grad_fn=<MeanBackward0>)\n",
      "tensor(0.0120, device='cuda:0', grad_fn=<MeanBackward0>)\n",
      "tensor(0.0126, device='cuda:0', grad_fn=<MeanBackward0>)\n",
      "tensor(0.0119, device='cuda:0', grad_fn=<MeanBackward0>)\n",
      "tensor(0.0120, device='cuda:0', grad_fn=<MeanBackward0>)\n"
     ]
    },
    {
     "name": "stderr",
     "output_type": "stream",
     "text": [
      " 86%|███████████████████████████████████████████████████████████████████████████████████████████████████████████████████████████████████▊                     | 2590/3007 [00:35<00:05, 74.98it/s]"
     ]
    },
    {
     "name": "stdout",
     "output_type": "stream",
     "text": [
      "tensor(0.0121, device='cuda:0', grad_fn=<MeanBackward0>)\n",
      "tensor(0.0123, device='cuda:0', grad_fn=<MeanBackward0>)\n",
      "tensor(0.0121, device='cuda:0', grad_fn=<MeanBackward0>)\n",
      "tensor(0.0124, device='cuda:0', grad_fn=<MeanBackward0>)\n",
      "tensor(0.0121, device='cuda:0', grad_fn=<MeanBackward0>)\n",
      "tensor(0.0123, device='cuda:0', grad_fn=<MeanBackward0>)\n",
      "tensor(0.0123, device='cuda:0', grad_fn=<MeanBackward0>)\n",
      "tensor(0.0122, device='cuda:0', grad_fn=<MeanBackward0>)\n",
      "tensor(0.0119, device='cuda:0', grad_fn=<MeanBackward0>)\n",
      "tensor(0.0119, device='cuda:0', grad_fn=<MeanBackward0>)\n",
      "tensor(0.0121, device='cuda:0', grad_fn=<MeanBackward0>)\n",
      "tensor(0.0122, device='cuda:0', grad_fn=<MeanBackward0>)\n",
      "tensor(0.0121, device='cuda:0', grad_fn=<MeanBackward0>)\n",
      "tensor(0.0116, device='cuda:0', grad_fn=<MeanBackward0>)\n"
     ]
    },
    {
     "name": "stderr",
     "output_type": "stream",
     "text": [
      " 86%|████████████████████████████████████████████████████████████████████████████████████████████████████████████████████████████████████▏                    | 2598/3007 [00:35<00:05, 73.03it/s]"
     ]
    },
    {
     "name": "stdout",
     "output_type": "stream",
     "text": [
      "tensor(0.0122, device='cuda:0', grad_fn=<MeanBackward0>)\n",
      "tensor(0.0120, device='cuda:0', grad_fn=<MeanBackward0>)\n",
      "tensor(0.0122, device='cuda:0', grad_fn=<MeanBackward0>)\n",
      "tensor(0.0120, device='cuda:0', grad_fn=<MeanBackward0>)\n",
      "tensor(0.0122, device='cuda:0', grad_fn=<MeanBackward0>)\n",
      "tensor(0.0119, device='cuda:0', grad_fn=<MeanBackward0>)\n",
      "tensor(0.0120, device='cuda:0', grad_fn=<MeanBackward0>)\n",
      "tensor(0.0119, device='cuda:0', grad_fn=<MeanBackward0>)\n",
      "tensor(0.0124, device='cuda:0', grad_fn=<MeanBackward0>)\n",
      "tensor(0.0122, device='cuda:0', grad_fn=<MeanBackward0>)\n",
      "tensor(0.0120, device='cuda:0', grad_fn=<MeanBackward0>)\n"
     ]
    },
    {
     "name": "stderr",
     "output_type": "stream",
     "text": [
      " 87%|████████████████████████████████████████████████████████████████████████████████████████████████████████████████████████████████████▌                    | 2606/3007 [00:35<00:05, 71.58it/s]"
     ]
    },
    {
     "name": "stdout",
     "output_type": "stream",
     "text": [
      "tensor(0.0120, device='cuda:0', grad_fn=<MeanBackward0>)\n",
      "tensor(0.0123, device='cuda:0', grad_fn=<MeanBackward0>)\n",
      "tensor(0.0120, device='cuda:0', grad_fn=<MeanBackward0>)\n",
      "tensor(0.0125, device='cuda:0', grad_fn=<MeanBackward0>)\n"
     ]
    },
    {
     "name": "stderr",
     "output_type": "stream",
     "text": [
      " 87%|█████████████████████████████████████████████████████████████████████████████████████████████████████████████████████████████████████▏                   | 2618/3007 [00:35<00:04, 82.18it/s]"
     ]
    },
    {
     "name": "stdout",
     "output_type": "stream",
     "text": [
      "tensor(0.0121, device='cuda:0', grad_fn=<MeanBackward0>)\n",
      "tensor(0.0126, device='cuda:0', grad_fn=<MeanBackward0>)\n",
      "tensor(0.0123, device='cuda:0', grad_fn=<MeanBackward0>)\n",
      "tensor(0.0121, device='cuda:0', grad_fn=<MeanBackward0>)\n",
      "tensor(0.0120, device='cuda:0', grad_fn=<MeanBackward0>)\n",
      "tensor(0.0121, device='cuda:0', grad_fn=<MeanBackward0>)\n",
      "tensor(0.0123, device='cuda:0', grad_fn=<MeanBackward0>)\n",
      "tensor(0.0123, device='cuda:0', grad_fn=<MeanBackward0>)\n",
      "tensor(0.0122, device='cuda:0', grad_fn=<MeanBackward0>)\n",
      "tensor(0.0120, device='cuda:0', grad_fn=<MeanBackward0>)\n",
      "tensor(0.0123, device='cuda:0', grad_fn=<MeanBackward0>)\n",
      "tensor(0.0123, device='cuda:0', grad_fn=<MeanBackward0>)\n",
      "tensor(0.0118, device='cuda:0', grad_fn=<MeanBackward0>)\n",
      "tensor(0.0118, device='cuda:0', grad_fn=<MeanBackward0>)\n",
      "tensor(0.0120, device='cuda:0', grad_fn=<MeanBackward0>)\n",
      "tensor(0.0118, device='cuda:0', grad_fn=<MeanBackward0>)\n",
      "tensor(0.0118, device='cuda:0', grad_fn=<MeanBackward0>)\n",
      "tensor(0.0117, device='cuda:0', grad_fn=<MeanBackward0>)\n",
      "tensor(0.0121, device='cuda:0', grad_fn=<MeanBackward0>)\n",
      "tensor(0.0118, device='cuda:0', grad_fn=<MeanBackward0>)\n",
      "tensor(0.0121, device='cuda:0', grad_fn=<MeanBackward0>)\n",
      "tensor(0.0127, device='cuda:0', grad_fn=<MeanBackward0>)\n",
      "tensor(0.0127, device='cuda:0', grad_fn=<MeanBackward0>)\n",
      "tensor(0.0120, device='cuda:0', grad_fn=<MeanBackward0>)\n",
      "tensor(0.0120, device='cuda:0', grad_fn=<MeanBackward0>)\n",
      "tensor(0.0120, device='cuda:0', grad_fn=<MeanBackward0>)\n",
      "tensor(0.0124, device='cuda:0', grad_fn=<MeanBackward0>)\n",
      "tensor(0.0122, device='cuda:0', grad_fn=<MeanBackward0>)\n",
      "tensor(0.0121, device='cuda:0', grad_fn=<MeanBackward0>)\n",
      "tensor(0.0125, device='cuda:0', grad_fn=<MeanBackward0>)\n",
      "tensor(0.0120, device='cuda:0', grad_fn=<MeanBackward0>)\n"
     ]
    },
    {
     "name": "stderr",
     "output_type": "stream",
     "text": [
      " 88%|█████████████████████████████████████████████████████████████████████████████████████████████████████████████████████████████████████▍                  | 2641/3007 [00:35<00:03, 119.53it/s]"
     ]
    },
    {
     "name": "stdout",
     "output_type": "stream",
     "text": [
      "tensor(0.0124, device='cuda:0', grad_fn=<MeanBackward0>)\n",
      "tensor(0.0120, device='cuda:0', grad_fn=<MeanBackward0>)\n"
     ]
    },
    {
     "name": "stderr",
     "output_type": "stream",
     "text": [
      " 88%|███████████████████████████████████████████████████████████████████████████████████████████████████████████████████████████████████████                  | 2654/3007 [00:36<00:03, 97.73it/s]"
     ]
    },
    {
     "name": "stdout",
     "output_type": "stream",
     "text": [
      "tensor(0.0120, device='cuda:0', grad_fn=<MeanBackward0>)\n",
      "tensor(0.0121, device='cuda:0', grad_fn=<MeanBackward0>)\n",
      "tensor(0.0123, device='cuda:0', grad_fn=<MeanBackward0>)\n",
      "tensor(0.0122, device='cuda:0', grad_fn=<MeanBackward0>)\n",
      "tensor(0.0119, device='cuda:0', grad_fn=<MeanBackward0>)\n",
      "tensor(0.0117, device='cuda:0', grad_fn=<MeanBackward0>)\n",
      "tensor(0.0122, device='cuda:0', grad_fn=<MeanBackward0>)\n",
      "tensor(0.0120, device='cuda:0', grad_fn=<MeanBackward0>)\n",
      "tensor(0.0124, device='cuda:0', grad_fn=<MeanBackward0>)\n",
      "tensor(0.0122, device='cuda:0', grad_fn=<MeanBackward0>)\n",
      "tensor(0.0118, device='cuda:0', grad_fn=<MeanBackward0>)\n",
      "tensor(0.0121, device='cuda:0', grad_fn=<MeanBackward0>)\n"
     ]
    }
   ],
   "source": [
    "eval = BaselineModelEvaluator(\"../../../config/baseline.yaml\")\n",
    "eval.train()\n",
    "eval.test()\n",
    "eval.plot_stats()"
   ]
  },
  {
   "cell_type": "code",
   "execution_count": 5,
   "id": "3fdb3381-fb93-4af9-bbd5-03e80133b899",
   "metadata": {},
   "outputs": [
    {
     "name": "stdout",
     "output_type": "stream",
     "text": [
      "/home/victor/projects/dege-fm/src/perturbation_module/baseline_model_concat\n"
     ]
    }
   ],
   "source": [
    "!pwd"
   ]
  },
  {
   "cell_type": "code",
   "execution_count": null,
   "id": "70a6d27b-1926-439a-98ad-eeef59f8e69a",
   "metadata": {},
   "outputs": [],
   "source": []
  }
 ],
 "metadata": {
  "kernelspec": {
   "display_name": "Python 3 (ipykernel)",
   "language": "python",
   "name": "python3"
  },
  "language_info": {
   "codemirror_mode": {
    "name": "ipython",
    "version": 3
   },
   "file_extension": ".py",
   "mimetype": "text/x-python",
   "name": "python",
   "nbconvert_exporter": "python",
   "pygments_lexer": "ipython3",
   "version": "3.12.7"
  }
 },
 "nbformat": 4,
 "nbformat_minor": 5
}
