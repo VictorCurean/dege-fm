{
 "cells": [
  {
   "cell_type": "code",
   "execution_count": 14,
   "metadata": {
    "collapsed": true
   },
   "outputs": [],
   "source": [
    "import anndata as ad\n",
    "import random"
   ]
  },
  {
   "cell_type": "code",
   "execution_count": 3,
   "outputs": [],
   "source": [
    "ROOT = \"C:\\\\Users\\\\curea\\\\Documents\\\\bioFM for drug discovery\\\\dege-fm\\\\\"\n",
    "adata_sciplex = ad.read_h5ad(ROOT + \"data\\\\sciplex\\\\sciplex_preprocessed.h5ad\")\n",
    "adata_zhao = ad.read_h5ad(ROOT + \"data\\\\zhao\\\\zhao_preprocessed.h5ad\")"
   ],
   "metadata": {
    "collapsed": false
   }
  },
  {
   "cell_type": "code",
   "execution_count": 16,
   "outputs": [],
   "source": [
    "random.seed(1702)\n",
    "\n",
    "drug_list = list(adata_sciplex.obs['product_name'].unique())\n",
    "\n",
    "random.shuffle(drug_list)\n",
    "\n",
    "split_index = int(len(drug_list) * 0.25)\n",
    "\n",
    "list_validation = drug_list[:split_index]\n",
    "list_train = drug_list[split_index:]\n",
    "\n",
    "if \"Tazemetostat (EPZ-6438)\" in list_train:\n",
    "    list_train.remove(\"Tazemetostat (EPZ-6438)\")\n",
    "if \"Panobinostat (LBH589)\" in list_train:\n",
    "    list_train.remove(\"Panobinostat (LBH589)\")\n",
    "\n",
    "if \"Tazemetostat (EPZ-6438)\" not in list_validation:\n",
    "    list_validation.append(\"Tazemetostat (EPZ-6438)\")\n",
    "if \"Panobinostat (LBH589)\" not in list_validation:\n",
    "    list_validation.append(\"Panobinostat (LBH589)\")\n"
   ],
   "metadata": {
    "collapsed": false
   }
  },
  {
   "cell_type": "code",
   "execution_count": 19,
   "outputs": [
    {
     "data": {
      "text/plain": "['(+)-JQ1',\n '2-Methoxyestradiol (2-MeOE2)',\n 'A-366',\n 'ABT-737',\n 'AC480 (BMS-599626)',\n 'AG-490 (Tyrphostin B42)',\n 'AICAR (Acadesine)',\n 'AMG-900',\n 'AR-42',\n 'AT9283',\n 'AZD1480',\n 'Abexinostat (PCI-24781)',\n 'Alendronate sodium trihydrate',\n 'Alisertib (MLN8237)',\n 'Alvespimycin (17-DMAG) HCl',\n 'Aminoglutethimide ',\n 'Amisulpride',\n 'Andarine',\n 'Aurora A Inhibitor I',\n 'Azacitidine ',\n 'BMS-265246',\n 'BMS-536924',\n 'BMS-754807',\n 'BMS-911543',\n 'Barasertib (AZD1152-HQPA)',\n 'Baricitinib (LY3009104, INCB028050)',\n 'Bisindolylmaleimide IX (Ro 31-8220 Mesylate)',\n 'CUDC-101',\n 'CUDC-907',\n 'Capecitabine ',\n 'Carmofur',\n 'Cediranib (AZD2171)',\n 'Cerdulatinib (PRT062070, PRT2070)',\n 'Cimetidine ',\n 'Clevudine ',\n 'Crizotinib (PF-02341066)',\n 'Curcumin',\n 'Cyclocytidine HCl',\n 'Dacinostat (LAQ824)',\n 'Danusertib (PHA-739358)',\n 'Daphnetin',\n 'Dasatinib',\n 'Decitabine',\n 'Disulfiram ',\n 'Droxinostat',\n 'EED226',\n 'Ellagic acid',\n 'Entinostat (MS-275)',\n 'Epothilone A',\n 'FLLL32',\n 'Fasudil (HA-1077) HCl',\n 'Fedratinib (SAR302503, TG101348)',\n 'Flavopiridol HCl',\n 'Fluorouracil (5-Fluoracil, 5-FU)',\n 'Fulvestrant',\n 'G007-LK',\n 'GSK-LSD1 2HCl',\n 'Gandotinib (LY2784544)',\n 'Givinostat (ITF2357)',\n 'Glesatinib?(MGCD265)',\n 'Hesperadin',\n 'INO-1001 (3-Aminobenzamide)',\n 'IOX2',\n 'ITSA-1 (ITSA1)',\n 'Iniparib (BSI-201)',\n 'Ivosidenib (AG-120)',\n 'JNJ-26854165 (Serdemetan)',\n 'JNJ-7706621',\n 'Ki16425',\n 'Ki8751',\n 'Lapatinib (GW-572016) Ditosylate',\n 'Lenalidomide (CC-5013)',\n 'Linifanib (ABT-869)',\n 'Lomustine ',\n 'Luminespib (AUY-922, NVP-AUY922)',\n 'M344',\n 'MK-0752',\n 'MK-5108 (VX-689)',\n 'MLN8054',\n 'Meprednisone',\n 'Mercaptopurine (6-MP)',\n 'Mesna ',\n 'Mocetinostat (MGCD0103)',\n 'Motesanib Diphosphate (AMG-706)',\n 'NVP-BSK805 2HCl',\n 'Navitoclax (ABT-263)',\n 'Nilotinib (AMN-107)',\n 'Obatoclax Mesylate (GX15-070)',\n 'PCI-34051',\n 'PD98059',\n 'PF-3845',\n 'PF-573228',\n 'PFI-1 (PF-6405761)',\n 'PHA-680632',\n 'Patupilone (EPO906, Epothilone B)',\n 'Pirarubicin',\n 'Pracinostat (SB939)',\n 'Quisinostat (JNJ-26481585) 2HCl',\n 'RG108',\n 'Raltitrexed',\n 'Ramelteon',\n 'Regorafenib (BAY 73-4506)',\n 'Resminostat',\n 'Roscovitine (Seliciclib,CYC202)',\n 'Roxadustat (FG-4592)',\n 'Rucaparib (AG-014699,PF-01367338) phosphate',\n 'Ruxolitinib (INCB018424)',\n 'SGI-1776 free base',\n 'SL-327',\n 'SRT1720 HCl',\n 'SRT2104 (GSK2245840)',\n 'Selisistat (EX 527)',\n 'Sirtinol',\n 'Sodium Phenylbutyrate',\n 'Sorafenib Tosylate',\n 'Streptozotocin (STZ)',\n 'TAK-901',\n 'TG101209',\n 'TGX-221',\n 'TMP195',\n 'Tacedinaline (CI994)',\n 'Tanespimycin (17-AAG)',\n 'Temsirolimus (CCI-779, NSC 683864)',\n 'Thiotepa',\n 'Tie2 kinase inhibitor',\n 'Trametinib (GSK1120212)',\n 'Tranylcypromine (2-PCPA) HCl',\n 'Triamcinolone Acetonide',\n 'Trichostatin A (TSA)',\n 'Tubastatin A HCl',\n 'Tucidinostat (Chidamide)',\n 'UNC0631',\n 'Valproic acid sodium salt (Sodium valproate)',\n 'Veliparib (ABT-888)',\n 'WHI-P154',\n 'WP1066',\n 'YM155 (Sepantronium Bromide)',\n 'ZM 447439']"
     },
     "execution_count": 19,
     "metadata": {},
     "output_type": "execute_result"
    }
   ],
   "source": [
    "sorted(list_train)"
   ],
   "metadata": {
    "collapsed": false
   }
  },
  {
   "cell_type": "code",
   "execution_count": 18,
   "outputs": [
    {
     "data": {
      "text/plain": "['PJ34',\n 'Enzastaurin (LY317615)',\n 'S3I-201',\n 'S-Ruxolitinib (INCB018424)',\n 'PD173074',\n 'Pelitinib (EKB-569)',\n 'AZ 960',\n 'AG-14361',\n 'UNC1999',\n 'Rigosertib (ON-01910)',\n 'Momelotinib (CYT387)',\n 'Vehicle',\n 'Tozasertib (VX-680, MK-0457)',\n 'Busulfan ',\n 'Quercetin',\n 'GSK1070916',\n 'ENMD-2076 L-(+)-Tartaric acid ',\n 'SB431542',\n 'Altretamine',\n 'Resveratrol',\n 'Bosutinib (SKI-606)',\n 'GSK J1',\n 'KW-2449',\n 'Nintedanib (BIBF 1120)',\n 'ENMD-2076',\n 'Zileuton',\n 'Celecoxib',\n 'Costunolide',\n 'Vandetanib (ZD6474)',\n 'SNS-314',\n 'XAV-939',\n 'Entacapone',\n 'Maraviroc',\n 'UNC0379',\n 'Anacardic Acid',\n 'Filgotinib (GLPG0634)',\n 'Thalidomide',\n 'MC1568',\n 'Avagacestat (BMS-708163)',\n 'Ofloxacin',\n 'CYC116',\n 'Belinostat (PXD101)',\n 'SRT3025 HCl',\n 'CEP-33779',\n 'Prednisone ',\n 'BRD4770',\n 'Tazemetostat (EPZ-6438)',\n 'Panobinostat (LBH589)']"
     },
     "execution_count": 18,
     "metadata": {},
     "output_type": "execute_result"
    }
   ],
   "source": [
    "list_validation"
   ],
   "metadata": {
    "collapsed": false
   }
  },
  {
   "cell_type": "code",
   "execution_count": 20,
   "outputs": [],
   "source": [
    "with open(ROOT + 'data\\\\sciplex\\\\drugs_train_list.txt', 'w') as f:\n",
    "    for item in list_train:\n",
    "        f.write(f\"{item}\\n\")\n",
    "\n",
    "with open(ROOT + 'data\\\\sciplex\\\\drugs_validation_list.txt', 'w') as f:\n",
    "    for item in list_validation:\n",
    "        f.write(f\"{item}\\n\")"
   ],
   "metadata": {
    "collapsed": false
   }
  },
  {
   "cell_type": "code",
   "execution_count": 11,
   "outputs": [
    {
     "data": {
      "text/plain": "['panobinostat',\n 'control',\n 'etoposide',\n 'Ana-12',\n 'RO4929097',\n 'Tazemetostat',\n 'Ispenisib']"
     },
     "execution_count": 11,
     "metadata": {},
     "output_type": "execute_result"
    }
   ],
   "source": [
    "list(adata_zhao.obs['perturbation'].unique())"
   ],
   "metadata": {
    "collapsed": false
   }
  },
  {
   "cell_type": "code",
   "execution_count": null,
   "outputs": [],
   "source": [],
   "metadata": {
    "collapsed": false
   }
  }
 ],
 "metadata": {
  "kernelspec": {
   "display_name": "Python 3",
   "language": "python",
   "name": "python3"
  },
  "language_info": {
   "codemirror_mode": {
    "name": "ipython",
    "version": 2
   },
   "file_extension": ".py",
   "mimetype": "text/x-python",
   "name": "python",
   "nbconvert_exporter": "python",
   "pygments_lexer": "ipython2",
   "version": "2.7.6"
  }
 },
 "nbformat": 4,
 "nbformat_minor": 0
}
