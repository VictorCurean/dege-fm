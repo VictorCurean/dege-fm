{
 "cells": [
  {
   "cell_type": "code",
   "execution_count": 43,
   "metadata": {},
   "outputs": [],
   "source": [
    " import torch\n",
    "import torch.optim as optim\n",
    "import torch.nn as nn\n",
    "import numpy as np\n",
    "from tqdm import tqdm\n",
    "import math\n",
    "import yaml\n",
    "from torch.utils.data.dataloader import DataLoader\n",
    "import pickle as pkl\n",
    "import seaborn as sns\n",
    "import matplotlib.pyplot as plt\n",
    "import anndata as ad\n",
    "from scipy.spatial.distance import euclidean, cosine\n",
    "from sklearn.metrics import mean_absolute_error, mean_squared_error\n",
    "from scipy.stats import wasserstein_distance\n",
    "from itertools import combinations\n",
    "from numpy import corrcoef\n",
    "import random\n",
    "from scipy.stats import spearmanr\n"
   ]
  },
  {
   "cell_type": "code",
   "execution_count": 26,
   "metadata": {
    "collapsed": false,
    "jupyter": {
     "outputs_hidden": false
    }
   },
   "outputs": [],
   "source": [
    "adata = ad.read_h5ad(\"../../data/sciplex/sciplex_preprocessed.h5ad\")\n",
    "adata = adata[adata.obs['cell_type'] == \"A549\"]"
   ]
  },
  {
   "cell_type": "code",
   "execution_count": 27,
   "metadata": {},
   "outputs": [
    {
     "name": "stdout",
     "output_type": "stream",
     "text": [
      "True\n"
     ]
    }
   ],
   "source": [
    "print(\"Vehicle_0\" in list(adata.obs['product_dose'].unique())) #eliminate Vehicle_0 to get all perturbed cell populations"
   ]
  },
  {
   "cell_type": "markdown",
   "metadata": {},
   "source": [
    "Create 5 disjoint sets of n=300 control cell populations"
   ]
  },
  {
   "cell_type": "code",
   "execution_count": 28,
   "metadata": {},
   "outputs": [
    {
     "name": "stdout",
     "output_type": "stream",
     "text": [
      "Set 1: 300 cells\n",
      "Set 2: 300 cells\n",
      "Set 3: 300 cells\n",
      "Set 4: 300 cells\n",
      "Set 5: 300 cells\n"
     ]
    }
   ],
   "source": [
    "adata_control = adata[adata.obs['product_name'] == \"Vehicle\"]\n",
    "\n",
    "num_sets = 5\n",
    "cells_per_set  = 300\n",
    "n_total = adata_control.n_obs\n",
    "\n",
    "all_indices = np.arange(n_total)\n",
    "random.shuffle(all_indices)\n",
    "\n",
    "# Split indices into disjoint sets\n",
    "disjoint_sets = []\n",
    "for i in range(num_sets):\n",
    "    start_idx = i * cells_per_set\n",
    "    end_idx = start_idx + cells_per_set\n",
    "    disjoint_set_indices = all_indices[start_idx:end_idx]\n",
    "    disjoint_sets.append(disjoint_set_indices)\n",
    "\n",
    "# Optionally, create new AnnData objects for each set\n",
    "disjoint_adata_sets = [adata_control[indices].copy() for indices in disjoint_sets]\n",
    "\n",
    "# Output the sets\n",
    "for i, indices in enumerate(disjoint_sets):\n",
    "    print(f\"Set {i + 1}: {len(indices)} cells\")"
   ]
  },
  {
   "cell_type": "markdown",
   "metadata": {},
   "source": [
    "Compute distance between pairwise control subsets"
   ]
  },
  {
   "cell_type": "code",
   "execution_count": 29,
   "metadata": {},
   "outputs": [],
   "source": [
    "def get_energy_distance(dist1, dist2):\n",
    "    \"\"\"\n",
    "    Calculate the energy distance between two 2D distributions.\n",
    "\n",
    "    Parameters:\n",
    "        dist1 (numpy.ndarray): First distribution, a 2D array of shape (n1, d).\n",
    "        dist2 (numpy.ndarray): Second distribution, a 2D array of shape (n2, d).\n",
    "\n",
    "    Returns:\n",
    "        float: The energy distance between the two distributions.\n",
    "    \"\"\"\n",
    "    # Ensure inputs are numpy arrays\n",
    "    dist1 = np.asarray(dist1)\n",
    "    dist2 = np.asarray(dist2)\n",
    "\n",
    "    # Pairwise distances within dist1\n",
    "    a = np.linalg.norm(dist1[:, None, :] - dist1[None, :, :], axis=-1)\n",
    "    mean_within_dist1 = np.mean(a)\n",
    "    \n",
    "    # Pairwise distances within dist2\n",
    "    b = np.linalg.norm(dist2[:, None, :] - dist2[None, :, :], axis=-1)\n",
    "    mean_within_dist2 = np.mean(b)\n",
    "    \n",
    "    # Pairwise distances between dist1 and dist2\n",
    "    c = np.linalg.norm(dist1[:, None, :] - dist2[None, :, :], axis=-1)\n",
    "    mean_between_dist = np.mean(c)\n",
    "    \n",
    "    # Energy distance formula\n",
    "    energy_dist = 2 * mean_between_dist - mean_within_dist1 - mean_within_dist2\n",
    "    return energy_dist"
   ]
  },
  {
   "cell_type": "code",
   "execution_count": 30,
   "metadata": {},
   "outputs": [],
   "source": [
    "# Linear Maximum Mean Discrepancy function\n",
    "def linear_mmd(X, Y):\n",
    "    \"\"\"\n",
    "    Compute the linear Maximum Mean Discrepancy (MMD) between two distributions X and Y.\n",
    "    \"\"\"\n",
    "    return np.abs(np.mean(X, axis=0) - np.mean(Y, axis=0)).mean()"
   ]
  },
  {
   "cell_type": "code",
   "execution_count": 31,
   "metadata": {},
   "outputs": [],
   "source": [
    "# Initialize lists to store metrics\n",
    "euclidean_dist_control = []\n",
    "cosine_sim_control = []\n",
    "mae_control = []\n",
    "mse_control = []\n",
    "wasserstein_dist_control = []\n",
    "mmd_control = []\n",
    "edist_control = []\n",
    "\n",
    "\n",
    "\n",
    "# Compute metrics between disjoint sets\n",
    "for i in range(len(disjoint_adata_sets)):\n",
    "    # Initialize accumulators for each metric\n",
    "    euclidean_distance = 0\n",
    "    cosine_similarity = 0\n",
    "    mae_distance = 0\n",
    "    mse_distance = 0\n",
    "    wasserstein_distance_accum = 0\n",
    "    mmd_distance = 0\n",
    "    energy_distance = 0\n",
    "    \n",
    "    for j in range(len(disjoint_adata_sets)):\n",
    "        if i != j:\n",
    "            ad1 = disjoint_adata_sets[i]\n",
    "            ad2 = disjoint_adata_sets[j]\n",
    "            \n",
    "            centroid_1 = np.mean(ad1.X, axis=0)\n",
    "            centroid_2 = np.mean(ad2.X, axis=0)\n",
    "            \n",
    "            # Calculate metrics\n",
    "            euclidean_distance += euclidean(centroid_1, centroid_2)\n",
    "            cosine_similarity += cosine(centroid_1, centroid_2)  # Cosine similarity\n",
    "            mae_distance += mean_absolute_error(centroid_1, centroid_2)\n",
    "            mse_distance += mean_squared_error(centroid_1, centroid_2)\n",
    "            wasserstein_distance_accum += wasserstein_distance(centroid_1, centroid_2)\n",
    "            mmd_distance += linear_mmd(ad1.X, ad2.X)\n",
    "            energy_distance += get_energy_distance(ad1.X, ad2.X)\n",
    "    \n",
    "    # Average metrics over all other sets\n",
    "    euclidean_dist_control.append(euclidean_distance / (len(disjoint_adata_sets) - 1))\n",
    "    cosine_sim_control.append(cosine_similarity / (len(disjoint_adata_sets) - 1))\n",
    "    mae_control.append(mae_distance / (len(disjoint_adata_sets) - 1))\n",
    "    mse_control.append(mse_distance / (len(disjoint_adata_sets) - 1))\n",
    "    wasserstein_dist_control.append(wasserstein_distance_accum / (len(disjoint_adata_sets) - 1))\n",
    "    mmd_control.append(mmd_distance / (len(disjoint_adata_sets) - 1))\n",
    "    edist_control.append(energy_distance / (len(disjoint_adata_sets)) - 1)"
   ]
  },
  {
   "cell_type": "markdown",
   "metadata": {},
   "source": [
    "For every combination of control - perturbed populations, calculate distance"
   ]
  },
  {
   "cell_type": "code",
   "execution_count": 32,
   "metadata": {},
   "outputs": [
    {
     "name": "stderr",
     "output_type": "stream",
     "text": [
      "100%|███████████████████████████████████████████████████████████████████████████████████████████████████████████████████████████████████████████████████████████| 741/741 [27:09<00:00,  2.20s/it]\n"
     ]
    }
   ],
   "source": [
    "# Initialize lists to store all metrics\n",
    "all_euclidean_dist = []\n",
    "all_cosine_sim = []\n",
    "all_mae_dist = []\n",
    "all_mse_dist = []\n",
    "all_wasserstein_dist = []\n",
    "all_mmd_dist = []\n",
    "all_energy_dist = []\n",
    "\n",
    "# Iterate over each product-dose combination\n",
    "for product_dose in tqdm(list(adata.obs['product_dose'].unique())):\n",
    "    if product_dose == \"Vehicle_0\":\n",
    "        continue\n",
    "\n",
    "    # Initialize accumulators for the distances\n",
    "    dist_euclidean_mean = 0\n",
    "    dist_cosine_mean = 0\n",
    "    dist_mae_mean = 0\n",
    "    dist_mse_mean = 0\n",
    "    dist_wasserstein_mean = 0\n",
    "    dist_mmd_mean = 0\n",
    "    dist_energy_mean = 0\n",
    "\n",
    "    # Perturbed data for the current product-dose\n",
    "    pert_adata = adata[adata.obs['product_dose'] == product_dose]\n",
    "    centroid_pert = np.mean(pert_adata.X, axis=0)\n",
    "\n",
    "    # Compare with control sets\n",
    "    for ctrl_adata in disjoint_adata_sets:\n",
    "        centroid_ctrl = np.mean(ctrl_adata.X, axis=0)\n",
    "\n",
    "        # Calculate metrics\n",
    "        dist_euclidean_mean += euclidean(centroid_ctrl, centroid_pert)\n",
    "        dist_cosine_mean += cosine(centroid_ctrl, centroid_pert)\n",
    "        dist_mae_mean += mean_absolute_error(centroid_ctrl, centroid_pert)\n",
    "        dist_mse_mean += mean_squared_error(centroid_ctrl, centroid_pert)\n",
    "        dist_wasserstein_mean += wasserstein_distance(centroid_ctrl, centroid_pert)\n",
    "        dist_mmd_mean += linear_mmd(ctrl_adata.X, pert_adata.X)\n",
    "        dist_energy_mean += get_energy_distance(ctrl_adata.X, pert_adata.X)\n",
    "\n",
    "    # Average the distances across control sets\n",
    "    num_ctrl_sets = len(disjoint_adata_sets)\n",
    "    \n",
    "    all_euclidean_dist.append(dist_euclidean_mean / num_ctrl_sets)\n",
    "    all_cosine_sim.append(dist_cosine_mean / num_ctrl_sets)\n",
    "    all_mae_dist.append(dist_mae_mean / num_ctrl_sets)\n",
    "    all_mse_dist.append(dist_mse_mean / num_ctrl_sets)\n",
    "    all_wasserstein_dist.append(dist_wasserstein_mean / num_ctrl_sets)\n",
    "    all_mmd_dist.append(dist_mmd_mean / num_ctrl_sets)\n",
    "    all_energy_dist.append(dist_energy_mean / num_ctrl_sets)"
   ]
  },
  {
   "cell_type": "code",
   "execution_count": 33,
   "metadata": {},
   "outputs": [],
   "source": [
    "def get_distance_stats(within_ctrl_distances, ctr_pert_distances):\n",
    "    CRP_list = list()\n",
    "\n",
    "    for ctrl_ctrl_dist in within_ctrl_distances:\n",
    "    \n",
    "        no_smaller = 0\n",
    "        for ctrl_pert_dist in ctr_pert_distances:\n",
    "            if ctrl_ctrl_dist > ctrl_pert_dist:\n",
    "                no_smaller += 1\n",
    "                \n",
    "        crp_fold = no_smaller / len(all_euclidean_dist)\n",
    "        CRP_list.append(crp_fold)\n",
    "\n",
    "    ROBUSTNESS = 1 / (1 + np.var(CRP_list))\n",
    "    CRP = 1 - float(np.mean(CRP_list))\n",
    "\n",
    "    return CRP, ROBUSTNESS\n",
    "    "
   ]
  },
  {
   "cell_type": "code",
   "execution_count": 34,
   "metadata": {},
   "outputs": [
    {
     "name": "stdout",
     "output_type": "stream",
     "text": [
      "Euclidean Distance - CRP: 0.9886486486486487 Robustness: 0.999919947972025\n"
     ]
    }
   ],
   "source": [
    "crp, robustness = get_distance_stats(euclidean_dist_control, all_euclidean_dist)\n",
    "print(\"Euclidean Distance - CRP:\", crp, \"Robustness:\", robustness)"
   ]
  },
  {
   "cell_type": "code",
   "execution_count": 35,
   "metadata": {},
   "outputs": [
    {
     "name": "stdout",
     "output_type": "stream",
     "text": [
      "Cosine Distance - CRP: 0.9902702702702703 Robustness: 0.9999653773857647\n"
     ]
    }
   ],
   "source": [
    "crp, robustness = get_distance_stats(cosine_sim_control, all_cosine_sim)\n",
    "print(\"Cosine Distance - CRP:\", crp, \"Robustness:\", robustness)"
   ]
  },
  {
   "cell_type": "code",
   "execution_count": 36,
   "metadata": {
    "collapsed": false,
    "jupyter": {
     "outputs_hidden": false
    }
   },
   "outputs": [
    {
     "name": "stdout",
     "output_type": "stream",
     "text": [
      "Mean Absolute Error - CRP: 0.9905405405405405 Robustness: 0.9999649391401909\n"
     ]
    }
   ],
   "source": [
    "crp, robustness = get_distance_stats(mae_control, all_mae_dist)\n",
    "print(\"Mean Absolute Error - CRP:\", crp, \"Robustness:\", robustness)"
   ]
  },
  {
   "cell_type": "code",
   "execution_count": 37,
   "metadata": {},
   "outputs": [
    {
     "name": "stdout",
     "output_type": "stream",
     "text": [
      "Mean Squared Error - CRP: 0.9881081081081081 Robustness: 0.9999018357876335\n"
     ]
    }
   ],
   "source": [
    "crp, robustness = get_distance_stats(mse_control, all_mse_dist)\n",
    "print(\"Mean Squared Error - CRP:\", crp, \"Robustness:\", robustness)"
   ]
  },
  {
   "cell_type": "code",
   "execution_count": 38,
   "metadata": {},
   "outputs": [
    {
     "name": "stdout",
     "output_type": "stream",
     "text": [
      "Wasserstein Distance - CRP: 0.9127027027027027 Robustness: 0.9922464168959922\n"
     ]
    }
   ],
   "source": [
    "crp, robustness = get_distance_stats(wasserstein_dist_control, all_wasserstein_dist)\n",
    "print(\"Wasserstein Distance - CRP:\", crp, \"Robustness:\", robustness)"
   ]
  },
  {
   "cell_type": "code",
   "execution_count": 39,
   "metadata": {},
   "outputs": [
    {
     "name": "stdout",
     "output_type": "stream",
     "text": [
      "Mean Maximum Discrepancy - CRP: 0.9905405405405405 Robustness: 0.9999649391401909\n"
     ]
    }
   ],
   "source": [
    "crp, robustness = get_distance_stats(mmd_control, all_mmd_dist)\n",
    "print(\"Mean Maximum Discrepancy - CRP:\", crp, \"Robustness:\", robustness)"
   ]
  },
  {
   "cell_type": "code",
   "execution_count": 40,
   "metadata": {},
   "outputs": [
    {
     "name": "stdout",
     "output_type": "stream",
     "text": [
      "Mean Maximum Discrepancy - CRP: 1.0 Robustness: 1.0\n"
     ]
    }
   ],
   "source": [
    "crp, robustness = get_distance_stats(edist_control, all_energy_dist)\n",
    "print(\"Mean Maximum Discrepancy - CRP:\", crp, \"Robustness:\", robustness)"
   ]
  },
  {
   "cell_type": "code",
   "execution_count": 44,
   "metadata": {},
   "outputs": [
    {
     "name": "stderr",
     "output_type": "stream",
     "text": [
      "100%|███████████████████████████████████████████████████████████████████████████████████████████████████████████████████████████████████████████████████████████| 186/186 [00:06<00:00, 27.50it/s]"
     ]
    },
    {
     "name": "stdout",
     "output_type": "stream",
     "text": [
      "Bio Rep Scores:\n",
      "Euclidean 0.6345945945945946\n",
      "Cosine 0.6345945945945947\n",
      "MAE 0.6389189189189189\n",
      "MSE 0.6345945945945946\n",
      "MMD 0.5254054054054054\n"
     ]
    },
    {
     "name": "stderr",
     "output_type": "stream",
     "text": [
      "\n"
     ]
    }
   ],
   "source": [
    "ad_control = adata[adata.obs['product_name'] == \"Vehicle\"]\n",
    "centroid_control = np.mean(ad_control.X, axis=0)\n",
    "\n",
    "correlations_euclidean = list()\n",
    "correlations_cosine = list()\n",
    "correlations_mae = list()\n",
    "correlations_mse = list()\n",
    "correlations_wasserstein = list()\n",
    "correlations_mmd = list()\n",
    "#correlations_energy = list()\n",
    "\n",
    "for drug in tqdm(list(adata.obs['product_name'].unique())):\n",
    "    if drug == \"Vehicle\":\n",
    "        continue\n",
    "\n",
    "    ad_perturb = adata[adata.obs['product_name'] == drug]\n",
    "\n",
    "    doses = list()\n",
    "    \n",
    "    distances_euclidean = list()\n",
    "    distances_cosine = list()\n",
    "    distances_mae = list()\n",
    "    distances_mse = list()\n",
    "    distances_wasserstein = list()\n",
    "    distances_mmd = list()\n",
    "    #distances_energy = list()\n",
    "    \n",
    "    for dose in list(ad_perturb.obs['dose'].unique()):\n",
    "        \n",
    "        ad_perturb_dose = ad_perturb[ad_perturb.obs['dose'] == dose]\n",
    "    \n",
    "        centroid_perturbation = np.mean(ad_perturb_dose.X, axis=0)\n",
    "\n",
    "        doses.append(dose)\n",
    "\n",
    "        #calculate distances\n",
    "        dist_euclidean = euclidean(centroid_control, centroid_perturbation)\n",
    "        dist_cosine_mean = cosine(centroid_control, centroid_perturbation)\n",
    "        dist_mae_mean = mean_absolute_error(centroid_control, centroid_perturbation)\n",
    "        dist_mse_mean = mean_squared_error(centroid_control, centroid_perturbation)\n",
    "        dist_wasserstein_mean = wasserstein_distance(centroid_control, centroid_perturbation)\n",
    "        dist_mmd_mean = linear_mmd(ad_control.X, ad_perturb_dose.X)\n",
    "        #dist_energy_mean = get_energy_distance(ad_control.X, ad_perturb_dose.X)\n",
    "\n",
    "        #append to corresponding list\n",
    "        distances_euclidean.append(dist_euclidean)\n",
    "        distances_cosine.append(dist_cosine_mean)\n",
    "        distances_mae.append(dist_mae_mean)\n",
    "        distances_mse.append(dist_mse_mean)\n",
    "        distances_wasserstein.append(dist_wasserstein_mean)\n",
    "        distances_mmd.append(dist_wasserstein_mean)\n",
    "        #distances_energy.append(dist_energy_mean)\n",
    "\n",
    "\n",
    "    \n",
    "    corr_euclidean, _ = spearmanr(doses, distances_euclidean)\n",
    "    corr_cosine, _ = spearmanr(doses, distances_cosine)\n",
    "    corr_mae, _ = spearmanr(doses, distances_mae)\n",
    "    corr_mse, _ = spearmanr(doses, distances_mse)\n",
    "    corr_mmd, _ = spearmanr(doses, distances_mmd)\n",
    "    #corr_energy, _ = spearmanr(doses, distances_energy)\n",
    "\n",
    "    correlations_euclidean.append(corr_euclidean)\n",
    "    correlations_cosine.append(corr_cosine)\n",
    "    correlations_mae.append(corr_mae)\n",
    "    correlations_mse.append(corr_mse)\n",
    "    correlations_mmd.append(corr_mmd)\n",
    "    #correlations_energy.append(corr_energy)\n",
    "\n",
    "print(\"Bio Rep Scores:\")\n",
    "print(\"Euclidean\", np.mean(correlations_euclidean))\n",
    "print(\"Cosine\", np.mean(correlations_cosine))\n",
    "print(\"MAE\", np.mean(correlations_mae))\n",
    "print(\"MSE\", np.mean(correlations_mse))\n",
    "print(\"MMD\", np.mean(correlations_mmd))\n",
    "#print(\"Energy\", np.mean(correlations_energy))"
   ]
  },
  {
   "cell_type": "code",
   "execution_count": null,
   "metadata": {},
   "outputs": [],
   "source": []
  }
 ],
 "metadata": {
  "kernelspec": {
   "display_name": "Python 3 (ipykernel)",
   "language": "python",
   "name": "python3"
  },
  "language_info": {
   "codemirror_mode": {
    "name": "ipython",
    "version": 3
   },
   "file_extension": ".py",
   "mimetype": "text/x-python",
   "name": "python",
   "nbconvert_exporter": "python",
   "pygments_lexer": "ipython3",
   "version": "3.12.7"
  }
 },
 "nbformat": 4,
 "nbformat_minor": 4
}
