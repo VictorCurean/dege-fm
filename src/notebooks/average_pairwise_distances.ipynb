{
 "cells": [
  {
   "cell_type": "code",
   "execution_count": 9,
   "id": "0737b490-2f69-4e66-af81-2d3b9e5f8313",
   "metadata": {},
   "outputs": [],
   "source": [
    "import anndata as ad\n",
    "import pertpy as pt\n",
    "import matplotlib.pyplot as plt\n",
    "import pandas as pd\n",
    "import seaborn as sns\n",
    "\n",
    "from sklearn.metrics import pairwise_distances\n",
    "from tqdm import tqdm\n",
    "from itertools import combinations"
   ]
  },
  {
   "cell_type": "code",
   "execution_count": 3,
   "id": "9dee23b6-b4bd-49d2-b55d-7e3fc8531615",
   "metadata": {},
   "outputs": [],
   "source": [
    "adata = ad.read_h5ad(\"../../data/sciplex/sciplex3_uce_adata.h5ad\")\n",
    "\n",
    "with open(\"../../data/sciplex/drugs_validation_list.txt\") as f:\n",
    " test_compounds = [line.strip() for line in f]\n",
    "\n",
    "#exclude control cells, training compounds\n",
    "adata = adata[adata.obs['product_name'] != \"Vehicle\"]\n",
    "adata = adata[adata.obs['product_name'].isin(test_compounds)]"
   ]
  },
  {
   "cell_type": "code",
   "execution_count": 4,
   "id": "e1ddf174-135c-438e-8d0e-73b98791e1e8",
   "metadata": {},
   "outputs": [
    {
     "data": {
      "text/plain": [
       "View of AnnData object with n_obs × n_vars = 137979 × 17376\n",
       "    obs: 'cell_type', 'dose', 'dose_character', 'dose_pattern', 'g1s_score', 'g2m_score', 'pathway', 'pathway_level_1', 'pathway_level_2', 'product_dose', 'product_name', 'proliferation_index', 'replicate', 'size_factor', 'target', 'vehicle', 'n_genes'\n",
       "    var: 'id', 'num_cells_expressed-0-0', 'num_cells_expressed-1-0', 'num_cells_expressed-1', 'n_cells'\n",
       "    obsm: 'X_uce'"
      ]
     },
     "execution_count": 4,
     "metadata": {},
     "output_type": "execute_result"
    }
   ],
   "source": [
    "adata"
   ]
  },
  {
   "cell_type": "code",
   "execution_count": 10,
   "id": "869042ee-410f-495c-ac54-a870d0205e11",
   "metadata": {},
   "outputs": [],
   "source": [
    "def calculate_edistance(X, Y):\n",
    "    \"\"\"\n",
    "    Calculate edistances between two matrices\n",
    "    \"\"\"\n",
    "    sigma_X = pairwise_distances(X, X, metric=\"sqeuclidean\").mean()\n",
    "    sigma_Y = pairwise_distances(Y, Y, metric=\"sqeuclidean\").mean()\n",
    "    delta = pairwise_distances(X, Y, metric=\"sqeuclidean\").mean()\n",
    "    return 2 * delta - sigma_X - sigma_Y"
   ]
  },
  {
   "cell_type": "code",
   "execution_count": 12,
   "id": "f992f9c3-c6a6-4b82-bb6a-3a21f5de6103",
   "metadata": {},
   "outputs": [],
   "source": [
    "#A549\n",
    "def get_pariwise_edistances(adata):\n",
    "    e_distances = list()\n",
    "\n",
    "    compounds = list(adata.obs['product_name'].unique())\n",
    "\n",
    "    for pair in tqdm(list(combinations(compounds, 2))):\n",
    "        ad1 = adata[adata.obs['product_name'] == pair[0]]\n",
    "        ad2 = adata[adata.obs['product_name'] == pair[1]]\n",
    "\n",
    "        edist = calculate_edistance(ad1.obsm['X_uce'], ad2.obsm['X_uce'])\n",
    "        e_distances.append(edist)\n",
    "\n",
    "\n",
    "    return e_distances"
   ]
  },
  {
   "cell_type": "code",
   "execution_count": 24,
   "id": "db72ca4d-fada-42bc-8224-545e9eac7cca",
   "metadata": {},
   "outputs": [],
   "source": [
    "def plot_edist_distribution(edist_list, title):\n",
    "    mean_value = np.mean(pw_dist_A549)\n",
    "    # Plot KDE\n",
    "    plt.figure(figsize=(8, 5))\n",
    "    sns.histplot(pw_dist_A549, bins=30, color=\"blue\", alpha=0.5)\n",
    "    \n",
    "    # Plot mean as a vertical line\n",
    "    plt.axvline(mean_value, color=\"red\", linestyle=\"--\", label=f\"Mean: {mean_value:.4f}\")\n",
    "    \n",
    "    # Labels and title\n",
    "    plt.xlabel(\"Value\")\n",
    "    plt.ylabel(\"Density\")\n",
    "    plt.title(title)\n",
    "    plt.legend()\n",
    "    \n",
    "    # Show plot\n",
    "    plt.show()"
   ]
  },
  {
   "cell_type": "code",
   "execution_count": null,
   "id": "c4b05918-7ddd-4ebf-a7df-884f01d30923",
   "metadata": {},
   "outputs": [],
   "source": [
    "results = list()\n",
    "for cell_type in list(adata.obs['cell_type'].unique()):\n",
    "    for dose in list(adata.obs['dose'].unique()):\n",
    "    \n",
    "        adata_subset = adata[adata.obs['cell_type'] == cell_type]\n",
    "        adata_subset = adata_subset[adata_subset.obs['dose'] == dose]\n",
    "\n",
    "        title = cell_type + \"_\" + str(dose)\n",
    "\n",
    "        pw_dist_A549 = get_pariwise_edistances(adata_subset)\n",
    "\n",
    "        results.append({title: np.mean(pw_dist_A549)})\n",
    "        #plot_edist_distribution(adata_subset, title)"
   ]
  },
  {
   "cell_type": "code",
   "execution_count": 29,
   "id": "2a91e0a6-4c70-4ee9-bd6b-f0c3ff410719",
   "metadata": {},
   "outputs": [
    {
     "name": "stdout",
     "output_type": "stream",
     "text": [
      "{'A549_1000.0': 0.04998170317530318}\n",
      "{'A549_100.0': 0.03311512477407399}\n",
      "{'A549_10.0': 0.016399602604891154}\n",
      "{'A549_10000.0': 0.09285112448817988}\n",
      "{'MCF7_1000.0': 0.04512665252011626}\n",
      "{'MCF7_100.0': 0.029308987419350757}\n",
      "{'MCF7_10.0': 0.01338384093676058}\n",
      "{'MCF7_10000.0': 0.09148223034269391}\n",
      "{'K562_1000.0': 0.050168518140024945}\n",
      "{'K562_100.0': 0.039993097427767146}\n",
      "{'K562_10.0': 0.017432546783475774}\n",
      "{'K562_10000.0': 0.08976637647921036}\n"
     ]
    }
   ],
   "source": [
    "for l in results:\n",
    "    print(l)"
   ]
  },
  {
   "cell_type": "code",
   "execution_count": null,
   "id": "c0341388-1b1d-413c-9f4f-d848bdbe76e1",
   "metadata": {},
   "outputs": [],
   "source": []
  },
  {
   "cell_type": "code",
   "execution_count": null,
   "id": "e8a59df8-d0a3-4b28-80bd-4af4a31e7903",
   "metadata": {},
   "outputs": [],
   "source": []
  }
 ],
 "metadata": {
  "kernelspec": {
   "display_name": "Python 3 (ipykernel)",
   "language": "python",
   "name": "python3"
  },
  "language_info": {
   "codemirror_mode": {
    "name": "ipython",
    "version": 3
   },
   "file_extension": ".py",
   "mimetype": "text/x-python",
   "name": "python",
   "nbconvert_exporter": "python",
   "pygments_lexer": "ipython3",
   "version": "3.12.7"
  }
 },
 "nbformat": 4,
 "nbformat_minor": 5
}
