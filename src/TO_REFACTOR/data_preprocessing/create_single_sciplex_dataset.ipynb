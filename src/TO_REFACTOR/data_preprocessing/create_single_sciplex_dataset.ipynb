{
 "cells": [
  {
   "cell_type": "code",
   "execution_count": 2,
   "metadata": {
    "collapsed": true
   },
   "outputs": [],
   "source": [
    "import anndata as ad\n",
    "import pandas as pd\n",
    "import pickle as pkl\n",
    "import random"
   ]
  },
  {
   "cell_type": "code",
   "execution_count": 3,
   "outputs": [
    {
     "name": "stderr",
     "output_type": "stream",
     "text": [
      "C:\\Users\\curea\\anaconda3\\envs\\stable_diffusion\\Lib\\site-packages\\anndata\\_core\\aligned_df.py:67: ImplicitModificationWarning: Transforming to str index.\n",
      "  warnings.warn(\"Transforming to str index.\", ImplicitModificationWarning)\n"
     ]
    }
   ],
   "source": [
    "OBS_FILE = \"C:\\\\Users\\\\curea\\\\Documents\\\\bioFM for drug discovery\\\\dege-fm\\\\raw-data\\\\sciplex_obs_annot_with_smiles_manual_plus_embeddings.tsv\"\n",
    "EMB_FILE = \"C:\\\\Users\\\\curea\\\\Documents\\\\bioFM for drug discovery\\\\dege-fm\\\\raw-data\\\\uce_embeddings.pkl\"\n",
    "\n",
    "adata_obs = pd.read_csv(OBS_FILE, sep=\"\\t\")\n",
    "\n",
    "#clean redundant columns\n",
    "cols_to_remove = [\"Unnamed: 0.2\", \"Unnamed: 0.1\", \"Unnamed: 0\"]\n",
    "adata_obs = adata_obs.drop(columns=cols_to_remove)\n",
    "\n",
    "with open(EMB_FILE, 'rb') as f:\n",
    "    adata_X = pkl.load(f)\n",
    "\n",
    "#create adata object for ease of use\n",
    "adata = ad.AnnData(X=adata_X, obs=adata_obs)\n",
    "\n",
    "# remove cells with a mixture of compounds treatement\n",
    "\n",
    "adata = adata[adata.obs['sm_embedding'] != \"MIXTURE_OF_COMPOUNDS\"]"
   ],
   "metadata": {
    "collapsed": false
   }
  },
  {
   "cell_type": "code",
   "execution_count": 10,
   "outputs": [
    {
     "data": {
      "text/plain": "str"
     },
     "execution_count": 10,
     "metadata": {},
     "output_type": "execute_result"
    }
   ],
   "source": [
    "type(adata.obs['sm_embedding'])"
   ],
   "metadata": {
    "collapsed": false
   }
  },
  {
   "cell_type": "code",
   "execution_count": 4,
   "outputs": [
    {
     "name": "stderr",
     "output_type": "stream",
     "text": [
      "C:\\Users\\curea\\anaconda3\\envs\\stable_diffusion\\Lib\\site-packages\\anndata\\_core\\anndata.py:1209: ImplicitModificationWarning: Trying to modify attribute `.obs` of view, initializing view as actual.\n",
      "  df[key] = c\n",
      "C:\\Users\\curea\\anaconda3\\envs\\stable_diffusion\\Lib\\site-packages\\anndata\\_core\\anndata.py:1209: ImplicitModificationWarning: Trying to modify attribute `.obs` of view, initializing view as actual.\n",
      "  df[key] = c\n",
      "C:\\Users\\curea\\anaconda3\\envs\\stable_diffusion\\Lib\\site-packages\\anndata\\_core\\anndata.py:1209: ImplicitModificationWarning: Trying to modify attribute `.obs` of view, initializing view as actual.\n",
      "  df[key] = c\n",
      "C:\\Users\\curea\\anaconda3\\envs\\stable_diffusion\\Lib\\site-packages\\anndata\\_core\\anndata.py:1209: ImplicitModificationWarning: Trying to modify attribute `.obs` of view, initializing view as actual.\n",
      "  df[key] = c\n",
      "C:\\Users\\curea\\anaconda3\\envs\\stable_diffusion\\Lib\\site-packages\\anndata\\_core\\anndata.py:1209: ImplicitModificationWarning: Trying to modify attribute `.obs` of view, initializing view as actual.\n",
      "  df[key] = c\n",
      "C:\\Users\\curea\\anaconda3\\envs\\stable_diffusion\\Lib\\site-packages\\anndata\\_core\\anndata.py:1209: ImplicitModificationWarning: Trying to modify attribute `.obs` of view, initializing view as actual.\n",
      "  df[key] = c\n",
      "C:\\Users\\curea\\anaconda3\\envs\\stable_diffusion\\Lib\\site-packages\\anndata\\_core\\anndata.py:1209: ImplicitModificationWarning: Trying to modify attribute `.obs` of view, initializing view as actual.\n",
      "  df[key] = c\n",
      "C:\\Users\\curea\\anaconda3\\envs\\stable_diffusion\\Lib\\site-packages\\anndata\\_core\\anndata.py:1209: ImplicitModificationWarning: Trying to modify attribute `.obs` of view, initializing view as actual.\n",
      "  df[key] = c\n",
      "C:\\Users\\curea\\anaconda3\\envs\\stable_diffusion\\Lib\\site-packages\\anndata\\_core\\anndata.py:1209: ImplicitModificationWarning: Trying to modify attribute `.obs` of view, initializing view as actual.\n",
      "  df[key] = c\n",
      "C:\\Users\\curea\\anaconda3\\envs\\stable_diffusion\\Lib\\site-packages\\anndata\\_core\\anndata.py:1209: ImplicitModificationWarning: Trying to modify attribute `.obs` of view, initializing view as actual.\n",
      "  df[key] = c\n",
      "C:\\Users\\curea\\anaconda3\\envs\\stable_diffusion\\Lib\\site-packages\\anndata\\_core\\anndata.py:1209: ImplicitModificationWarning: Trying to modify attribute `.obs` of view, initializing view as actual.\n",
      "  df[key] = c\n",
      "C:\\Users\\curea\\anaconda3\\envs\\stable_diffusion\\Lib\\site-packages\\anndata\\_core\\anndata.py:1209: ImplicitModificationWarning: Trying to modify attribute `.obs` of view, initializing view as actual.\n",
      "  df[key] = c\n"
     ]
    }
   ],
   "source": [
    "adata.write_h5ad(\"C:\\\\Users\\\\curea\\\\Documents\\\\bioFM for drug discovery\\\\dege-fm\\\\data\\\\sciplex_preprocessed.h5ad\")"
   ],
   "metadata": {
    "collapsed": false
   }
  },
  {
   "cell_type": "code",
   "execution_count": null,
   "outputs": [],
   "source": [],
   "metadata": {
    "collapsed": false
   }
  }
 ],
 "metadata": {
  "kernelspec": {
   "display_name": "Python 3",
   "language": "python",
   "name": "python3"
  },
  "language_info": {
   "codemirror_mode": {
    "name": "ipython",
    "version": 2
   },
   "file_extension": ".py",
   "mimetype": "text/x-python",
   "name": "python",
   "nbconvert_exporter": "python",
   "pygments_lexer": "ipython2",
   "version": "2.7.6"
  }
 },
 "nbformat": 4,
 "nbformat_minor": 0
}
