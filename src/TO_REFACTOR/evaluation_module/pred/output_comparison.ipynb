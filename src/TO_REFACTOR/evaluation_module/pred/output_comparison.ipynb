{
 "cells": [
  {
   "cell_type": "code",
   "execution_count": 74,
   "metadata": {
    "collapsed": true
   },
   "outputs": [],
   "source": [
    "import pickle as pkl\n",
    "import pandas as pd\n",
    "from tqdm import tqdm\n",
    "import anndata as ad\n",
    "import scanpy as sc\n",
    "import seaborn as sns\n",
    "import matplotlib.pyplot as plt\n",
    "from scipy.stats import pearsonr\n"
   ]
  },
  {
   "cell_type": "code",
   "execution_count": 2,
   "outputs": [],
   "source": [
    "ROOT = 'C:\\\\Users\\\\curea\\\\Documents\\\\bioFM for drug discovery\\\\dege-fm\\\\'\n",
    "with open(ROOT + \"results\\\\baseline_predictions.pkl\", 'rb') as f:\n",
    "    output_model = pkl.load(f)"
   ],
   "metadata": {
    "collapsed": false
   }
  },
  {
   "cell_type": "code",
   "execution_count": 5,
   "outputs": [
    {
     "data": {
      "text/plain": "{'compound': ['Panobinostat (LBH589)',\n  'AG-490 (Tyrphostin B42)',\n  'Raltitrexed',\n  'Ruxolitinib (INCB018424)',\n  'Daphnetin',\n  'Mesna ',\n  'Altretamine',\n  'Iniparib (BSI-201)',\n  'Altretamine',\n  'Tie2 kinase inhibitor',\n  'AG-14361',\n  'Trichostatin A (TSA)',\n  'Mesna ',\n  'M344',\n  'PF-3845',\n  'Mocetinostat (MGCD0103)',\n  'Panobinostat (LBH589)',\n  'ENMD-2076 L-(+)-Tartaric acid ',\n  'Entinostat (MS-275)',\n  'RG108',\n  'Panobinostat (LBH589)',\n  'BMS-265246',\n  'S3I-201',\n  'Tanespimycin (17-AAG)',\n  'ABT-737',\n  'ABT-737',\n  'Entinostat (MS-275)',\n  'Streptozotocin (STZ)',\n  'ABT-737',\n  'Andarine',\n  'Tanespimycin (17-AAG)',\n  'Sodium Phenylbutyrate',\n  'Tanespimycin (17-AAG)',\n  'BMS-265246',\n  'Motesanib Diphosphate (AMG-706)',\n  'AR-42',\n  'M344',\n  'Panobinostat (LBH589)',\n  'Tucidinostat (Chidamide)',\n  'Entinostat (MS-275)',\n  'Ruxolitinib (INCB018424)',\n  'M344',\n  'Tie2 kinase inhibitor',\n  'UNC0379',\n  'Mesna ',\n  'Epothilone A',\n  'Streptozotocin (STZ)',\n  'Triamcinolone Acetonide',\n  'AG-490 (Tyrphostin B42)',\n  'Maraviroc',\n  'Sodium Phenylbutyrate',\n  'KW-2449',\n  'Ruxolitinib (INCB018424)',\n  'Tie2 kinase inhibitor',\n  'Zileuton',\n  'Trichostatin A (TSA)',\n  'Maraviroc',\n  'BMS-265246',\n  'Sodium Phenylbutyrate',\n  'Motesanib Diphosphate (AMG-706)',\n  'EED226',\n  'Maraviroc',\n  'Zileuton',\n  'PD173074'],\n 'dose': tensor([  100.,    10.,   100.,    10.,  1000.,  1000., 10000., 10000.,  1000.,\n          1000.,  1000., 10000.,   100.,  1000., 10000.,  1000., 10000., 10000.,\n           100.,   100., 10000., 10000., 10000., 10000.,  1000.,    10.,  1000.,\n            10.,    10.,  1000.,  1000.,   100., 10000.,  1000.,  1000.,    10.,\n          1000.,    10., 10000.,    10., 10000.,   100.,    10.,    10.,   100.,\n         10000.,  1000.,    10.,    10.,    10.,   100.,    10., 10000.,    10.,\n         10000.,   100.,   100., 10000.,    10.,  1000.,    10., 10000.,   100.,\n           100.], dtype=torch.float64),\n 'cell_type': ['MCF7',\n  'MCF7',\n  'MCF7',\n  'MCF7',\n  'K562',\n  'MCF7',\n  'A549',\n  'MCF7',\n  'A549',\n  'K562',\n  'A549',\n  'MCF7',\n  'MCF7',\n  'MCF7',\n  'MCF7',\n  'MCF7',\n  'MCF7',\n  'A549',\n  'K562',\n  'K562',\n  'MCF7',\n  'A549',\n  'K562',\n  'MCF7',\n  'MCF7',\n  'K562',\n  'MCF7',\n  'K562',\n  'MCF7',\n  'MCF7',\n  'MCF7',\n  'A549',\n  'A549',\n  'K562',\n  'K562',\n  'K562',\n  'MCF7',\n  'A549',\n  'A549',\n  'MCF7',\n  'MCF7',\n  'MCF7',\n  'A549',\n  'A549',\n  'MCF7',\n  'A549',\n  'K562',\n  'K562',\n  'MCF7',\n  'MCF7',\n  'A549',\n  'MCF7',\n  'A549',\n  'A549',\n  'MCF7',\n  'MCF7',\n  'MCF7',\n  'A549',\n  'MCF7',\n  'A549',\n  'MCF7',\n  'K562',\n  'MCF7',\n  'A549']}"
     },
     "execution_count": 5,
     "metadata": {},
     "output_type": "execute_result"
    }
   ],
   "source": [
    "output_model[0]['meta']"
   ],
   "metadata": {
    "collapsed": false
   }
  },
  {
   "cell_type": "code",
   "execution_count": 6,
   "outputs": [
    {
     "name": "stderr",
     "output_type": "stream",
     "text": [
      "100%|██████████| 2554/2554 [00:18<00:00, 136.15it/s]\n",
      "C:\\Users\\curea\\anaconda3\\envs\\stable_diffusion\\Lib\\site-packages\\anndata\\_core\\aligned_df.py:67: ImplicitModificationWarning: Transforming to str index.\n",
      "  warnings.warn(\"Transforming to str index.\", ImplicitModificationWarning)\n"
     ]
    }
   ],
   "source": [
    "targets = list()\n",
    "predicted = list()\n",
    "input = list()\n",
    "meta = list()\n",
    "\n",
    "for x in tqdm(output_model):\n",
    "\n",
    "    assert x['targets'].shape == x['predicted'].shape\n",
    "\n",
    "    for i in range(x['targets'].shape[0]):\n",
    "        targets.append(x['targets'][i].cpu().numpy())\n",
    "\n",
    "    for i in range(x['predicted'].shape[0]):\n",
    "        predicted.append(x['predicted'][i].cpu().numpy())\n",
    "\n",
    "    for i in range(x['input'].shape[0]):\n",
    "        input.append(x['input'][i].cpu().numpy()[:1280])\n",
    "\n",
    "    compound_list = x['meta']['compound']\n",
    "    dose_list = x['meta']['dose'].tolist()\n",
    "    cell_type = x['meta']['cell_type']\n",
    "\n",
    "    for i in range(len(compound_list)):\n",
    "        meta.append(compound_list[i] + \"_\" + str(dose_list[i]) + \"_\" + cell_type[i])\n",
    "\n",
    "\n",
    "df_targets = pd.DataFrame(targets)\n",
    "df_predicted = pd.DataFrame(predicted)\n",
    "df_input = pd.DataFrame(input)\n",
    "\n",
    "df_targets['data_type'] = \"target\"\n",
    "df_predicted['data_type'] = \"predicted\"\n",
    "df_input['data_type'] = \"input\"\n",
    "\n",
    "df_targets['condition'] = meta\n",
    "df_predicted['condition'] = meta\n",
    "df_input['condition'] = meta\n",
    "\n",
    "del meta\n",
    "\n",
    "df = pd.concat([df_targets, df_predicted, df_input], axis=0, ignore_index=True)\n",
    "\n",
    "del df_targets\n",
    "del df_predicted\n",
    "del df_input\n",
    "\n",
    "X = df.iloc[:, :1280].values\n",
    "obs = df[['condition', 'data_type']]\n",
    "\n",
    "del df\n",
    "\n",
    "adata = ad.AnnData(X=X, obs=obs)\n",
    "\n",
    "del X\n",
    "del obs\n",
    "\n",
    "adata.write_h5ad(ROOT + \"results\\\\adata_baseline_predictions.h5ad\")\n",
    "\n"
   ],
   "metadata": {
    "collapsed": false
   }
  },
  {
   "cell_type": "code",
   "execution_count": 68,
   "outputs": [],
   "source": [
    "def plot_css(adata):\n",
    "    \"\"\"\n",
    "    Compare r-squared values between the null model and predictions\n",
    "        ** compare r-squared between control-target and predicted-target pairs **\n",
    "    TODO: this assumes that the order of pairs is preserved\n",
    "    \"\"\"\n",
    "    css_model = list()\n",
    "    css_null = list()\n",
    "\n",
    "\n",
    "    for condition in tqdm(list(adata.obs['condition'].unique())):\n",
    "        adata_subset = adata[adata.obs['condition'] == condition]\n",
    "\n",
    "        X_control = adata_subset[adata_subset.obs['data_type'] == \"input\"].X\n",
    "        X_target = adata_subset[adata_subset.obs['data_type'] == \"target\"].X\n",
    "        X_predicted = adata_subset[adata_subset.obs['data_type'] == \"predicted\"].X\n",
    "\n",
    "\n",
    "        for i in range(X_control.shape[0]):\n",
    "            x_control = X_control[i,]\n",
    "            x_target = X_target[i,]\n",
    "            x_predicted = X_predicted[i,]\n",
    "\n",
    "\n",
    "            cosine_similarity_model = np.dot(x_target, x_predicted) / (np.linalg.norm(x_target) * np.linalg.norm(x_predicted))\n",
    "\n",
    "            cosine_similarity_null = np.dot(x_target, x_control) / (np.linalg.norm(x_target) * np.linalg.norm(x_control))\n",
    "\n",
    "            css_model.append(cosine_similarity_model)\n",
    "            css_null.append(cosine_similarity_null)\n",
    "\n",
    "    data = pd.DataFrame({\n",
    "        \"css\": css_model + css_null,\n",
    "        \"model\": [\"model\"] * len(css_model) + [\"null\"] * len(css_null)\n",
    "    })\n",
    "\n",
    "    plt.figure(figsize=(8, 6))  # Set the figure size\n",
    "    sns.boxplot(x='model', y='css', data=data)  # Create the boxplot\n",
    "    plt.xlabel('Predictor')  # X-axis label\n",
    "    plt.ylabel('CSS')  # Y-axis label\n",
    "    plt.show()  # Show the plot\n",
    "\n"
   ],
   "metadata": {
    "collapsed": false
   }
  },
  {
   "cell_type": "code",
   "execution_count": 69,
   "outputs": [
    {
     "name": "stderr",
     "output_type": "stream",
     "text": [
      "100%|██████████| 660/660 [00:17<00:00, 36.81it/s]\n"
     ]
    },
    {
     "data": {
      "text/plain": "<Figure size 800x600 with 1 Axes>",
      "image/png": "[encoded data removed]"
     },
     "metadata": {},
     "output_type": "display_data"
    }
   ],
   "source": [
    "plot_css(adata)"
   ],
   "metadata": {
    "collapsed": false
   }
  },
  {
   "cell_type": "code",
   "execution_count": 70,
   "outputs": [],
   "source": [
    "def plot_mse(adata):\n",
    "    \"\"\"\n",
    "    Compare r-squared values between the null model and predictions\n",
    "        ** compare r-squared between control-target and predicted-target pairs **\n",
    "    TODO: this assumes that the order of pairs is preserved\n",
    "    \"\"\"\n",
    "    mse_model_list = list()\n",
    "    mse_null_list = list()\n",
    "\n",
    "\n",
    "    for condition in tqdm(list(adata.obs['condition'].unique())):\n",
    "        adata_subset = adata[adata.obs['condition'] == condition]\n",
    "\n",
    "        X_control = adata_subset[adata_subset.obs['data_type'] == \"input\"].X\n",
    "        X_target = adata_subset[adata_subset.obs['data_type'] == \"target\"].X\n",
    "        X_predicted = adata_subset[adata_subset.obs['data_type'] == \"predicted\"].X\n",
    "\n",
    "\n",
    "        for i in range(X_control.shape[0]):\n",
    "            x_control = X_control[i,]\n",
    "            x_target = X_target[i,]\n",
    "            x_predicted = X_predicted[i,]\n",
    "\n",
    "\n",
    "            mse_model = np.mean((x_target - x_predicted) ** 2)\n",
    "\n",
    "            mse_null = np.mean((x_target - x_control) ** 2)\n",
    "\n",
    "            mse_model_list.append(mse_model)\n",
    "            mse_null_list.append(mse_null)\n",
    "\n",
    "    data = pd.DataFrame({\n",
    "        \"mse\": mse_model_list + mse_null_list,\n",
    "        \"model\": [\"model\"] * len(mse_model_list) + [\"null\"] * len(mse_null_list)\n",
    "    })\n",
    "\n",
    "    plt.figure(figsize=(8, 6))  # Set the figure size\n",
    "    sns.boxplot(x='model', y='mse', data=data)  # Create the boxplot\n",
    "    plt.xlabel('Predictor')  # X-axis label\n",
    "    plt.ylabel('MSE')  # Y-axis label\n",
    "    plt.show()  # Show the plot\n",
    "\n"
   ],
   "metadata": {
    "collapsed": false
   }
  },
  {
   "cell_type": "code",
   "execution_count": 71,
   "outputs": [
    {
     "name": "stderr",
     "output_type": "stream",
     "text": [
      "100%|██████████| 660/660 [00:15<00:00, 42.00it/s]\n"
     ]
    },
    {
     "data": {
      "text/plain": "<Figure size 800x600 with 1 Axes>",
      "image/png": "[encoded data removed]"
     },
     "metadata": {},
     "output_type": "display_data"
    }
   ],
   "source": [
    "plot_mse(adata)"
   ],
   "metadata": {
    "collapsed": false
   }
  },
  {
   "cell_type": "code",
   "execution_count": null,
   "outputs": [],
   "source": [],
   "metadata": {
    "collapsed": false
   }
  }
 ],
 "metadata": {
  "kernelspec": {
   "display_name": "Python 3",
   "language": "python",
   "name": "python3"
  },
  "language_info": {
   "codemirror_mode": {
    "name": "ipython",
    "version": 2
   },
   "file_extension": ".py",
   "mimetype": "text/x-python",
   "name": "python",
   "nbconvert_exporter": "python",
   "pygments_lexer": "ipython2",
   "version": "2.7.6"
  }
 },
 "nbformat": 4,
 "nbformat_minor": 0
}
