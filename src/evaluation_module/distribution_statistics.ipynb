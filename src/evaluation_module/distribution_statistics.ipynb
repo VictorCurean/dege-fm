{
 "cells": [
  {
   "cell_type": "code",
   "execution_count": 1,
   "metadata": {
    "collapsed": true
   },
   "outputs": [],
   "source": [
    "import anndata as ad\n",
    "import scanpy as sc\n",
    "import pandas as pd\n",
    "from tqdm import tqdm\n",
    "from scipy.stats import energy_distance"
   ]
  },
  {
   "cell_type": "code",
   "execution_count": 2,
   "outputs": [],
   "source": [
    "ROOT = 'C:\\\\Users\\\\curea\\\\Documents\\\\bioFM for drug discovery\\\\dege-fm\\\\'\n",
    "\n",
    "adata = ad.read_h5ad(ROOT + \"data\\\\adata_preprocessed.h5ad\")\n"
   ],
   "metadata": {
    "collapsed": false
   }
  },
  {
   "cell_type": "code",
   "execution_count": 8,
   "outputs": [],
   "source": [
    "def calculate_e_distance(adata, save_file=None):\n",
    "\n",
    "    def __get_energy_distance(treated, control):\n",
    "        samples_treated = treated.X.tolist()\n",
    "        samples_control = control\n",
    "\n",
    "        e_dist = energy_distance(samples_control, samples_treated)\n",
    "        return e_dist\n",
    "\n",
    "    results = list()\n",
    "\n",
    "    control_A549_list = adata[(adata.obs['cell_type'] == \"A549\") & (adata.obs['product_name'] == \"Vehicle\")].X.tolist()\n",
    "    control_K562_list = adata[(adata.obs['cell_type'] == \"K562\") & (adata.obs['product_name'] == \"Vehicle\")].X.tolist()\n",
    "    control_MCF7_list = adata[(adata.obs['cell_type'] == \"MCF7\") & (adata.obs['product_name'] == \"Vehicle\")].X.tolist()\n",
    "\n",
    "    for compound in tqdm(list(adata.obs['product_name'].unique())):\n",
    "        if compound == \"Vehicle\":\n",
    "            continue\n",
    "\n",
    "        for cell_type in list(adata.obs['cell_type'].unique()):\n",
    "            for dose in list(adata.obs['dose'].unique()):\n",
    "\n",
    "                adata_subset = adata[\n",
    "                    (adata.obs['product_name'] == compound) &\n",
    "                    (adata.obs['cell_type'] == cell_type) &\n",
    "                    (adata.obs['dose'] == dose)\n",
    "                ]\n",
    "\n",
    "                if adata_subset.n_obs == 0:\n",
    "                    print(\"Found adata subset with zero values\")\n",
    "                    continue\n",
    "\n",
    "                reference = None\n",
    "\n",
    "                if cell_type == \"A549\":\n",
    "                    reference = control_A549_list\n",
    "                elif cell_type == \"K562\":\n",
    "                    reference = control_K562_list\n",
    "                elif cell_type == \"MCF7\":\n",
    "                    reference = control_MCF7_list\n",
    "                else:\n",
    "                    raise RuntimeError(\"Invalid Cell Type\")\n",
    "\n",
    "\n",
    "                #calculate statistics between adata_subset and reference\n",
    "                e_dist = __get_energy_distance(adata_subset, reference)\n",
    "\n",
    "                size_treated = adata_subset.n_obs\n",
    "\n",
    "                results.append({\"compound\": compound, \"dose\": dose, \"cell_type\": cell_type, \"e_dist\": e_dist, 'sample_size': size_treated})\n",
    "\n",
    "\n",
    "    results = pd.DataFrame(results)\n",
    "    if save_file is not None:\n",
    "        results.to_csv(save_file, index=False)\n",
    "    return results"
   ],
   "metadata": {
    "collapsed": false
   }
  },
  {
   "cell_type": "code",
   "execution_count": null,
   "outputs": [
    {
     "name": "stderr",
     "output_type": "stream",
     "text": [
      "  0%|          | 0/186 [00:00<?, ?it/s]"
     ]
    }
   ],
   "source": [
    "res = calculate_e_distance(adata, ROOT + \"results\\\\test.csv\")"
   ],
   "metadata": {
    "collapsed": false,
    "pycharm": {
     "is_executing": true
    }
   }
  },
  {
   "cell_type": "code",
   "execution_count": null,
   "outputs": [],
   "source": [],
   "metadata": {
    "collapsed": false
   }
  }
 ],
 "metadata": {
  "kernelspec": {
   "display_name": "Python 3",
   "language": "python",
   "name": "python3"
  },
  "language_info": {
   "codemirror_mode": {
    "name": "ipython",
    "version": 2
   },
   "file_extension": ".py",
   "mimetype": "text/x-python",
   "name": "python",
   "nbconvert_exporter": "python",
   "pygments_lexer": "ipython2",
   "version": "2.7.6"
  }
 },
 "nbformat": 4,
 "nbformat_minor": 0
}
