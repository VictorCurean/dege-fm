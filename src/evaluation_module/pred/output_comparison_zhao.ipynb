{
 "cells": [
  {
   "cell_type": "code",
   "execution_count": 1,
   "metadata": {
    "collapsed": true
   },
   "outputs": [],
   "source": [
    "import pickle as pkl\n",
    "import pandas as pd\n",
    "from tqdm import tqdm\n",
    "import anndata as ad\n",
    "import scanpy as sc\n",
    "import seaborn as sns\n",
    "import matplotlib.pyplot as plt\n",
    "from scipy.stats import pearsonr\n",
    "import numpy as np"
   ]
  },
  {
   "cell_type": "code",
   "execution_count": 3,
   "outputs": [],
   "source": [
    "ROOT = 'C:\\\\Users\\\\curea\\\\Documents\\\\bioFM for drug discovery\\\\dege-fm\\\\'\n",
    "\n",
    "with open(ROOT + \"results\\\\baseline\\\\zhao_predictions.pkl\", 'rb') as f:\n",
    "    output_model = pkl.load(f)"
   ],
   "metadata": {
    "collapsed": false
   }
  },
  {
   "cell_type": "code",
   "execution_count": 5,
   "outputs": [
    {
     "name": "stderr",
     "output_type": "stream",
     "text": [
      "100%|██████████| 605/605 [00:07<00:00, 76.68it/s]\n",
      "C:\\Users\\curea\\anaconda3\\envs\\dege-fm\\Lib\\site-packages\\anndata\\_core\\aligned_df.py:68: ImplicitModificationWarning: Transforming to str index.\n",
      "  warnings.warn(\"Transforming to str index.\", ImplicitModificationWarning)\n"
     ]
    }
   ],
   "source": [
    "targets = list()\n",
    "predicted = list()\n",
    "input = list()\n",
    "meta = list()\n",
    "\n",
    "for x in tqdm(output_model):\n",
    "\n",
    "    assert x['targets'].shape == x['predicted'].shape\n",
    "\n",
    "    for i in range(x['targets'].shape[0]):\n",
    "        targets.append(x['targets'][i].cpu().numpy())\n",
    "\n",
    "    for i in range(x['predicted'].shape[0]):\n",
    "        predicted.append(x['predicted'][i].cpu().numpy())\n",
    "\n",
    "    for i in range(x['input'].shape[0]):\n",
    "        input.append(x['input'][i].cpu().numpy()[:1280])\n",
    "\n",
    "    compound_list = x['meta']['compound']\n",
    "    dose_list = x['meta']['dose'].tolist()\n",
    "\n",
    "    for i in range(len(compound_list)):\n",
    "        meta.append(compound_list[i] + \"_\" + str(dose_list[i]))\n",
    "\n",
    "\n",
    "df_targets = pd.DataFrame(targets)\n",
    "df_predicted = pd.DataFrame(predicted)\n",
    "df_input = pd.DataFrame(input)\n",
    "\n",
    "df_targets['data_type'] = \"target\"\n",
    "df_predicted['data_type'] = \"predicted\"\n",
    "df_input['data_type'] = \"input\"\n",
    "\n",
    "df_targets['condition'] = meta\n",
    "df_predicted['condition'] = meta\n",
    "df_input['condition'] = meta\n",
    "\n",
    "del meta\n",
    "\n",
    "df = pd.concat([df_targets, df_predicted, df_input], axis=0, ignore_index=True)\n",
    "\n",
    "del df_targets\n",
    "del df_predicted\n",
    "del df_input\n",
    "\n",
    "X = df.iloc[:, :1280].values\n",
    "obs = df[['condition', 'data_type']]\n",
    "\n",
    "del df\n",
    "\n",
    "adata = ad.AnnData(X=X, obs=obs)\n",
    "\n",
    "del X\n",
    "del obs\n",
    "\n"
   ],
   "metadata": {
    "collapsed": false
   }
  },
  {
   "cell_type": "code",
   "execution_count": 6,
   "outputs": [
    {
     "data": {
      "text/plain": "AnnData object with n_obs × n_vars = 232305 × 1280\n    obs: 'condition', 'data_type'"
     },
     "execution_count": 6,
     "metadata": {},
     "output_type": "execute_result"
    }
   ],
   "source": [
    "adata"
   ],
   "metadata": {
    "collapsed": false
   }
  },
  {
   "cell_type": "code",
   "execution_count": 7,
   "outputs": [],
   "source": [
    "def plot_css(adata):\n",
    "    \"\"\"\n",
    "    Compare r-squared values between the null model and predictions\n",
    "        ** compare r-squared between control-target and predicted-target pairs **\n",
    "    TODO: this assumes that the order of pairs is preserved\n",
    "    \"\"\"\n",
    "    css_model = list()\n",
    "    css_null = list()\n",
    "\n",
    "\n",
    "    for condition in tqdm(list(adata.obs['condition'].unique())):\n",
    "        adata_subset = adata[adata.obs['condition'] == condition]\n",
    "\n",
    "        X_control = adata_subset[adata_subset.obs['data_type'] == \"input\"].X\n",
    "        X_target = adata_subset[adata_subset.obs['data_type'] == \"target\"].X\n",
    "        X_predicted = adata_subset[adata_subset.obs['data_type'] == \"predicted\"].X\n",
    "\n",
    "\n",
    "        for i in range(X_control.shape[0]):\n",
    "            x_control = X_control[i,]\n",
    "            x_target = X_target[i,]\n",
    "            x_predicted = X_predicted[i,]\n",
    "\n",
    "\n",
    "            cosine_similarity_model = np.dot(x_target, x_predicted) / (np.linalg.norm(x_target) * np.linalg.norm(x_predicted))\n",
    "\n",
    "            cosine_similarity_null = np.dot(x_target, x_control) / (np.linalg.norm(x_target) * np.linalg.norm(x_control))\n",
    "\n",
    "            css_model.append(cosine_similarity_model)\n",
    "            css_null.append(cosine_similarity_null)\n",
    "\n",
    "    data = pd.DataFrame({\n",
    "        \"css\": css_model + css_null,\n",
    "        \"model\": [\"model\"] * len(css_model) + [\"null\"] * len(css_null)\n",
    "    })\n",
    "\n",
    "    plt.figure(figsize=(8, 6))  # Set the figure size\n",
    "    sns.boxplot(x='model', y='css', data=data)  # Create the boxplot\n",
    "    plt.xlabel('Predictor')  # X-axis label\n",
    "    plt.ylabel('CSS')  # Y-axis label\n",
    "    plt.show()  # Show the plot\n",
    "\n"
   ],
   "metadata": {
    "collapsed": false
   }
  },
  {
   "cell_type": "code",
   "execution_count": 8,
   "outputs": [
    {
     "name": "stderr",
     "output_type": "stream",
     "text": [
      "100%|██████████| 6/6 [00:02<00:00,  2.40it/s]\n"
     ]
    },
    {
     "data": {
      "text/plain": "<Figure size 800x600 with 1 Axes>",
      "image/png": "[encoded data removed]"
     },
     "metadata": {},
     "output_type": "display_data"
    }
   ],
   "source": [
    "plot_css(adata)"
   ],
   "metadata": {
    "collapsed": false
   }
  },
  {
   "cell_type": "code",
   "execution_count": 9,
   "outputs": [],
   "source": [
    "def plot_mse(adata):\n",
    "    \"\"\"\n",
    "    Compare r-squared values between the null model and predictions\n",
    "        ** compare r-squared between control-target and predicted-target pairs **\n",
    "    TODO: this assumes that the order of pairs is preserved\n",
    "    \"\"\"\n",
    "    mse_model_list = list()\n",
    "    mse_null_list = list()\n",
    "\n",
    "\n",
    "    for condition in tqdm(list(adata.obs['condition'].unique())):\n",
    "        adata_subset = adata[adata.obs['condition'] == condition]\n",
    "\n",
    "        X_control = adata_subset[adata_subset.obs['data_type'] == \"input\"].X\n",
    "        X_target = adata_subset[adata_subset.obs['data_type'] == \"target\"].X\n",
    "        X_predicted = adata_subset[adata_subset.obs['data_type'] == \"predicted\"].X\n",
    "\n",
    "\n",
    "        for i in range(X_control.shape[0]):\n",
    "            x_control = X_control[i,]\n",
    "            x_target = X_target[i,]\n",
    "            x_predicted = X_predicted[i,]\n",
    "\n",
    "\n",
    "            mse_model = np.mean((x_target - x_predicted) ** 2)\n",
    "\n",
    "            mse_null = np.mean((x_target - x_control) ** 2)\n",
    "\n",
    "            mse_model_list.append(mse_model)\n",
    "            mse_null_list.append(mse_null)\n",
    "\n",
    "    data = pd.DataFrame({\n",
    "        \"mse\": mse_model_list + mse_null_list,\n",
    "        \"model\": [\"model\"] * len(mse_model_list) + [\"null\"] * len(mse_null_list)\n",
    "    })\n",
    "\n",
    "    plt.figure(figsize=(8, 6))  # Set the figure size\n",
    "    sns.boxplot(x='model', y='mse', data=data)  # Create the boxplot\n",
    "    plt.xlabel('Predictor')  # X-axis label\n",
    "    plt.ylabel('MSE')  # Y-axis label\n",
    "    plt.show()  # Show the plot\n",
    "\n"
   ],
   "metadata": {
    "collapsed": false
   }
  },
  {
   "cell_type": "code",
   "execution_count": 10,
   "outputs": [
    {
     "name": "stderr",
     "output_type": "stream",
     "text": [
      "100%|██████████| 6/6 [00:03<00:00,  1.70it/s]\n"
     ]
    },
    {
     "data": {
      "text/plain": "<Figure size 800x600 with 1 Axes>",
      "image/png": "[encoded data removed]"
     },
     "metadata": {},
     "output_type": "display_data"
    }
   ],
   "source": [
    "plot_mse(adata)"
   ],
   "metadata": {
    "collapsed": false
   }
  },
  {
   "cell_type": "code",
   "execution_count": 11,
   "outputs": [],
   "source": [
    "def plot_r2(adata):\n",
    "    \"\"\"\n",
    "    Compare R-squared values between the null model and predictions.\n",
    "    \"\"\"\n",
    "    r2_model_list = list()\n",
    "    r2_null_list = list()\n",
    "\n",
    "    for condition in tqdm(list(adata.obs['condition'].unique())):\n",
    "        adata_subset = adata[adata.obs['condition'] == condition]\n",
    "\n",
    "        X_control = adata_subset[adata_subset.obs['data_type'] == \"input\"].X\n",
    "        X_target = adata_subset[adata_subset.obs['data_type'] == \"target\"].X\n",
    "        X_predicted = adata_subset[adata_subset.obs['data_type'] == \"predicted\"].X\n",
    "\n",
    "        for i in range(X_control.shape[0]):\n",
    "            x_control = X_control[i,]\n",
    "            x_target = X_target[i,]\n",
    "            x_predicted = X_predicted[i,]\n",
    "\n",
    "            # Compute SS_tot and SS_res for model and null\n",
    "            ss_tot = np.sum((x_target - np.mean(x_target)) ** 2)\n",
    "            ss_res_model = np.sum((x_target - x_predicted) ** 2)\n",
    "            ss_res_null = np.sum((x_target - x_control) ** 2)\n",
    "\n",
    "            # Compute R-squared\n",
    "            r2_model = 1 - (ss_res_model / ss_tot)\n",
    "            r2_null = 1 - (ss_res_null / ss_tot)\n",
    "\n",
    "            r2_model_list.append(r2_model)\n",
    "            r2_null_list.append(r2_null)\n",
    "\n",
    "    # Prepare data for plotting\n",
    "    data = pd.DataFrame({\n",
    "        \"R-squared\": r2_model_list + r2_null_list,\n",
    "        \"model\": [\"model\"] * len(r2_model_list) + [\"null\"] * len(r2_null_list)\n",
    "    })\n",
    "\n",
    "    # Plot\n",
    "    plt.figure(figsize=(8, 6))  # Set the figure size\n",
    "    sns.boxplot(x='model', y='R-squared', data=data)  # Create the boxplot\n",
    "    plt.xlabel('Predictor')  # X-axis label\n",
    "    plt.ylabel('R-squared')  # Y-axis label\n",
    "    plt.title('Comparison of R-squared Values')  # Title\n",
    "    plt.show()  # Show the plot"
   ],
   "metadata": {
    "collapsed": false
   }
  },
  {
   "cell_type": "code",
   "execution_count": 12,
   "outputs": [
    {
     "name": "stderr",
     "output_type": "stream",
     "text": [
      "100%|██████████| 6/6 [00:05<00:00,  1.10it/s]\n"
     ]
    },
    {
     "data": {
      "text/plain": "<Figure size 800x600 with 1 Axes>",
      "image/png": "[encoded data removed]"
     },
     "metadata": {},
     "output_type": "display_data"
    }
   ],
   "source": [
    "plot_r2(adata)"
   ],
   "metadata": {
    "collapsed": false
   }
  },
  {
   "cell_type": "code",
   "execution_count": null,
   "outputs": [],
   "source": [],
   "metadata": {
    "collapsed": false
   }
  }
 ],
 "metadata": {
  "kernelspec": {
   "display_name": "Python 3",
   "language": "python",
   "name": "python3"
  },
  "language_info": {
   "codemirror_mode": {
    "name": "ipython",
    "version": 2
   },
   "file_extension": ".py",
   "mimetype": "text/x-python",
   "name": "python",
   "nbconvert_exporter": "python",
   "pygments_lexer": "ipython2",
   "version": "2.7.6"
  }
 },
 "nbformat": 4,
 "nbformat_minor": 0
}
