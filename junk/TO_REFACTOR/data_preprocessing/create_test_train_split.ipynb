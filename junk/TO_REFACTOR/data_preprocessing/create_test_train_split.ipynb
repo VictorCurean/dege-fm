{
 "cells": [
  {
   "cell_type": "code",
   "execution_count": 1,
   "metadata": {
    "collapsed": true
   },
   "outputs": [],
   "source": [
    "import anndata as ad\n",
    "import pandas as pd\n",
    "import pickle as pkl\n",
    "import random"
   ]
  },
  {
   "cell_type": "code",
   "execution_count": 2,
   "outputs": [
    {
     "name": "stderr",
     "output_type": "stream",
     "text": [
      "C:\\Users\\curea\\anaconda3\\envs\\stable_diffusion\\Lib\\site-packages\\anndata\\_core\\aligned_df.py:67: ImplicitModificationWarning: Transforming to str index.\n",
      "  warnings.warn(\"Transforming to str index.\", ImplicitModificationWarning)\n"
     ]
    }
   ],
   "source": [
    "OBS_FILE = \"C:\\\\Users\\\\curea\\\\Documents\\\\bioFM for drug discovery\\\\dege-fm\\\\raw-data\\\\sciplex_obs_annot_with_smiles_manual_plus_embeddings.tsv\"\n",
    "EMB_FILE = \"C:\\\\Users\\\\curea\\\\Documents\\\\bioFM for drug discovery\\\\dege-fm\\\\raw-data\\\\uce_embeddings.pkl\"\n",
    "\n",
    "adata_obs = pd.read_csv(OBS_FILE, sep=\"\\t\")\n",
    "\n",
    "#clean redundant columns\n",
    "cols_to_remove = [\"Unnamed: 0.2\", \"Unnamed: 0.1\", \"Unnamed: 0\"]\n",
    "adata_obs = adata_obs.drop(columns=cols_to_remove)\n",
    "\n",
    "with open(EMB_FILE, 'rb') as f:\n",
    "    adata_X = pkl.load(f)\n",
    "\n",
    "#create adata object for ease of use\n",
    "adata = ad.AnnData(X=adata_X, obs=adata_obs)\n",
    "\n",
    "# remove cells with a mixture of compounds treatement\n",
    "\n",
    "adata = adata[adata.obs['sm_embedding'] != \"MIXTURE_OF_COMPOUNDS\"]\n"
   ],
   "metadata": {
    "collapsed": false
   }
  },
  {
   "cell_type": "code",
   "execution_count": 3,
   "outputs": [
    {
     "data": {
      "text/plain": "array(['Enzastaurin (LY317615)', 'Raltitrexed', 'Vehicle',\n       'Lenalidomide (CC-5013)', 'MLN8054', 'Sodium Phenylbutyrate',\n       'Celecoxib', 'Linifanib (ABT-869)', 'Thalidomide', 'SNS-314',\n       '(+)-JQ1', 'S3I-201', 'AZD1480', 'PF-573228', 'CEP-33779',\n       'Resminostat', 'Tie2 kinase inhibitor', 'Nintedanib (BIBF 1120)',\n       'SRT3025 HCl', 'Avagacestat (BMS-708163)',\n       'Quisinostat (JNJ-26481585) 2HCl', 'MC1568',\n       'Temsirolimus (CCI-779, NSC 683864)', 'IOX2',\n       'Bosutinib (SKI-606)', 'Regorafenib (BAY 73-4506)',\n       'Aurora A Inhibitor I', 'ENMD-2076', 'Curcumin', 'NVP-BSK805 2HCl',\n       'Tozasertib (VX-680, MK-0457)', 'Veliparib (ABT-888)',\n       'Crizotinib (PF-02341066)', 'Panobinostat (LBH589)',\n       'Alvespimycin (17-DMAG) HCl', 'Sorafenib Tosylate', 'Maraviroc',\n       'Baricitinib (LY3009104, INCB028050)', 'Mesna ',\n       'Fedratinib (SAR302503, TG101348)', 'Trametinib (GSK1120212)',\n       'Roscovitine (Seliciclib,CYC202)', 'S-Ruxolitinib (INCB018424)',\n       'JNJ-26854165 (Serdemetan)', 'Hesperadin', 'UNC0379', 'TGX-221',\n       'Filgotinib (GLPG0634)', 'G007-LK', 'WHI-P154',\n       'Triamcinolone Acetonide', 'BMS-911543', 'Flavopiridol HCl',\n       'Ruxolitinib (INCB018424)', 'CYC116', 'AT9283', 'PJ34',\n       'GSK-LSD1 2HCl', 'Droxinostat', 'Momelotinib (CYT387)',\n       'Azacitidine ', 'Roxadustat (FG-4592)', 'Glesatinib?(MGCD265)',\n       'Belinostat (PXD101)', 'Fluorouracil (5-Fluoracil, 5-FU)',\n       'BMS-265246', 'Fasudil (HA-1077) HCl', 'BRD4770', 'WP1066', 'M344',\n       'Gandotinib (LY2784544)', 'CUDC-101', 'Alisertib (MLN8237)',\n       'AR-42', 'Obatoclax Mesylate (GX15-070)',\n       'Tranylcypromine (2-PCPA) HCl', 'Dacinostat (LAQ824)',\n       'Patupilone (EPO906, Epothilone B)', 'Abexinostat (PCI-24781)',\n       'GSK J1', 'Selisistat (EX 527)', 'Capecitabine ', 'Ellagic acid',\n       'INO-1001 (3-Aminobenzamide)', 'Streptozotocin (STZ)', 'RG108',\n       'Tacedinaline (CI994)', 'Ofloxacin', 'FLLL32',\n       'AG-490 (Tyrphostin B42)', 'Altretamine', 'Sirtinol', 'KW-2449',\n       'UNC1999', 'UNC0631', 'Lapatinib (GW-572016) Ditosylate',\n       'MK-5108 (VX-689)', 'Valproic acid sodium salt (Sodium valproate)',\n       'AC480 (BMS-599626)',\n       'Bisindolylmaleimide IX (Ro 31-8220 Mesylate)',\n       'Tazemetostat (EPZ-6438)', 'ENMD-2076 L-(+)-Tartaric acid ',\n       'ZM 447439', 'Ki16425', 'Decitabine', 'BMS-754807',\n       '2-Methoxyestradiol (2-MeOE2)', 'Navitoclax (ABT-263)',\n       'Mocetinostat (MGCD0103)', 'Pracinostat (SB939)',\n       'Trichostatin A (TSA)', 'ABT-737',\n       'Motesanib Diphosphate (AMG-706)', 'Cimetidine ', 'XAV-939',\n       'BMS-536924', 'Vandetanib (ZD6474)', 'Mercaptopurine (6-MP)',\n       'Quercetin', 'TG101209', 'Amisulpride', 'Aminoglutethimide ',\n       'PD173074', 'Nilotinib (AMN-107)', 'Lomustine ', 'SL-327',\n       'Rucaparib (AG-014699,PF-01367338) phosphate', 'AICAR (Acadesine)',\n       'Entinostat (MS-275)', 'Clevudine ', 'Entacapone', 'A-366',\n       'Ivosidenib (AG-120)', 'PD98059', 'AMG-900', 'Busulfan ',\n       'Cyclocytidine HCl', 'Danusertib (PHA-739358)', 'Ki8751', 'EED226',\n       'Rigosertib (ON-01910)', 'Pirarubicin', 'Daphnetin', 'Fulvestrant',\n       'Barasertib (AZD1152-HQPA)', 'CUDC-907', 'SRT1720 HCl', 'Zileuton',\n       'PFI-1 (PF-6405761)', 'Dasatinib', 'AG-14361', 'TAK-901',\n       'Prednisone ', 'JNJ-7706621', 'Disulfiram ', 'GSK1070916',\n       'TMP195', 'Pelitinib (EKB-569)', 'AZ 960', 'Anacardic Acid',\n       'Tubastatin A HCl', 'Andarine', 'Meprednisone',\n       'Luminespib (AUY-922, NVP-AUY922)', 'Cediranib (AZD2171)',\n       'SGI-1776 free base', 'Resveratrol', 'Costunolide',\n       'SRT2104 (GSK2245840)', 'Tanespimycin (17-AAG)', 'MK-0752',\n       'Carmofur', 'Cerdulatinib (PRT062070, PRT2070)', 'PF-3845',\n       'ITSA-1 (ITSA1)', 'Alendronate sodium trihydrate',\n       'Givinostat (ITF2357)', 'SB431542', 'YM155 (Sepantronium Bromide)',\n       'Ramelteon', 'Iniparib (BSI-201)', 'Tucidinostat (Chidamide)',\n       'PCI-34051', 'Epothilone A', 'Thiotepa', 'PHA-680632'],\n      dtype=object)"
     },
     "execution_count": 3,
     "metadata": {},
     "output_type": "execute_result"
    }
   ],
   "source": [
    "adata.obs['product_name'].unique()"
   ],
   "metadata": {
    "collapsed": false
   }
  },
  {
   "cell_type": "code",
   "execution_count": 4,
   "outputs": [],
   "source": [
    "def split_compounds_train_test(compound_list, control_name=\"Vehicle\", split_ratio=0.7):\n",
    "\n",
    "    if control_name not in compound_list:\n",
    "        raise ValueError(\"The control values are not in the list.\")\n",
    "\n",
    "    compound_list = [elem for elem in compound_list if elem != control_name]\n",
    "    random.shuffle(compound_list)\n",
    "\n",
    "    total_size = len(compound_list) + 1\n",
    "    split_size_train = int(split_ratio * total_size)\n",
    "\n",
    "    # Split the list into 30% and 70%\n",
    "    split_train = compound_list[:split_size_train ]\n",
    "    split_test = compound_list[split_size_train :]\n",
    "\n",
    "    # Add vehicle in both lists\n",
    "    split_train.append(control_name)\n",
    "    split_test.append(control_name)\n",
    "\n",
    "    return split_train, split_test"
   ],
   "metadata": {
    "collapsed": false
   }
  },
  {
   "cell_type": "code",
   "execution_count": 5,
   "outputs": [],
   "source": [
    "compound_list = list(adata.obs['product_name'].unique())\n",
    "cp_train, cp_test = split_compounds_train_test(compound_list, control_name=\"Vehicle\", split_ratio=0.7)\n",
    "\n",
    "adata_train = adata[adata.obs['product_name'].isin(cp_train)]\n",
    "adata_test = adata[adata.obs['product_name'].isin(cp_test)]"
   ],
   "metadata": {
    "collapsed": false
   }
  },
  {
   "cell_type": "code",
   "execution_count": 6,
   "outputs": [
    {
     "data": {
      "text/plain": "View of AnnData object with n_obs × n_vars = 408498 × 1280\n    obs: 'index', 'cell_type', 'dose', 'dose_character', 'dose_pattern', 'g1s_score', 'g2m_score', 'pathway', 'pathway_level_1', 'pathway_level_2', 'product_dose', 'product_name', 'proliferation_index', 'replicate', 'size_factor', 'target', 'vehicle', 'label', 'pubchem_name', 'pubchem_ID', 'smiles', 'sm_embedding'"
     },
     "execution_count": 6,
     "metadata": {},
     "output_type": "execute_result"
    }
   ],
   "source": [
    "adata_train"
   ],
   "metadata": {
    "collapsed": false
   }
  },
  {
   "cell_type": "code",
   "execution_count": 7,
   "outputs": [
    {
     "data": {
      "text/plain": "View of AnnData object with n_obs × n_vars = 176412 × 1280\n    obs: 'index', 'cell_type', 'dose', 'dose_character', 'dose_pattern', 'g1s_score', 'g2m_score', 'pathway', 'pathway_level_1', 'pathway_level_2', 'product_dose', 'product_name', 'proliferation_index', 'replicate', 'size_factor', 'target', 'vehicle', 'label', 'pubchem_name', 'pubchem_ID', 'smiles', 'sm_embedding'"
     },
     "execution_count": 7,
     "metadata": {},
     "output_type": "execute_result"
    }
   ],
   "source": [
    "adata_test"
   ],
   "metadata": {
    "collapsed": false
   }
  },
  {
   "cell_type": "code",
   "execution_count": 8,
   "outputs": [
    {
     "name": "stderr",
     "output_type": "stream",
     "text": [
      "C:\\Users\\curea\\anaconda3\\envs\\stable_diffusion\\Lib\\site-packages\\anndata\\_core\\anndata.py:1209: ImplicitModificationWarning: Trying to modify attribute `.obs` of view, initializing view as actual.\n",
      "  df[key] = c\n",
      "C:\\Users\\curea\\anaconda3\\envs\\stable_diffusion\\Lib\\site-packages\\anndata\\_core\\anndata.py:1209: ImplicitModificationWarning: Trying to modify attribute `.obs` of view, initializing view as actual.\n",
      "  df[key] = c\n",
      "C:\\Users\\curea\\anaconda3\\envs\\stable_diffusion\\Lib\\site-packages\\anndata\\_core\\anndata.py:1209: ImplicitModificationWarning: Trying to modify attribute `.obs` of view, initializing view as actual.\n",
      "  df[key] = c\n",
      "C:\\Users\\curea\\anaconda3\\envs\\stable_diffusion\\Lib\\site-packages\\anndata\\_core\\anndata.py:1209: ImplicitModificationWarning: Trying to modify attribute `.obs` of view, initializing view as actual.\n",
      "  df[key] = c\n",
      "C:\\Users\\curea\\anaconda3\\envs\\stable_diffusion\\Lib\\site-packages\\anndata\\_core\\anndata.py:1209: ImplicitModificationWarning: Trying to modify attribute `.obs` of view, initializing view as actual.\n",
      "  df[key] = c\n",
      "C:\\Users\\curea\\anaconda3\\envs\\stable_diffusion\\Lib\\site-packages\\anndata\\_core\\anndata.py:1209: ImplicitModificationWarning: Trying to modify attribute `.obs` of view, initializing view as actual.\n",
      "  df[key] = c\n",
      "C:\\Users\\curea\\anaconda3\\envs\\stable_diffusion\\Lib\\site-packages\\anndata\\_core\\anndata.py:1209: ImplicitModificationWarning: Trying to modify attribute `.obs` of view, initializing view as actual.\n",
      "  df[key] = c\n",
      "C:\\Users\\curea\\anaconda3\\envs\\stable_diffusion\\Lib\\site-packages\\anndata\\_core\\anndata.py:1209: ImplicitModificationWarning: Trying to modify attribute `.obs` of view, initializing view as actual.\n",
      "  df[key] = c\n",
      "C:\\Users\\curea\\anaconda3\\envs\\stable_diffusion\\Lib\\site-packages\\anndata\\_core\\anndata.py:1209: ImplicitModificationWarning: Trying to modify attribute `.obs` of view, initializing view as actual.\n",
      "  df[key] = c\n",
      "C:\\Users\\curea\\anaconda3\\envs\\stable_diffusion\\Lib\\site-packages\\anndata\\_core\\anndata.py:1209: ImplicitModificationWarning: Trying to modify attribute `.obs` of view, initializing view as actual.\n",
      "  df[key] = c\n",
      "C:\\Users\\curea\\anaconda3\\envs\\stable_diffusion\\Lib\\site-packages\\anndata\\_core\\anndata.py:1209: ImplicitModificationWarning: Trying to modify attribute `.obs` of view, initializing view as actual.\n",
      "  df[key] = c\n",
      "C:\\Users\\curea\\anaconda3\\envs\\stable_diffusion\\Lib\\site-packages\\anndata\\_core\\anndata.py:1209: ImplicitModificationWarning: Trying to modify attribute `.obs` of view, initializing view as actual.\n",
      "  df[key] = c\n",
      "C:\\Users\\curea\\anaconda3\\envs\\stable_diffusion\\Lib\\site-packages\\anndata\\_core\\anndata.py:1209: ImplicitModificationWarning: Trying to modify attribute `.obs` of view, initializing view as actual.\n",
      "  df[key] = c\n",
      "C:\\Users\\curea\\anaconda3\\envs\\stable_diffusion\\Lib\\site-packages\\anndata\\_core\\anndata.py:1209: ImplicitModificationWarning: Trying to modify attribute `.obs` of view, initializing view as actual.\n",
      "  df[key] = c\n",
      "C:\\Users\\curea\\anaconda3\\envs\\stable_diffusion\\Lib\\site-packages\\anndata\\_core\\anndata.py:1209: ImplicitModificationWarning: Trying to modify attribute `.obs` of view, initializing view as actual.\n",
      "  df[key] = c\n",
      "C:\\Users\\curea\\anaconda3\\envs\\stable_diffusion\\Lib\\site-packages\\anndata\\_core\\anndata.py:1209: ImplicitModificationWarning: Trying to modify attribute `.obs` of view, initializing view as actual.\n",
      "  df[key] = c\n",
      "C:\\Users\\curea\\anaconda3\\envs\\stable_diffusion\\Lib\\site-packages\\anndata\\_core\\anndata.py:1209: ImplicitModificationWarning: Trying to modify attribute `.obs` of view, initializing view as actual.\n",
      "  df[key] = c\n",
      "C:\\Users\\curea\\anaconda3\\envs\\stable_diffusion\\Lib\\site-packages\\anndata\\_core\\anndata.py:1209: ImplicitModificationWarning: Trying to modify attribute `.obs` of view, initializing view as actual.\n",
      "  df[key] = c\n",
      "C:\\Users\\curea\\anaconda3\\envs\\stable_diffusion\\Lib\\site-packages\\anndata\\_core\\anndata.py:1209: ImplicitModificationWarning: Trying to modify attribute `.obs` of view, initializing view as actual.\n",
      "  df[key] = c\n",
      "C:\\Users\\curea\\anaconda3\\envs\\stable_diffusion\\Lib\\site-packages\\anndata\\_core\\anndata.py:1209: ImplicitModificationWarning: Trying to modify attribute `.obs` of view, initializing view as actual.\n",
      "  df[key] = c\n",
      "C:\\Users\\curea\\anaconda3\\envs\\stable_diffusion\\Lib\\site-packages\\anndata\\_core\\anndata.py:1209: ImplicitModificationWarning: Trying to modify attribute `.obs` of view, initializing view as actual.\n",
      "  df[key] = c\n",
      "C:\\Users\\curea\\anaconda3\\envs\\stable_diffusion\\Lib\\site-packages\\anndata\\_core\\anndata.py:1209: ImplicitModificationWarning: Trying to modify attribute `.obs` of view, initializing view as actual.\n",
      "  df[key] = c\n",
      "C:\\Users\\curea\\anaconda3\\envs\\stable_diffusion\\Lib\\site-packages\\anndata\\_core\\anndata.py:1209: ImplicitModificationWarning: Trying to modify attribute `.obs` of view, initializing view as actual.\n",
      "  df[key] = c\n",
      "C:\\Users\\curea\\anaconda3\\envs\\stable_diffusion\\Lib\\site-packages\\anndata\\_core\\anndata.py:1209: ImplicitModificationWarning: Trying to modify attribute `.obs` of view, initializing view as actual.\n",
      "  df[key] = c\n"
     ]
    }
   ],
   "source": [
    "adata_train.write_h5ad(\"C:\\\\Users\\\\curea\\\\Documents\\\\bioFM for drug discovery\\\\dege-fm\\\\data\\\\adata_train_v1.h5ad\")\n",
    "\n",
    "adata_test.write_h5ad(\"C:\\\\Users\\\\curea\\\\Documents\\\\bioFM for drug discovery\\\\dege-fm\\\\data\\\\adata_test_v1.h5ad\")"
   ],
   "metadata": {
    "collapsed": false
   }
  },
  {
   "cell_type": "code",
   "execution_count": null,
   "outputs": [],
   "source": [],
   "metadata": {
    "collapsed": false
   }
  }
 ],
 "metadata": {
  "kernelspec": {
   "display_name": "Python 3",
   "language": "python",
   "name": "python3"
  },
  "language_info": {
   "codemirror_mode": {
    "name": "ipython",
    "version": 2
   },
   "file_extension": ".py",
   "mimetype": "text/x-python",
   "name": "python",
   "nbconvert_exporter": "python",
   "pygments_lexer": "ipython2",
   "version": "2.7.6"
  }
 },
 "nbformat": 4,
 "nbformat_minor": 0
}
