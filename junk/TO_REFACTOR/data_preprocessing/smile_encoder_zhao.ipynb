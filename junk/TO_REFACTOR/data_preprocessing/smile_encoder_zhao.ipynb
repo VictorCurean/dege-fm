{
 "cells": [
  {
   "cell_type": "code",
   "execution_count": 36,
   "metadata": {
    "collapsed": true
   },
   "outputs": [],
   "source": [
    "import anndata as ad\n",
    "import pandas as pd\n",
    "import scanpy as sc\n",
    "from coati.models.io.coati import load_e3gnn_smiles_clip_e2e\n",
    "from coati.generative.coati_purifications import embed_smiles\n",
    "from rdkit import Chem\n",
    "from rdkit.Chem.SaltRemover import SaltRemover\n",
    "from tqdm import tqdm\n",
    "import torch\n",
    "import numpy as np"
   ]
  },
  {
   "cell_type": "code",
   "execution_count": 2,
   "outputs": [],
   "source": [
    "ROOT = 'C:\\\\Users\\\\curea\\\\Documents\\\\bioFM for drug discovery\\\\dege-fm\\\\'\n",
    "\n",
    "adata = ad.read_h5ad(ROOT + \"data\\\\zhao_2021_uce_adata.h5ad\")"
   ],
   "metadata": {
    "collapsed": false
   }
  },
  {
   "cell_type": "code",
   "execution_count": 7,
   "outputs": [
    {
     "data": {
      "text/plain": "['panobinostat',\n 'control',\n 'etoposide',\n 'Ana-12',\n 'RO4929097',\n 'Tazemetostat',\n 'Ispenisib']"
     },
     "execution_count": 7,
     "metadata": {},
     "output_type": "execute_result"
    }
   ],
   "source": [
    "list(adata.obs['perturbation'].unique())"
   ],
   "metadata": {
    "collapsed": false
   }
  },
  {
   "cell_type": "markdown",
   "source": [],
   "metadata": {
    "collapsed": false
   }
  },
  {
   "cell_type": "code",
   "execution_count": 33,
   "outputs": [],
   "source": [
    "#manually retrieve SMILES\n",
    "\n",
    "names_to_smiles = {\"panobinostat\": \"Cc1[nH]c2ccccc2c1CCNCc1ccc(/C=C/C(=O)NO)cc1\",\n",
    " \"control\": None,\n",
    " \"etoposide\": \"COc1cc([C@@H]2c3cc4c(cc3[C@@H](O[C@@H]3O[C@@H]5CO[C@@H](C)O[C@H]5[C@H](O)[C@H]3O)[C@H]3COC(=O)[C@H]23)OCO4)cc(OC)c1O\",\n",
    " \"Ana-12\": \"C1CCNC(=O)C(C1)NC(=O)C2=CC=CC=C2NC(=O)C3=CC4=CC=CC=C4S3\",\n",
    " \"RO4929097\": \"CC(C)(C(=O)NCC(F)(F)C(F)(F)F)C(=O)N[C@@H]1C(=O)Nc2ccccc2-c2ccccc21\",\n",
    " \"Tazemetostat\": \"CCN(c1cc(-c2ccc(CN3CCOCC3)cc2)cc(C(=O)NCc2c(C)cc(C)[nH]c2=O)c1C)C1CCOCC1\",\n",
    " \"Ispenisib\": \"Cc1ccc(C(=O)N(CCCN)[C@@H](c2nc3cc(Cl)ccc3c(=O)n2Cc2ccccc2)C(C)C)cc1\"}"
   ],
   "metadata": {
    "collapsed": false
   }
  },
  {
   "cell_type": "code",
   "execution_count": 34,
   "outputs": [
    {
     "name": "stdout",
     "output_type": "stream",
     "text": [
      "Loading model from s3://terray-public/models/barlow_closed.pkl\n",
      "Loading tokenizer may_closedparen from s3://terray-public/models/barlow_closed.pkl\n",
      "number of parameters: 12.64M\n",
      "number of parameters Total: 2.44M xformer: 17.92M Total: 20.36M \n",
      "vocab_name not found in tokenizer_vocabs, trying to load from file\n",
      "Freezing encoder\n",
      "20561664 params frozen!\n",
      "panobinostat\n",
      "control\n",
      "etoposide\n",
      "Ana-12\n",
      "RO4929097\n",
      "Tazemetostat\n",
      "Ispenisib\n"
     ]
    }
   ],
   "source": [
    "# load pretrained sm encoder model\n",
    "encoder, tokenizer = load_e3gnn_smiles_clip_e2e(\n",
    "    freeze=True,\n",
    "    device=torch.device(\"cuda:0\"),\n",
    "    # model parameters to load.\n",
    "    doc_url=\"s3://terray-public/models/barlow_closed.pkl\",\n",
    ")\n",
    "\n",
    "names_to_emb = dict()\n",
    "\n",
    "for key, value in names_to_smiles.items():\n",
    "    sm_name = key\n",
    "    sm = value\n",
    "    print(sm_name)\n",
    "\n",
    "    if sm_name == \"control\":\n",
    "        continue\n",
    "\n",
    "    mol = Chem.MolFromSmiles(sm)\n",
    "    Chem.MolToSmiles(mol)\n",
    "\n",
    "    remover = SaltRemover()\n",
    "    stripped = remover.StripMol(mol)\n",
    "\n",
    "    Chem.RemoveStereochemistry(stripped)\n",
    "    smiles = Chem.MolToSmiles(stripped)\n",
    "    smiles = Chem.CanonSmiles(smiles)\n",
    "    vector = embed_smiles(smiles, encoder, tokenizer)\n",
    "    names_to_emb[sm_name] = vector.cpu().tolist()\n",
    "\n",
    "names_to_emb['control'] = None"
   ],
   "metadata": {
    "collapsed": false
   }
  },
  {
   "cell_type": "code",
   "execution_count": 42,
   "outputs": [],
   "source": [
    "smiles_col = [names_to_smiles[x] for x in list(adata.obs['perturbation'])]\n",
    "emb_col = [names_to_emb[x] for x in list(adata.obs['perturbation'])]\n",
    "\n",
    "adata.obs['smiles'] = smiles_col\n",
    "adata.obs['sm_emb'] = emb_col\n",
    "\n",
    "adata.obs['sm_emb'] = adata.obs['sm_emb'].apply(str)"
   ],
   "metadata": {
    "collapsed": false
   }
  },
  {
   "cell_type": "code",
   "execution_count": 43,
   "outputs": [
    {
     "data": {
      "text/plain": "                       sample         GEO     Sample                  tissue  \\\ncell_barcode                                                                   \nTACGTCGCGACC-PW032-711  PW032  GSM4483757  PW032-711  glioma surgical biopsy   \nGTTTCCTACTTG-PW032-711  PW032  GSM4483757  PW032-711  glioma surgical biopsy   \nTTTGATTGGATC-PW032-711  PW032  GSM4483757  PW032-711  glioma surgical biopsy   \nGTCATTTTCGGA-PW032-711  PW032  GSM4483757  PW032-711  glioma surgical biopsy   \nTGCGAGCGTTGG-PW032-711  PW032  GSM4483757  PW032-711  glioma surgical biopsy   \n...                       ...         ...        ...                     ...   \nGCTCCTCGCACT-PW032-705  PW032  GSM4483755  PW032-705  glioma surgical biopsy   \nTACGGAATGCGT-PW032-705  PW032  GSM4483755  PW032-705  glioma surgical biopsy   \nACCGCAAGTACC-PW032-705  PW032  GSM4483755  PW032-705  glioma surgical biopsy   \nCGTGTTTTGCGA-PW032-705  PW032  GSM4483755  PW032-705  glioma surgical biopsy   \nATCTAATATCAA-PW032-705  PW032  GSM4483755  PW032-705  glioma surgical biopsy   \n\n                        age sex      location                   diagnosis  \\\ncell_barcode                                                                \nTACGTCGCGACC-PW032-711   61   m  left frontal  Glioblastoma, WHO Grade IV   \nGTTTCCTACTTG-PW032-711   61   m  left frontal  Glioblastoma, WHO Grade IV   \nTTTGATTGGATC-PW032-711   61   m  left frontal  Glioblastoma, WHO Grade IV   \nGTCATTTTCGGA-PW032-711   61   m  left frontal  Glioblastoma, WHO Grade IV   \nTGCGAGCGTTGG-PW032-711   61   m  left frontal  Glioblastoma, WHO Grade IV   \n...                     ...  ..           ...                         ...   \nGCTCCTCGCACT-PW032-705   61   m  left frontal  Glioblastoma, WHO Grade IV   \nTACGGAATGCGT-PW032-705   61   m  left frontal  Glioblastoma, WHO Grade IV   \nACCGCAAGTACC-PW032-705   61   m  left frontal  Glioblastoma, WHO Grade IV   \nCGTGTTTTGCGA-PW032-705   61   m  left frontal  Glioblastoma, WHO Grade IV   \nATCTAATATCAA-PW032-705   61   m  left frontal  Glioblastoma, WHO Grade IV   \n\n                          library dose_value  ... organism perturbation_type  \\\ncell_barcode                                  ...                              \nTACGTCGCGACC-PW032-711  PW032-711        0.2  ...    human              drug   \nGTTTCCTACTTG-PW032-711  PW032-711        0.2  ...    human              drug   \nTTTGATTGGATC-PW032-711  PW032-711        0.2  ...    human              drug   \nGTCATTTTCGGA-PW032-711  PW032-711        0.2  ...    human              drug   \nTGCGAGCGTTGG-PW032-711  PW032-711        0.2  ...    human              drug   \n...                           ...        ...  ...      ...               ...   \nGCTCCTCGCACT-PW032-705  PW032-705        NaN  ...    human              drug   \nTACGGAATGCGT-PW032-705  PW032-705        NaN  ...    human              drug   \nACCGCAAGTACC-PW032-705  PW032-705        NaN  ...    human              drug   \nCGTGTTTTGCGA-PW032-705  PW032-705        NaN  ...    human              drug   \nATCTAATATCAA-PW032-705  PW032-705        NaN  ...    human              drug   \n\n                       ncounts  ngenes percent_mito percent_ribo nperts  \\\ncell_barcode                                                              \nTACGTCGCGACC-PW032-711  3249.0    1585     1.015697     5.755617      1   \nGTTTCCTACTTG-PW032-711  3834.0    1929     1.225874     9.441836      1   \nTTTGATTGGATC-PW032-711  7001.0    3219     1.028425    11.426939      1   \nGTCATTTTCGGA-PW032-711  5259.0    2300     0.019015     5.400266      1   \nTGCGAGCGTTGG-PW032-711  6114.0    2786     0.163559    11.939810      1   \n...                        ...     ...          ...          ...    ...   \nGCTCCTCGCACT-PW032-705   140.0     121     1.428571     7.857143      1   \nTACGGAATGCGT-PW032-705   101.0      92     0.000000     3.960396      1   \nACCGCAAGTACC-PW032-705   118.0     114     0.000000    12.711864      1   \nCGTGTTTTGCGA-PW032-705   103.0      97     0.000000     5.825243      1   \nATCTAATATCAA-PW032-705   123.0     109     0.000000     6.504065      1   \n\n                           chembl-ID  \\\ncell_barcode                           \nTACGTCGCGACC-PW032-711  CHEMBL483254   \nGTTTCCTACTTG-PW032-711  CHEMBL483254   \nTTTGATTGGATC-PW032-711  CHEMBL483254   \nGTCATTTTCGGA-PW032-711  CHEMBL483254   \nTGCGAGCGTTGG-PW032-711  CHEMBL483254   \n...                              ...   \nGCTCCTCGCACT-PW032-705           NaN   \nTACGGAATGCGT-PW032-705           NaN   \nACCGCAAGTACC-PW032-705           NaN   \nCGTGTTTTGCGA-PW032-705           NaN   \nATCTAATATCAA-PW032-705           NaN   \n\n                                                             smiles  \\\ncell_barcode                                                          \nTACGTCGCGACC-PW032-711  Cc1[nH]c2ccccc2c1CCNCc1ccc(/C=C/C(=O)NO)cc1   \nGTTTCCTACTTG-PW032-711  Cc1[nH]c2ccccc2c1CCNCc1ccc(/C=C/C(=O)NO)cc1   \nTTTGATTGGATC-PW032-711  Cc1[nH]c2ccccc2c1CCNCc1ccc(/C=C/C(=O)NO)cc1   \nGTCATTTTCGGA-PW032-711  Cc1[nH]c2ccccc2c1CCNCc1ccc(/C=C/C(=O)NO)cc1   \nTGCGAGCGTTGG-PW032-711  Cc1[nH]c2ccccc2c1CCNCc1ccc(/C=C/C(=O)NO)cc1   \n...                                                             ...   \nGCTCCTCGCACT-PW032-705                                         None   \nTACGGAATGCGT-PW032-705                                         None   \nACCGCAAGTACC-PW032-705                                         None   \nCGTGTTTTGCGA-PW032-705                                         None   \nATCTAATATCAA-PW032-705                                         None   \n\n                                                                   sm_emb  \ncell_barcode                                                               \nTACGTCGCGACC-PW032-711  [-3.274730682373047, 0.9405636191368103, -3.47...  \nGTTTCCTACTTG-PW032-711  [-3.274730682373047, 0.9405636191368103, -3.47...  \nTTTGATTGGATC-PW032-711  [-3.274730682373047, 0.9405636191368103, -3.47...  \nGTCATTTTCGGA-PW032-711  [-3.274730682373047, 0.9405636191368103, -3.47...  \nTGCGAGCGTTGG-PW032-711  [-3.274730682373047, 0.9405636191368103, -3.47...  \n...                                                                   ...  \nGCTCCTCGCACT-PW032-705                                               None  \nTACGGAATGCGT-PW032-705                                               None  \nACCGCAAGTACC-PW032-705                                               None  \nCGTGTTTTGCGA-PW032-705                                               None  \nATCTAATATCAA-PW032-705                                               None  \n\n[165748 rows x 26 columns]",
      "text/html": "<div>\n<style scoped>\n    .dataframe tbody tr th:only-of-type {\n        vertical-align: middle;\n    }\n\n    .dataframe tbody tr th {\n        vertical-align: top;\n    }\n\n    .dataframe thead th {\n        text-align: right;\n    }\n</style>\n<table border=\"1\" class=\"dataframe\">\n  <thead>\n    <tr style=\"text-align: right;\">\n      <th></th>\n      <th>sample</th>\n      <th>GEO</th>\n      <th>Sample</th>\n      <th>tissue</th>\n      <th>age</th>\n      <th>sex</th>\n      <th>location</th>\n      <th>diagnosis</th>\n      <th>library</th>\n      <th>dose_value</th>\n      <th>...</th>\n      <th>organism</th>\n      <th>perturbation_type</th>\n      <th>ncounts</th>\n      <th>ngenes</th>\n      <th>percent_mito</th>\n      <th>percent_ribo</th>\n      <th>nperts</th>\n      <th>chembl-ID</th>\n      <th>smiles</th>\n      <th>sm_emb</th>\n    </tr>\n    <tr>\n      <th>cell_barcode</th>\n      <th></th>\n      <th></th>\n      <th></th>\n      <th></th>\n      <th></th>\n      <th></th>\n      <th></th>\n      <th></th>\n      <th></th>\n      <th></th>\n      <th></th>\n      <th></th>\n      <th></th>\n      <th></th>\n      <th></th>\n      <th></th>\n      <th></th>\n      <th></th>\n      <th></th>\n      <th></th>\n      <th></th>\n    </tr>\n  </thead>\n  <tbody>\n    <tr>\n      <th>TACGTCGCGACC-PW032-711</th>\n      <td>PW032</td>\n      <td>GSM4483757</td>\n      <td>PW032-711</td>\n      <td>glioma surgical biopsy</td>\n      <td>61</td>\n      <td>m</td>\n      <td>left frontal</td>\n      <td>Glioblastoma, WHO Grade IV</td>\n      <td>PW032-711</td>\n      <td>0.2</td>\n      <td>...</td>\n      <td>human</td>\n      <td>drug</td>\n      <td>3249.0</td>\n      <td>1585</td>\n      <td>1.015697</td>\n      <td>5.755617</td>\n      <td>1</td>\n      <td>CHEMBL483254</td>\n      <td>Cc1[nH]c2ccccc2c1CCNCc1ccc(/C=C/C(=O)NO)cc1</td>\n      <td>[-3.274730682373047, 0.9405636191368103, -3.47...</td>\n    </tr>\n    <tr>\n      <th>GTTTCCTACTTG-PW032-711</th>\n      <td>PW032</td>\n      <td>GSM4483757</td>\n      <td>PW032-711</td>\n      <td>glioma surgical biopsy</td>\n      <td>61</td>\n      <td>m</td>\n      <td>left frontal</td>\n      <td>Glioblastoma, WHO Grade IV</td>\n      <td>PW032-711</td>\n      <td>0.2</td>\n      <td>...</td>\n      <td>human</td>\n      <td>drug</td>\n      <td>3834.0</td>\n      <td>1929</td>\n      <td>1.225874</td>\n      <td>9.441836</td>\n      <td>1</td>\n      <td>CHEMBL483254</td>\n      <td>Cc1[nH]c2ccccc2c1CCNCc1ccc(/C=C/C(=O)NO)cc1</td>\n      <td>[-3.274730682373047, 0.9405636191368103, -3.47...</td>\n    </tr>\n    <tr>\n      <th>TTTGATTGGATC-PW032-711</th>\n      <td>PW032</td>\n      <td>GSM4483757</td>\n      <td>PW032-711</td>\n      <td>glioma surgical biopsy</td>\n      <td>61</td>\n      <td>m</td>\n      <td>left frontal</td>\n      <td>Glioblastoma, WHO Grade IV</td>\n      <td>PW032-711</td>\n      <td>0.2</td>\n      <td>...</td>\n      <td>human</td>\n      <td>drug</td>\n      <td>7001.0</td>\n      <td>3219</td>\n      <td>1.028425</td>\n      <td>11.426939</td>\n      <td>1</td>\n      <td>CHEMBL483254</td>\n      <td>Cc1[nH]c2ccccc2c1CCNCc1ccc(/C=C/C(=O)NO)cc1</td>\n      <td>[-3.274730682373047, 0.9405636191368103, -3.47...</td>\n    </tr>\n    <tr>\n      <th>GTCATTTTCGGA-PW032-711</th>\n      <td>PW032</td>\n      <td>GSM4483757</td>\n      <td>PW032-711</td>\n      <td>glioma surgical biopsy</td>\n      <td>61</td>\n      <td>m</td>\n      <td>left frontal</td>\n      <td>Glioblastoma, WHO Grade IV</td>\n      <td>PW032-711</td>\n      <td>0.2</td>\n      <td>...</td>\n      <td>human</td>\n      <td>drug</td>\n      <td>5259.0</td>\n      <td>2300</td>\n      <td>0.019015</td>\n      <td>5.400266</td>\n      <td>1</td>\n      <td>CHEMBL483254</td>\n      <td>Cc1[nH]c2ccccc2c1CCNCc1ccc(/C=C/C(=O)NO)cc1</td>\n      <td>[-3.274730682373047, 0.9405636191368103, -3.47...</td>\n    </tr>\n    <tr>\n      <th>TGCGAGCGTTGG-PW032-711</th>\n      <td>PW032</td>\n      <td>GSM4483757</td>\n      <td>PW032-711</td>\n      <td>glioma surgical biopsy</td>\n      <td>61</td>\n      <td>m</td>\n      <td>left frontal</td>\n      <td>Glioblastoma, WHO Grade IV</td>\n      <td>PW032-711</td>\n      <td>0.2</td>\n      <td>...</td>\n      <td>human</td>\n      <td>drug</td>\n      <td>6114.0</td>\n      <td>2786</td>\n      <td>0.163559</td>\n      <td>11.939810</td>\n      <td>1</td>\n      <td>CHEMBL483254</td>\n      <td>Cc1[nH]c2ccccc2c1CCNCc1ccc(/C=C/C(=O)NO)cc1</td>\n      <td>[-3.274730682373047, 0.9405636191368103, -3.47...</td>\n    </tr>\n    <tr>\n      <th>...</th>\n      <td>...</td>\n      <td>...</td>\n      <td>...</td>\n      <td>...</td>\n      <td>...</td>\n      <td>...</td>\n      <td>...</td>\n      <td>...</td>\n      <td>...</td>\n      <td>...</td>\n      <td>...</td>\n      <td>...</td>\n      <td>...</td>\n      <td>...</td>\n      <td>...</td>\n      <td>...</td>\n      <td>...</td>\n      <td>...</td>\n      <td>...</td>\n      <td>...</td>\n      <td>...</td>\n    </tr>\n    <tr>\n      <th>GCTCCTCGCACT-PW032-705</th>\n      <td>PW032</td>\n      <td>GSM4483755</td>\n      <td>PW032-705</td>\n      <td>glioma surgical biopsy</td>\n      <td>61</td>\n      <td>m</td>\n      <td>left frontal</td>\n      <td>Glioblastoma, WHO Grade IV</td>\n      <td>PW032-705</td>\n      <td>NaN</td>\n      <td>...</td>\n      <td>human</td>\n      <td>drug</td>\n      <td>140.0</td>\n      <td>121</td>\n      <td>1.428571</td>\n      <td>7.857143</td>\n      <td>1</td>\n      <td>NaN</td>\n      <td>None</td>\n      <td>None</td>\n    </tr>\n    <tr>\n      <th>TACGGAATGCGT-PW032-705</th>\n      <td>PW032</td>\n      <td>GSM4483755</td>\n      <td>PW032-705</td>\n      <td>glioma surgical biopsy</td>\n      <td>61</td>\n      <td>m</td>\n      <td>left frontal</td>\n      <td>Glioblastoma, WHO Grade IV</td>\n      <td>PW032-705</td>\n      <td>NaN</td>\n      <td>...</td>\n      <td>human</td>\n      <td>drug</td>\n      <td>101.0</td>\n      <td>92</td>\n      <td>0.000000</td>\n      <td>3.960396</td>\n      <td>1</td>\n      <td>NaN</td>\n      <td>None</td>\n      <td>None</td>\n    </tr>\n    <tr>\n      <th>ACCGCAAGTACC-PW032-705</th>\n      <td>PW032</td>\n      <td>GSM4483755</td>\n      <td>PW032-705</td>\n      <td>glioma surgical biopsy</td>\n      <td>61</td>\n      <td>m</td>\n      <td>left frontal</td>\n      <td>Glioblastoma, WHO Grade IV</td>\n      <td>PW032-705</td>\n      <td>NaN</td>\n      <td>...</td>\n      <td>human</td>\n      <td>drug</td>\n      <td>118.0</td>\n      <td>114</td>\n      <td>0.000000</td>\n      <td>12.711864</td>\n      <td>1</td>\n      <td>NaN</td>\n      <td>None</td>\n      <td>None</td>\n    </tr>\n    <tr>\n      <th>CGTGTTTTGCGA-PW032-705</th>\n      <td>PW032</td>\n      <td>GSM4483755</td>\n      <td>PW032-705</td>\n      <td>glioma surgical biopsy</td>\n      <td>61</td>\n      <td>m</td>\n      <td>left frontal</td>\n      <td>Glioblastoma, WHO Grade IV</td>\n      <td>PW032-705</td>\n      <td>NaN</td>\n      <td>...</td>\n      <td>human</td>\n      <td>drug</td>\n      <td>103.0</td>\n      <td>97</td>\n      <td>0.000000</td>\n      <td>5.825243</td>\n      <td>1</td>\n      <td>NaN</td>\n      <td>None</td>\n      <td>None</td>\n    </tr>\n    <tr>\n      <th>ATCTAATATCAA-PW032-705</th>\n      <td>PW032</td>\n      <td>GSM4483755</td>\n      <td>PW032-705</td>\n      <td>glioma surgical biopsy</td>\n      <td>61</td>\n      <td>m</td>\n      <td>left frontal</td>\n      <td>Glioblastoma, WHO Grade IV</td>\n      <td>PW032-705</td>\n      <td>NaN</td>\n      <td>...</td>\n      <td>human</td>\n      <td>drug</td>\n      <td>123.0</td>\n      <td>109</td>\n      <td>0.000000</td>\n      <td>6.504065</td>\n      <td>1</td>\n      <td>NaN</td>\n      <td>None</td>\n      <td>None</td>\n    </tr>\n  </tbody>\n</table>\n<p>165748 rows × 26 columns</p>\n</div>"
     },
     "execution_count": 43,
     "metadata": {},
     "output_type": "execute_result"
    }
   ],
   "source": [
    "adata.obs"
   ],
   "metadata": {
    "collapsed": false
   }
  },
  {
   "cell_type": "code",
   "execution_count": 44,
   "outputs": [],
   "source": [
    "adata.write_h5ad(ROOT + \"data\\\\zhao_preprocessed.h5ad\")"
   ],
   "metadata": {
    "collapsed": false
   }
  },
  {
   "cell_type": "code",
   "execution_count": null,
   "outputs": [],
   "source": [],
   "metadata": {
    "collapsed": false
   }
  }
 ],
 "metadata": {
  "kernelspec": {
   "display_name": "Python 3",
   "language": "python",
   "name": "python3"
  },
  "language_info": {
   "codemirror_mode": {
    "name": "ipython",
    "version": 2
   },
   "file_extension": ".py",
   "mimetype": "text/x-python",
   "name": "python",
   "nbconvert_exporter": "python",
   "pygments_lexer": "ipython2",
   "version": "2.7.6"
  }
 },
 "nbformat": 4,
 "nbformat_minor": 0
}
